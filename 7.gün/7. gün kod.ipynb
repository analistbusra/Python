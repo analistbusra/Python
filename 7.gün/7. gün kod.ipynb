{
 "cells": [
  {
   "cell_type": "code",
   "execution_count": 3,
   "metadata": {},
   "outputs": [
    {
     "data": {
      "text/plain": [
       "4"
      ]
     },
     "execution_count": 3,
     "metadata": {},
     "output_type": "execute_result"
    }
   ],
   "source": [
    "st={'istanbul','eskişehir','bursa','ankara'}\n",
    "\n",
    "len(st)#4\n"
   ]
  },
  {
   "cell_type": "code",
   "execution_count": 4,
   "metadata": {},
   "outputs": [
    {
     "name": "stdout",
     "output_type": "stream",
     "text": [
      "giitiği yerler arasında istanbul var mı? True\n"
     ]
    }
   ],
   "source": [
    "st={'istanbul','eskişehir','bursa','ankara'}\n",
    "print('giitiği yerler arasında istanbul var mı?','istanbul' in st)#giitiği yerler arasında istanbul var mı? True\n"
   ]
  },
  {
   "cell_type": "code",
   "execution_count": 5,
   "metadata": {},
   "outputs": [
    {
     "name": "stdout",
     "output_type": "stream",
     "text": [
      "True\n"
     ]
    }
   ],
   "source": [
    "\n",
    "meyve={'ananas','karpuz','muz','çilek','elma'}\n",
    "print('çilek'in meyve)#True\n",
    "\n"
   ]
  },
  {
   "cell_type": "code",
   "execution_count": 9,
   "metadata": {},
   "outputs": [
    {
     "name": "stdout",
     "output_type": "stream",
     "text": [
      "{'erik', 'nar', 'çilek', 'karpuz', 'ananas', 'elma', 'kivi', 'muz'}\n"
     ]
    }
   ],
   "source": [
    "meyve={'ananas','karpuz','muz','çilek','elma'}\n",
    "meyve.update(['kivi','nar','erik'])\n",
    "print(meyve)# {'erik', 'nar', 'çilek', 'karpuz', 'ananas', 'elma', 'kivi', 'muz'}\n"
   ]
  },
  {
   "cell_type": "code",
   "execution_count": 10,
   "metadata": {},
   "outputs": [
    {
     "name": "stdout",
     "output_type": "stream",
     "text": [
      "{'çilek', 'karpuz', 'elma', 'muz'}\n"
     ]
    }
   ],
   "source": [
    "meyve={'ananas','karpuz','muz','çilek','elma'}\n",
    "meyve.remove('ananas')\n",
    "print(meyve) # {'çilek', 'karpuz', 'elma', 'muz'}\n"
   ]
  },
  {
   "cell_type": "code",
   "execution_count": 16,
   "metadata": {},
   "outputs": [
    {
     "name": "stdout",
     "output_type": "stream",
     "text": [
      "çilek\n"
     ]
    }
   ],
   "source": [
    "meyve={'ananas','karpuz','muz','çilek','elma'}\n",
    "kayıp_meyve=meyve.pop()\n",
    "print(kayıp_meyve) # çilek \n"
   ]
  },
  {
   "cell_type": "code",
   "execution_count": 45,
   "metadata": {},
   "outputs": [
    {
     "data": {
      "text/plain": [
       "True"
      ]
     },
     "execution_count": 45,
     "metadata": {},
     "output_type": "execute_result"
    }
   ],
   "source": [
    "\n",
    "meyve={'ananas','karpuz','muz','çilek','elma'}\n",
    "kuru_yemiş={'fındık','fıstık','leblebi','elma','armut'}\n",
    "alt_küme_1={'ananas','küpe'}\n",
    "alt_küme_2={'çilek','karpuz','elma'}\n",
    "alt_küme_2.issubset(meyve) # True\n",
    "alt_küme_1.issubset(meyve) #False\n",
    "meyve.issuperset(alt_küme_2)# True\n"
   ]
  },
  {
   "cell_type": "code",
   "execution_count": 2,
   "metadata": {},
   "outputs": [
    {
     "data": {
      "text/plain": [
       "{'portakal'}"
      ]
     },
     "execution_count": 2,
     "metadata": {},
     "output_type": "execute_result"
    }
   ],
   "source": [
    "\n",
    "tabak_1={'elma','kivi','muz','şeftali'}\n",
    "tabak_2={'elma','kivi','portakal'}\n",
    "tabak_1.difference(tabak_2)  # tabak 1 de kalananın çıktısını verir.\n",
    "## {'muz', 'şeftali'}\n",
    "tabak_2.difference(tabak_1) # tabak 2 de kalanın çıktısını verir.\n",
    "# portakal \n"
   ]
  },
  {
   "cell_type": "code",
   "execution_count": 3,
   "metadata": {},
   "outputs": [
    {
     "data": {
      "text/plain": [
       "{'muz', 'portakal', 'şeftali'}"
      ]
     },
     "execution_count": 3,
     "metadata": {},
     "output_type": "execute_result"
    }
   ],
   "source": [
    "\n",
    "tabak_1={'elma','kivi','muz','şeftali'}\n",
    "tabak_2={'elma','kivi','portakal'}\n",
    "tabak_1.symmetric_difference(tabak_2)   # ikisinde de ortak olmayanı verir.\n",
    "#{'muz', 'portakal', 'şeftali'}\n"
   ]
  },
  {
   "cell_type": "code",
   "execution_count": 6,
   "metadata": {},
   "outputs": [
    {
     "data": {
      "text/plain": [
       "False"
      ]
     },
     "execution_count": 6,
     "metadata": {},
     "output_type": "execute_result"
    }
   ],
   "source": [
    "\n",
    "tam_sayılar={-1,-2,-3,-4,-5,0,1,2,3,4,5,6,7,8,9}\n",
    "doğal_sayılar={0,1,2,3,4,5,6,7,8,9}\n",
    "ondalık_sayılar={10.25,11.45,14.2}\n",
    "tabak_1={'elma','kivi','muz','şeftali'}\n",
    "doğal_sayılar.isdisjoint(ondalık_sayılar)\n",
    "#True ortak öğe yok\n",
    "tabak_1.isdisjoint(doğal_sayılar) \n",
    "# True ortak öğe yok\n",
    "doğal_sayılar.isdisjoint(tam_sayılar)\n",
    "# False ortak öğe var {0,1,2,3,4,5,6,7,8,9}\n"
   ]
  }
 ],
 "metadata": {
  "interpreter": {
   "hash": "5bb71e04e3d056b3fd374fe835c740c82b88cf9a64babc7a305394decc4b8aa7"
  },
  "kernelspec": {
   "display_name": "Python 3.9.5 64-bit (system)",
   "language": "python",
   "name": "python3"
  },
  "language_info": {
   "codemirror_mode": {
    "name": "ipython",
    "version": 3
   },
   "file_extension": ".py",
   "mimetype": "text/x-python",
   "name": "python",
   "nbconvert_exporter": "python",
   "pygments_lexer": "ipython3",
   "version": "3.9.5"
  },
  "orig_nbformat": 4
 },
 "nbformat": 4,
 "nbformat_minor": 2
}
