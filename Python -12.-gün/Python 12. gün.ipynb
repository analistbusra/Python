{
 "cells": [
  {
   "cell_type": "markdown",
   "metadata": {},
   "source": [
    "## Modül Nedir?\n",
    "\n",
    "Modül, bir uygulamaya dahil edilebilecek bir dizi kod veya bir dizi işlev içeren bir dosyadır. Modül, tek bir değişken, bir fonksiyon veya büyük bir kod tabanı içeren bir dosya olabilir.\n",
    "\n",
    "## Modül Oluşturma\n",
    "\n",
    "Modül oluşturmak için kodlarımızı bir python betiğine yazıp .py dosyası olarak kaydediyoruz. Proje klasörünüzün içinde mymodule.py adlı bir dosya oluşturun. Bu dosyaya bir kod yazalım."
   ]
  },
  {
   "cell_type": "code",
   "execution_count": 1,
   "metadata": {},
   "outputs": [],
   "source": [
    "def generate_full_name(firstname, lastname):\n",
    "    return firstname + ' ' + lastname"
   ]
  },
  {
   "cell_type": "markdown",
   "metadata": {},
   "source": [
    "### Modül İçe Aktarma\n",
    "\n",
    "Dosyayı içe aktarmak için import anahtar sözcüğünü ve yalnızca dosyanın adını kullanırız."
   ]
  },
  {
   "cell_type": "code",
   "execution_count": null,
   "metadata": {},
   "outputs": [],
   "source": [
    "import mymodule\n",
    "print(mymodule.generate_full_name('Büşra', 'Akkaya'))"
   ]
  },
  {
   "cell_type": "markdown",
   "metadata": {},
   "source": [
    "Proje dizininizde main.py dosyası oluşturun ve mymodule.py dosyasını içe aktaralım."
   ]
  },
  {
   "cell_type": "markdown",
   "metadata": {},
   "source": [
    "## Bir Modülden Fonksiyonları İçe Aktarma\n",
    "\n",
    "Bir dosyada birçok fonksiyona sahip olabiliriz ve tüm fonksiyonları farklı şekilde içe aktarabiliriz."
   ]
  },
  {
   "cell_type": "code",
   "execution_count": null,
   "metadata": {},
   "outputs": [],
   "source": [
    "from mymodule import generate_full_name, sum_two_nums, person, gravity\n",
    "print(generate_full_name('Asabneh','Yetayeh'))\n",
    "print(sum_two_nums(1,9))\n",
    "mass = 100;\n",
    "weight = mass * gravity\n",
    "print(weight)\n",
    "print(person['firstname'])"
   ]
  },
  {
   "cell_type": "markdown",
   "metadata": {},
   "source": [
    "### Yerleşik Modülleri İçe Aktar\n",
    "\n",
    "Diğer programlama dilleri gibi, import anahtar kelimesini kullanarak dosyayı/fonksiyonu içe aktararak modülleri de içe aktarabiliriz . Çoğu zaman kullanacağımız ortak modülü import edelim. Bazı yaygın yerleşik modüller: math, datetime, os,sys, random, statistics, collections, json,re\n",
    "\n",
    "### İşletim Sistemi Modülü\n",
    "\n",
    "Python os modülünü kullanarak birçok işletim sistemi görevini otomatik olarak gerçekleştirmek mümkündür. Python'daki işletim sistemi modülü, mevcut çalışma dizinini oluşturmak, değiştirmek ve bir dizini (klasörü) kaldırmak, içeriğini almak, geçerli dizini değiştirmek ve tanımlamak için işlevler sağlar."
   ]
  },
  {
   "cell_type": "markdown",
   "metadata": {},
   "source": [
    "### Sistem Modülü\n",
    "\n",
    "sys modülü, Python çalışma zamanı ortamının farklı bölümlerini işlemek için kullanılan işlevler ve değişkenler sağlar. sys.argv işlevi, bir Python betiğine iletilen komut satırı bağımsız değişkenlerinin bir listesini döndürür. Bu listede dizin 0'daki öğe her zaman betiğin adıdır, dizin 1'deki komut satırından iletilen argümandır."
   ]
  },
  {
   "cell_type": "code",
   "execution_count": 6,
   "metadata": {},
   "outputs": [
    {
     "name": "stdout",
     "output_type": "stream",
     "text": [
      "C:\\Users\\Büşra\\AppData\\Local\\Programs\\Python\\Python39\\lib\\site-packages\\ipykernel_launcher.py --ip=127.0.0.1 --stdin=9003\n"
     ]
    }
   ],
   "source": [
    "import sys\n",
    "print(sys.argv[0], sys.argv[1],sys.argv[2])"
   ]
  },
  {
   "cell_type": "markdown",
   "metadata": {},
   "source": [
    "Bazı yararlı sys komutları:\n",
    "\n",
    "sys.exit() : çıkmak için\n",
    "\n",
    "sys.maxsize  \n",
    "\n",
    "sys.path\n",
    "\n",
    "sys.version : kullanmak olduğun programın sürümünü "
   ]
  },
  {
   "cell_type": "markdown",
   "metadata": {},
   "source": [
    "### İstatistik Modülü\n",
    "\n",
    "İstatistik modülü, sayısal verilerin matematiksel istatistikleri için işlevler sağlar. Bu modülde tanımlanan popüler istatistiksel fonksiyonları:mean, median, mode, stdev"
   ]
  },
  {
   "cell_type": "code",
   "execution_count": 8,
   "metadata": {},
   "outputs": [],
   "source": [
    "from statistics import mean,median,mode,stdev"
   ]
  },
  {
   "cell_type": "code",
   "execution_count": 10,
   "metadata": {},
   "outputs": [
    {
     "name": "stdout",
     "output_type": "stream",
     "text": [
      "576.5454545454545\n",
      "626\n",
      "200\n",
      "304.8007098536234\n"
     ]
    }
   ],
   "source": [
    "covid_19= [200, 210, 544, 824, 725, 422, 626, 720, 1023, 922, 126]\n",
    "print(mean(covid_19))\n",
    "print(median(covid_19))\n",
    "print(mode(covid_19))\n",
    "print(stdev(covid_19))"
   ]
  },
  {
   "cell_type": "markdown",
   "metadata": {},
   "source": [
    "### Matematik Modülü\n",
    "\n",
    "Birçok matematiksel işlem ve sabit içeren modül."
   ]
  },
  {
   "cell_type": "code",
   "execution_count": 11,
   "metadata": {},
   "outputs": [
    {
     "name": "stdout",
     "output_type": "stream",
     "text": [
      "3.141592653589793\n",
      "1.4142135623730951\n",
      "8.0\n",
      "9\n",
      "10\n",
      "2.0\n"
     ]
    }
   ],
   "source": [
    "import math\n",
    "print(math.pi)          \n",
    "print(math.sqrt(2))      \n",
    "print(math.pow(2, 3))    \n",
    "print(math.floor(9.81))  \n",
    "print(math.ceil(9.81))  \n",
    "print(math.log10(100))"
   ]
  },
  {
   "cell_type": "markdown",
   "metadata": {},
   "source": [
    "Şimdi, matematiksel hesaplamaları yapmamıza yardımcı olabilecek birçok işlevi içeren matematik modülünü içe aktardık . Modülün hangi işlevleri olduğunu kontrol etmek için help(math) veya dir(math) kullanabiliriz . Bu, modüldeki mevcut işlevleri gösterecektir. Modülden yalnızca belirli bir işlevi içe aktarmak istiyorsak, onu aşağıdaki gibi içe aktarırız:"
   ]
  },
  {
   "cell_type": "code",
   "execution_count": 12,
   "metadata": {},
   "outputs": [
    {
     "name": "stdout",
     "output_type": "stream",
     "text": [
      "3.141592653589793\n"
     ]
    }
   ],
   "source": [
    "from math import pi\n",
    "print(pi)"
   ]
  },
  {
   "cell_type": "markdown",
   "metadata": {},
   "source": [
    "Ancak matematik modülündeki tüm işlevi içe aktarmak istiyorsak * kullanabiliriz."
   ]
  },
  {
   "cell_type": "code",
   "execution_count": 14,
   "metadata": {},
   "outputs": [
    {
     "name": "stdout",
     "output_type": "stream",
     "text": [
      "3.141592653589793\n",
      "1.4142135623730951\n",
      "8.0\n",
      "9\n",
      "10\n",
      "2.0\n"
     ]
    }
   ],
   "source": [
    "from math import *\n",
    "print(pi)                  \n",
    "print(sqrt(2))             \n",
    "print(pow(2, 3))           \n",
    "print(floor(9.81))         \n",
    "print(ceil(9.81))          \n",
    "print(math.log10(100)) "
   ]
  },
  {
   "cell_type": "markdown",
   "metadata": {},
   "source": [
    "### Dize Modülü\n",
    "\n",
    "Bir dizi modülü, birçok amaç için kullanışlı bir modüldür. Aşağıdaki örnek, string modülünün bazı kullanımlarını göstermektedir."
   ]
  },
  {
   "cell_type": "code",
   "execution_count": 16,
   "metadata": {},
   "outputs": [
    {
     "name": "stdout",
     "output_type": "stream",
     "text": [
      "abcdefghijklmnopqrstuvwxyzABCDEFGHIJKLMNOPQRSTUVWXYZ\n",
      "0123456789\n",
      "!\"#$%&'()*+,-./:;<=>?@[\\]^_`{|}~\n"
     ]
    }
   ],
   "source": [
    "import  string \n",
    "print ( string . ascii_letters ) \n",
    "print ( string . digits )         \n",
    "print ( string . punctuation ) "
   ]
  },
  {
   "cell_type": "markdown",
   "metadata": {},
   "source": [
    "###  Rastgele Modül\n",
    "\n",
    "Artık modülleri içe aktarmaya aşinasınız. Çok aşina olmak için bir ithalat daha yapalım. Bize 0 ile 0,99999 arasında bir rastgele sayı veren rastgele modülü içe aktaralım.... Rastgele modülün birçok işlevi var ama bu bölümde sadece random ve randint kullanacağız ."
   ]
  },
  {
   "cell_type": "code",
   "execution_count": 18,
   "metadata": {},
   "outputs": [
    {
     "name": "stdout",
     "output_type": "stream",
     "text": [
      "0.4290422177733042\n",
      "8\n"
     ]
    }
   ],
   "source": [
    "from random import random,randint\n",
    "print(random())  # 0 ile 0.999999 arasında rasgele bir değer döndürür.\n",
    "print(randint(5, 20))"
   ]
  }
 ],
 "metadata": {
  "interpreter": {
   "hash": "5bb71e04e3d056b3fd374fe835c740c82b88cf9a64babc7a305394decc4b8aa7"
  },
  "kernelspec": {
   "display_name": "Python 3.9.5 64-bit (system)",
   "language": "python",
   "name": "python3"
  },
  "language_info": {
   "codemirror_mode": {
    "name": "ipython",
    "version": 3
   },
   "file_extension": ".py",
   "mimetype": "text/x-python",
   "name": "python",
   "nbconvert_exporter": "python",
   "pygments_lexer": "ipython3",
   "version": "3.9.5"
  },
  "orig_nbformat": 4
 },
 "nbformat": 4,
 "nbformat_minor": 2
}
