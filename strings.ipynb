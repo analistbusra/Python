{
 "cells": [
  {
   "cell_type": "code",
   "execution_count": 37,
   "metadata": {},
   "outputs": [
    {
     "name": "stdout",
     "output_type": "stream",
     "text": [
      "s\n",
      "1\n"
     ]
    }
   ],
   "source": [
    "sayılar= 's' # tek bir karakter ile dize olabilir.\n",
    "print(sayılar)  # s\n",
    "print(len(sayılar))"
   ]
  },
  {
   "cell_type": "code",
   "execution_count": 38,
   "metadata": {},
   "outputs": [
    {
     "name": "stdout",
     "output_type": "stream",
     "text": [
      "Python Dünyasına Hoş Geldiniz!\n",
      "30\n"
     ]
    }
   ],
   "source": [
    "mesaj='Python Dünyasına Hoş Geldiniz!'\n",
    "print(mesaj)\n",
    "print(len(mesaj))"
   ]
  },
  {
   "cell_type": "code",
   "execution_count": 39,
   "metadata": {},
   "outputs": [
    {
     "name": "stdout",
     "output_type": "stream",
     "text": [
      "Python programını öğrendiğim için çok mutluyum.\n"
     ]
    }
   ],
   "source": [
    "cümle='Python programını öğrendiğim için çok mutluyum.'\n",
    "print(cümle)"
   ]
  },
  {
   "cell_type": "code",
   "execution_count": 40,
   "metadata": {},
   "outputs": [
    {
     "name": "stdout",
     "output_type": "stream",
     "text": [
      " Ben bir istatistikçiyim aslında \n",
      "bu tam bana göre bir meslek çocukluğumdan veri \n",
      "sürekli gözlem yaparak etrafımda olup bitenleri \n",
      "tahmin etmeye çalışırdım.\n"
     ]
    }
   ],
   "source": [
    "uzun_cümle=''' Ben bir istatistikçiyim aslında \n",
    "bu tam bana göre bir meslek çocukluğumdan veri \n",
    "sürekli gözlem yaparak etrafımda olup bitenleri \n",
    "tahmin etmeye çalışırdım.'''\n",
    "print(uzun_cümle)\n"
   ]
  },
  {
   "cell_type": "code",
   "execution_count": 41,
   "metadata": {},
   "outputs": [
    {
     "name": "stdout",
     "output_type": "stream",
     "text": [
      " Ben bir istatistikçiyim aslında \n",
      "bu tam bana göre bir meslek çocukluğumdan beri \n",
      "sürekli gözlem yaparak etrafımda olup bitenleri \n",
      "tahmin etmeye çalışırdım.\n"
     ]
    }
   ],
   "source": [
    "uzun_cümle=\"\"\" Ben bir istatistikçiyim aslında \n",
    "bu tam bana göre bir meslek çocukluğumdan beri \n",
    "sürekli gözlem yaparak etrafımda olup bitenleri \n",
    "tahmin etmeye çalışırdım.\"\"\"\n",
    "print(uzun_cümle)"
   ]
  },
  {
   "cell_type": "code",
   "execution_count": 42,
   "metadata": {},
   "outputs": [
    {
     "name": "stdout",
     "output_type": "stream",
     "text": [
      "büşra istatistikçi\n",
      "18\n",
      "12\n",
      "True\n"
     ]
    }
   ],
   "source": [
    "ad='büşra'\n",
    "meslek='istatistikçi'\n",
    "boş= \" \"\n",
    "AD_MESLEK= ad + boş + meslek\n",
    "print(AD_MESLEK)\n",
    "print(len(AD_MESLEK))#18\n",
    "print(len(meslek))#12\n",
    "print(len(meslek)>len(ad))#True"
   ]
  },
  {
   "cell_type": "code",
   "execution_count": 43,
   "metadata": {},
   "outputs": [
    {
     "name": "stdout",
     "output_type": "stream",
     "text": [
      "Umarım herkes rahatlıkla kod yazabiliyor \n",
      " Öyle mi?\n"
     ]
    }
   ],
   "source": [
    "print ( 'Umarım herkes rahatlıkla kod yazabiliyor \\n Öyle mi?' ) \n"
   ]
  },
  {
   "cell_type": "markdown",
   "metadata": {},
   "source": []
  },
  {
   "cell_type": "code",
   "execution_count": 44,
   "metadata": {},
   "outputs": [
    {
     "name": "stdout",
     "output_type": "stream",
     "text": [
      "Day 4\t3\t5\n"
     ]
    }
   ],
   "source": [
    "print('Day 4\\t3\\t5')"
   ]
  },
  {
   "cell_type": "code",
   "execution_count": 45,
   "metadata": {},
   "outputs": [
    {
     "name": "stdout",
     "output_type": "stream",
     "text": [
      "In every programming language it starts with \"Hello, World!\"\n"
     ]
    }
   ],
   "source": [
    "print('In every programming language it starts with \\\"Hello, World!\\\"')"
   ]
  },
  {
   "cell_type": "code",
   "execution_count": 46,
   "metadata": {},
   "outputs": [
    {
     "name": "stdout",
     "output_type": "stream",
     "text": [
      "il\tölüm sayısı\tVakaSayısı\n",
      "Adana   \t8\t587\n",
      "Diyarbakır\t14\t547\n",
      "Edirne  \t8\t500\n",
      "Giresun  \t8\t647\n",
      "İstanbul \t13\t1050\n",
      "Kayseri \t18\t897\n",
      "Mersin    \t11\t201\n"
     ]
    }
   ],
   "source": [
    "print('il\\tölüm sayısı\\tVakaSayısı') \n",
    "print('Adana   \\t8\\t587')\n",
    "print('Diyarbakır\\t14\\t547')\n",
    "print('Edirne  \\t8\\t500')\n",
    "print('Giresun  \\t8\\t647')\n",
    "print('İstanbul \\t13\\t1050')\n",
    "print('Kayseri \\t18\\t897')\n",
    "print('Mersin    \\t11\\t201')"
   ]
  },
  {
   "cell_type": "code",
   "execution_count": 47,
   "metadata": {},
   "outputs": [
    {
     "name": "stdout",
     "output_type": "stream",
     "text": [
      "Program açıldığında il yazdığım \"Merhaba, Dünya!\" oldu.\n"
     ]
    }
   ],
   "source": [
    "print('Program açıldığında il yazdığım \\\"Merhaba, Dünya!\\\" oldu.')"
   ]
  },
  {
   "cell_type": "code",
   "execution_count": 48,
   "metadata": {},
   "outputs": [
    {
     "name": "stdout",
     "output_type": "stream",
     "text": [
      "Ben Büşra Akkaya. Ben Python öğreniyorum.\n"
     ]
    }
   ],
   "source": [
    "ad= 'Büşra'\n",
    "soy_ad = 'Akkaya'\n",
    "program = 'Python'\n",
    "cümle_oluşturma = 'Ben %s %s. Ben %s öğreniyorum.' %(ad, soy_ad, program)\n",
    "print(cümle_oluşturma)"
   ]
  },
  {
   "cell_type": "code",
   "execution_count": 49,
   "metadata": {},
   "outputs": [
    {
     "name": "stdout",
     "output_type": "stream",
     "text": [
      "Matematikte bir çok konu vardır.Bunlardan en temelleri:['Köklü Sayılar', 'Üslü Sayılar', 'Problemler', 'Temel Kavramlar', 'Rasyonel Sayılar']\n"
     ]
    }
   ],
   "source": [
    "matematik_konu = ['Köklü Sayılar', 'Üslü Sayılar', 'Problemler', 'Temel Kavramlar','Rasyonel Sayılar']\n",
    "cümle_ekle = 'Matematikte bir çok konu vardır.Bunlardan en temelleri:%s' % (matematik_konu)\n",
    "print(cümle_ekle)"
   ]
  },
  {
   "cell_type": "code",
   "execution_count": 50,
   "metadata": {},
   "outputs": [],
   "source": [
    "radius = 10\n",
    "pi = 3.14\n",
    "area = pi * radius ** 2\n",
    "formated_string = 'The area of circle with a radius %d is %.2f.' %(radius, area) "
   ]
  },
  {
   "cell_type": "code",
   "execution_count": 51,
   "metadata": {},
   "outputs": [
    {
     "name": "stdout",
     "output_type": "stream",
     "text": [
      "Ben Büşra Akkaya. Sizlere Python anlatacağım\n"
     ]
    }
   ],
   "source": [
    "ad  =  'Büşra' \n",
    "soy_ad=  'Akkaya' \n",
    "dil  =  'Python anlatacağım' \n",
    "yeni_cümle=  'Ben {} {}. Sizlere {}'  . format(ad , soy_ad , dil)\n",
    "print( yeni_cümle )"
   ]
  },
  {
   "cell_type": "code",
   "execution_count": 52,
   "metadata": {},
   "outputs": [
    {
     "name": "stdout",
     "output_type": "stream",
     "text": [
      "10 + 5 = 15\n",
      "10 - 5 = 5\n",
      "10 * 5 = 50\n",
      "10 / 5 = 2.00\n",
      "10 % 5 = 0\n",
      "10 // 5 = 2\n",
      "10 ** 5 = 100000\n"
     ]
    }
   ],
   "source": [
    "x=10\n",
    "y=5\n",
    "print('{} + {} = {}'.format(x, y, x + y))\n",
    "print('{} - {} = {}'.format(x, y, x - y))\n",
    "print('{} * {} = {}'.format(x, y, x * y))\n",
    "print('{} / {} = {:.2f}'.format(x, y, x / y)) \n",
    "print('{} % {} = {}'.format(x, y, x % y))\n",
    "print('{} // {} = {}'.format(x, y, x // y))\n",
    "print('{} ** {} = {}'.format(x, y, x ** y))\n"
   ]
  },
  {
   "cell_type": "code",
   "execution_count": 53,
   "metadata": {},
   "outputs": [
    {
     "name": "stdout",
     "output_type": "stream",
     "text": [
      " 10 + 5 = 15 \n",
      " 10 - 5 = 5 \n",
      " 10 * 5 = 50 \n",
      " 10 / 5 = 2.0 \n",
      " 10 % 5 = 0 \n",
      " 10 / / 5 = 2 \n",
      " 10 ** 5 = 100000 \n"
     ]
    }
   ],
   "source": [
    "x=10\n",
    "y=5\n",
    "print ( f' { x } + { y } = { x  + y } ' )\n",
    "print( f' { x } - { y } = { x  -  y } ' )\n",
    "print( f' { x } * { y } = { x *  y } ')\n",
    "print( f' {x } / { y } = { x /  y } ' )\n",
    "print ( f' { x } % { y } = { x  %  y } ' )\n",
    "print ( f' { x } / / { y } = { x  //  y } ' )\n",
    "print (f' { x } ** { y } = { x **  y} ' )"
   ]
  },
  {
   "cell_type": "code",
   "execution_count": 54,
   "metadata": {},
   "outputs": [
    {
     "name": "stdout",
     "output_type": "stream",
     "text": [
      "P\n",
      "y\n",
      "5\n"
     ]
    }
   ],
   "source": [
    "dil  =  'Python' \n",
    "ilk_harf =  dil [ 0 ]\n",
    "print ( ilk_harf) # P \n",
    "ikinci_harf =  dil [ 1 ]\n",
    "print ( ikinci_harf) # y \n",
    "son_hal =  len ( dil ) -  1 \n",
    "last_letter  =  dil [ son_hal ]\n",
    "print ( son_hal ) # n"
   ]
  },
  {
   "cell_type": "code",
   "execution_count": 55,
   "metadata": {},
   "outputs": [
    {
     "name": "stdout",
     "output_type": "stream",
     "text": [
      "Pyt\n",
      "hon\n",
      "hon\n",
      "hon\n"
     ]
    }
   ],
   "source": [
    "dil  =  'Python' \n",
    "ilk_üç =  dil [ 0 : 3 ] # 3 dahil değil\n",
    "print ( ilk_üç ) #Pyt \n",
    "son_üç =  dil [ 3 : 6 ]\n",
    "print ( son_üç ) \n",
    "# Başka bir yol \n",
    "son_üç  =  dil [ - 3 :]\n",
    "print( son_üç )    \n",
    "son_üç  =  dil [3 :]\n",
    "print( son_üç )   "
   ]
  },
  {
   "cell_type": "code",
   "execution_count": 56,
   "metadata": {},
   "outputs": [
    {
     "name": "stdout",
     "output_type": "stream",
     "text": [
      "!aynüD abahreM\n"
     ]
    }
   ],
   "source": [
    "selamlama  =  'Merhaba Dünya!' \n",
    "print ( selamlama [:: - 1 ]) # !aynüD abahreM"
   ]
  },
  {
   "cell_type": "code",
   "execution_count": 57,
   "metadata": {},
   "outputs": [
    {
     "name": "stdout",
     "output_type": "stream",
     "text": [
      "Iklim değişiyor\n"
     ]
    }
   ],
   "source": [
    "değiş= 'iklim değişiyor'\n",
    "print(değiş.capitalize()) # Iklim değişiyor"
   ]
  },
  {
   "cell_type": "code",
   "execution_count": 58,
   "metadata": {},
   "outputs": [
    {
     "name": "stdout",
     "output_type": "stream",
     "text": [
      "4\n",
      "1\n",
      "1\n"
     ]
    },
    {
     "ename": "NameError",
     "evalue": "name 'challenge' is not defined",
     "output_type": "error",
     "traceback": [
      "\u001b[1;31m---------------------------------------------------------------------------\u001b[0m",
      "\u001b[1;31mNameError\u001b[0m                                 Traceback (most recent call last)",
      "\u001b[1;32mC:\\Users\\BRA~1\\AppData\\Local\\Temp/ipykernel_752/2297709459.py\u001b[0m in \u001b[0;36m<module>\u001b[1;34m\u001b[0m\n\u001b[0;32m      3\u001b[0m \u001b[0mprint\u001b[0m\u001b[1;33m(\u001b[0m\u001b[0mdeğiş\u001b[0m\u001b[1;33m.\u001b[0m\u001b[0mcount\u001b[0m\u001b[1;33m(\u001b[0m\u001b[1;34m'y'\u001b[0m\u001b[1;33m,\u001b[0m \u001b[1;36m7\u001b[0m\u001b[1;33m,\u001b[0m \u001b[1;36m14\u001b[0m\u001b[1;33m)\u001b[0m\u001b[1;33m)\u001b[0m \u001b[1;31m# 1,\u001b[0m\u001b[1;33m\u001b[0m\u001b[1;33m\u001b[0m\u001b[0m\n\u001b[0;32m      4\u001b[0m \u001b[0mprint\u001b[0m\u001b[1;33m(\u001b[0m\u001b[0mdeğiş\u001b[0m\u001b[1;33m.\u001b[0m\u001b[0mcount\u001b[0m\u001b[1;33m(\u001b[0m\u001b[1;34m'or'\u001b[0m\u001b[1;33m)\u001b[0m\u001b[1;33m)\u001b[0m \u001b[1;31m# 1print(challenge.endswith('on'))   # True\u001b[0m\u001b[1;33m\u001b[0m\u001b[1;33m\u001b[0m\u001b[0m\n\u001b[1;32m----> 5\u001b[1;33m \u001b[0mprint\u001b[0m\u001b[1;33m(\u001b[0m\u001b[0mchallenge\u001b[0m\u001b[1;33m.\u001b[0m\u001b[0mendswith\u001b[0m\u001b[1;33m(\u001b[0m\u001b[1;34m'tion'\u001b[0m\u001b[1;33m)\u001b[0m\u001b[1;33m)\u001b[0m\u001b[1;33m\u001b[0m\u001b[1;33m\u001b[0m\u001b[0m\n\u001b[0m",
      "\u001b[1;31mNameError\u001b[0m: name 'challenge' is not defined"
     ]
    }
   ],
   "source": [
    "değiş= 'iklim değişiyor'\n",
    "print(değiş.count('i')) # 4\n",
    "print(değiş.count('y', 7, 14)) # 1, \n",
    "print(değiş.count('or')) # 1print(challenge.endswith('on'))   # True\n",
    "print(challenge.endswith('tion'))"
   ]
  },
  {
   "cell_type": "code",
   "execution_count": 59,
   "metadata": {},
   "outputs": [
    {
     "name": "stdout",
     "output_type": "stream",
     "text": [
      "True\n",
      "False\n"
     ]
    }
   ],
   "source": [
    "değiş= 'iklim değişiyor'\n",
    "print(değiş.endswith('yor'))   #True\n",
    "print(değiş.endswith('değ')) # False"
   ]
  },
  {
   "cell_type": "code",
   "execution_count": 66,
   "metadata": {},
   "outputs": [
    {
     "name": "stdout",
     "output_type": "stream",
     "text": [
      "iklim\\değişiyor\n",
      "iklim\\değişiyor\n"
     ]
    }
   ],
   "source": [
    "değiş= 'iklim\\değişiyor'\n",
    "print(değiş.expandtabs ())   #iklim   değişiyor\n",
    "print(değiş.expandtabs (10))   #iklim       değişiyor"
   ]
  },
  {
   "cell_type": "code",
   "execution_count": 68,
   "metadata": {},
   "outputs": [
    {
     "name": "stdout",
     "output_type": "stream",
     "text": [
      "12\n",
      "1\n"
     ]
    }
   ],
   "source": [
    "değiş= 'iklim değişiyor'\n",
    "print(değiş.find('y'))  # 12\n",
    "print(değiş.find('kl'))#1"
   ]
  },
  {
   "cell_type": "code",
   "execution_count": 78,
   "metadata": {},
   "outputs": [
    {
     "name": "stdout",
     "output_type": "stream",
     "text": [
      "12\n",
      "1\n"
     ]
    }
   ],
   "source": [
    "değiş= 'iklim değişiyor'\n",
    "print(değiş.rfind('y'))  # 12\n",
    "print(değiş.rfind('kl'))#1\n"
   ]
  },
  {
   "cell_type": "code",
   "execution_count": 73,
   "metadata": {},
   "outputs": [
    {
     "name": "stdout",
     "output_type": "stream",
     "text": [
      "Ben  Büşra Akkaya. Benim yaşım 25. Ben veri analistiyim. Ben  Türkiye yaşıyorum.\n"
     ]
    }
   ],
   "source": [
    "ad = 'Büşra'\n",
    "soy_ad = 'Akkaya'\n",
    "yaş= 25\n",
    "meslek = 'veri analisti'\n",
    "ülke = 'Türkiye'\n",
    "cümle= 'Ben  {} {}. Benim yaşım {}. Ben {}yim. Ben  {} yaşıyorum.'.format(ad, soy_ad, yaş, meslek, ülke)\n",
    "print(cümle)"
   ]
  },
  {
   "cell_type": "code",
   "execution_count": 5,
   "metadata": {},
   "outputs": [
    {
     "ename": "SyntaxError",
     "evalue": "invalid syntax (Temp/ipykernel_11208/1478032370.py, line 8)",
     "output_type": "error",
     "traceback": [
      "\u001b[1;36m  File \u001b[1;32m\"C:\\Users\\BRA~1\\AppData\\Local\\Temp/ipykernel_11208/1478032370.py\"\u001b[1;36m, line \u001b[1;32m8\u001b[0m\n\u001b[1;33m    print ( meydan okuma . isalnum ()) # Yanlış, boşluk bir sayısal karakter algılamaz\u001b[0m\n\u001b[1;37m                   ^\u001b[0m\n\u001b[1;31mSyntaxError\u001b[0m\u001b[1;31m:\u001b[0m invalid syntax\n"
     ]
    }
   ],
   "source": [
    "meydan   =  'OtuzGünProgram' \n",
    "print( meydan . isalnum ()) # Doğru\n",
    "\n",
    "meydan =  '30GünProgram' \n",
    "print( meydan . isalnum ()) # Doğru\n",
    "\n",
    "meydan   =  'otuz gün program' \n",
    "print ( meydan okuma . isalnum ()) # Yanlış, boşluk bir sayısal karakter algılamaz\n",
    "\n",
    "meydan  =  'otuz gün python 2019' \n",
    "print( meydan okuma . isalnum ()) # Yanlış\n",
    "\n"
   ]
  },
  {
   "cell_type": "code",
   "execution_count": 7,
   "metadata": {},
   "outputs": [
    {
     "name": "stdout",
     "output_type": "stream",
     "text": [
      "True\n",
      "False\n",
      "False\n",
      "False\n"
     ]
    }
   ],
   "source": [
    "meydan   =  'OtuzGünProgram' \n",
    "print( meydan . isalpha ()) # True\n",
    "\n",
    "meydan =  '30GünProgram' \n",
    "print( meydan . isalpha()) # False\n",
    "\n",
    "meydan   = 'otuz gün program' #False\n",
    "print ( meydan  . isalpha ())\n",
    "\n",
    "meydan  = 'otuz gün python 2019' \n",
    "print( meydan . isalpha ()) # FalsE"
   ]
  },
  {
   "cell_type": "code",
   "execution_count": 13,
   "metadata": {},
   "outputs": [
    {
     "name": "stdout",
     "output_type": "stream",
     "text": [
      "False\n",
      "True\n",
      "False\n",
      "False\n"
     ]
    }
   ],
   "source": [
    "meydan   =  'OtuzGünProgram' \n",
    "print( meydan . isdecimal ()) # False\n",
    "\n",
    "meydan =  '123' \n",
    "print( meydan . isdecimal()) # True\n",
    "\n",
    "meydan   = '30.2' \n",
    "print ( meydan  . isdecimal ()) #False\n",
    " \n",
    "meydan  = 'otuz gün python 2019' \n",
    "print( meydan . isdecimal()) # False"
   ]
  },
  {
   "cell_type": "code",
   "execution_count": 15,
   "metadata": {},
   "outputs": [
    {
     "name": "stdout",
     "output_type": "stream",
     "text": [
      "False\n",
      "True\n",
      "False\n"
     ]
    }
   ],
   "source": [
    "\n",
    "metin='otuz'\n",
    "print(metin.isdigit())# False\n",
    "metin='30'\n",
    "print(metin.isdigit())# True\n",
    "metin='pandas34'\n",
    "print(metin.isdigit())#False\n"
   ]
  },
  {
   "cell_type": "code",
   "execution_count": 18,
   "metadata": {},
   "outputs": [
    {
     "name": "stdout",
     "output_type": "stream",
     "text": [
      "True\n",
      "False\n",
      "False\n"
     ]
    }
   ],
   "source": [
    "numara='10'\n",
    "print(numara.isnumeric())#True\n",
    "numara='b021'\n",
    "print(numara.isnumeric())#True\n",
    "numara='17.5'\n",
    "print(numara.isnumeric())#False"
   ]
  },
  {
   "cell_type": "code",
   "execution_count": 19,
   "metadata": {},
   "outputs": [
    {
     "name": "stdout",
     "output_type": "stream",
     "text": [
      "True\n",
      "False\n"
     ]
    }
   ],
   "source": [
    "tanım='üç_gün_sonra'\n",
    "print(tanım.isidentifier())#True\n",
    "tanım='3GünSonrası'\n",
    "print(tanım.isidentifier())#False\n"
   ]
  },
  {
   "cell_type": "code",
   "execution_count": 20,
   "metadata": {},
   "outputs": [
    {
     "name": "stdout",
     "output_type": "stream",
     "text": [
      "True\n",
      "False\n"
     ]
    }
   ],
   "source": [
    "ower='siz gerçek çok zekisiniz'\n",
    "print(ower.islower())# True\n",
    "ower='Takipte kalın'\n",
    "print(ower.islower())# False"
   ]
  },
  {
   "cell_type": "code",
   "execution_count": 22,
   "metadata": {},
   "outputs": [
    {
     "name": "stdout",
     "output_type": "stream",
     "text": [
      "fransızca almanca rusça\n"
     ]
    }
   ],
   "source": [
    "\n",
    "dil=['fransızca','almanca', 'rusça']\n",
    "sonuç=' ' .join(dil)\n",
    "print(sonuç)\n"
   ]
  },
  {
   "cell_type": "code",
   "execution_count": 32,
   "metadata": {},
   "outputs": [
    {
     "name": "stdout",
     "output_type": "stream",
     "text": [
      "BBugün harika bilgiler öğrendim\n"
     ]
    }
   ],
   "source": [
    "mesaj='BBugün harika bilgiler öğrendim'\n",
    "print(mesaj.strip(' '))"
   ]
  },
  {
   "cell_type": "code",
   "execution_count": 33,
   "metadata": {},
   "outputs": [
    {
     "name": "stdout",
     "output_type": "stream",
     "text": [
      "Ben şeftali isterim\n"
     ]
    }
   ],
   "source": [
    "mesaj='Ben karpuz isterim'\n",
    "print(mesaj.replace('karpuz', 'şeftali'))# Ben şeftali isterim"
   ]
  },
  {
   "cell_type": "code",
   "execution_count": 34,
   "metadata": {},
   "outputs": [
    {
     "name": "stdout",
     "output_type": "stream",
     "text": [
      "['Ben', 'karpuz', 'isterim']\n"
     ]
    }
   ],
   "source": [
    "mesaj='Ben karpuz isterim'\n",
    "print(mesaj.split())# ['Ben', 'karpuz', 'isterim']"
   ]
  },
  {
   "cell_type": "code",
   "execution_count": 36,
   "metadata": {},
   "outputs": [
    {
     "name": "stdout",
     "output_type": "stream",
     "text": [
      "BEN KARPUZ ISTERIM\n"
     ]
    }
   ],
   "source": [
    "mesaj='ben karpuz isterim'\n",
    "print(mesaj.swapcase())#BEN KARPUZ ISTERIM"
   ]
  },
  {
   "cell_type": "markdown",
   "metadata": {},
   "source": []
  },
  {
   "cell_type": "code",
   "execution_count": 39,
   "metadata": {},
   "outputs": [
    {
     "name": "stdout",
     "output_type": "stream",
     "text": [
      "True\n",
      "True\n",
      "True\n",
      "True\n"
     ]
    }
   ],
   "source": [
    "meydan   =  'OtuzGünProgram' \n",
    "print( meydan . startswith ('Otuz')) # Otuz ile başladığı için True\n",
    "\n",
    "meydan =  '30GünProgram' \n",
    "print( meydan . startswith ('30')) # True\n",
    "\n",
    "meydan   =  'otuz gün program' \n",
    "print ( meydan . startswith ('otuz')) # True\n",
    "meydan  =  'otuz gün python 2019' \n",
    "print( meydan .startswith ('otuz')) # True"
   ]
  },
  {
   "cell_type": "code",
   "execution_count": null,
   "metadata": {},
   "outputs": [],
   "source": []
  }
 ],
 "metadata": {
  "interpreter": {
   "hash": "5bb71e04e3d056b3fd374fe835c740c82b88cf9a64babc7a305394decc4b8aa7"
  },
  "kernelspec": {
   "display_name": "Python 3.9.5 64-bit (system)",
   "language": "python",
   "name": "python3"
  },
  "language_info": {
   "codemirror_mode": {
    "name": "ipython",
    "version": 3
   },
   "file_extension": ".py",
   "mimetype": "text/x-python",
   "name": "python",
   "nbconvert_exporter": "python",
   "pygments_lexer": "ipython3",
   "version": "3.9.5"
  },
  "orig_nbformat": 4
 },
 "nbformat": 4,
 "nbformat_minor": 2
}
