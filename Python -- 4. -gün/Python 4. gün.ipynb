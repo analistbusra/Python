{
 "cells": [
  {
   "cell_type": "markdown",
   "metadata": {},
   "source": [
    "## DİZE(STRINGS)\n",
    "\n",
    "Tek tırnak ve ya çift tırnak içerisinde yazdığımız tüm metin veri türlerine dize diyporuz.Python metin veri tanımlama kısmında da ele aldığımız bu konuyu detayları ve örneklerle size aktarmak isterim.\n",
    " \n",
    "Hatırlarsanız len() komutuyla '' içerindeki ifadenin kaç harfden oluştuğunu yani uzunluğunu bize çıktı olarak veriyordu dilerseniz örneğimizde bir metin verisini tek tırnakla yazalım veuzunluğunun ne kadar olduğunu görelim.\n"
   ]
  },
  {
   "cell_type": "code",
   "execution_count": 2,
   "metadata": {},
   "outputs": [
    {
     "name": "stdout",
     "output_type": "stream",
     "text": [
      "s\n",
      "1\n",
      "Python Dünyasına Hoş Geldiniz!\n",
      "30\n",
      "Python programını öğrendiğim için çok mutluyum.\n"
     ]
    }
   ],
   "source": [
    "sayılar= 's' # tek bir karakter ile dize olabilir.\n",
    "print(sayılar) \n",
    "print(len(sayılar))\n",
    "mesaj='Python Dünyasına Hoş Geldiniz!'\n",
    "print(mesaj) \n",
    "print(len(mesaj))\n",
    "cümle='Python programını öğrendiğim için çok mutluyum.'\n",
    "print(cümle)\n"
   ]
  },
  {
   "cell_type": "markdown",
   "metadata": {},
   "source": [
    "Uzun bir cümle yazmak istiyorum bunu iki şekilde de yapabilirim. Birincisi tek tırnakla cümle oluşturmak aşağıdaki örneği inceleyelim."
   ]
  },
  {
   "cell_type": "code",
   "execution_count": 3,
   "metadata": {},
   "outputs": [
    {
     "name": "stdout",
     "output_type": "stream",
     "text": [
      " Ben bir istatistikçiyim aslında \n",
      "bu tam bana göre bir meslek çocukluğumdan beri \n",
      "sürekli gözlem yaparak etrafımda olup bitenleri \n",
      "tahmin etmeye çalışırdım.\n"
     ]
    }
   ],
   "source": [
    "uzun_cümle=''' Ben bir istatistikçiyim aslında \n",
    "bu tam bana göre bir meslek çocukluğumdan beri \n",
    "sürekli gözlem yaparak etrafımda olup bitenleri \n",
    "tahmin etmeye çalışırdım.'''\n",
    "print(uzun_cümle)\n",
    "\n"
   ]
  },
  {
   "cell_type": "markdown",
   "metadata": {},
   "source": [
    "Aynı işlemi çift tırnakla da yapabiliriz örneğimize bakalım."
   ]
  },
  {
   "cell_type": "code",
   "execution_count": 4,
   "metadata": {},
   "outputs": [
    {
     "name": "stdout",
     "output_type": "stream",
     "text": [
      " Ben bir istatistikçiyim aslında \n",
      "bu tam bana göre bir meslek çocukluğumdan beri \n",
      "sürekli gözlem yaparak etrafımda olup bitenleri \n",
      "tahmin etmeye çalışırdım.\n"
     ]
    }
   ],
   "source": [
    "uzun_cümle=\"\"\" Ben bir istatistikçiyim aslında \n",
    "bu tam bana göre bir meslek çocukluğumdan beri \n",
    "sürekli gözlem yaparak etrafımda olup bitenleri \n",
    "tahmin etmeye çalışırdım.\"\"\"\n",
    "print(uzun_cümle)"
   ]
  },
  {
   "cell_type": "markdown",
   "metadata": {},
   "source": [
    "## DİZE BİRLEŞTİRMEK\n",
    "\n",
    "Dizeleri birbirine bağlayabiliriz. Dizeleri basit bir şekilde birleştirme yapabiliriz aşağıdaki örneği inceleyim.\n"
   ]
  },
  {
   "cell_type": "code",
   "execution_count": 5,
   "metadata": {},
   "outputs": [
    {
     "name": "stdout",
     "output_type": "stream",
     "text": [
      "büşra istatistikçi\n",
      "18\n",
      "12\n",
      "True\n"
     ]
    }
   ],
   "source": [
    "ad='büşra'\n",
    "meslek='istatistikçi'\n",
    "boş= \" \"\n",
    "AD_MESLEK= ad + boş + meslek\n",
    "print(AD_MESLEK)\n",
    "print(len(AD_MESLEK))\n",
    "print(len(meslek))#12\n",
    "print(len(meslek)>len(ad))\n",
    "\n"
   ]
  },
  {
   "cell_type": "markdown",
   "metadata": {},
   "source": [
    "## DİZELERDEKİ KAÇIŞ DİZİLERİ\n",
    "\n",
    "Python ve diğer programlama dillerinde \\ ardından bir karakter gelen bir boşluk dizisidir. Bunun ile ilgili en sık kullanılan kalıplara bakalım.\n",
    "\n",
    "•\t\\n: Alt satıra geçer\n",
    "\n",
    "•\t\\t: Sekme anlamına gelir (8 boşluk bırakır)\n",
    "\n",
    "•\t\\\\: Ters eğik çizgi\n",
    "\n",
    "•\t\\’: Tek alıntı (‘)\n",
    "\n",
    "•\t\\”: Çift alıntı (“)\n",
    "\n",
    "Bu kalıplarla ilgili aşağıdaki örneklerimizi inceleyelim.\n",
    "\n",
    "•\t\\n: Alt satıra geçer\n"
   ]
  },
  {
   "cell_type": "code",
   "execution_count": 6,
   "metadata": {},
   "outputs": [
    {
     "name": "stdout",
     "output_type": "stream",
     "text": [
      "Umarım herkes rahatlıkla kod yazabiliyor \n",
      " Öyle mi?\n"
     ]
    }
   ],
   "source": [
    "print ( 'Umarım herkes rahatlıkla kod yazabiliyor \\n Öyle mi?' ) "
   ]
  },
  {
   "cell_type": "markdown",
   "metadata": {},
   "source": [
    "•\t\\t: Sekme anlamına gelir (8 boşluk bırakır)\n",
    "\n",
    "ÖRNEK:\n"
   ]
  },
  {
   "cell_type": "code",
   "execution_count": 7,
   "metadata": {},
   "outputs": [
    {
     "name": "stdout",
     "output_type": "stream",
     "text": [
      "il\tölüm sayısı\tVakaSayısı\n",
      "Adana   \t8\t587\n",
      "Diyarbakır\t14\t547\n",
      "Edirne  \t8\t500\n",
      "Giresun  \t8\t647\n",
      "İstanbul \t13\t1050\n",
      "Kayseri \t18\t897\n",
      "Mersin    \t11\t201\n"
     ]
    }
   ],
   "source": [
    "print('il\\tölüm sayısı\\tVakaSayısı') \n",
    "print('Adana   \\t8\\t587')\n",
    "print('Diyarbakır\\t14\\t547')\n",
    "print('Edirne  \\t8\\t500')\n",
    "print('Giresun  \\t8\\t647')\n",
    "print('İstanbul \\t13\\t1050')\n",
    "print('Kayseri \\t18\\t897')\n",
    "print('Mersin    \\t11\\t201')\n",
    "\n"
   ]
  },
  {
   "cell_type": "markdown",
   "metadata": {},
   "source": [
    "•\t\\”: Çift alıntı (“)\n",
    "\n",
    "Örnek:"
   ]
  },
  {
   "cell_type": "code",
   "execution_count": 8,
   "metadata": {},
   "outputs": [
    {
     "name": "stdout",
     "output_type": "stream",
     "text": [
      "Program açıldığında il yazdığım \"Merhaba, Dünya!\" oldu.\n"
     ]
    }
   ],
   "source": [
    "print('Program açıldığında il yazdığım \\\"Merhaba, Dünya!\\\" oldu.')"
   ]
  },
  {
   "cell_type": "markdown",
   "metadata": {},
   "source": [
    "## DİZE BİÇİMLENDİRME\n",
    "\n",
    "(%) operatorü\n",
    "Python'da dizeleri biçimlendirmenin birçok yolu vardır. Bu bölümde sizlere % yardımıyla dize şekillendirmesinden bahsedeceğiz.\n",
    "\n",
    "•\t%s: Dize (veya sayılar gibi dize temsili olan herhangi bir nesne)\n",
    "\n",
    "•\t%d:Tamsayılar\n",
    "\n",
    "•\t%f: Ondalık sayılar\n",
    "\n",
    "•\t\"%.number of digitsf\":Sabit hassasiyetli kayan noktalı sayılar\n",
    "\n",
    "Bu kalıplarla ilgili aşağıdaki örnekleri inceleyelim. Birinci %s ad ,ikinci %s soy_ad ,üçüncü %s program değişkenini yazdırıyor.\n"
   ]
  },
  {
   "cell_type": "code",
   "execution_count": 9,
   "metadata": {},
   "outputs": [
    {
     "name": "stdout",
     "output_type": "stream",
     "text": [
      "Ben Büşra Akkaya. Ben Python öğreniyorum.\n"
     ]
    }
   ],
   "source": [
    "ad= 'Büşra'\n",
    "soy_ad = 'Akkaya'\n",
    "program = 'Python'\n",
    "cümle_oluşturma = 'Ben %s %s. Ben %s öğreniyorum.' %(ad, soy_ad, program)\n",
    "print(cümle_oluşturma)"
   ]
  },
  {
   "cell_type": "markdown",
   "metadata": {},
   "source": [
    "Örneğin elimde bir liste var ve bunu cümleme eklemek istiyorum %s' % ifadesi ile eklenir. Aşağıdaki örnekle inceleyelim:"
   ]
  },
  {
   "cell_type": "code",
   "execution_count": 10,
   "metadata": {},
   "outputs": [
    {
     "name": "stdout",
     "output_type": "stream",
     "text": [
      "Matematikte bir çok konu vardır.Bunlardan en temelleri:['Köklü Sayılar', 'Üslü Sayılar', 'Problemler', 'Temel Kavramlar', 'Rasyonel Sayılar']\n"
     ]
    }
   ],
   "source": [
    "matematik_konu = ['Köklü Sayılar', 'Üslü Sayılar', 'Problemler', 'Temel Kavramlar','Rasyonel Sayılar']\n",
    "cümle_ekle = 'Matematikte bir çok konu vardır.Bunlardan en temelleri:%s' % (matematik_konu)\n",
    "print(cümle_ekle)\n"
   ]
  },
  {
   "cell_type": "markdown",
   "metadata": {},
   "source": [
    "* (str.format())\n",
    "\n",
    "Bu format Python'ın yeni sürümünde görmekteyiz. Örnekleri aşağıdaki şekilde görmekteyiz.{} ifadesinden sonra herhangi bir kelime gelmez.\n"
   ]
  },
  {
   "cell_type": "code",
   "execution_count": 11,
   "metadata": {},
   "outputs": [
    {
     "name": "stdout",
     "output_type": "stream",
     "text": [
      "Ben Büşra Akkaya. Sizlere Python anlatacağım\n"
     ]
    }
   ],
   "source": [
    "ad  =  'Büşra' \n",
    "soy_ad=  'Akkaya' \n",
    "dil  =  'Python anlatacağım' \n",
    "yeni_cümle=  'Ben {} {}. Sizlere {}'  . format(ad , soy_ad , dil)\n",
    "print( yeni_cümle )"
   ]
  },
  {
   "cell_type": "markdown",
   "metadata": {},
   "source": [
    "{} ifadesi ile biraz dört işlem yapalım aşağıdaki örneği inceleyelim. Burada birinci satıra bakalım Birinci {} ifadesi x, değerini ikinci {} ifadesi y değerini, üçüncü {} ifadesi x+y değerini anlatmaktadır."
   ]
  },
  {
   "cell_type": "code",
   "execution_count": 12,
   "metadata": {},
   "outputs": [
    {
     "name": "stdout",
     "output_type": "stream",
     "text": [
      "10 + 5 = 15\n",
      "10 - 5 = 5\n",
      "10 * 5 = 50\n",
      "10 / 5 = 2.00\n",
      "10 % 5 = 0\n",
      "10 // 5 = 2\n",
      "10 ** 5 = 100000\n"
     ]
    }
   ],
   "source": [
    "x=10\n",
    "y=5\n",
    "print('{} + {} = {}'.format(x, y, x + y))\n",
    "print('{} - {} = {}'.format(x, y, x - y))\n",
    "print('{} * {} = {}'.format(x, y, x * y))\n",
    "print('{} / {} = {:.2f}'.format(x, y, x / y)) \n",
    "print('{} % {} = {}'.format(x, y, x % y))\n",
    "print('{} // {} = {}'.format(x, y, x // y))\n",
    "print('{} ** {} = {}'.format(x, y, x ** y))\n",
    "\n"
   ]
  },
  {
   "cell_type": "markdown",
   "metadata": {},
   "source": [
    "* F-DİZELERİ(f')\n",
    "\n",
    "Başka bir yeni dize biçimlendirmesi de f-dizeleridir. Arkadaşlar burada verileri karşı gelen komutlara yerleştirebiliriz. Nasıl olduğunu örneğimizde hep beraber görelim.\n"
   ]
  },
  {
   "cell_type": "code",
   "execution_count": 13,
   "metadata": {},
   "outputs": [
    {
     "name": "stdout",
     "output_type": "stream",
     "text": [
      " 10 + 5 = 15 \n",
      " 10 - 5 = 5 \n",
      " 10 * 5 = 50 \n",
      " 10 / 5 = 2.0 \n",
      " 10 % 5 = 0 \n",
      " 10 / / 5 = 2 \n",
      " 10 ** 5 = 100000 \n"
     ]
    }
   ],
   "source": [
    "x=10\n",
    "y=5\n",
    "print ( f' { x } + { y } = { x  + y } ' )\n",
    "print( f' { x } - { y } = { x  -  y } ' )\n",
    "print( f' { x } * { y } = { x *  y } ')\n",
    "print( f' {x } / { y } = { x /  y } ' )\n",
    "print ( f' { x } % { y } = { x  %  y } ' )\n",
    "print ( f' { x } / / { y } = { x  //  y } ' )\n",
    "print (f' { x } ** { y } = { x **  y} ' )\n"
   ]
  },
  {
   "cell_type": "markdown",
   "metadata": {},
   "source": [
    "Burada f'{x} f komutuna x i yerleştirdiğimiz anlamına gelir ve diğer adımlar buna göre yapılır."
   ]
  },
  {
   "cell_type": "markdown",
   "metadata": {},
   "source": [
    "## Karakter Dizileri Olarak Python Dizeleri\n",
    "\n",
    "Herhangi bir diziden bireysel bir elemanın çıkmasını istiyorum elimdeki tüm karekterleri açmalıyım bunun için karakter açma diye tanımladığımız örneğe göz atalım.\n",
    "\n",
    "Karakter Açma\n",
    "\n",
    "ÖRNEK:\n"
   ]
  },
  {
   "cell_type": "code",
   "execution_count": 14,
   "metadata": {},
   "outputs": [
    {
     "name": "stdout",
     "output_type": "stream",
     "text": [
      "P\n",
      "y\n",
      "t\n",
      "h\n",
      "o\n",
      "n\n"
     ]
    }
   ],
   "source": [
    "PROGRAM_DİL = 'Python'\n",
    "a,b,c,d,e,f = PROGRAM_DİL\n",
    "print(a) \n",
    "print(b) \n",
    "print(c) \n",
    "print(d) \n",
    "print(e)\n",
    "print(f)\n"
   ]
  },
  {
   "cell_type": "markdown",
   "metadata": {},
   "source": [
    "## Dizilerdeki Karakterlere Dizine Göre Erişim\n",
    "\n",
    "Yazdığımız her harfin rakamlarla bir karşılığı var elbette programlamada 0 ‘dan başlar ve dizinin uzunluğu son harfin rakamı -1 olarak adlandırma gerçekleşir. Örneğimizi inceleyim.\n"
   ]
  },
  {
   "cell_type": "code",
   "execution_count": 16,
   "metadata": {},
   "outputs": [
    {
     "name": "stdout",
     "output_type": "stream",
     "text": [
      "P\n",
      "y\n",
      "5\n"
     ]
    }
   ],
   "source": [
    "dil  =  'Python' \n",
    "ilk_harf =  dil [ 0 ]\n",
    "print ( ilk_harf) \n",
    "ikinci_harf =  dil [ 1 ]\n",
    "print ( ikinci_harf) \n",
    "son_hal =  len ( dil ) -  1\n",
    "last_letter  =  dil [ son_hal ]\n",
    "print ( son_hal )\n"
   ]
  },
  {
   "cell_type": "markdown",
   "metadata": {},
   "source": [
    "## Python Dizelerini Dilimleme\n",
    "\n",
    "Bir diziyi alt dizilere aşağıda gördüğünüz gibi bölebiliriz.\n"
   ]
  },
  {
   "cell_type": "code",
   "execution_count": 17,
   "metadata": {},
   "outputs": [
    {
     "name": "stdout",
     "output_type": "stream",
     "text": [
      "Pyt\n",
      "hon\n",
      "hon\n",
      "hon\n"
     ]
    }
   ],
   "source": [
    "\n",
    "dil  =  'Python' \n",
    "ilk_üç =  dil [ 0 : 3 ] # 3 dahil değil\n",
    "print ( ilk_üç ) #Pyt \n",
    "son_üç =  dil [ 3 : 6 ]\n",
    "print ( son_üç ) \n",
    "# Başka bir yol \n",
    "son_üç  =  dil [ - 3 :]\n",
    "print( son_üç )    \n",
    "son_üç  =  dil [3 :]\n",
    "print( son_üç )   \n",
    "\n",
    "\n"
   ]
  },
  {
   "cell_type": "markdown",
   "metadata": {},
   "source": [
    "Bir Dizeyi Ters Çevirmek\n",
    "\n",
    "Python'da kolayca ters çevirme işlemini gerçekleştiririz. (:: -1) komutu ters hale gelmekte olduğunu örneğimizde görebiliriz.\n",
    "\n"
   ]
  },
  {
   "cell_type": "code",
   "execution_count": 18,
   "metadata": {},
   "outputs": [
    {
     "name": "stdout",
     "output_type": "stream",
     "text": [
      "!aynüD abahreM\n"
     ]
    }
   ],
   "source": [
    "selamlama  =  'Merhaba Dünya!' \n",
    "print ( selamlama [:: - 1 ])\n"
   ]
  },
  {
   "cell_type": "markdown",
   "metadata": {},
   "source": [
    "## Dize Yöntemleri\n",
    "\n",
    "Dizeleri biçimlendirmemize izin veren birçok dize yöntemi vardır. Aşağıdaki örnekte bazı dize yöntemlerine bakalım:\n",
    "\n",
    "\n",
    "•\tcapitalize(): Dizinin ilk karakterini büyük harfe dönüştürür.\n"
   ]
  },
  {
   "cell_type": "code",
   "execution_count": 19,
   "metadata": {},
   "outputs": [
    {
     "name": "stdout",
     "output_type": "stream",
     "text": [
      "Iklim değişiyor\n"
     ]
    }
   ],
   "source": [
    "değiş= 'iklim değişiyor'\n",
    "print(değiş.capitalize())"
   ]
  },
  {
   "cell_type": "markdown",
   "metadata": {},
   "source": [
    "•\tcount():Dizedeki alt dize oluşumlarını döndürür, count(substring, start=.., end=..). Başlangıç, saymak için bir başlangıç indekslemesidir ve bitiş, sayılacak son indekstir."
   ]
  },
  {
   "cell_type": "code",
   "execution_count": 20,
   "metadata": {},
   "outputs": [
    {
     "name": "stdout",
     "output_type": "stream",
     "text": [
      "4\n",
      "1\n",
      "1\n"
     ]
    }
   ],
   "source": [
    "değiş= 'iklim değişiyor'\n",
    "print(değiş.count('i')) \n",
    "print(değiş.count('y', 7, 14)) \n",
    "print(değiş.count('or'))\n"
   ]
  },
  {
   "cell_type": "markdown",
   "metadata": {},
   "source": [
    "•\tendswith():Bir dizenin belirtilen bir sonla bitip bitmediğini kontrol eder"
   ]
  },
  {
   "cell_type": "code",
   "execution_count": 21,
   "metadata": {},
   "outputs": [
    {
     "name": "stdout",
     "output_type": "stream",
     "text": [
      "True\n",
      "False\n"
     ]
    }
   ],
   "source": [
    "değiş= 'iklim değişiyor'\n",
    "print(değiş.endswith('yor'))   \n",
    "print(değiş.endswith('değ'))\n"
   ]
  },
  {
   "cell_type": "markdown",
   "metadata": {},
   "source": [
    "•\texpandtabs(): Sekme karakterini boşluklarla değiştirir, varsayılan sekme boyutu 8'dir. Sekme boyutu bağımsız değişkenini alır."
   ]
  },
  {
   "cell_type": "code",
   "execution_count": 26,
   "metadata": {},
   "outputs": [
    {
     "name": "stdout",
     "output_type": "stream",
     "text": [
      "iklim değişiyor\n",
      "iklim değişiyor\n"
     ]
    }
   ],
   "source": [
    "değiş= 'iklim değişiyor'\n",
    "print(değiş.expandtabs ())   \n",
    "print(değiş.expandtabs (2))   "
   ]
  },
  {
   "cell_type": "markdown",
   "metadata": {},
   "source": [
    "•\tfind(): Bir alt dizenin ilk oluşumunun dizinini döndürür, bulunamazsa -1 döndürür"
   ]
  },
  {
   "cell_type": "code",
   "execution_count": 28,
   "metadata": {},
   "outputs": [
    {
     "name": "stdout",
     "output_type": "stream",
     "text": [
      "8\n",
      "1\n"
     ]
    }
   ],
   "source": [
    "değiş= 'iklim değişiyor'\n",
    "print(değiş.find('ğ'))  \n",
    "print(değiş.find('kl'))\n"
   ]
  },
  {
   "cell_type": "markdown",
   "metadata": {},
   "source": [
    "Yukarıdaki örnekte 'ğ' harfinin sırasını vermektedir."
   ]
  },
  {
   "cell_type": "markdown",
   "metadata": {},
   "source": [
    "•\trfind(): Bir alt dizenin son oluşumunun dizinini döndürür, bulunamazsa -1 döndürür"
   ]
  },
  {
   "cell_type": "code",
   "execution_count": 29,
   "metadata": {},
   "outputs": [
    {
     "name": "stdout",
     "output_type": "stream",
     "text": [
      "12\n",
      "1\n"
     ]
    }
   ],
   "source": [
    "değiş= 'iklim değişiyor'\n",
    "print(değiş.rfind('y'))  \n",
    "print(değiş.rfind('kl'))\n"
   ]
  },
  {
   "cell_type": "markdown",
   "metadata": {},
   "source": [
    "•\tformat(): dizeyi daha güzel bir çıktıya biçimlendirir "
   ]
  },
  {
   "cell_type": "code",
   "execution_count": 30,
   "metadata": {},
   "outputs": [
    {
     "name": "stdout",
     "output_type": "stream",
     "text": [
      "Ben  Büşra Akkaya. Benim yaşım 25. Ben veri analistiyim. Ben  Türkiye yaşıyorum.\n"
     ]
    }
   ],
   "source": [
    "ad = 'Büşra'\n",
    "soy_ad = 'Akkaya'\n",
    "yaş= 25\n",
    "meslek = 'veri analisti'\n",
    "ülke = 'Türkiye'\n",
    "cümle= 'Ben  {} {}. Benim yaşım {}. Ben {}yim. Ben  {} yaşıyorum.'.format(ad, soy_ad, yaş, meslek, ülke)\n",
    "print(cümle)"
   ]
  },
  {
   "cell_type": "markdown",
   "metadata": {},
   "source": [
    "•\tindex(): Bir alt dizinin en düşük dizinini döndürür, ek bağımsız değişkenler başlangıç ve bitiş dizinini belirtir.“şi” başlangısına bakalım"
   ]
  },
  {
   "cell_type": "code",
   "execution_count": 35,
   "metadata": {},
   "outputs": [
    {
     "name": "stdout",
     "output_type": "stream",
     "text": [
      "6\n",
      "6\n"
     ]
    }
   ],
   "source": [
    "değiş= 'iklim değişiyor'\n",
    "ek='de'\n",
    "print(değiş.index(ek)) \n",
    "print(değiş.index(ek,5)) "
   ]
  },
  {
   "cell_type": "markdown",
   "metadata": {},
   "source": [
    "•\tisalnum(): Sayısal karakteri kontrol eder"
   ]
  },
  {
   "cell_type": "code",
   "execution_count": 37,
   "metadata": {},
   "outputs": [
    {
     "name": "stdout",
     "output_type": "stream",
     "text": [
      "True\n",
      "True\n",
      "False\n",
      "False\n"
     ]
    }
   ],
   "source": [
    "meydan   =  'OtuzGünProgram' \n",
    "print( meydan . isalnum ()) \n",
    "\n",
    "meydan =  '30GünProgram' \n",
    "print( meydan . isalnum ()) \n",
    "\n",
    "meydan   =  'otuz gün program' \n",
    "print( meydan . isalnum ()) \n",
    "\n",
    "meydan  =  'otuz gün python 2019' \n",
    "print( meydan . isalnum ())\n"
   ]
  },
  {
   "cell_type": "markdown",
   "metadata": {},
   "source": [
    "•\tisalpha(): Tüm dize öğelerinin alfabe karakterleri olup olmadığını kontrol eder."
   ]
  },
  {
   "cell_type": "code",
   "execution_count": 38,
   "metadata": {},
   "outputs": [
    {
     "name": "stdout",
     "output_type": "stream",
     "text": [
      "True\n",
      "True\n",
      "False\n",
      "False\n"
     ]
    }
   ],
   "source": [
    "meydan   =  'OtuzGünProgram' \n",
    "print( meydan . isalnum ()) \n",
    "\n",
    "meydan =  '30GünProgram' \n",
    "print( meydan . isalnum ()) \n",
    "\n",
    "meydan   =  'otuz gün program' \n",
    "print ( meydan  . isalnum ())\n",
    "\n",
    "meydan  =  'otuz gün python 2019' \n",
    "print( meydan . isalnum ())\n"
   ]
  },
  {
   "cell_type": "markdown",
   "metadata": {},
   "source": [
    "•\tisdecimal(): Bir dizedeki tüm karakterlerin rakam olup olmadığını kontrol eder."
   ]
  },
  {
   "cell_type": "code",
   "execution_count": 39,
   "metadata": {},
   "outputs": [
    {
     "name": "stdout",
     "output_type": "stream",
     "text": [
      "False\n",
      "True\n",
      "False\n",
      "False\n"
     ]
    }
   ],
   "source": [
    "meydan   =  'OtuzGünProgram' \n",
    "print( meydan . isdecimal ())\n",
    "\n",
    "meydan =  '123' \n",
    "print( meydan . isdecimal()) \n",
    "\n",
    "meydan   = '30.2' \n",
    "print ( meydan  . isdecimal ())\n",
    " \n",
    "meydan  = 'otuz gün python 2019' \n",
    "print( meydan . isdecimal()) \n"
   ]
  },
  {
   "cell_type": "markdown",
   "metadata": {},
   "source": [
    "•\tisdigit(): Bir dizedeki tüm karakterlerin sayı olup olmadığını kontrol eder."
   ]
  },
  {
   "cell_type": "code",
   "execution_count": 40,
   "metadata": {},
   "outputs": [
    {
     "name": "stdout",
     "output_type": "stream",
     "text": [
      "False\n",
      "True\n",
      "False\n"
     ]
    }
   ],
   "source": [
    "metin='otuz'\n",
    "print(metin.isdigit())\n",
    "metin='30'\n",
    "print(metin.isdigit())\n",
    "metin='pandas34'\n",
    "print(metin.isdigit())\n"
   ]
  },
  {
   "cell_type": "markdown",
   "metadata": {},
   "source": [
    "•\tisnumeric(): Bir dizgedeki tüm karakterlerin sayılarla mı yoksa harflerle mı ilgili olduğunu kontrol eder. Eğer hem sayı hem harf içeriyorsa ½ işareti olur."
   ]
  },
  {
   "cell_type": "code",
   "execution_count": 42,
   "metadata": {},
   "outputs": [
    {
     "name": "stdout",
     "output_type": "stream",
     "text": [
      "True\n",
      "False\n",
      "False\n"
     ]
    }
   ],
   "source": [
    "numara='10'\n",
    "print(numara.isnumeric())\n",
    "numara='b021' \n",
    "print(numara.isnumeric())\n",
    "numara='17.5'\n",
    "print(numara.isnumeric())\n"
   ]
  },
  {
   "cell_type": "markdown",
   "metadata": {},
   "source": [
    "•\tisidentifier(): Geçerli bir tanımlayıcı olup olmadığını kontrol eder - bir dizenin geçerli bir değişken adı olup olmadığını kontrol eder"
   ]
  },
  {
   "cell_type": "code",
   "execution_count": 43,
   "metadata": {},
   "outputs": [
    {
     "name": "stdout",
     "output_type": "stream",
     "text": [
      "True\n",
      "False\n"
     ]
    }
   ],
   "source": [
    "tanım='üç_gün_sonra'\n",
    "print(tanım.isidentifier())\n",
    "tanım='3GünSonrası'\n",
    "print(tanım.isidentifier())"
   ]
  },
  {
   "cell_type": "markdown",
   "metadata": {},
   "source": [
    "•\tislower(): Dizedeki tüm alfabe karakterlerinin küçük harf olup olmadığını kontrol eder."
   ]
  },
  {
   "cell_type": "code",
   "execution_count": 44,
   "metadata": {},
   "outputs": [
    {
     "name": "stdout",
     "output_type": "stream",
     "text": [
      "True\n",
      "False\n"
     ]
    }
   ],
   "source": [
    "ower='siz gerçek çok zekisiniz'\n",
    "print(ower.islower())\n",
    "ower='Takipte kalın'\n",
    "print(ower.islower())"
   ]
  },
  {
   "cell_type": "markdown",
   "metadata": {},
   "source": [
    "•\tisupper(): Dizedeki tüm alfabe karakterlerinin büyük harf olup olmadığını kontrol eder"
   ]
  },
  {
   "cell_type": "code",
   "execution_count": 45,
   "metadata": {},
   "outputs": [
    {
     "name": "stdout",
     "output_type": "stream",
     "text": [
      "False\n",
      "True\n"
     ]
    }
   ],
   "source": [
    "ower='siz gerçek çok zekisiniz'\n",
    "print(ower.isupper())\n",
    "ower='TAKİPTE KALIN'\n",
    "print(ower.isupper())"
   ]
  },
  {
   "cell_type": "markdown",
   "metadata": {},
   "source": [
    "•\tjoin(): Birleştirilmiş bir dize döndürür"
   ]
  },
  {
   "cell_type": "code",
   "execution_count": 46,
   "metadata": {},
   "outputs": [
    {
     "name": "stdout",
     "output_type": "stream",
     "text": [
      "fransızca almanca rusça\n"
     ]
    }
   ],
   "source": [
    "dil=['fransızca','almanca', 'rusça']\n",
    "sonuç=' ' .join(dil)\n",
    "print(sonuç)\n"
   ]
  },
  {
   "cell_type": "markdown",
   "metadata": {},
   "source": [
    "•\tstrip(): Dizenin başından ve sonundan başlayarak verilen tüm karakterleri kaldırır"
   ]
  },
  {
   "cell_type": "code",
   "execution_count": 47,
   "metadata": {},
   "outputs": [
    {
     "name": "stdout",
     "output_type": "stream",
     "text": [
      "BBugün harika bilgiler öğrendim\n"
     ]
    }
   ],
   "source": [
    "mesaj='BBugün harika bilgiler öğrendim'\n",
    "print(mesaj.strip(' '))"
   ]
  },
  {
   "cell_type": "markdown",
   "metadata": {},
   "source": [
    "•\treplace(): Alt dizeyi belirli bir dizeyle değiştirir."
   ]
  },
  {
   "cell_type": "code",
   "execution_count": 48,
   "metadata": {},
   "outputs": [
    {
     "name": "stdout",
     "output_type": "stream",
     "text": [
      "Ben şeftali isterim\n"
     ]
    }
   ],
   "source": [
    "mesaj='Ben karpuz isterim'\n",
    "print(mesaj.replace('karpuz', 'şeftali'))"
   ]
  },
  {
   "cell_type": "markdown",
   "metadata": {},
   "source": [
    "•\tsplit(): Ayırıcı olarak verilen dizgiyi veya boşluğu kullanarak dizgiyi böler"
   ]
  },
  {
   "cell_type": "code",
   "execution_count": 49,
   "metadata": {},
   "outputs": [
    {
     "name": "stdout",
     "output_type": "stream",
     "text": [
      "['Ben', 'karpuz', 'isterim']\n"
     ]
    }
   ],
   "source": [
    "mesaj='Ben karpuz isterim'\n",
    "print(mesaj.split())"
   ]
  },
  {
   "cell_type": "markdown",
   "metadata": {},
   "source": [
    "•\ttitle(): Başlık büyük / küçük harfli bir dize döndürür"
   ]
  },
  {
   "cell_type": "code",
   "execution_count": 50,
   "metadata": {},
   "outputs": [
    {
     "name": "stdout",
     "output_type": "stream",
     "text": [
      "Ben Karpuz Isterim\n"
     ]
    }
   ],
   "source": [
    "mesaj='ben karpuz isterim'\n",
    "print(mesaj.title())\n"
   ]
  },
  {
   "cell_type": "markdown",
   "metadata": {},
   "source": [
    "•\tswapcase(): Tüm büyük harfleri küçük harfe ve tüm küçük harfleri büyük harfe dönüştürür."
   ]
  },
  {
   "cell_type": "code",
   "execution_count": 51,
   "metadata": {},
   "outputs": [
    {
     "name": "stdout",
     "output_type": "stream",
     "text": [
      "BEN KARPUZ ISTERIM\n"
     ]
    }
   ],
   "source": [
    "mesaj='ben karpuz isterim'\n",
    "print(mesaj.swapcase())"
   ]
  },
  {
   "cell_type": "markdown",
   "metadata": {},
   "source": [
    "•\tstartwith(): Dizenin Belirtilen Dize ile Başlayıp Başlamadığını kontrol eder."
   ]
  },
  {
   "cell_type": "code",
   "execution_count": 53,
   "metadata": {},
   "outputs": [
    {
     "name": "stdout",
     "output_type": "stream",
     "text": [
      "True\n",
      "True\n",
      "True\n",
      "True\n"
     ]
    }
   ],
   "source": [
    "meydan   =  'OtuzGünProgram' \n",
    "print( meydan . startswith ('Otuz')) \n",
    "\n",
    "meydan =  '30GünProgram' \n",
    "print( meydan . startswith ('30')) \n",
    "\n",
    "meydan   =  'otuz gün program' \n",
    "print ( meydan . startswith ('otuz'))\n",
    "meydan  =  'otuz gün python 2019' \n",
    "print( meydan .startswith ('otuz'))\n"
   ]
  }
 ],
 "metadata": {
  "interpreter": {
   "hash": "5bb71e04e3d056b3fd374fe835c740c82b88cf9a64babc7a305394decc4b8aa7"
  },
  "kernelspec": {
   "display_name": "Python 3.9.5 64-bit (system)",
   "language": "python",
   "name": "python3"
  },
  "language_info": {
   "codemirror_mode": {
    "name": "ipython",
    "version": 3
   },
   "file_extension": ".py",
   "mimetype": "text/x-python",
   "name": "python",
   "nbconvert_exporter": "python",
   "pygments_lexer": "ipython3",
   "version": "3.9.5"
  },
  "orig_nbformat": 4
 },
 "nbformat": 4,
 "nbformat_minor": 2
}
