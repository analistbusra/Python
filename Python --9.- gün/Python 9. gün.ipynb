{
 "cells": [
  {
   "cell_type": "markdown",
   "metadata": {},
   "source": [
    "## Şartlar (Conditionals)\n",
    "\n",
    "Python'da ifadeler yukarıdan aşağıya sırayla yürütülür. İşleme mantığı gerektiriyorsa, sıralı yürütme akışı iki şekilde değiştirilebilir:\n",
    "\n",
    "Koşullu yürütme: Belirli bir ifade doğruysa, bir veya daha fazla ifadeden oluşan bir blok yürütülür. Tekrarlı yürütme: Belirli bir ifade doğru olduğu sürece, bir veya daha fazla ifadeden oluşan bir blok tekrarlı olarak yürütülür. Bu bölümde if , else , elif deyimlerini ele alacağız . Önceki bölümlerde öğrendiğimiz karşılaştırma ve mantıksal operatörler burada faydalı olacaktır. Aslında daha önce de bahsettiğimiz basit koşullu matematiksel ifadeli görmüştük anlatımımı if ile bağlantı kurarak devam etmek istiyorum.\n",
    "\n",
    "Python, matematikteki olağan mantıksal koşulları destekler:\n",
    "\n",
    "Eşittir: a == b\n",
    "\n",
    "Eşit Değil: a != b\n",
    "\n",
    "Küçüktür: a < b \n",
    "\n",
    "Küçük veya eşit: a <= b \n",
    "\n",
    "Şundan büyüktür: a > b \n",
    "\n",
    "Büyük veya eşit: a >= b \n",
    "\n",
    "Bu koşullar, en yaygın olarak \"if ifadeleri\" ve döngülerde olmak üzere çeşitli şekillerde kullanılabilir. Aşağıdaki örneğimizi inceleyelim.\n",
    "\n",
    "Örnek: \n"
   ]
  },
  {
   "cell_type": "code",
   "execution_count": 1,
   "metadata": {},
   "outputs": [
    {
     "name": "stdout",
     "output_type": "stream",
     "text": [
      "b , a'dan büyüktür\n"
     ]
    }
   ],
   "source": [
    "a = 33\n",
    "b = 200\n",
    "if b > a:\n",
    "  print(\"b , a'dan büyüktür\")"
   ]
  },
  {
   "cell_type": "markdown",
   "metadata": {},
   "source": [
    "## if Koşul\n",
    "\n",
    "Python ve diğer programlama dillerinde if anahtar sözcüğü, bir koşulun doğru olup olmadığını kontrol etmek ve blok kodunu yürütmek için kullanılır.\n",
    " \n",
    "Örnek:\n"
   ]
  },
  {
   "cell_type": "code",
   "execution_count": 2,
   "metadata": {},
   "outputs": [
    {
     "name": "stdout",
     "output_type": "stream",
     "text": [
      "A pozitif bir sayıdır\n"
     ]
    }
   ],
   "source": [
    "a  =  3 \n",
    "if  a  >  0 :\n",
    "     print ( 'A pozitif bir sayıdır' )\n"
   ]
  },
  {
   "cell_type": "markdown",
   "metadata": {},
   "source": [
    "Örnek:"
   ]
  },
  {
   "cell_type": "code",
   "execution_count": 3,
   "metadata": {},
   "outputs": [
    {
     "name": "stdout",
     "output_type": "stream",
     "text": [
      "B\n"
     ]
    }
   ],
   "source": [
    "a = 2\n",
    "b = 330\n",
    "print(\"A\") if a > b else print(\"B\")"
   ]
  },
  {
   "cell_type": "markdown",
   "metadata": {},
   "source": [
    "## If Else Koşul\n",
    "\n",
    "Koşul doğruysa, ilk blok yürütülür, değilse, koşul çalışır.\n"
   ]
  },
  {
   "cell_type": "code",
   "execution_count": 4,
   "metadata": {},
   "outputs": [
    {
     "name": "stdout",
     "output_type": "stream",
     "text": [
      "A pozitif bir sayıdır\n"
     ]
    }
   ],
   "source": [
    "a  =  3 \n",
    "if  a  <  0 :\n",
    "     print ( 'A negatif bir sayıdır' )\n",
    "else:\n",
    "     print ( 'A pozitif bir sayıdır' )\n"
   ]
  },
  {
   "cell_type": "markdown",
   "metadata": {},
   "source": [
    "Yukarıdaki koşulun yanlış olduğu kanıtlanmıştır, bu nedenle else bloğu yürütülmüştür. Peki ya durumumuz ikiden fazlaysa? _ elif_ kullanabiliriz.\n",
    "\n",
    "If Elif Else\n",
    "\n",
    "Birden çok koşul takip etmemiz gerektiği durumlar sıkça karşımıza gelir elif ile \n"
   ]
  },
  {
   "cell_type": "code",
   "execution_count": 5,
   "metadata": {},
   "outputs": [
    {
     "name": "stdout",
     "output_type": "stream",
     "text": [
      "A sıfırdır\n"
     ]
    }
   ],
   "source": [
    "a  =  0 \n",
    "if  a  >  0 :\n",
    "     print ( 'A pozitif bir sayıdır' )\n",
    "  \n",
    "elif  a  <  0 :\n",
    "     print ( 'A negatif bir sayıdır' )  \n",
    "     \n",
    "     print ( 'A sıfırdır' )\n",
    "    \n"
   ]
  },
  {
   "cell_type": "markdown",
   "metadata": {},
   "source": [
    "### Kısa gösterim\n",
    "\n",
    "Tek bir satır halinde yazmamızda mümkün dilerseniz örneğimizi inceleyelim.\n",
    "a = 3\n"
   ]
  },
  {
   "cell_type": "code",
   "execution_count": 6,
   "metadata": {},
   "outputs": [
    {
     "name": "stdout",
     "output_type": "stream",
     "text": [
      "A pozitiftir\n"
     ]
    }
   ],
   "source": [
    "a = 3\n",
    "print('A pozitiftir') if a > 0 else print('A negatiftir.')"
   ]
  },
  {
   "cell_type": "markdown",
   "metadata": {},
   "source": [
    "### İç İçe Koşullar\n",
    "\n",
    "Koşullar iç içe olabilir\n"
   ]
  },
  {
   "cell_type": "code",
   "execution_count": 7,
   "metadata": {},
   "outputs": [
    {
     "name": "stdout",
     "output_type": "stream",
     "text": [
      "A pozitif ve çift tam sayıdır\n"
     ]
    }
   ],
   "source": [
    "a  = 2 \n",
    "if  a  >  0 :\n",
    "     if  a  %  2  ==  0 :\n",
    "         print ( 'A pozitif ve çift tam sayıdır' )\n",
    "     else :\n",
    "         print ( 'A pozitif bir sayıdır' )\n",
    "\n",
    "elif  a  <=  0 :\n",
    "     print ( 'A sıfırdır' )\n",
    "else :\n",
    "     print ( 'A negatif bir sayıdır' )\n"
   ]
  },
  {
   "cell_type": "markdown",
   "metadata": {},
   "source": [
    "## If Koşul ve Mantıksal Operatörler\n",
    "\n",
    "a>0   ve a çift bir sayı ise tanımında ve işlevini “and“ yazarak gerçekleştirebiliriz.\n",
    "\n",
    "Örnek:\n"
   ]
  },
  {
   "cell_type": "code",
   "execution_count": 8,
   "metadata": {},
   "outputs": [
    {
     "name": "stdout",
     "output_type": "stream",
     "text": [
      "A sıfırdır\n"
     ]
    }
   ],
   "source": [
    "a  =  0 \n",
    "if  a  >  0  and a  %  2  ==  0 :\n",
    "         print ( 'A çift ve pozitif bir tam sayıdır' )\n",
    "elif  a  >  0  and a  %  2  !=   0 :\n",
    "      print ( 'A pozitif bir tam sayıdır' )\n",
    "elif  a  ==  0 :\n",
    "     print ( 'A sıfırdır' )\n",
    "else :\n",
    "     print ( 'A negatiftir' )\n"
   ]
  },
  {
   "cell_type": "markdown",
   "metadata": {},
   "source": [
    "### If ve Veya Mantıksal Operatörler\n",
    "\n",
    "a>0 yada a çift bir sayı ise tanımında yada işlevini “or“ ile sağlıyoruz örneğimizi inceleyelim\n",
    "\n",
    "Örnek:\n"
   ]
  },
  {
   "cell_type": "code",
   "execution_count": 9,
   "metadata": {},
   "outputs": [
    {
     "name": "stdout",
     "output_type": "stream",
     "text": [
      "A çift ve pozitif bir tam sayıdır\n"
     ]
    }
   ],
   "source": [
    "a  =  0 \n",
    "if  a  >  0  or a  %  2  ==  0 :\n",
    "         print ( 'A çift ve pozitif bir tam sayıdır' )\n",
    "elif  a  >  0  or a  %  2  !=   0 :\n",
    "      print ( 'A pozitif bir tam sayıdır' )\n",
    "elif  a  ==  0 :\n",
    "     print ( 'A sıfırdır' )\n",
    "else :\n",
    "     print ( 'A negatiftir' )\n"
   ]
  },
  {
   "cell_type": "markdown",
   "metadata": {},
   "source": [
    "Basit örneklerle mantıksal operatörler if , else, elif kavramlarına değindik daha detaylı örneklerimizi de inceleyebilirsiniz."
   ]
  }
 ],
 "metadata": {
  "interpreter": {
   "hash": "5bb71e04e3d056b3fd374fe835c740c82b88cf9a64babc7a305394decc4b8aa7"
  },
  "kernelspec": {
   "display_name": "Python 3.9.5 64-bit (system)",
   "language": "python",
   "name": "python3"
  },
  "language_info": {
   "codemirror_mode": {
    "name": "ipython",
    "version": 3
   },
   "file_extension": ".py",
   "mimetype": "text/x-python",
   "name": "python",
   "nbconvert_exporter": "python",
   "pygments_lexer": "ipython3",
   "version": "3.9.5"
  },
  "orig_nbformat": 4
 },
 "nbformat": 4,
 "nbformat_minor": 2
}
