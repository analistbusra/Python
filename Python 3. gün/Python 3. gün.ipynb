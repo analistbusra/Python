{
 "cells": [
  {
   "cell_type": "markdown",
   "metadata": {},
   "source": [
    "# OPERATÖRLER\n",
    "PYTHON ATAMA OPERATÖRLERİ\n",
    "\n",
    "Atama operatörleri değişkene değer atamak için kullanılır.Değişkeni bir değeri = gibi yeni bir değer atama işlemleri yapılır.Python atama operatörlerini isterseniz tanıyalım.\n"
   ]
  },
  {
   "cell_type": "markdown",
   "metadata": {},
   "source": [
    "## ARİTMATİK OPERATÖRLER\n",
    "\n",
    "Temel matematik işlemler yaptığımız opreatörlerdir daha önce kısaca bahsetmiştim dilerseniz şimdi ise bir tablo halinde hepsini görelim ve örneklere bakalım.\n"
   ]
  },
  {
   "cell_type": "code",
   "execution_count": 1,
   "metadata": {},
   "outputs": [
    {
     "name": "stdout",
     "output_type": "stream",
     "text": [
      "Toplama:  3\n",
      "Çıkarma:  1\n",
      "Çarpma:  6\n",
      "Bölme:  2.0\n",
      "Bölme:  3.0\n",
      "Bölme:  3.5\n",
      "Bölüm:  3\n",
      "Bölüm:  2\n",
      "Kalan:  1\n",
      "üs:  8\n"
     ]
    }
   ],
   "source": [
    "print('Toplama: ', 1 + 2)        \n",
    "print('Çıkarma: ', 2 - 1)     \n",
    "print('Çarpma: ', 2 * 3)  \n",
    "print ('Bölme: ', 4 / 2)       \n",
    "print('Bölme: ', 6 / 2)               \n",
    "print('Bölme: ', 7 / 2)        \n",
    "print('Bölüm: ', 7 // 2)   \n",
    "print ('Bölüm: ',7 // 3)   \n",
    "print('Kalan: ', 3 % 2)         \n",
    "print('üs: ', 2 ** 3) "
   ]
  },
  {
   "cell_type": "markdown",
   "metadata": {},
   "source": [
    "Dilerseniz şimdi atama operatörü ile bir değer atayalım ve daha sonra aritmatik operatörler ile işlemlerimizi uygulayalım. Küçük bir örnek ile inceleyelim.\n"
   ]
  },
  {
   "cell_type": "code",
   "execution_count": 4,
   "metadata": {},
   "outputs": [
    {
     "name": "stdout",
     "output_type": "stream",
     "text": [
      "a + b =  10\n",
      "a - b =  6\n",
      "a * b =  16\n",
      "a / b =  4.0\n",
      "a % b = 0\n",
      "a // b =  4\n",
      "a ** b = 64\n"
     ]
    }
   ],
   "source": [
    "a=8 # a bir değişkendir ve 8 a'ya atanmıştır.\n",
    "b=2 # b bir değişkendir ve 2 b'ye atanmıştır.\n",
    "toplam  =  a  +  b \n",
    "fark  =  a  -  b \n",
    "çarpım  =  a  *  b \n",
    "bölme  =  a  /  b \n",
    "kalan  =  a  %  b \n",
    "bölüm  =  a  //  b \n",
    "üstel  =  a **  b \n",
    "print ( 'a + b = ' , toplam )\n",
    "print ( 'a - b = ' , fark )\n",
    "print ( 'a * b = ' , çarpım )\n",
    "print ( 'a / b = ' , bölme )\n",
    "print ( 'a % b =' , kalan )\n",
    "print ( 'a // b = ' , bölüm  )\n",
    "print ( 'a ** b =' , üstel )\n"
   ]
  },
  {
   "cell_type": "markdown",
   "metadata": {},
   "source": [
    "Yoğunluk Kütle/Hacim olduğunu ortaokuldan beri ezbere bilmekteyiz basit bir hesapla sizlerle bir örnek yapalım.\n",
    "\n",
    "Örnek:"
   ]
  },
  {
   "cell_type": "code",
   "execution_count": 9,
   "metadata": {},
   "outputs": [
    {
     "name": "stdout",
     "output_type": "stream",
     "text": [
      "(9, 81, 9, 81, 9, 81, 9, 81, 9, 81, 9, 81, 9, 81, 9, 81, 9, 81, 9, 81, 9, 81, 9, 81, 9, 81, 9, 81, 9, 81, 9, 81, 9, 81, 9, 81, 9, 81, 9, 81, 9, 81, 9, 81, 9, 81, 9, 81, 9, 81, 9, 81, 9, 81, 9, 81, 9, 81, 9, 81, 9, 81, 9, 81, 9, 81, 9, 81, 9, 81, 9, 81, 9, 81, 9, 81, 9, 81, 9, 81, 9, 81, 9, 81, 9, 81, 9, 81, 9, 81, 9, 81, 9, 81, 9, 81, 9, 81, 9, 81, 9, 81, 9, 81, 9, 81, 9, 81, 9, 81, 9, 81, 9, 81, 9, 81, 9, 81, 9, 81, 9, 81, 9, 81, 9, 81, 9, 81, 9, 81, 9, 81, 9, 81, 9, 81, 9, 81, 9, 81, 9, 81, 9, 81, 9, 81, 9, 81, 9, 81) N\n"
     ]
    }
   ],
   "source": [
    "kutle=75\n",
    "yerçekimi  =  9,81 \n",
    "ağırlık  =  kutle  *  yerçekimi \n",
    "print(ağırlık,'N' )    # Ağırlığa birim ekleme \n",
    "\n"
   ]
  },
  {
   "cell_type": "markdown",
   "metadata": {},
   "source": [
    "PYTHON KARŞILAŞTIRMA OPERATÖRLERİ\n",
    "\n",
    "İki değeri karşılaştırmada kullanılır eşit mi? değil mi? incelemek istersek karşılaştırma operatörleri kullanılır.Bazı karşılaştırma operatörlerini dilerseniz inceleyelim.\n"
   ]
  },
  {
   "cell_type": "markdown",
   "metadata": {},
   "source": [
    "* == :İki değişkenin birbirine eşit olduğu anlamına gelir.(x==y)\n",
    "\n",
    "\n",
    "* != :İki değişken birbirine eşit değildir.(\tx!=y)\n",
    "\n",
    "* <\t :İki değişkenden biri diğerinden Küçüktür. \t(x<y)\n",
    "\n",
    "* <= :İki değişkenden biri diğerinden küçük eşittir.(x<=y)\n"
   ]
  },
  {
   "cell_type": "markdown",
   "metadata": {},
   "source": [
    "•\tBeş büyüktür dörtten önermesini program ‘True’ olduğu çıktısını verir."
   ]
  },
  {
   "cell_type": "code",
   "execution_count": 10,
   "metadata": {},
   "outputs": [
    {
     "name": "stdout",
     "output_type": "stream",
     "text": [
      "True\n"
     ]
    }
   ],
   "source": [
    "print(5>4)"
   ]
  },
  {
   "cell_type": "markdown",
   "metadata": {},
   "source": [
    "•\tBeş sekize eşit midir? önermesine ‘False’ olduğu çıktısını veriri "
   ]
  },
  {
   "cell_type": "code",
   "execution_count": 12,
   "metadata": {},
   "outputs": [
    {
     "name": "stdout",
     "output_type": "stream",
     "text": [
      "False\n"
     ]
    }
   ],
   "source": [
    "print(5==8)\n",
    "\n"
   ]
  },
  {
   "cell_type": "markdown",
   "metadata": {},
   "source": [
    "•\tBir metin verisi yazıp içerdiği harflerin eşit olup olmadığını bize gösteren karşılaştırma operatörleri yardımıyla bir kod yazalım. ‘Dinazor’ kelimesi ile ‘sarımsak’ kelimesinin içindeki harflerin sayısı birbirine eşit olmadığını çıktının ‘False’ olması ile anlıyoruz."
   ]
  },
  {
   "cell_type": "code",
   "execution_count": 13,
   "metadata": {},
   "outputs": [
    {
     "name": "stdout",
     "output_type": "stream",
     "text": [
      "False\n"
     ]
    }
   ],
   "source": [
    "print(len('dinazor')==len('sarımsak'))"
   ]
  },
  {
   "cell_type": "markdown",
   "metadata": {},
   "source": [
    "•\tKarşılaştırma yaparken ikiside aynı mı kontrol edelim. Çıktıda görürseniz '1 is 1 True' yani iki değişkendir aynı olduğunu onaylamakta."
   ]
  },
  {
   "cell_type": "code",
   "execution_count": 15,
   "metadata": {},
   "outputs": [
    {
     "name": "stdout",
     "output_type": "stream",
     "text": [
      "1 is1 True\n"
     ]
    },
    {
     "name": "stderr",
     "output_type": "stream",
     "text": [
      "<>:1: SyntaxWarning: \"is\" with a literal. Did you mean \"==\"?\n",
      "<>:1: SyntaxWarning: \"is\" with a literal. Did you mean \"==\"?\n",
      "C:\\Users\\BRA~1\\AppData\\Local\\Temp/ipykernel_13236/2053527768.py:1: SyntaxWarning: \"is\" with a literal. Did you mean \"==\"?\n",
      "  print ( '1 is1' , 1  is  1 )\n"
     ]
    }
   ],
   "source": [
    "print ( '1 is1' , 1  is  1 )  "
   ]
  },
  {
   "cell_type": "markdown",
   "metadata": {},
   "source": [
    "## MANTIKSAL OPERATÖR\n",
    "\n",
    "Python programlama dilinde ve,veya ,değil ifadeleri ingilizce halleri and,or,not olarak üç operatöre ayrılır.Bu üç operatörü inceleyelim.\n",
    "\n",
    "\n",
    "and\t:Her iki ifade de doğruysa True Döndürür.\tx<5 and x<10\n",
    "\n",
    "or:\tEn az bir ifade doğruysa True döndürür.\tX<5 or x<4\n",
    "\n",
    "not\t:Sonuç doğruysa False döndürür. not(x<5 and x<10)\n",
    "\n"
   ]
  },
  {
   "cell_type": "markdown",
   "metadata": {},
   "source": [
    "•\tBirinci önermede her iki ifade de doğrudur. İkinci ifade yanlış çünkü her iki operatörde doğru değildir. “and” operatöründe “True” gelmesi için her iki ifadenin de doğru olması gerektiğini unutmayalım aksi halde “False” çıktısını alırız."
   ]
  },
  {
   "cell_type": "code",
   "execution_count": 16,
   "metadata": {},
   "outputs": [
    {
     "name": "stdout",
     "output_type": "stream",
     "text": [
      "True\n",
      "False\n",
      "False\n"
     ]
    }
   ],
   "source": [
    "print( 3  >  2  and  4  >  3 ) \n",
    "print( 3  >  2  and 4  <  3 ) \n",
    "print( 3  <  2  and  4  <  3 ) \n"
   ]
  },
  {
   "cell_type": "markdown",
   "metadata": {},
   "source": [
    "Bugün operatörlerden bahsetmeye çalıştık en kısa zamanda daha fazla örnekle karşınızda olacağım."
   ]
  }
 ],
 "metadata": {
  "interpreter": {
   "hash": "5bb71e04e3d056b3fd374fe835c740c82b88cf9a64babc7a305394decc4b8aa7"
  },
  "kernelspec": {
   "display_name": "Python 3.9.5 64-bit (system)",
   "language": "python",
   "name": "python3"
  },
  "language_info": {
   "codemirror_mode": {
    "name": "ipython",
    "version": 3
   },
   "file_extension": ".py",
   "mimetype": "text/x-python",
   "name": "python",
   "nbconvert_exporter": "python",
   "pygments_lexer": "ipython3",
   "version": "3.9.5"
  },
  "orig_nbformat": 4
 },
 "nbformat": 4,
 "nbformat_minor": 2
}
