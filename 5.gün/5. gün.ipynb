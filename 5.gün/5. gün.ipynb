{
 "cells": [
  {
   "cell_type": "code",
   "execution_count": 1,
   "metadata": {},
   "outputs": [
    {
     "name": "stdout",
     "output_type": "stream",
     "text": [
      "şehirler: ['İstanbul', 'Adana  ', 'Samsun', 'İzmir', 'Ordu']\n",
      "alınacaklar: ['süt', 'yağ', 'un', 'yumurta', 'peynir', 'sucuk']\n",
      "gezilecek yerler: ['Sultanahmet', 'Ayasofya', 'Kız Kulesi', 'Galata Kulesi']\n"
     ]
    }
   ],
   "source": [
    "şehirler  =['İstanbul', 'Adana  ' , 'Samsun','İzmir','Ordu']\n",
    "market_listesi=['süt','yağ','un','yumurta','peynir','sucuk'] \n",
    "gezilecek_yerler=['Sultanahmet','Ayasofya','Kız Kulesi','Galata Kulesi']\n",
    "print('şehirler:',şehirler)\n",
    "print('alınacaklar:',market_listesi)\n",
    "print('gezilecek yerler:',gezilecek_yerler)\n"
   ]
  },
  {
   "cell_type": "code",
   "execution_count": 7,
   "metadata": {},
   "outputs": [
    {
     "name": "stdout",
     "output_type": "stream",
     "text": [
      "Python\n",
      "c++\n",
      "SQL\n"
     ]
    }
   ],
   "source": [
    "\n",
    "dil  =  ['Python','c++','R','SQL']\n",
    "ılk_program= dil [ -4 ]\n",
    "print (ılk_program) # P \n",
    "ikinci_program =  dil [ -3 ]\n",
    "print ( ikinci_program) # \n",
    "üçüncü_program=dil[-1]\n",
    "print(üçüncü_program)\n"
   ]
  },
  {
   "cell_type": "code",
   "execution_count": 6,
   "metadata": {},
   "outputs": [
    {
     "name": "stdout",
     "output_type": "stream",
     "text": [
      "Python\n",
      "c++\n",
      "R\n",
      "SQL\n"
     ]
    }
   ],
   "source": [
    "\n",
    "dil  =  ['Python','c++','R','SQL']\n",
    "ılk_program= dil [ 0 ]\n",
    "print (ılk_program) # P \n",
    "ikinci_program =  dil [ 1 ]\n",
    "print ( ikinci_program) # \n",
    "üçüncü_program=dil[2]\n",
    "print(üçüncü_program)\n",
    "son_hal =  len ( dil ) -  1 \n",
    "son_hal =  dil [ son_hal ]\n",
    "print ( son_hal ) # n"
   ]
  },
  {
   "cell_type": "code",
   "execution_count": 4,
   "metadata": {},
   "outputs": [
    {
     "name": "stdout",
     "output_type": "stream",
     "text": [
      "madde1\n",
      "madde2\n",
      "madde3\n"
     ]
    }
   ],
   "source": [
    "lst  = [ 'madde1' , 'madde2' , 'madde3'  ]\n",
    "ılk_program, ikinci_program,üçüncü_program   =  lst \n",
    "print( ılk_program)    # madde1 \n",
    "print( ikinci_program )   #madde2\n",
    "print ( üçüncü_program)   # madde3\n",
    "\n"
   ]
  },
  {
   "cell_type": "code",
   "execution_count": 6,
   "metadata": {},
   "outputs": [
    {
     "name": "stdout",
     "output_type": "stream",
     "text": [
      "Türkiye\n",
      "Fransa\n",
      "Belçika\n",
      "Suriye\n",
      "['Danimarka', 'Finlandiya', 'Norveç', 'Almanya']\n",
      "Estonya\n"
     ]
    }
   ],
   "source": [
    "ülke = ['Türkiye', 'Fransa','Belçika','Suriye','Danimarka','Finlandiya','Norveç','Almanya','Estonya']\n",
    "tr, fr, bç, su, *scandic, es = ülke\n",
    "print(tr)\n",
    "print(fr)\n",
    "print(bç)\n",
    "print(su)\n",
    "print(scandic)\n",
    "print(es)"
   ]
  },
  {
   "cell_type": "code",
   "execution_count": 17,
   "metadata": {},
   "outputs": [
    {
     "name": "stdout",
     "output_type": "stream",
     "text": [
      "['banana', 'orange', 'mango', 'lemon']\n",
      "['orange', 'mango']\n",
      "['orange', 'mango', 'lemon']\n"
     ]
    }
   ],
   "source": [
    "fruits = ['banana', 'orange', 'mango', 'lemon']\n",
    "all_fruits = fruits[-4:]\n",
    "print(all_fruits) # ['banana', 'orange', 'mango', 'lemon']\n",
    "orange_and_mango = fruits[-3:-1] \n",
    "print(orange_and_mango)#['orange', 'mango']\n",
    "orange_mango_lemon = fruits[-3:]#-3'den \n",
    "print(orange_mango_lemon)#['orange', 'mango', 'lemon']"
   ]
  },
  {
   "cell_type": "code",
   "execution_count": 20,
   "metadata": {},
   "outputs": [
    {
     "name": "stdout",
     "output_type": "stream",
     "text": [
      "['avokado', 'portakal', 'mango', 'limon']\n",
      "['avokado', 'elma', 'mango', 'limon']\n",
      "['avokado', 'elma', 'mango', 'kireç']\n"
     ]
    }
   ],
   "source": [
    "meyveler  = [ 'muz' , 'portakal' , 'mango' , 'limon' ]\n",
    "meyveler [ 0 ] =  'avokado' \n",
    "print ( meyveler )        # ['avokado', 'portakal', 'mango', 'limon']\n",
    "meyveler [ 1 ] =  'elma' \n",
    "print( meyveler )        # ['avokado', 'elma', 'mango', 'limon']\n",
    "son_değer =len( meyveler ) -  1 \n",
    "meyveler [ son_değer] = 'kireç' \n",
    "print( meyveler )         # ['avokado', 'elma', 'mango', 'kireç']"
   ]
  },
  {
   "cell_type": "code",
   "execution_count": 26,
   "metadata": {},
   "outputs": [
    {
     "name": "stdout",
     "output_type": "stream",
     "text": [
      "True\n",
      "True\n"
     ]
    }
   ],
   "source": [
    "meyve = ['muz', 'portakal','mango']\n",
    "var_mı = 'muz' in meyve\n",
    "print(var_mı)  # True\n",
    "var_mı = 'mango' in meyve\n",
    "print(var_mı)  # True"
   ]
  },
  {
   "cell_type": "code",
   "execution_count": 31,
   "metadata": {},
   "outputs": [
    {
     "name": "stdout",
     "output_type": "stream",
     "text": [
      "['muz', 'portakal', 'karpuz', 'mango']\n",
      "['muz', 'portakal', 'karpuz', 'kavun', 'mango']\n"
     ]
    }
   ],
   "source": [
    "meyve = ['muz', 'portakal','mango']\n",
    "meyve.insert(2, 'karpuz')\n",
    "print(meyve)#['muz', 'portakal', 'karpuz', 'mango']\n",
    "meyve.insert(3,'kavun')\n",
    "print(meyve)#['muz', 'portakal', 'karpuz', 'kavun', 'mango']"
   ]
  },
  {
   "cell_type": "code",
   "execution_count": 33,
   "metadata": {},
   "outputs": [
    {
     "name": "stdout",
     "output_type": "stream",
     "text": [
      "['portakal', 'mango']\n"
     ]
    }
   ],
   "source": [
    "meyve = ['muz', 'portakal','mango']\n",
    "meyve.remove('muz')\n",
    "print(meyve)#['portakal', 'mango']"
   ]
  },
  {
   "cell_type": "code",
   "execution_count": 35,
   "metadata": {},
   "outputs": [
    {
     "name": "stdout",
     "output_type": "stream",
     "text": [
      "['muz', 'karpuz', 'kavun', 'mango']\n"
     ]
    }
   ],
   "source": [
    "meyve=['muz', 'portakal', 'karpuz', 'kavun', 'mango']\n",
    "meyve.pop(1)\n",
    "print(meyve)#['muz', 'karpuz', 'kavun', 'mango']"
   ]
  },
  {
   "cell_type": "code",
   "execution_count": 37,
   "metadata": {},
   "outputs": [
    {
     "name": "stdout",
     "output_type": "stream",
     "text": [
      "['portakal', 'karpuz', 'kavun', 'mango']\n",
      "['portakal', 'karpuz', 'mango']\n"
     ]
    }
   ],
   "source": [
    "meyve=['muz', 'portakal', 'karpuz', 'kavun', 'mango']\n",
    "del meyve[0]\n",
    "print(meyve)#['portakal', 'karpuz', 'kavun', 'mango']\n",
    "del meyve[2]\n",
    "print(meyve)['portakal', 'karpuz', 'mango'] muz silindikten sonra \n",
    "portakal 0 karpuz 1 kavun 2 olur ve kavun silinir."
   ]
  },
  {
   "cell_type": "code",
   "execution_count": 38,
   "metadata": {},
   "outputs": [
    {
     "name": "stdout",
     "output_type": "stream",
     "text": [
      "[]\n"
     ]
    }
   ],
   "source": [
    "meyve=['muz', 'portakal', 'karpuz', 'kavun', 'mango']\n",
    "meyve.clear()\n",
    "print(meyve)#[]"
   ]
  },
  {
   "cell_type": "code",
   "execution_count": 41,
   "metadata": {},
   "outputs": [
    {
     "name": "stdout",
     "output_type": "stream",
     "text": [
      "['muz', 'portakal', 'karpuz', 'kavun', 'mango']\n",
      "[]\n"
     ]
    }
   ],
   "source": [
    "sebze=['muz', 'portakal', 'karpuz', 'kavun', 'mango']\n",
    "meyve=sebze.copy()\n",
    "print(meyve)#['muz', 'portakal', 'karpuz', 'kavun', 'mango']\n",
    "sebze.clear()\n",
    "print(sebze)#[]"
   ]
  },
  {
   "cell_type": "code",
   "execution_count": 45,
   "metadata": {},
   "outputs": [
    {
     "name": "stdout",
     "output_type": "stream",
     "text": [
      "4\n"
     ]
    }
   ],
   "source": [
    "yaş=[24,25,17,29,28,25,24,27,26,28,24,25,26,23,24,25]\n",
    "print(yaş.count(25))#4"
   ]
  },
  {
   "cell_type": "code",
   "execution_count": 52,
   "metadata": {},
   "outputs": [
    {
     "name": "stdout",
     "output_type": "stream",
     "text": [
      "['karpuz', 'kavun', 'mango', 'muz', 'portakal']\n"
     ]
    }
   ],
   "source": [
    "meyve=['muz', 'portakal', 'karpuz', 'kavun', 'mango']\n",
    "print(sorted(meyve))#['karpuz', 'kavun', 'mango', 'muz', 'portakal']"
   ]
  }
 ],
 "metadata": {
  "interpreter": {
   "hash": "5bb71e04e3d056b3fd374fe835c740c82b88cf9a64babc7a305394decc4b8aa7"
  },
  "kernelspec": {
   "display_name": "Python 3.9.5 64-bit (system)",
   "language": "python",
   "name": "python3"
  },
  "language_info": {
   "codemirror_mode": {
    "name": "ipython",
    "version": 3
   },
   "file_extension": ".py",
   "mimetype": "text/x-python",
   "name": "python",
   "nbconvert_exporter": "python",
   "pygments_lexer": "ipython3",
   "version": "3.9.5"
  },
  "orig_nbformat": 4
 },
 "nbformat": 4,
 "nbformat_minor": 2
}
