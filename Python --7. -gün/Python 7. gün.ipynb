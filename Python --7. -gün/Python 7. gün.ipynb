{
 "cells": [
  {
   "cell_type": "markdown",
   "metadata": {},
   "source": [
    "# SETLER(SETS)\n",
    "\n",
    "Set belirli bir diziden oluşmaksızın her tip değişkeni tanımlayabileceğimiz bir örneklem olarak düşünülebilir. Python'da set, birbirine benzemeyen ögeleri saklamak için kullanılır ve bir küme olarak düşünülebilir kümeler arasında birleşim, kesişim, fark, alt küme bulmak mümkündür.\n",
    "\n",
    "### Set Oluşturma\n",
    "\n",
    "Bir küme olduğunu düşünelim demiştik oluşturmak için küme parantezleri, {} veya yerleşik set() işlevi kullanırız. Aşağıda örnek de iki şekildeki tanımı görebiliriz.\n"
   ]
  },
  {
   "cell_type": "code",
   "execution_count": 4,
   "metadata": {},
   "outputs": [],
   "source": [
    "st=set()\n",
    "st={}"
   ]
  },
  {
   "cell_type": "markdown",
   "metadata": {},
   "source": [
    "Örnek bir set oluşturalım."
   ]
  },
  {
   "cell_type": "code",
   "execution_count": 5,
   "metadata": {},
   "outputs": [],
   "source": [
    "st={'istanbul','eskişehir','bursa','ankara'}"
   ]
  },
  {
   "cell_type": "markdown",
   "metadata": {},
   "source": [
    "### Setin Uzunluğunu Alma\n",
    "\n",
    "Bir dizi uzunluğu bulmak istiyorsak len() komutu kullanırız.\n",
    "\n",
    "Örnek:1\n"
   ]
  },
  {
   "cell_type": "code",
   "execution_count": 6,
   "metadata": {},
   "outputs": [
    {
     "data": {
      "text/plain": [
       "4"
      ]
     },
     "execution_count": 6,
     "metadata": {},
     "output_type": "execute_result"
    }
   ],
   "source": [
    "st={'istanbul','eskişehir','bursa','ankara'}\n",
    "\n",
    "len(st)\n"
   ]
  },
  {
   "cell_type": "markdown",
   "metadata": {},
   "source": [
    "Örnek:2"
   ]
  },
  {
   "cell_type": "code",
   "execution_count": 9,
   "metadata": {},
   "outputs": [
    {
     "name": "stdout",
     "output_type": "stream",
     "text": [
      "5\n"
     ]
    }
   ],
   "source": [
    "meyve={'ananas','karpuz','muz','çilek','elma'}\n",
    "uzunluk=len(meyve)\n",
    "print(uzunluk)  "
   ]
  },
  {
   "cell_type": "markdown",
   "metadata": {},
   "source": [
    "### Bir Öğeyi Var Olup/Olmadığı Kontrol Etme\n",
    "\n",
    "“memebership operatör “olarak adlandırılan bu komutta içerisinde olup olmadığını merak ettiğim ögeyi bulmak için yazdığım modülü inceleyelim.\n"
   ]
  },
  {
   "cell_type": "markdown",
   "metadata": {},
   "source": [
    "Örnek:1"
   ]
  },
  {
   "cell_type": "code",
   "execution_count": 8,
   "metadata": {},
   "outputs": [
    {
     "name": "stdout",
     "output_type": "stream",
     "text": [
      "giitiği yerler arasında istanbul var mı? True\n"
     ]
    }
   ],
   "source": [
    "st={'istanbul','eskişehir','bursa','ankara'}\n",
    "print('giitiği yerler arasında istanbul var mı?','istanbul' in st)"
   ]
  },
  {
   "cell_type": "markdown",
   "metadata": {},
   "source": [
    "Örnek:2"
   ]
  },
  {
   "cell_type": "code",
   "execution_count": 11,
   "metadata": {},
   "outputs": [
    {
     "name": "stdout",
     "output_type": "stream",
     "text": [
      "True\n"
     ]
    }
   ],
   "source": [
    "meyve={'ananas','karpuz','muz','çilek','elma'}\n",
    "print('çilek'in meyve)"
   ]
  },
  {
   "cell_type": "markdown",
   "metadata": {},
   "source": [
    "### Bir Sete Öğe Ekleme\n",
    "\n",
    "Bir set oluşturulduktan sonra herhangi bir öğeyi değiştiremeyiz fakat ek öğeler de ekleyebiliriz.Aşağıdaki örnek de add() komutu kullanılarak yeni öge eklenmesini görmekteyiz.\n",
    "\n",
    "Örnek: \n"
   ]
  },
  {
   "cell_type": "code",
   "execution_count": 12,
   "metadata": {},
   "outputs": [
    {
     "name": "stdout",
     "output_type": "stream",
     "text": [
      "{'çilek', 'karpuz', 'elma', 'kivi', 'ananas', 'muz'}\n"
     ]
    }
   ],
   "source": [
    "meyve={'ananas','karpuz','muz','çilek','elma'}\n",
    "meyve.add('kivi')\n",
    "print(meyve)"
   ]
  },
  {
   "cell_type": "markdown",
   "metadata": {},
   "source": [
    "•\tBirden fazla öge ekleme işlemini aşağıdaki örnekte update() komutu ile yapıldığını görmekteyiz."
   ]
  },
  {
   "cell_type": "markdown",
   "metadata": {},
   "source": [
    "Örnek:"
   ]
  },
  {
   "cell_type": "code",
   "execution_count": 13,
   "metadata": {},
   "outputs": [
    {
     "name": "stdout",
     "output_type": "stream",
     "text": [
      "{'çilek', 'karpuz', 'elma', 'kivi', 'ananas', 'nar', 'erik', 'muz'}\n"
     ]
    }
   ],
   "source": [
    "meyve={'ananas','karpuz','muz','çilek','elma'}\n",
    "meyve.update(['kivi','nar','erik'])\n",
    "print(meyve)"
   ]
  },
  {
   "cell_type": "markdown",
   "metadata": {},
   "source": [
    "### Bir Setten Öğe Çıkarma\n",
    "\n",
    "Remove() komutunu kullanarak bir kümeden bir öğeyi kaldırabiliriz . Bazen bulunmayan bir elemanı çıkarabilirim dolayısıyla olup olmadığını önce kontrol etmem gerekir. Ancak, discard() yöntemi herhangi bir kontrol gerek duymadan istenen öğeyi çıkartır.\n",
    "\n"
   ]
  },
  {
   "cell_type": "markdown",
   "metadata": {},
   "source": [
    "Örnek:"
   ]
  },
  {
   "cell_type": "code",
   "execution_count": 14,
   "metadata": {},
   "outputs": [
    {
     "name": "stdout",
     "output_type": "stream",
     "text": [
      "{'çilek', 'karpuz', 'elma', 'muz'}\n"
     ]
    }
   ],
   "source": [
    "meyve={'ananas','karpuz','muz','çilek','elma'}\n",
    "meyve.remove('ananas')\n",
    "print(meyve)"
   ]
  },
  {
   "cell_type": "markdown",
   "metadata": {},
   "source": [
    "•\tpop() komutu kullanarak rasgele bir ögeyi kaldırır kaldırılan ögenin ne olduğu ile ilgilenirsek  aşağıdaki örnekteki gibi bulabiliriz."
   ]
  },
  {
   "cell_type": "markdown",
   "metadata": {},
   "source": [
    "Örnek:"
   ]
  },
  {
   "cell_type": "code",
   "execution_count": 15,
   "metadata": {},
   "outputs": [
    {
     "name": "stdout",
     "output_type": "stream",
     "text": [
      "çilek\n"
     ]
    }
   ],
   "source": [
    "meyve={'ananas','karpuz','muz','çilek','elma'}\n",
    "kayıp_meyve=meyve.pop()\n",
    "print(kayıp_meyve)"
   ]
  },
  {
   "cell_type": "markdown",
   "metadata": {},
   "source": [
    "### Bir Seti Silme\n",
    "\n",
    "Kümenin kendisini silmek istiyorsak del operatörünü kullanırız.\n",
    "\n",
    "Örnek:\n"
   ]
  },
  {
   "cell_type": "code",
   "execution_count": 16,
   "metadata": {},
   "outputs": [
    {
     "ename": "NameError",
     "evalue": "name 'meyve' is not defined",
     "output_type": "error",
     "traceback": [
      "\u001b[1;31m---------------------------------------------------------------------------\u001b[0m",
      "\u001b[1;31mNameError\u001b[0m                                 Traceback (most recent call last)",
      "\u001b[1;32mC:\\Users\\BRA~1\\AppData\\Local\\Temp/ipykernel_2128/1829818787.py\u001b[0m in \u001b[0;36m<module>\u001b[1;34m\u001b[0m\n\u001b[0;32m      1\u001b[0m \u001b[0mmeyve\u001b[0m\u001b[1;33m=\u001b[0m\u001b[1;33m{\u001b[0m\u001b[1;34m'ananas'\u001b[0m\u001b[1;33m,\u001b[0m\u001b[1;34m'karpuz'\u001b[0m\u001b[1;33m,\u001b[0m\u001b[1;34m'muz'\u001b[0m\u001b[1;33m,\u001b[0m\u001b[1;34m'çilek'\u001b[0m\u001b[1;33m,\u001b[0m\u001b[1;34m'elma'\u001b[0m\u001b[1;33m}\u001b[0m\u001b[1;33m\u001b[0m\u001b[1;33m\u001b[0m\u001b[0m\n\u001b[0;32m      2\u001b[0m \u001b[1;32mdel\u001b[0m \u001b[0mmeyve\u001b[0m\u001b[1;33m\u001b[0m\u001b[1;33m\u001b[0m\u001b[0m\n\u001b[1;32m----> 3\u001b[1;33m \u001b[0mprint\u001b[0m\u001b[1;33m(\u001b[0m\u001b[0mmeyve\u001b[0m\u001b[1;33m)\u001b[0m\u001b[1;33m\u001b[0m\u001b[1;33m\u001b[0m\u001b[0m\n\u001b[0m",
      "\u001b[1;31mNameError\u001b[0m: name 'meyve' is not defined"
     ]
    }
   ],
   "source": [
    "meyve={'ananas','karpuz','muz','çilek','elma'}\n",
    "del meyve\n",
    "print(meyve) # meyve artık silindi"
   ]
  },
  {
   "cell_type": "markdown",
   "metadata": {},
   "source": [
    "## Listeyi Sete Dönüştürme\n",
    "\n",
    "Bir küme oluşturmak için küme parantezleri, {} veya yerleşik set() işlevi kullanırız.\n",
    "\n",
    "Örnek:1\n"
   ]
  },
  {
   "cell_type": "code",
   "execution_count": 18,
   "metadata": {},
   "outputs": [
    {
     "data": {
      "text/plain": [
       "set()"
      ]
     },
     "execution_count": 18,
     "metadata": {},
     "output_type": "execute_result"
    }
   ],
   "source": [
    "st={}\n",
    "\n",
    "st=set()\n",
    "st"
   ]
  },
  {
   "cell_type": "markdown",
   "metadata": {},
   "source": [
    "Örnek:2"
   ]
  },
  {
   "cell_type": "code",
   "execution_count": 19,
   "metadata": {},
   "outputs": [
    {
     "name": "stdout",
     "output_type": "stream",
     "text": [
      "{'karpuz', 'elma', 'ananas', 'çilek', 'muz'}\n"
     ]
    }
   ],
   "source": [
    "meyve=('ananas','karpuz','muz','çilek','elma')\n",
    "meyve=set(meyve)\n",
    "print((meyve))  "
   ]
  },
  {
   "cell_type": "markdown",
   "metadata": {},
   "source": [
    "### Birleştirme Setleri\n",
    "\n",
    "union() veya update() yöntemini kullanarak iki kümeyi birleştirebiliriz .\n",
    "\n",
    "•\tunion() komutunu kullandığımız bu örneği inceleyeim.\n",
    "\n",
    "Örnek:\n"
   ]
  },
  {
   "cell_type": "code",
   "execution_count": 20,
   "metadata": {},
   "outputs": [
    {
     "data": {
      "text/plain": [
       "{'ananas', 'elma', 'fındık', 'fıstık', 'karpuz', 'leblebi', 'muz', 'çilek'}"
      ]
     },
     "execution_count": 20,
     "metadata": {},
     "output_type": "execute_result"
    }
   ],
   "source": [
    "meyve={'ananas','karpuz','muz','çilek','elma'}\n",
    "kuru_yemiş={'fındık','fıstık','leblebi'}\n",
    "meyve.union(kuru_yemiş)"
   ]
  },
  {
   "cell_type": "markdown",
   "metadata": {},
   "source": [
    "•\tupdate() komutu belirli kümeyi belirli kümeye sırasıyla ekler yani önce hangisini yazarsak onun elemanları ilk sıralarda bulunur. Ben  ‘kuru_yemiş’ değişkenini önce  ‘meyve’ değişkenini sonra eklemek istedim aşağıdaki şekilde komutu yazdım.\n",
    "\n",
    "Örnek:\n"
   ]
  },
  {
   "cell_type": "code",
   "execution_count": 21,
   "metadata": {},
   "outputs": [
    {
     "name": "stdout",
     "output_type": "stream",
     "text": [
      "{'karpuz', 'elma', 'ananas', 'leblebi', 'fındık', 'fıstık', 'çilek', 'muz'}\n"
     ]
    }
   ],
   "source": [
    "meyve={'ananas','karpuz','muz','çilek','elma'}\n",
    "kuru_yemiş={'fındık','fıstık','leblebi'}\n",
    "kuru_yemiş.update(meyve)\n",
    "print(kuru_yemiş)\n"
   ]
  },
  {
   "cell_type": "markdown",
   "metadata": {},
   "source": [
    "### Kesişim Ögelerini Bulma\n",
    "\n",
    "Her iki kümede de bulunan bir dizi öğe döndürür intersection() komutu kullanılır. Örneğe bakalım\n",
    "\n",
    "Örnek:\n"
   ]
  },
  {
   "cell_type": "code",
   "execution_count": 22,
   "metadata": {},
   "outputs": [
    {
     "data": {
      "text/plain": [
       "{'elma'}"
      ]
     },
     "execution_count": 22,
     "metadata": {},
     "output_type": "execute_result"
    }
   ],
   "source": [
    "meyve={'ananas','karpuz','muz','çilek','elma'}\n",
    "kuru_yemiş={'fındık','fıstık','leblebi','elma','armut'}\n",
    "meyve.intersection(kuru_yemiş)"
   ]
  },
  {
   "cell_type": "markdown",
   "metadata": {},
   "source": [
    "### Alt Kümeyi ve Süper Kümeyi Kontrol Etme\n",
    "\n",
    "Bir küme, diğer kümelerin bir alt kümesi veya bir üst kümesi olabilir:\n",
    "\n",
    "Alt küme: issubset()\n",
    "\n",
    "Üst küme: issuperset\n",
    "\n",
    "Örnek:\n"
   ]
  },
  {
   "cell_type": "code",
   "execution_count": 23,
   "metadata": {},
   "outputs": [
    {
     "data": {
      "text/plain": [
       "True"
      ]
     },
     "execution_count": 23,
     "metadata": {},
     "output_type": "execute_result"
    }
   ],
   "source": [
    "meyve={'ananas','karpuz','muz','çilek','elma'}\n",
    "kuru_yemiş={'fındık','fıstık','leblebi','elma','armut'}\n",
    "alt_küme_1={'ananas','küpe'}\n",
    "alt_küme_2={'çilek','karpuz','elma'}\n",
    "alt_küme_2.issubset(meyve) \n",
    "alt_küme_1.issubset(meyve) \n",
    "meyve.issuperset(alt_küme_2)\n"
   ]
  },
  {
   "cell_type": "markdown",
   "metadata": {},
   "source": [
    "### İki Set Arasındaki Farkı Kontrol Etme\n",
    "\n",
    "İki küme arasındaki farkı bize getirir yani çıkarma işlemi gibi düşünülebilir. difference() komutu kullanılır dilerseniz örneğimizde inceleyelim.\n",
    "\n",
    "Örnek:\n"
   ]
  },
  {
   "cell_type": "code",
   "execution_count": 25,
   "metadata": {},
   "outputs": [
    {
     "name": "stdout",
     "output_type": "stream",
     "text": [
      "{'muz', 'şeftali'}\n",
      "{'portakal'}\n"
     ]
    }
   ],
   "source": [
    "tabak_1={'elma','kivi','muz','şeftali'}\n",
    "tabak_2={'elma','kivi','portakal'}\n",
    "print(tabak_1.difference(tabak_2))  # tabak 1 de kalananın çıktısını verir.\n",
    "print(tabak_2.difference(tabak_1)) # tabak 2 de kalanın çıktısını verir."
   ]
  },
  {
   "cell_type": "markdown",
   "metadata": {},
   "source": [
    "### İki Küme Arasındaki Simetrik Farkı Bulma\n",
    "\n",
    "İki küme arasındaki simetrik farkı döndürür. Bu, matematiksel olarak her iki kümede de bulunan öğeler dışında her iki kümedeki tüm öğeleri içeren bir küme döndürdüğü anlamına gelir((A\\B) ∪ (B\\A)) symmetric_difference() komutu ile çalışır aşağıdaki örnekte inceleyelim.\n",
    "\n",
    "Örnek:\n"
   ]
  },
  {
   "cell_type": "code",
   "execution_count": 26,
   "metadata": {},
   "outputs": [
    {
     "data": {
      "text/plain": [
       "{'muz', 'portakal', 'şeftali'}"
      ]
     },
     "execution_count": 26,
     "metadata": {},
     "output_type": "execute_result"
    }
   ],
   "source": [
    "tabak_1={'elma','kivi','muz','şeftali'}\n",
    "tabak_2={'elma','kivi','portakal'}\n",
    "tabak_1.symmetric_difference(tabak_2)   \n"
   ]
  },
  {
   "cell_type": "markdown",
   "metadata": {},
   "source": [
    "### Birleştirme Setleri\n",
    "\n",
    "İki kümenin ortak bir öğesi veya öğeleri yoksa, bunlara ayrık kümeler diyoruz. isdisjoint() komutu ile  kullanarak iki kümenin ortak mı yoksa ayrık mı olduğunu kontrol edebiliriz. Örneğimizi inceleyelim.\n",
    "\n",
    "Örnek:1\n"
   ]
  },
  {
   "cell_type": "code",
   "execution_count": 28,
   "metadata": {},
   "outputs": [
    {
     "name": "stdout",
     "output_type": "stream",
     "text": [
      "True\n",
      "True\n"
     ]
    },
    {
     "data": {
      "text/plain": [
       "False"
      ]
     },
     "execution_count": 28,
     "metadata": {},
     "output_type": "execute_result"
    }
   ],
   "source": [
    "tam_sayılar={-1,-2,-3,-4,-5,0,1,2,3,4,5,6,7,8,9}\n",
    "doğal_sayılar={0,1,2,3,4,5,6,7,8,9}\n",
    "ondalık_sayılar={10.25,11.45,14.2}\n",
    "tabak_1={'elma','kivi','muz','şeftali'}\n",
    "print(doğal_sayılar.isdisjoint(ondalık_sayılar))\n",
    "# ortak öğe yok\n",
    "print(tabak_1.isdisjoint(doğal_sayılar))\n",
    "# True ortak öğe yok\n",
    "doğal_sayılar.isdisjoint(tam_sayılar)\n",
    "#ortak öge bulunuyor False"
   ]
  }
 ],
 "metadata": {
  "interpreter": {
   "hash": "5bb71e04e3d056b3fd374fe835c740c82b88cf9a64babc7a305394decc4b8aa7"
  },
  "kernelspec": {
   "display_name": "Python 3.9.5 64-bit (system)",
   "language": "python",
   "name": "python3"
  },
  "language_info": {
   "codemirror_mode": {
    "name": "ipython",
    "version": 3
   },
   "file_extension": ".py",
   "mimetype": "text/x-python",
   "name": "python",
   "nbconvert_exporter": "python",
   "pygments_lexer": "ipython3",
   "version": "3.9.5"
  },
  "orig_nbformat": 4
 },
 "nbformat": 4,
 "nbformat_minor": 2
}
