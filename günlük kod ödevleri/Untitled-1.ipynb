{
 "cells": [
  {
   "cell_type": "code",
   "execution_count": 35,
   "metadata": {},
   "outputs": [
    {
     "ename": "TypeError",
     "evalue": "'module' object is not callable",
     "output_type": "error",
     "traceback": [
      "\u001b[1;31m---------------------------------------------------------------------------\u001b[0m",
      "\u001b[1;31mTypeError\u001b[0m                                 Traceback (most recent call last)",
      "\u001b[1;32mC:\\Users\\BRA~1\\AppData\\Local\\Temp/ipykernel_6224/2407801343.py\u001b[0m in \u001b[0;36m<module>\u001b[1;34m\u001b[0m\n\u001b[0;32m      2\u001b[0m \u001b[1;32mimport\u001b[0m \u001b[0mxlsxwriter\u001b[0m\u001b[1;33m\u001b[0m\u001b[1;33m\u001b[0m\u001b[0m\n\u001b[0;32m      3\u001b[0m \u001b[0mfoo\u001b[0m \u001b[1;33m=\u001b[0m \u001b[1;33m[\u001b[0m\u001b[1;34m'Ayşe'\u001b[0m\u001b[1;33m,\u001b[0m \u001b[1;34m'Mustafa'\u001b[0m\u001b[1;33m,\u001b[0m \u001b[1;34m'Belis'\u001b[0m\u001b[1;33m,\u001b[0m \u001b[1;34m'Fatma'\u001b[0m\u001b[1;33m,\u001b[0m \u001b[1;34m'Tuba'\u001b[0m\u001b[1;33m]\u001b[0m\u001b[1;33m\u001b[0m\u001b[1;33m\u001b[0m\u001b[0m\n\u001b[1;32m----> 4\u001b[1;33m \u001b[0my\u001b[0m\u001b[1;33m=\u001b[0m\u001b[1;33m(\u001b[0m\u001b[0mrandom\u001b[0m\u001b[1;33m(\u001b[0m\u001b[1;33m)\u001b[0m\u001b[1;33m.\u001b[0m\u001b[0mchoice\u001b[0m\u001b[1;33m(\u001b[0m\u001b[0mfoo\u001b[0m\u001b[1;33m)\u001b[0m\u001b[1;33m)\u001b[0m\u001b[1;33m\u001b[0m\u001b[1;33m\u001b[0m\u001b[0m\n\u001b[0m\u001b[0;32m      5\u001b[0m \u001b[0mplanWorkbook\u001b[0m\u001b[1;33m=\u001b[0m\u001b[0mxlsxwriter\u001b[0m\u001b[1;33m.\u001b[0m\u001b[0mWorkbook\u001b[0m\u001b[1;33m(\u001b[0m\u001b[1;34m\"değişken.xlsx\"\u001b[0m\u001b[1;33m)\u001b[0m\u001b[1;33m\u001b[0m\u001b[1;33m\u001b[0m\u001b[0m\n\u001b[0;32m      6\u001b[0m \u001b[0mplanSheet\u001b[0m\u001b[1;33m=\u001b[0m\u001b[0mplanWorkbook\u001b[0m\u001b[1;33m.\u001b[0m\u001b[0madd_worksheet\u001b[0m\u001b[1;33m(\u001b[0m\u001b[1;34m\"ad\"\u001b[0m\u001b[1;33m)\u001b[0m\u001b[1;33m\u001b[0m\u001b[1;33m\u001b[0m\u001b[0m\n",
      "\u001b[1;31mTypeError\u001b[0m: 'module' object is not callable"
     ]
    }
   ],
   "source": [
    "import random\n",
    "import xlsxwriter\n",
    "foo = ['Ayşe', 'Mustafa', 'Belis', 'Fatma', 'Tuba']\n",
    "y=(random().choice(foo))\n",
    "planWorkbook=xlsxwriter.Workbook(\"değişken.xlsx\")\n",
    "planSheet=planWorkbook.add_worksheet(\"ad\")\n",
    "uzun=range(1000)\n",
    "for x in uzun:\n",
    "\n",
    "  planSheet.write(x,0,\"y\")\n",
    "planWorkbook.close()"
   ]
  },
  {
   "cell_type": "code",
   "execution_count": 2,
   "metadata": {},
   "outputs": [
    {
     "name": "stdout",
     "output_type": "stream",
     "text": [
      "battery\n"
     ]
    }
   ],
   "source": [
    "import secrets\n",
    "\n",
    "foo = ['battery', 'correct', 'horse', 'staple']\n",
    "print(secrets.choice(foo))"
   ]
  },
  {
   "cell_type": "code",
   "execution_count": 10,
   "metadata": {},
   "outputs": [
    {
     "name": "stdout",
     "output_type": "stream",
     "text": [
      "horse\n"
     ]
    }
   ],
   "source": [
    "import random\n",
    "\n",
    "secure_random = random.SystemRandom()\n",
    "print(secure_random.choice(f))\n"
   ]
  },
  {
   "cell_type": "code",
   "execution_count": null,
   "metadata": {},
   "outputs": [],
   "source": [
    "uzun=range(1000)\n",
    "for x in uzun:\n",
    "  foo = ['Ayşe', 'Mustafa', 'Belis', 'Fatma', 'Tuba']\n",
    "y=print(random.choice(foo))\n",
    "y=1\n",
    "while y<1000:\n",
    "  print(y)\n",
    "y=y+1\n",
    "if y==1000:"
   ]
  },
  {
   "cell_type": "code",
   "execution_count": 55,
   "metadata": {},
   "outputs": [
    {
     "name": "stdout",
     "output_type": "stream",
     "text": [
      "ahmet\n"
     ]
    }
   ],
   "source": [
    "isim=['ahmet','Mehmet','cavidan','nurgül','ayşe']\n",
    "print(secrets.choice(isim))\n",
    "planWorkbook=xlsxwriter.Workbook(\"isim ve doğum.xlsx\")\n",
    "planSheet=planWorkbook.add_worksheet(\"isim\")\n",
    "planWorkbook.close()"
   ]
  }
 ],
 "metadata": {
  "interpreter": {
   "hash": "5bb71e04e3d056b3fd374fe835c740c82b88cf9a64babc7a305394decc4b8aa7"
  },
  "kernelspec": {
   "display_name": "Python 3.9.5 64-bit (system)",
   "language": "python",
   "name": "python3"
  },
  "language_info": {
   "codemirror_mode": {
    "name": "ipython",
    "version": 3
   },
   "file_extension": ".py",
   "mimetype": "text/x-python",
   "name": "python",
   "nbconvert_exporter": "python",
   "pygments_lexer": "ipython3",
   "version": "3.9.5"
  },
  "orig_nbformat": 4
 },
 "nbformat": 4,
 "nbformat_minor": 2
}
