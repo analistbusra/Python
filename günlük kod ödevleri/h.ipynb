{
 "cells": [
  {
   "cell_type": "code",
   "execution_count": 85,
   "metadata": {},
   "outputs": [],
   "source": [
    "import random\n",
    "import xlsxwriter\n",
    "planWorkbook=xlsxwriter.Workbook(\"öldüm bittim.xlsx\")\n",
    "planSheet=planWorkbook.add_worksheet(\"ad\")\n",
    "name=(\"Elif\",\"Ayşe\",\"Beyza\",\"Can\",\"Ali\")\n",
    "birtday=(\"02/03/996\",\"12/02/1995\",\"12/01/2001\",\"11/05/2019\")\n",
    "\n",
    "\n",
    "uzun=range(1000)\n",
    "for x in uzun:\n",
    "  değişken=random.choice(name)\n",
    "  planSheet.write( x,0,değişken )\n",
    "  new_day=random.choice(birtday)\n",
    "  planSheet.write( x,1,new_day)\n",
    "\n",
    "planWorkbook.close()"
   ]
  }
 ],
 "metadata": {
  "interpreter": {
   "hash": "5bb71e04e3d056b3fd374fe835c740c82b88cf9a64babc7a305394decc4b8aa7"
  },
  "kernelspec": {
   "display_name": "Python 3.9.5 64-bit (system)",
   "language": "python",
   "name": "python3"
  },
  "language_info": {
   "codemirror_mode": {
    "name": "ipython",
    "version": 3
   },
   "file_extension": ".py",
   "mimetype": "text/x-python",
   "name": "python",
   "nbconvert_exporter": "python",
   "pygments_lexer": "ipython3",
   "version": "3.9.5"
  },
  "orig_nbformat": 4
 },
 "nbformat": 4,
 "nbformat_minor": 2
}
