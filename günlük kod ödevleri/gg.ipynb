{
 "cells": [
  {
   "cell_type": "code",
   "execution_count": 24,
   "metadata": {},
   "outputs": [],
   "source": [
    "import myModule\n",
    "def  generate_full_name ( name , lastname ):\n",
    "     return  name +  ''  +  lastname\n",
    "\n"
   ]
  },
  {
   "cell_type": "code",
   "execution_count": 27,
   "metadata": {},
   "outputs": [
    {
     "ename": "AttributeError",
     "evalue": "module 'myModule' has no attribute 'generate_full_name'",
     "output_type": "error",
     "traceback": [
      "\u001b[1;31m---------------------------------------------------------------------------\u001b[0m",
      "\u001b[1;31mAttributeError\u001b[0m                            Traceback (most recent call last)",
      "\u001b[1;32mC:\\Users\\BRA~1\\AppData\\Local\\Temp/ipykernel_13932/3685018339.py\u001b[0m in \u001b[0;36m<module>\u001b[1;34m\u001b[0m\n\u001b[0;32m      3\u001b[0m \u001b[1;32mimport\u001b[0m \u001b[0mmyModule\u001b[0m\u001b[1;33m\u001b[0m\u001b[1;33m\u001b[0m\u001b[0m\n\u001b[0;32m      4\u001b[0m \u001b[1;33m\u001b[0m\u001b[0m\n\u001b[1;32m----> 5\u001b[1;33m \u001b[0mprint\u001b[0m\u001b[1;33m(\u001b[0m\u001b[0mmyModule\u001b[0m\u001b[1;33m.\u001b[0m\u001b[0mgenerate_full_name\u001b[0m\u001b[1;33m(\u001b[0m\u001b[1;34m'Büşra'\u001b[0m\u001b[1;33m,\u001b[0m \u001b[1;34m'Akkaya'\u001b[0m\u001b[1;33m)\u001b[0m\u001b[1;33m)\u001b[0m\u001b[1;33m\u001b[0m\u001b[1;33m\u001b[0m\u001b[0m\n\u001b[0m\u001b[0;32m      6\u001b[0m \u001b[1;33m\u001b[0m\u001b[0m\n",
      "\u001b[1;31mAttributeError\u001b[0m: module 'myModule' has no attribute 'generate_full_name'"
     ]
    }
   ],
   "source": [
    "def  generate_full_name ( name , lastname ):\n",
    "     return  name +  ''  +  lastname\n",
    "import myModule\n",
    "\n",
    "print(myModule.generate_full_name('Büşra', 'Akkaya'))\n",
    "\n"
   ]
  },
  {
   "cell_type": "code",
   "execution_count": 23,
   "metadata": {},
   "outputs": [
    {
     "ename": "ImportError",
     "evalue": "cannot import name 'generate_full_name' from 'myModule' (C:\\Users\\Büşra\\AppData\\Local\\Programs\\Python\\Python39\\lib\\site-packages\\myModule.py)",
     "output_type": "error",
     "traceback": [
      "\u001b[1;31m---------------------------------------------------------------------------\u001b[0m",
      "\u001b[1;31mImportError\u001b[0m                               Traceback (most recent call last)",
      "\u001b[1;32mC:\\Users\\BRA~1\\AppData\\Local\\Temp/ipykernel_13932/3283872229.py\u001b[0m in \u001b[0;36m<module>\u001b[1;34m\u001b[0m\n\u001b[1;32m----> 1\u001b[1;33m \u001b[1;32mfrom\u001b[0m \u001b[0mmyModule\u001b[0m \u001b[1;32mimport\u001b[0m \u001b[0mgenerate_full_name\u001b[0m\u001b[1;33m,\u001b[0m \u001b[0msum_two_nums\u001b[0m\u001b[1;33m,\u001b[0m \u001b[0mperson\u001b[0m\u001b[1;33m,\u001b[0m \u001b[0mgravity\u001b[0m\u001b[1;33m\u001b[0m\u001b[1;33m\u001b[0m\u001b[0m\n\u001b[0m\u001b[0;32m      2\u001b[0m \u001b[0mprint\u001b[0m\u001b[1;33m(\u001b[0m\u001b[0mgenerate_full_name\u001b[0m\u001b[1;33m(\u001b[0m\u001b[1;34m'Asabneh'\u001b[0m\u001b[1;33m,\u001b[0m\u001b[1;34m'Yetayeh'\u001b[0m\u001b[1;33m)\u001b[0m\u001b[1;33m)\u001b[0m\u001b[1;33m\u001b[0m\u001b[1;33m\u001b[0m\u001b[0m\n\u001b[0;32m      3\u001b[0m \u001b[0mprint\u001b[0m\u001b[1;33m(\u001b[0m\u001b[0msum_two_nums\u001b[0m\u001b[1;33m(\u001b[0m\u001b[1;36m1\u001b[0m\u001b[1;33m,\u001b[0m\u001b[1;36m9\u001b[0m\u001b[1;33m)\u001b[0m\u001b[1;33m)\u001b[0m\u001b[1;33m\u001b[0m\u001b[1;33m\u001b[0m\u001b[0m\n\u001b[0;32m      4\u001b[0m \u001b[0mmass\u001b[0m \u001b[1;33m=\u001b[0m \u001b[1;36m100\u001b[0m\u001b[1;33m;\u001b[0m\u001b[1;33m\u001b[0m\u001b[1;33m\u001b[0m\u001b[0m\n\u001b[0;32m      5\u001b[0m \u001b[0mweight\u001b[0m \u001b[1;33m=\u001b[0m \u001b[0mmass\u001b[0m \u001b[1;33m*\u001b[0m \u001b[0mgravity\u001b[0m\u001b[1;33m\u001b[0m\u001b[1;33m\u001b[0m\u001b[0m\n",
      "\u001b[1;31mImportError\u001b[0m: cannot import name 'generate_full_name' from 'myModule' (C:\\Users\\Büşra\\AppData\\Local\\Programs\\Python\\Python39\\lib\\site-packages\\myModule.py)"
     ]
    }
   ],
   "source": [
    "from myModule import generate_full_name, sum_two_nums, person, gravity\n",
    "print(generate_full_name('Asabneh','Yetayeh'))\n",
    "print(sum_two_nums(1,9))\n",
    "mass = 100;\n",
    "weight = mass * gravity\n",
    "print(weight)\n",
    "print(person['firstname'])"
   ]
  },
  {
   "cell_type": "code",
   "execution_count": null,
   "metadata": {},
   "outputs": [],
   "source": []
  },
  {
   "cell_type": "code",
   "execution_count": null,
   "metadata": {},
   "outputs": [],
   "source": []
  }
 ],
 "metadata": {
  "interpreter": {
   "hash": "5bb71e04e3d056b3fd374fe835c740c82b88cf9a64babc7a305394decc4b8aa7"
  },
  "kernelspec": {
   "display_name": "Python 3.9.5 64-bit (system)",
   "language": "python",
   "name": "python3"
  },
  "language_info": {
   "codemirror_mode": {
    "name": "ipython",
    "version": 3
   },
   "file_extension": ".py",
   "mimetype": "text/x-python",
   "name": "python",
   "nbconvert_exporter": "python",
   "pygments_lexer": "ipython3",
   "version": "3.9.5"
  },
  "orig_nbformat": 4
 },
 "nbformat": 4,
 "nbformat_minor": 2
}
