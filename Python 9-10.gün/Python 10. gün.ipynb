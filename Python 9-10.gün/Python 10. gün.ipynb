{
 "cells": [
  {
   "cell_type": "markdown",
   "metadata": {},
   "source": [
    "# Döngüler(loops)\n",
    "\n",
    "Tekrarlanmasını istediğimiz işlemlerde döngüler kullanırız. Bir zar atılsın ve tura gelene kadar durmasın dediğimizde döngü işlevi görev alır. İki döngü programlamada ele alınır.\n",
    "\n",
    "1.\tWhile döngüsü\n",
    "\n",
    "2.\tFor döngüsü\n",
    "\n",
    "### While Döngüsü\n",
    "\n",
    "while döngüsü yapmak için “while“ kelimesini kullanırız . Belirli bir koşul sağlanana kadar bir deyim bloğunu tekrar tekrar yürütmek için kullanılır. Koşul yanlış olduğunda, döngüden sonraki kod satırları yürütülmeye devam edecektir.\n"
   ]
  },
  {
   "cell_type": "code",
   "execution_count": 1,
   "metadata": {},
   "outputs": [
    {
     "name": "stdout",
     "output_type": "stream",
     "text": [
      "0\n",
      "1\n",
      "2\n",
      "3\n",
      "4\n"
     ]
    }
   ],
   "source": [
    "sayma = 0\n",
    "while sayma  < 5:\n",
    "    print(sayma)\n",
    "    sayma = sayma + 1\n",
    "    # 1'er 1'er 5'e kadar 5 dahil değil tekrar eden sayıları yazdırıypruz\n",
    "    #0\n"
   ]
  },
  {
   "cell_type": "markdown",
   "metadata": {},
   "source": [
    "Yukarıdaki örnekte 5’i dahil etmedik eğer dahil olsun isterseniz else ekleyerek 5’i dahil edebiliriz."
   ]
  },
  {
   "cell_type": "code",
   "execution_count": 2,
   "metadata": {},
   "outputs": [
    {
     "name": "stdout",
     "output_type": "stream",
     "text": [
      "0\n",
      "1\n",
      "2\n",
      "3\n",
      "4\n",
      "5\n"
     ]
    }
   ],
   "source": [
    "say  =  0 \n",
    "while  say <  5 :\n",
    "  print ( say )\n",
    "  say  =  say  +  1 \n",
    "else:\n",
    "  print( say )\n",
    "  # bu komutu kullanarak 5'i de dahil edebiliriz.\n",
    "  # 0\n"
   ]
  },
  {
   "cell_type": "markdown",
   "metadata": {},
   "source": [
    "### Break ve Continue\n",
    "\n",
    "Break: Döngüden çıkmak veya döngüyü durdurmak istediğimizde break kullanırız.\n"
   ]
  },
  {
   "cell_type": "code",
   "execution_count": 3,
   "metadata": {},
   "outputs": [
    {
     "name": "stdout",
     "output_type": "stream",
     "text": [
      "0\n",
      "1\n",
      "2\n"
     ]
    }
   ],
   "source": [
    "count = 0\n",
    "while count < 5:\n",
    "    print(count)\n",
    "    count = count + 1\n",
    "    if count == 3:\n",
    "        break\n",
    "    # sayı 0'dan 5'e kadar gider eğer 3'e eşit olursa break yani dur dediğimiz komut\n"
   ]
  },
  {
   "cell_type": "markdown",
   "metadata": {},
   "source": [
    "Devam eden durmayan ifadeyi “continue” ile kullanarak inceleyelim."
   ]
  },
  {
   "cell_type": "code",
   "execution_count": 10,
   "metadata": {},
   "outputs": [
    {
     "name": "stdout",
     "output_type": "stream",
     "text": [
      "0\n",
      "1\n",
      "2\n"
     ]
    },
    {
     "ename": "KeyboardInterrupt",
     "evalue": "",
     "output_type": "error",
     "traceback": [
      "\u001b[1;31m---------------------------------------------------------------------------\u001b[0m",
      "\u001b[1;31mKeyboardInterrupt\u001b[0m                         Traceback (most recent call last)",
      "\u001b[1;32mC:\\Users\\BRA~1\\AppData\\Local\\Temp/ipykernel_8220/3806752849.py\u001b[0m in \u001b[0;36m<module>\u001b[1;34m\u001b[0m\n\u001b[0;32m      2\u001b[0m \u001b[1;32mwhile\u001b[0m \u001b[0msay\u001b[0m \u001b[1;33m<=\u001b[0m \u001b[1;36m5\u001b[0m\u001b[1;33m:\u001b[0m\u001b[1;33m\u001b[0m\u001b[1;33m\u001b[0m\u001b[0m\n\u001b[0;32m      3\u001b[0m     \u001b[1;32mif\u001b[0m \u001b[0msay\u001b[0m\u001b[1;33m==\u001b[0m \u001b[1;36m3\u001b[0m\u001b[1;33m:\u001b[0m\u001b[1;33m\u001b[0m\u001b[1;33m\u001b[0m\u001b[0m\n\u001b[1;32m----> 4\u001b[1;33m      \u001b[1;32mcontinue\u001b[0m\u001b[1;33m\u001b[0m\u001b[1;33m\u001b[0m\u001b[0m\n\u001b[0m\u001b[0;32m      5\u001b[0m     \u001b[0mprint\u001b[0m\u001b[1;33m(\u001b[0m\u001b[0msay\u001b[0m\u001b[1;33m)\u001b[0m\u001b[1;33m\u001b[0m\u001b[1;33m\u001b[0m\u001b[0m\n\u001b[0;32m      6\u001b[0m     \u001b[0msay\u001b[0m \u001b[1;33m=\u001b[0m \u001b[0msay\u001b[0m \u001b[1;33m+\u001b[0m \u001b[1;36m1\u001b[0m\u001b[1;33m\u001b[0m\u001b[1;33m\u001b[0m\u001b[0m\n",
      "\u001b[1;31mKeyboardInterrupt\u001b[0m: "
     ]
    }
   ],
   "source": [
    "say= 0\n",
    "while say <= 5:\n",
    "    if say== 3:\n",
    "     continue\n",
    "    print(say)\n",
    "    say = say + 1\n",
    "    "
   ]
  },
  {
   "cell_type": "markdown",
   "metadata": {},
   "source": [
    "## For Loop\n",
    "\n",
    "Bir for anahtar sözcüğü, diğer programlama dillerine benzer, ancak bazı sözdizimi farklılıkları olan bir for döngüsü oluşturmak için kullanılır. Döngü, bir dizi (bir liste, bir demet, bir sözlük, bir küme veya bir dize) üzerinde yineleme yapmak için kullanılır.\n"
   ]
  },
  {
   "cell_type": "code",
   "execution_count": 11,
   "metadata": {},
   "outputs": [
    {
     "name": "stdout",
     "output_type": "stream",
     "text": [
      "0\n",
      "1\n",
      "2\n",
      "3\n",
      "4\n",
      "5\n"
     ]
    }
   ],
   "source": [
    "sayılar  = [ 0 , 1 , 2 , 3 , 4 , 5 ]\n",
    "for numara  in sayılar : # numara  sadece bu döngü içine geçerli listenin öğeleri başvurmak için geçici adıdır \n",
    "    print ( numara )  \n"
   ]
  },
  {
   "cell_type": "markdown",
   "metadata": {},
   "source": [
    "•\tDizlerle For döngüsü\n",
    "\n",
    "Dize halinde tek harflerle çıktı oluşturmasını range(len(dil))) komutu ile sağlıyoruz aşağıda görebilirsiniz.\n"
   ]
  },
  {
   "cell_type": "code",
   "execution_count": 12,
   "metadata": {},
   "outputs": [
    {
     "name": "stdout",
     "output_type": "stream",
     "text": [
      "P\n",
      "y\n",
      "t\n",
      "h\n",
      "o\n",
      "n\n",
      "P\n",
      "y\n",
      "t\n",
      "h\n",
      "o\n",
      "n\n"
     ]
    }
   ],
   "source": [
    "dil = 'Python'\n",
    "for harf in dil:\n",
    "    print(harf)\n",
    "\n",
    "for i in range(len(dil)):\n",
    "    print(dil[i])\n"
   ]
  },
  {
   "cell_type": "markdown",
   "metadata": {},
   "source": [
    "•\tTuple ile For döngüsü"
   ]
  },
  {
   "cell_type": "code",
   "execution_count": 13,
   "metadata": {},
   "outputs": [
    {
     "name": "stdout",
     "output_type": "stream",
     "text": [
      "0\n",
      "1\n",
      "2\n",
      "3\n",
      "4\n",
      "5\n"
     ]
    }
   ],
   "source": [
    "numbers = (0, 1, 2, 3, 4, 5)\n",
    "for number in numbers:\n",
    "    print(number)\n"
   ]
  },
  {
   "cell_type": "markdown",
   "metadata": {},
   "source": [
    "•\tDict yani sözlük ile for döngüsünün örneğini inceleyelim.\n",
    "\n",
    "Örnek:\n"
   ]
  },
  {
   "cell_type": "code",
   "execution_count": 15,
   "metadata": {},
   "outputs": [
    {
     "name": "stdout",
     "output_type": "stream",
     "text": [
      "first_name\n",
      "last_name\n",
      "yaş\n",
      "ülke\n",
      "is_marred\n",
      "beceri\n",
      "adres\n",
      "first_name Büşra\n",
      "last_name Akkaya\n",
      "yaş 25\n",
      "ülke TURKEY\n",
      "is_marred False\n",
      "beceri ['C++', 'R', 'SPSS', 'MATLAB', 'Python']\n",
      "adres {'sokak': 'MANOLYA SOKAK', 'posta kodu': '02210'}\n"
     ]
    }
   ],
   "source": [
    "kişi  = {\n",
    "     'first_name' : 'Büşra' ,\n",
    "     'last_name' : 'Akkaya' ,\n",
    "     'yaş' : 25 ,\n",
    "     'ülke' : 'TURKEY' ,\n",
    "     'is_marred' : False ,\n",
    "     'beceri' : [ 'C++' , 'R' , 'SPSS' , 'MATLAB' , 'Python' ],\n",
    "     'adres' :{\n",
    "         'sokak' : 'MANOLYA SOKAK' ,\n",
    "        'posta kodu' : '02210'\n",
    "    }\n",
    "}\n",
    "for anahtar  in kişi :\n",
    "     print ( anahtar )\n",
    "\n",
    "for anahtar,değer in  kişi.items ():\n",
    "     print ( anahtar , değer )\n"
   ]
  },
  {
   "cell_type": "markdown",
   "metadata": {},
   "source": [
    "•\tSet için For döngüleri\n",
    "\n"
   ]
  },
  {
   "cell_type": "code",
   "execution_count": 16,
   "metadata": {},
   "outputs": [
    {
     "name": "stdout",
     "output_type": "stream",
     "text": [
      "Microsoft\n",
      "Apple\n",
      "Google\n",
      "Amazon\n",
      "IBM\n",
      "Facebook\n",
      "Oracle\n"
     ]
    }
   ],
   "source": [
    "bazı_şirketler = {'Facebook', 'Google', 'Microsoft', 'Apple', 'IBM', 'Oracle', 'Amazon'}\n",
    "for şirket in bazı_şirketler:\n",
    "    print(şirket)\n"
   ]
  },
  {
   "cell_type": "markdown",
   "metadata": {},
   "source": [
    "Örnek:"
   ]
  },
  {
   "cell_type": "code",
   "execution_count": 17,
   "metadata": {},
   "outputs": [
    {
     "name": "stdout",
     "output_type": "stream",
     "text": [
      "0\n",
      "sıradaki numara şu olabilir: 1\n",
      "1\n",
      "sıradaki numara şu olabilir: 2\n",
      "2\n",
      "sıradaki numara şu olabilir: 3\n",
      "3\n",
      "4\n",
      "sıradaki numara şu olabilir: 5\n",
      "5\n",
      "döngü durdu\n",
      "döngünün dışında\n"
     ]
    }
   ],
   "source": [
    "numbers = (0,1,2,3,4,5)\n",
    "for number in numbers:\n",
    "    print(number)\n",
    "    if number == 3:\n",
    "        continue\n",
    "    print('sıradaki numara şu olabilir:', number + 1) if number != 5 else print(\"döngü durdu\")\n",
    "print('döngünün dışında')\n",
    "\n"
   ]
  },
  {
   "cell_type": "markdown",
   "metadata": {},
   "source": [
    "### Aralık İşlevi(range())\n",
    "\n",
    "range() () işlev numaralarının kullanılan listedir. Aralığı (başlangıç, son aşama) , başlangıç biten ve artış üç parametre alır. Varsayılan olarak 0'dan başlar ve artış 1'dir.\n",
    "\n",
    "Örnek:1\n"
   ]
  },
  {
   "cell_type": "code",
   "execution_count": 18,
   "metadata": {},
   "outputs": [
    {
     "name": "stdout",
     "output_type": "stream",
     "text": [
      "[0, 1, 2, 3, 4, 5, 6, 7, 8, 9, 10]\n",
      "{1, 2, 3, 4, 5, 6, 7, 8, 9, 10}\n"
     ]
    }
   ],
   "source": [
    "lst = list(range(11)) \n",
    "print(lst) # [0, 1, 2, 3, 4, 5, 6, 7, 8, 9, 10]\n",
    "st = set(range(1, 11))  #{1, 2, 3, 4, 5, 6, 7, 8, 9, 10}  \n",
    "print(st)"
   ]
  },
  {
   "cell_type": "markdown",
   "metadata": {},
   "source": [
    "Örnek:2"
   ]
  },
  {
   "cell_type": "code",
   "execution_count": 19,
   "metadata": {},
   "outputs": [
    {
     "name": "stdout",
     "output_type": "stream",
     "text": [
      "[0, 2, 4, 6, 8, 10]\n",
      "{0, 2, 4, 6, 8, 10}\n"
     ]
    }
   ],
   "source": [
    "lst = list(range(0,11,2))\n",
    "print(lst) \n",
    "st = set(range(0,11,2))\n",
    "print(st)\n"
   ]
  },
  {
   "cell_type": "markdown",
   "metadata": {},
   "source": [
    "### İç İçe Döngü\n",
    "\n",
    "for iç içe iki tane yazılabilir.\n"
   ]
  },
  {
   "cell_type": "code",
   "execution_count": 21,
   "metadata": {},
   "outputs": [],
   "source": [
    "kişi  = {\n",
    "     'first_name' : 'Fatma Büşra' ,\n",
    "     'last_name' : 'Akkaya' ,\n",
    "     'yaş' : 25,\n",
    "     'ülke' : 'Turkey' ,\n",
    "     'is_marred' : False,\n",
    "     'beceri' : [ 'C++' , 'R ' , 'MatLab' , 'SPSS' , 'Python' ],\n",
    "     'adres' : {\n",
    "         'sokak' : 'Yonca sokak',\n",
    "         'posta kodu' : '02210'\n",
    "    }\n",
    "}\n",
    "for  anahtarın  in kişi :\n",
    "     if  anahtarın  ==  'beceriler' :\n",
    "         for beceri  in kişi [ 'beceriler' ]:\n",
    "             print ( beceri)\n"
   ]
  },
  {
   "cell_type": "markdown",
   "metadata": {},
   "source": [
    "### For Else\n",
    "\n",
    "Döngü bittiğinde bir mesaj vermek istiyorsak kullanabiliriz.\n"
   ]
  },
  {
   "cell_type": "code",
   "execution_count": 22,
   "metadata": {},
   "outputs": [
    {
     "name": "stdout",
     "output_type": "stream",
     "text": [
      "0\n",
      "1\n",
      "2\n",
      "3\n",
      "4\n",
      "5\n",
      "6\n",
      "7\n",
      "8\n",
      "9\n",
      "10\n",
      "döngü durdu 10\n"
     ]
    }
   ],
   "source": [
    "for numara in range(11):\n",
    "    print(numara)   # 0 dan 10 a rakamları yazar 11 dahil değil\n",
    "else:\n",
    "    print('döngü durdu', numara)"
   ]
  },
  {
   "cell_type": "markdown",
   "metadata": {},
   "source": [
    "### Pass\n",
    "\n",
    "Python'da deyim gerektiğinde (noktalı virgülden sonra), ancak orada herhangi bir kod çalıştırmayı sevmiyoruz, hataları önlemek için “pass “yazabiliriz. Örneğimizi inceleyelim.\n"
   ]
  },
  {
   "cell_type": "code",
   "execution_count": 23,
   "metadata": {},
   "outputs": [
    {
     "name": "stdout",
     "output_type": "stream",
     "text": [
      "5\n"
     ]
    }
   ],
   "source": [
    "for number in range(6):\n",
    "    pass\n",
    "print(number)"
   ]
  },
  {
   "cell_type": "markdown",
   "metadata": {},
   "source": [
    "Bugün if yapısını inceledik yarın görüşmek dileğiyle iyi çalışmalar dilerim."
   ]
  }
 ],
 "metadata": {
  "interpreter": {
   "hash": "5bb71e04e3d056b3fd374fe835c740c82b88cf9a64babc7a305394decc4b8aa7"
  },
  "kernelspec": {
   "display_name": "Python 3.9.5 64-bit (system)",
   "language": "python",
   "name": "python3"
  },
  "language_info": {
   "codemirror_mode": {
    "name": "ipython",
    "version": 3
   },
   "file_extension": ".py",
   "mimetype": "text/x-python",
   "name": "python",
   "nbconvert_exporter": "python",
   "pygments_lexer": "ipython3",
   "version": "3.9.5"
  },
  "orig_nbformat": 4
 },
 "nbformat": 4,
 "nbformat_minor": 2
}
