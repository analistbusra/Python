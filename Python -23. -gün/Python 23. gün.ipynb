{
 "cells": [
  {
   "cell_type": "markdown",
   "metadata": {},
   "source": [
    "# Python Virtual Environment Nedir?"
   ]
  },
  {
   "cell_type": "markdown",
   "metadata": {},
   "source": [
    "Python kütüphanelerinin hepsini çağırdığımızı düşünelim sizce de çok gereksiz alan kaplamış oluyor mu? Sanırım paketleri yükleyebileceğimiz bir sanal ortam olması bizim için güzel bir bilgi gelin detaylarıyla inceleyelim."
   ]
  },
  {
   "cell_type": "markdown",
   "metadata": {},
   "source": [
    "# Sanal Ortam Nedir?\n",
    "\n",
    "Sanal ortamın tek amacı çalışma ortamının boyutunu küçültmek değildir. Sanal ortam, farklı projelerdeki paketleri yönetmeye yarar. Sanal ortam kullanmak, global olarak paket yükledikten sonra çıkabilecek sorunları ortadan kaldırır. Bu tür hatalardan kaçınmak için Python uygulamaları geliştirirken her zaman sanal ortam kullanılması önerilir."
   ]
  },
  {
   "cell_type": "markdown",
   "metadata": {},
   "source": [
    "# Python Sanal Ortam Oluşturulması\n",
    " Python 3.3 ve daha yeni versiyonlarında sanal ortam kurmak için gerekli venv kütüphanesi mevcuttur.\n",
    "\n",
    "## 1- Pip Kurulumu\n",
    "\n",
    "Python’da sanal ortam oluşturmak için ilk yapacağımız iş pip yüklemek olacaktır. pip, 3.parti python paketlerinin kurulması için kullanılan bir paket yöneticisidir. pip ile ilgili daha fazla bilgi edinmek için buraya tıklayabilirsiniz. pip yüklemek için linkteki belgeyi indirip kurmanız gerekmektedir. Kurmak için ise; Windows için Komut İstemine aşağıdaki komut yazılarak yükleme gerçekleşir. "
   ]
  },
  {
   "cell_type": "code",
   "execution_count": null,
   "metadata": {},
   "outputs": [],
   "source": [
    "python get-pip.py"
   ]
  },
  {
   "cell_type": "markdown",
   "metadata": {},
   "source": [
    "## 2- Sanal Ortamı Oluşturmak\n",
    "\n",
    "Sanal ortamımızı kurmadan önce bir çalışma klasörü oluşturalım. Bu klasörün içinde girdikten sonra\n",
    "\n",
    "Windows için:"
   ]
  },
  {
   "cell_type": "code",
   "execution_count": null,
   "metadata": {},
   "outputs": [],
   "source": [
    "python -m venv env"
   ]
  },
  {
   "cell_type": "markdown",
   "metadata": {},
   "source": [
    "komutunu çalıştıralım. Burada env argümanı, sanal ortamımızın adını belirtmektedir. Sanal ortamımıza istediğimiz adı verebiliriz."
   ]
  },
  {
   "cell_type": "markdown",
   "metadata": {},
   "source": [
    "## 3- Sanal Ortama Girmek\n",
    "\n",
    "Sanal ortamımıza paket yüklemeden önce aktifleştirmemiz gerekiyor. Aktifleştirmek için\n",
    "\n",
    "Windows için:\n",
    "\n"
   ]
  },
  {
   "cell_type": "code",
   "execution_count": null,
   "metadata": {},
   "outputs": [],
   "source": [
    ".\\env\\Scripts\\activate"
   ]
  },
  {
   "cell_type": "markdown",
   "metadata": {},
   "source": [
    "kodunu yazmalıyız. Eğer komut istemi ekranınızda\n",
    "\n",
    "(env) C:Users\\kullanıcı\\Desktop\\test    yazıyorsa  sanal ortama girmişsiniz demektir."
   ]
  },
  {
   "cell_type": "markdown",
   "metadata": {},
   "source": [
    "## 4- Sanal Ortamdan Çıkmak\n",
    "\n",
    "Başka bir projeye geçmek yada sanal ortamdan çıkmak için"
   ]
  },
  {
   "cell_type": "code",
   "execution_count": null,
   "metadata": {},
   "outputs": [],
   "source": [
    "deactivate"
   ]
  },
  {
   "cell_type": "markdown",
   "metadata": {},
   "source": [
    "komutunu yazmanız yeterlidir. Tekrar sanal ortama giriş yapmak için sanal ortam aktifleştirme kodunu yazmanız gerekmektedir."
   ]
  },
  {
   "cell_type": "markdown",
   "metadata": {},
   "source": [
    "## 5- Paket Yükleme\n",
    "Örneğin, sanal ortamımıza pandas kütüphanesini yükleyeceğiz. Bunun için sanal ortamımız içinde"
   ]
  },
  {
   "cell_type": "code",
   "execution_count": null,
   "metadata": {},
   "outputs": [],
   "source": [
    "pip install pandas"
   ]
  },
  {
   "cell_type": "markdown",
   "metadata": {},
   "source": [
    "CMD sisteminde kısa sürede apndas kütüphanem bilgisayarıma yükleniyor."
   ]
  },
  {
   "cell_type": "markdown",
   "metadata": {},
   "source": [
    "* Eğer tek tek paket yüklemekten sıkılıp paketleri toplu şekilde yüklemek istiyorsak requirement.txt adında bir not belgesi açıp içine yüklemek istediğimiz belgeleri yazmalıyız.\n",
    "\n",
    "Bu belgeyi oluşturduktan sonra komut istemi içerisinde\n",
    "\n",
    "pip install -r requirements.txt  \n",
    "  \n",
    "komutu çalıştır."
   ]
  },
  {
   "cell_type": "markdown",
   "metadata": {},
   "source": [
    "## 6- Paket Güncelleme\n",
    "Eğer yüklü olan bir paketi güncellemek istiyorsak"
   ]
  },
  {
   "cell_type": "code",
   "execution_count": null,
   "metadata": {},
   "outputs": [],
   "source": [
    "pip install --upgrade pandas "
   ]
  },
  {
   "cell_type": "markdown",
   "metadata": {},
   "source": [
    "Yukarıdaki kodu kullanırız."
   ]
  },
  {
   "cell_type": "markdown",
   "metadata": {},
   "source": [
    "## 7- Paket Kaldırma\n",
    "Eğer varolan bir paketi kaldırmak istiyorsak\n",
    "\n",
    "pip uninstall pandas kodunu kullanırız."
   ]
  },
  {
   "cell_type": "markdown",
   "metadata": {},
   "source": [
    "## 8- Paketleri Listelemek\n",
    "Eğer varolan paketleri listelemek istiyorsak"
   ]
  },
  {
   "cell_type": "code",
   "execution_count": null,
   "metadata": {},
   "outputs": [],
   "source": [
    "\n",
    "pip list"
   ]
  },
  {
   "cell_type": "markdown",
   "metadata": {},
   "source": [
    "## 9- Paket Hakkında Detaylı Bilgi Alma"
   ]
  },
  {
   "cell_type": "markdown",
   "metadata": {},
   "source": [
    "pip show kütüphanenin ismi(pandas,NumPY,vb.)"
   ]
  },
  {
   "cell_type": "code",
   "execution_count": null,
   "metadata": {},
   "outputs": [],
   "source": [
    "pip show pandas"
   ]
  }
 ],
 "metadata": {
  "language_info": {
   "name": "python"
  },
  "orig_nbformat": 4
 },
 "nbformat": 4,
 "nbformat_minor": 2
}
