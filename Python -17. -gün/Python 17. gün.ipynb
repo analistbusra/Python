{
 "cells": [
  {
   "cell_type": "markdown",
   "metadata": {},
   "source": [
    "## Exception Handling(İstisna İşlemler)\n",
    "\n",
    "Python hatalarını işlemek için try: ve except: kullanılır. Bir program ciddi bir hata durumunu algılar ve sonuç olarak kontrollü bir şekilde çıkar. Program bir terminale hata mesajı yazdırır. Bu uygulamayı daha sağlam hale gelir. İstisnalara örnek olarak yanlış giriş, yanlış dosya adı, dosya bulunamayan hataların zarif bir şekilde ele alınması, uygulamalarımızın çökmesini önler. Hata türlerini engellemek adına try ,except kullanırız.\n",
    "\n",
    "Örnek:\n"
   ]
  },
  {
   "cell_type": "code",
   "execution_count": 3,
   "metadata": {},
   "outputs": [
    {
     "name": "stdout",
     "output_type": "stream",
     "text": [
      "Bazı şeyler yanlış gidiyor\n"
     ]
    }
   ],
   "source": [
    "try:\n",
    "    print(10 + '5')\n",
    "except:\n",
    "    print('Bazı şeyler yanlış gidiyor') # print(içerinde yanlış ifade bulunduruyor)\n"
   ]
  },
  {
   "cell_type": "markdown",
   "metadata": {},
   "source": [
    "Örnek:"
   ]
  },
  {
   "cell_type": "code",
   "execution_count": 4,
   "metadata": {},
   "outputs": [
    {
     "name": "stdout",
     "output_type": "stream",
     "text": [
      "Bazı şeyler yanlış gidiyor.\n"
     ]
    }
   ],
   "source": [
    "try:\n",
    "    name = input('Enter your name:')\n",
    "    year_born = input('Year you were born:')\n",
    "    age = 2022 - year_born\n",
    "    print(f'Senin adın {name}. Senin yaşın {age} dur.')\n",
    "except:\n",
    "    print('Bazı şeyler yanlış gidiyor.')\n"
   ]
  },
  {
   "cell_type": "markdown",
   "metadata": {},
   "source": [
    "Yukarıda sorunun olduğuna dahil bilgiyi aldık fakat ne tür bir sorun olduğunu bilemiyoruz. Aşağıdaki örnekte, hatayı ele alacak ve ayrıca ortaya çıkan hatanın türünü de bize söyleyecektir."
   ]
  },
  {
   "cell_type": "code",
   "execution_count": 5,
   "metadata": {},
   "outputs": [
    {
     "name": "stdout",
     "output_type": "stream",
     "text": [
      "Type error occured\n"
     ]
    }
   ],
   "source": [
    "try:\n",
    "    name = input('ADIN:')\n",
    "    year_born = input('DOĞDUĞUN YIL:')\n",
    "    age = 2022 - year_born\n",
    "    print(f'BENİM ADIM  {name}. {age} YILINDA DOĞDUM.')\n",
    "except TypeError:\n",
    "    print('Type error occured')\n",
    "except ValueError:\n",
    "    print('Value error occured')\n",
    "except ZeroDivisionError:\n",
    "    print('zero division error occured')"
   ]
  },
  {
   "cell_type": "markdown",
   "metadata": {},
   "source": [
    "Yukarıdaki kodda çıktı TypeError olacaktır. Şimdi ek bir blok ekleyelim:"
   ]
  },
  {
   "cell_type": "code",
   "execution_count": 6,
   "metadata": {},
   "outputs": [
    {
     "name": "stdout",
     "output_type": "stream",
     "text": [
      "ad: Büşra\n",
      "doğduğum yıl: 1996\n",
      "BENİM ADIM  Büşra 23 YAŞINDAYIM.\n",
      "Genellikle yazdığım kodları denerim\n",
      "Ben denizde sık sık yüzerim\n"
     ]
    }
   ],
   "source": [
    "try:\n",
    "    name = input('ADIN:')\n",
    "    year_born = input('DOĞDUĞUN YIL:')\n",
    "    age = 2019 - int(year_born)\n",
    "    print('ad:',name)\n",
    "    print('doğduğum yıl:',year_born)\n",
    "    print('BENİM ADIM ',(name),(age) ,'YAŞINDAYIM.')\n",
    "except TypeError:\n",
    "    print('Type error occur')\n",
    "except ValueError:\n",
    "    print('Value error occur')\n",
    "except ZeroDivisionError:\n",
    "    print('zero division error occur')\n",
    "else:\n",
    "    print('Genellikle yazdığım kodları denerim')\n",
    "finally:\n",
    "    print('Ben denizde sık sık yüzerim')"
   ]
  },
  {
   "cell_type": "markdown",
   "metadata": {},
   "source": [
    "Kısaltma olarak aşağıdaki halini de kullanabiliriz."
   ]
  },
  {
   "cell_type": "code",
   "execution_count": 10,
   "metadata": {},
   "outputs": [
    {
     "name": "stdout",
     "output_type": "stream",
     "text": [
      "SENİN ADIN  bÜŞRA 26 YAŞINDASIN.\n"
     ]
    }
   ],
   "source": [
    "try:\n",
    "    name = input('ADINIZ:')\n",
    "    year_born = input('DOĞDUĞUNUZ YIL:')\n",
    "    age = 2022 - int(year_born)\n",
    "    print('SENİN ADIN ',(name) , (age) ,'YAŞINDASIN.')\n",
    "except Exception as e:\n",
    "    print(e)"
   ]
  },
  {
   "cell_type": "markdown",
   "metadata": {},
   "source": [
    "### Packing and Unpacking Arguments in Python(Python'da Argümanları Paketleme ve Paketi Açma)\n",
    "\n",
    "İki operatör kullanırız.\n",
    "\n",
    "•\t*tuples için\n",
    "\n",
    "•\t**dictionaries için(dict())\n",
    "\n",
    "#### Unpacking(Paket Açma)\n"
   ]
  },
  {
   "cell_type": "code",
   "execution_count": 13,
   "metadata": {},
   "outputs": [
    {
     "ename": "TypeError",
     "evalue": "sum_of_five_nums() missing 4 required positional arguments: 'b', 'c', 'd', and 'e'",
     "output_type": "error",
     "traceback": [
      "\u001b[1;31m---------------------------------------------------------------------------\u001b[0m",
      "\u001b[1;31mTypeError\u001b[0m                                 Traceback (most recent call last)",
      "\u001b[1;32mC:\\Users\\BRA~1\\AppData\\Local\\Temp/ipykernel_8928/3343826481.py\u001b[0m in \u001b[0;36m<module>\u001b[1;34m\u001b[0m\n\u001b[0;32m      3\u001b[0m \u001b[1;33m\u001b[0m\u001b[0m\n\u001b[0;32m      4\u001b[0m \u001b[0mlst\u001b[0m  \u001b[1;33m=\u001b[0m \u001b[1;33m[\u001b[0m \u001b[1;36m1\u001b[0m \u001b[1;33m,\u001b[0m \u001b[1;36m2\u001b[0m \u001b[1;33m,\u001b[0m \u001b[1;36m3\u001b[0m \u001b[1;33m,\u001b[0m \u001b[1;36m4\u001b[0m \u001b[1;33m]\u001b[0m\u001b[1;33m\u001b[0m\u001b[1;33m\u001b[0m\u001b[0m\n\u001b[1;32m----> 5\u001b[1;33m \u001b[0mprint\u001b[0m \u001b[1;33m(\u001b[0m \u001b[0msum_of_five_nums\u001b[0m \u001b[1;33m(\u001b[0m \u001b[0mlst\u001b[0m \u001b[1;33m)\u001b[0m\u001b[1;33m)\u001b[0m\u001b[1;33m\u001b[0m\u001b[1;33m\u001b[0m\u001b[0m\n\u001b[0m",
      "\u001b[1;31mTypeError\u001b[0m: sum_of_five_nums() missing 4 required positional arguments: 'b', 'c', 'd', and 'e'"
     ]
    }
   ],
   "source": [
    "def  sum_of_five_nums ( a , b , c , d , e ):\n",
    "    return  a +  b  +  c  +  d  +  e\n",
    "\n",
    "lst  = [ 1 , 2 , 3 , 4 ,5]\n",
    "print ( sum_of_five_nums ( lst ))"
   ]
  },
  {
   "cell_type": "markdown",
   "metadata": {},
   "source": [
    "Bu kodu çalıştırdığımızda bir hata veriyor çünkü bu fonksiyon argüman olarak sayıları (liste değil) alıyor. Listeyi açalım."
   ]
  },
  {
   "cell_type": "code",
   "execution_count": 14,
   "metadata": {},
   "outputs": [
    {
     "name": "stdout",
     "output_type": "stream",
     "text": [
      "15\n"
     ]
    }
   ],
   "source": [
    "def  sum_of_five_nums ( a , b , c , d , e ):\n",
    "    return  a +  b  +  c  +  d  +  e\n",
    "\n",
    "lst  = [ 1 , 2 , 3 , 4 , 5 ]\n",
    "print ( sum_of_five_nums ( * lst ))   "
   ]
  },
  {
   "cell_type": "markdown",
   "metadata": {},
   "source": [
    "Paket açmayı, bir başlangıç ve bir bitiş bekleyen yerleşik işlevde de kullanabiliriz."
   ]
  },
  {
   "cell_type": "code",
   "execution_count": 24,
   "metadata": {},
   "outputs": [
    {
     "name": "stdout",
     "output_type": "stream",
     "text": [
      "[2, 3, 4, 5, 6]\n",
      "[2, 3, 4, 5, 6]\n"
     ]
    }
   ],
   "source": [
    "numbers = range(2, 7)  \n",
    "print(list(numbers))\n",
    "args = [2, 7]\n",
    "numbers = range(*args)\n",
    "print(list(numbers))   "
   ]
  },
  {
   "cell_type": "markdown",
   "metadata": {},
   "source": [
    "List veya tuples için aşağıdaki örneği inceleyelim."
   ]
  },
  {
   "cell_type": "code",
   "execution_count": 25,
   "metadata": {},
   "outputs": [
    {
     "name": "stdout",
     "output_type": "stream",
     "text": [
      "Finland Sweden Norway ['Denmark', 'Iceland']\n",
      "1 [2, 3, 4, 5, 6] 7\n"
     ]
    }
   ],
   "source": [
    "countries = ['Finland', 'Sweden', 'Norway', 'Denmark', 'Iceland']\n",
    "fin, sw, nor, *rest = countries\n",
    "print(fin, sw, nor, rest)   \n",
    "numbers = [1, 2, 3, 4, 5, 6, 7]\n",
    "one, *middle, last = numbers\n",
    "print(one, middle, last)  "
   ]
  },
  {
   "cell_type": "markdown",
   "metadata": {},
   "source": [
    "#### Sözlükleri Açma\n",
    "\n",
    "Örneğimizi inceleyelim.\n"
   ]
  },
  {
   "cell_type": "code",
   "execution_count": 26,
   "metadata": {},
   "outputs": [
    {
     "name": "stdout",
     "output_type": "stream",
     "text": [
      "Büşra  Türkiye İstanbul da yaşıyor. Büşra 25 yaşında.\n"
     ]
    }
   ],
   "source": [
    "def unpacking_person_info(name, country, city, age):\n",
    "    return f'{name}  {country} {city} da yaşıyor. Büşra {age} yaşında.'\n",
    "dct = {'name':'Büşra', 'country':'Türkiye', 'city':'İstanbul', 'age':25}\n",
    "print(unpacking_person_info(**dct)) \n"
   ]
  },
  {
   "cell_type": "markdown",
   "metadata": {},
   "source": [
    "### Paketleme\n",
    "\n",
    "Bazen bir python işlevine kaç argüman iletilmesi gerektiğini asla bilemeyiz. Fonksiyonumuzun sınırsız sayıda veya isteğe bağlı sayıda argüman almasına izin vermek için paketleme yöntemini kullanabiliriz.\n",
    "\n",
    "### Paketleme Listeleri\n"
   ]
  },
  {
   "cell_type": "code",
   "execution_count": 27,
   "metadata": {},
   "outputs": [
    {
     "name": "stdout",
     "output_type": "stream",
     "text": [
      "6\n",
      "28\n"
     ]
    }
   ],
   "source": [
    "def sum_all(*args):\n",
    "    s = 0\n",
    "    for i in args:\n",
    "        s += i\n",
    "    return s\n",
    "print(sum_all(1, 2, 3))             \n",
    "print(sum_all(1, 2, 3, 4, 5, 6, 7))\n"
   ]
  },
  {
   "cell_type": "markdown",
   "metadata": {},
   "source": [
    "\n",
    "#### Paketleme Sözlükleri\n",
    "\n",
    "Örnek:\n"
   ]
  },
  {
   "cell_type": "code",
   "execution_count": 28,
   "metadata": {},
   "outputs": [
    {
     "name": "stdout",
     "output_type": "stream",
     "text": [
      "{key} = {kwargs[key]}\n",
      "{key} = {kwargs[key]}\n",
      "{key} = {kwargs[key]}\n",
      "{key} = {kwargs[key]}\n",
      "{'name': 'Büşra', 'country': 'Türkiye', 'city': 'İstanbul', 'age': 25}\n"
     ]
    }
   ],
   "source": [
    "def packing_person_info(**kwargs):\n",
    "    \n",
    "    for key in kwargs:\n",
    "        print(\"{key} = {kwargs[key]}\")\n",
    "    return kwargs\n",
    "\n",
    "print(packing_person_info(name=\"Büşra\",\n",
    "      country=\"Türkiye\", city=\"İstanbul\", age=25))\n"
   ]
  },
  {
   "cell_type": "markdown",
   "metadata": {},
   "source": [
    "#### Python'da Yayılma"
   ]
  },
  {
   "cell_type": "code",
   "execution_count": 29,
   "metadata": {},
   "outputs": [
    {
     "name": "stdout",
     "output_type": "stream",
     "text": [
      "[0, 1, 2, 3, 4, 5, 6, 7]\n",
      "['Finland', 'Sweden', 'Norway', 'Denmark', 'Iceland']\n"
     ]
    }
   ],
   "source": [
    "lst_one = [1, 2, 3]\n",
    "lst_two = [4, 5, 6, 7]\n",
    "lst = [0, *lst_one, *lst_two]\n",
    "print(lst)          # [0, 1, 2, 3, 4, 5, 6, 7]\n",
    "country_lst_one = ['Finland', 'Sweden', 'Norway']\n",
    "country_lst_two = ['Denmark', 'Iceland']\n",
    "nordic_countries = [*country_lst_one, *country_lst_two]\n",
    "print(nordic_countries)  "
   ]
  },
  {
   "cell_type": "markdown",
   "metadata": {},
   "source": [
    "#### Numaralandırm İşlemi\n",
    "\n",
    "Bir listenin dizini ile ilgileniyorsak, listedeki her bir öğenin dizinini almak için yerleşik numaralandırma işlevini kullanırız.\n"
   ]
  },
  {
   "cell_type": "code",
   "execution_count": 30,
   "metadata": {},
   "outputs": [
    {
     "name": "stdout",
     "output_type": "stream",
     "text": [
      "0 20\n",
      "1 30\n",
      "2 40\n"
     ]
    }
   ],
   "source": [
    "for index, item in enumerate([20, 30, 40]):\n",
    "    print(index, item)\n"
   ]
  },
  {
   "cell_type": "code",
   "execution_count": 34,
   "metadata": {},
   "outputs": [
    {
     "name": "stdout",
     "output_type": "stream",
     "text": [
      "Merhaba\n",
      "Merhaba\n",
      "Merhaba\n",
      "Merhaba\n",
      "Merhaba\n"
     ]
    }
   ],
   "source": [
    "for index, i in enumerate(countries):\n",
    "    print('Merhaba')\n",
    "    if i == 'Türkiye':\n",
    "        print('The country {ü} has been found at index {index}')\n"
   ]
  },
  {
   "cell_type": "markdown",
   "metadata": {},
   "source": [
    "#### Posta Kodu(zip)\n",
    "\n",
    "Bazen listeler arasında dolaşırken birleştirmek isteriz. Aşağıdaki örneği inceleyelim.\n"
   ]
  },
  {
   "cell_type": "code",
   "execution_count": 32,
   "metadata": {},
   "outputs": [
    {
     "name": "stdout",
     "output_type": "stream",
     "text": [
      "[{'fruit': 'banana', 'veg': 'Tomato'}, {'fruit': 'orange', 'veg': 'Potato'}, {'fruit': 'mango', 'veg': 'Cabbage'}, {'fruit': 'lemon', 'veg': 'Onion'}, {'fruit': 'lime', 'veg': 'Carrot'}]\n"
     ]
    }
   ],
   "source": [
    "fruits = ['banana', 'orange', 'mango', 'lemon', 'lime']                    \n",
    "vegetables = ['Tomato', 'Potato', 'Cabbage','Onion', 'Carrot']\n",
    "fruits_and_veges = []\n",
    "for f, v in zip(fruits, vegetables):\n",
    "    fruits_and_veges.append({'fruit':f, 'veg':v})\n",
    "\n",
    "print(fruits_and_veges)\n"
   ]
  },
  {
   "cell_type": "markdown",
   "metadata": {},
   "source": [
    "İstisna işlemler benim konular arasında en sevdiğim diyebilirim aralara yerletirilmiş tüyolar gibi . Diğer günde görüşmek dileğiyle"
   ]
  }
 ],
 "metadata": {
  "interpreter": {
   "hash": "5bb71e04e3d056b3fd374fe835c740c82b88cf9a64babc7a305394decc4b8aa7"
  },
  "kernelspec": {
   "display_name": "Python 3.9.5 64-bit (system)",
   "language": "python",
   "name": "python3"
  },
  "language_info": {
   "codemirror_mode": {
    "name": "ipython",
    "version": 3
   },
   "file_extension": ".py",
   "mimetype": "text/x-python",
   "name": "python",
   "nbconvert_exporter": "python",
   "pygments_lexer": "ipython3",
   "version": "3.9.5"
  },
  "orig_nbformat": 4
 },
 "nbformat": 4,
 "nbformat_minor": 2
}
