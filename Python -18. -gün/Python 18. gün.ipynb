{
 "cells": [
  {
   "cell_type": "markdown",
   "metadata": {},
   "source": [
    "## Regular Expressions(Düzenli İfadeler)\n",
    "\n",
    "Normal ifade veya \"RegEx\", verilerdeki kalıpları bulmaya yardımcı olan özel bir metin dizesidir. Bir \"RegEx\", farklı bir veri türünde bazı desenlerin olup olmadığını kontrol etmek için kullanılabilir. Python'da \"RegEx\"'i kullanmak için önce re adlı \"RegEx\" modülünü içe aktarmalıyız.\n",
    "\n",
    "### The re Module\n",
    "\n",
    "Modülü içe aktardıktan sonra, kalıpları tespit etmek veya bulmak için kullanabiliriz.\n"
   ]
  },
  {
   "cell_type": "code",
   "execution_count": 1,
   "metadata": {},
   "outputs": [],
   "source": [
    "import re"
   ]
  },
  {
   "cell_type": "markdown",
   "metadata": {},
   "source": [
    "### Methods in re Module\n",
    "\n",
    "Farklı re karakterleri kullanırız bazıları aşağıda verilmiştir.\n",
    "\n",
    "•\tre.match() : yalnızca dizenin ilk satırının başında arar ve bulunursa eşleşen nesneleri döndürür, aksi takdirde None değerini döndürür.\n",
    "\n",
    "•\tre.search : Çok satırlı dizeler de dahil olmak üzere dizenin herhangi bir yerinde varsa bir eşleşme nesnesi döndürür.\n",
    "\n",
    "•\tre.findall : Tüm eşleşmeleri içeren bir liste döndürür\n",
    "\n",
    "•\tre.split : Bir dize alır, onu eşleşme noktalarında böler, bir liste döndürür\n",
    "\n",
    "•\tre.sub : Bir dizgedeki bir veya daha fazla eşleşmeyi değiştirir\n",
    "\n",
    "#### Match\n"
   ]
  },
  {
   "cell_type": "code",
   "execution_count": 5,
   "metadata": {},
   "outputs": [
    {
     "name": "stdout",
     "output_type": "stream",
     "text": [
      "<re.Match object; span=(0, 21), match='Ben Python öğrenmeyi '>\n",
      "(0, 21)\n",
      "Ben Python öğrenmeyi \n"
     ]
    }
   ],
   "source": [
    "import re\n",
    "txt='Ben Python öğrenmeyi ve veri analizi yapmayı seviyorum.'\n",
    "match= re.match('Ben Python öğrenmeyi ',txt,re.I)\n",
    "print(match)\n",
    "span=match.span()\n",
    "print(span)#0, 15)\n",
    "start,end=span\n",
    "substring = txt[start:end]\n",
    "print(substring)\n"
   ]
  },
  {
   "cell_type": "markdown",
   "metadata": {},
   "source": [
    "* Satırın başındaki ifade ile uyuşmadığı takdirde None ifadesiyle karşılaşırız."
   ]
  },
  {
   "cell_type": "code",
   "execution_count": 4,
   "metadata": {},
   "outputs": [
    {
     "name": "stdout",
     "output_type": "stream",
     "text": [
      "None\n"
     ]
    },
    {
     "ename": "AttributeError",
     "evalue": "'NoneType' object has no attribute 'span'",
     "output_type": "error",
     "traceback": [
      "\u001b[1;31m---------------------------------------------------------------------------\u001b[0m",
      "\u001b[1;31mAttributeError\u001b[0m                            Traceback (most recent call last)",
      "\u001b[1;32mC:\\Users\\BRA~1\\AppData\\Local\\Temp/ipykernel_3052/1717625516.py\u001b[0m in \u001b[0;36m<module>\u001b[1;34m\u001b[0m\n\u001b[0;32m      3\u001b[0m \u001b[0mmatch\u001b[0m\u001b[1;33m=\u001b[0m \u001b[0mre\u001b[0m\u001b[1;33m.\u001b[0m\u001b[0mmatch\u001b[0m\u001b[1;33m(\u001b[0m\u001b[1;34m'veri analizi yapmayı seviyorum'\u001b[0m\u001b[1;33m,\u001b[0m\u001b[0mtxt\u001b[0m\u001b[1;33m,\u001b[0m\u001b[0mre\u001b[0m\u001b[1;33m.\u001b[0m\u001b[0mI\u001b[0m\u001b[1;33m)\u001b[0m\u001b[1;33m\u001b[0m\u001b[1;33m\u001b[0m\u001b[0m\n\u001b[0;32m      4\u001b[0m \u001b[0mprint\u001b[0m\u001b[1;33m(\u001b[0m\u001b[0mmatch\u001b[0m\u001b[1;33m)\u001b[0m\u001b[1;33m\u001b[0m\u001b[1;33m\u001b[0m\u001b[0m\n\u001b[1;32m----> 5\u001b[1;33m \u001b[0mspan\u001b[0m\u001b[1;33m=\u001b[0m\u001b[0mmatch\u001b[0m\u001b[1;33m.\u001b[0m\u001b[0mspan\u001b[0m\u001b[1;33m(\u001b[0m\u001b[1;33m)\u001b[0m\u001b[1;33m\u001b[0m\u001b[1;33m\u001b[0m\u001b[0m\n\u001b[0m\u001b[0;32m      6\u001b[0m \u001b[0mprint\u001b[0m\u001b[1;33m(\u001b[0m\u001b[0mspan\u001b[0m\u001b[1;33m)\u001b[0m\u001b[1;31m#0, 15)\u001b[0m\u001b[1;33m\u001b[0m\u001b[1;33m\u001b[0m\u001b[0m\n\u001b[0;32m      7\u001b[0m \u001b[0mstart\u001b[0m\u001b[1;33m,\u001b[0m\u001b[0mend\u001b[0m\u001b[1;33m=\u001b[0m\u001b[0mspan\u001b[0m\u001b[1;33m\u001b[0m\u001b[1;33m\u001b[0m\u001b[0m\n",
      "\u001b[1;31mAttributeError\u001b[0m: 'NoneType' object has no attribute 'span'"
     ]
    }
   ],
   "source": [
    "import re\n",
    "txt='Ben Python öğrenmeyi ve veri analizi yapmayı seviyorum..'\n",
    "match= re.match('veri analizi yapmayı seviyorum',txt,re.I)\n",
    "print(match)\n",
    "span=match.span()\n",
    "print(span)#0, 15)\n",
    "start,end=span\n",
    "substring = txt[start:end]\n",
    "print(substring)\n"
   ]
  },
  {
   "cell_type": "markdown",
   "metadata": {},
   "source": [
    "#### Search"
   ]
  },
  {
   "cell_type": "code",
   "execution_count": 6,
   "metadata": {},
   "outputs": [
    {
     "name": "stdout",
     "output_type": "stream",
     "text": [
      "<re.Match object; span=(55, 59), match='many'>\n",
      "(55, 59)\n",
      "55 59\n",
      "many\n"
     ]
    }
   ],
   "source": [
    "import re\n",
    "txt = '''Python is the most creative programming language. Over many programming languages, I recommend Python.'''\n",
    "match = re.search('many', txt, re.I)\n",
    "print(match)   \n",
    "#<re.Match object; span=(55, 59), match='many'>\n",
    "span = match.span()\n",
    "print(span)  \n",
    "(55, 59)   \n",
    "start, end = span\n",
    "print(start, end) \n",
    " #55 59\n",
    "substring = txt[start:end]\n",
    "print(substring) \n"
   ]
  },
  {
   "cell_type": "markdown",
   "metadata": {},
   "source": [
    "Gördüğünüz gibi arama, eşleşmeden çok daha iyidir çünkü metin boyunca deseni arayabilir. Arama, bulunan ilk eşleşmeyle bir eşleşme nesnesi döndürür, aksi takdirde None döndürür. Çok daha iyi bir “re” işlev findall. Bu işlev, tüm dize boyunca kalıbı kontrol eder ve tüm eşleşmeleri bir liste olarak döndürür."
   ]
  },
  {
   "cell_type": "markdown",
   "metadata": {},
   "source": [
    "### Searching for All Matches Using findall(Findall Kullanarak Tüm Eşleşmeleri Arama)"
   ]
  },
  {
   "cell_type": "markdown",
   "metadata": {},
   "source": [
    "* findall() tüm eşleşmeleri bir liste olarak döndürür"
   ]
  },
  {
   "cell_type": "code",
   "execution_count": 7,
   "metadata": {},
   "outputs": [
    {
     "name": "stdout",
     "output_type": "stream",
     "text": [
      "['language', 'language']\n"
     ]
    }
   ],
   "source": [
    "txt = '''Python is the most creative programming language. Over many programming languages, I recommend Python.'''\n",
    "matches = re.findall('language', txt, re.I)\n",
    "print(matches)"
   ]
  },
  {
   "cell_type": "markdown",
   "metadata": {},
   "source": [
    "Gördüğünüz gibi \"language\" kelimesi dizede iki kez bulundu. Biraz daha pratik yapalım. Şimdi dizede hem “Python” hem de “python” kelimelerini arayacağız:"
   ]
  },
  {
   "cell_type": "code",
   "execution_count": 8,
   "metadata": {},
   "outputs": [
    {
     "name": "stdout",
     "output_type": "stream",
     "text": [
      "['Python', 'Python']\n"
     ]
    }
   ],
   "source": [
    "txt = '''Python is the most creative programming language. Over many programming languages, I recommend Python.'''\n",
    "matches = re.findall('python', txt, re.I)\n",
    "print(matches)"
   ]
  },
  {
   "cell_type": "markdown",
   "metadata": {},
   "source": [
    "#### Replacing a Substring(Bir alt dizinin değiştirilmesi)\n",
    "\n",
    "Bir örnek daha ekleyelim. % sembolünü kaldırmadıkça aşağıdaki dizeyi okumak gerçekten zor. % öğesini boş bir dizeyle değiştirmek metni temizleyecektir.\n"
   ]
  },
  {
   "cell_type": "code",
   "execution_count": 9,
   "metadata": {},
   "outputs": [
    {
     "name": "stdout",
     "output_type": "stream",
     "text": [
      "hello, I do data analysis. I usually use python.\n"
     ]
    }
   ],
   "source": [
    "txt = '''h%e%l%l%o, %I %d%o %d%a%t%a %a%n%a%l%y%s%i%s. %I %u%s%u%a%l%l%y %u%s%e %p%y%t%h%o%n%.'''\n",
    "\n",
    "matches = re.sub('%', '', txt)\n",
    "print(matches)\n"
   ]
  },
  {
   "cell_type": "markdown",
   "metadata": {},
   "source": [
    "#### Splitting Text Using RegEx Split(RegEx Split Kullanarak Metni Bölme"
   ]
  },
  {
   "cell_type": "code",
   "execution_count": 10,
   "metadata": {},
   "outputs": [
    {
     "name": "stdout",
     "output_type": "stream",
     "text": [
      "[' hello, I do data analysis. I usually use python.', 'Python is the most creative programming language. ', 'Over many programming languages, I recommend Python.']\n"
     ]
    }
   ],
   "source": [
    "txt=''' hello, I do data analysis. I usually use python.\n",
    "Python is the most creative programming language. \n",
    "Over many programming languages, I recommend Python.'''\n",
    "print(re.split('\\n', txt))"
   ]
  },
  {
   "cell_type": "markdown",
   "metadata": {},
   "source": [
    "#### Writing RegEx Patterns(RegEx Kalıpları Yazma)\n",
    "\n",
    "Bir dize değişkeni bildirmek için tek veya çift tırnak kullanırız. RegEx değişkeni r'' bildirmek için . Büyük/küçük harfe duyarsız hale getirmek için kalıbımızı yeniden yazmalıyız veya bir bayrak eklemeliyiz.\n"
   ]
  },
  {
   "cell_type": "code",
   "execution_count": 11,
   "metadata": {},
   "outputs": [
    {
     "name": "stdout",
     "output_type": "stream",
     "text": [
      "['banana', 'banana']\n"
     ]
    }
   ],
   "source": [
    "import re\n",
    "\n",
    "regex_pattern = r'banana'\n",
    "txt = 'I love melon and banana.There is a lot of vitamin E in apples. There is vitamin K in banana. '\n",
    "matches = re.findall(regex_pattern, txt,re.I)\n",
    "print(matches)\n"
   ]
  },
  {
   "cell_type": "markdown",
   "metadata": {},
   "source": [
    "#### Regular Expression Character"
   ]
  },
  {
   "cell_type": "code",
   "execution_count": 12,
   "metadata": {},
   "outputs": [
    {
     "name": "stdout",
     "output_type": "stream",
     "text": [
      "['banana', 'banana']\n"
     ]
    }
   ],
   "source": [
    "import re\n",
    "regex_pattern = r'banana'\n",
    "txt = 'I love melon and banana.There is a lot of vitamin E in apples. There is vitamin K in banana. '\n",
    "matches = re.findall(regex_pattern, txt,re.I)\n",
    "print(matches)\n"
   ]
  },
  {
   "cell_type": "markdown",
   "metadata": {},
   "source": [
    "•\t[]: Bir dizi karakter\n",
    "\n",
    "[ac] a veya b veya c anlamına gelir\n",
    "\n",
    "[az] a'dan z'ye herhangi bir harf anlamına gelir\n",
    "\n",
    "[AZ], A'dan Z'ye herhangi bir karakter anlamına gelir\n",
    "\n",
    "[0-3], 0 veya 1 veya 2 veya 3 anlamına gelir\n",
    "\n",
    "[0-9] 0'dan 9'a kadar herhangi bir sayı anlamına gelir\n",
    "\n",
    "[A-Za-z0-9] herhangi bir tek karakter, yani a'dan z'ye, A'dan Z'ye veya 0'dan 9'a\n",
    "\n",
    "•\t: özel karakterlerden kaçmak için kullanır\n",
    "\n",
    "\\d şu anlama gelir: dizenin rakamları içerdiği yerde eşleşme (0-9 arası sayılar)\n",
    "\n",
    "\\D şu anlama gelir: dizenin rakam içermediği yerde eşleşme\n",
    "\n",
    ". : yeni satır karakteri (\\n) dışında herhangi bir karakter\n",
    "\n",
    "^: ile başlar\n",
    "\n",
    "•\tr'^substring' örneğin r'^love', aşk kelimesiyle başlayan bir cümle\n",
    "\n",
    "•\tr'[^abc], a değil, b değil, c değil anlamına gelir.\n",
    "\n",
    "•\t$: ile biter\n",
    "\n",
    "•\tr'substring$' örneğin r'love$', aşk kelimesiyle biten cümle\n",
    "\n",
    "•\t*: sıfır veya daha fazla kez\n",
    "\n",
    "r'[a]*' isteğe bağlı anlamına gelir veya birçok kez ortaya çıkabilir.\n",
    "\n",
    "+: bir veya daha fazla kez\n",
    "\n",
    "•\tr'[a]+' en az bir (veya daha fazla) anlamına gelir\n",
    "\n",
    "?: sıfır veya bir kez\n",
    "\n",
    "r'[a]?' sıfır kez veya bir kez anlamına gelir\n",
    "\n",
    "•\t{3}: Tam olarak 3 karakter\n",
    "\n",
    "•\t{3,}: En az 3 karakter\n",
    "\n",
    "•\t{3,8}: 3 ila 8 karakter\n",
    "\n",
    "•\t|: Ya veya\n",
    "\n",
    "*r'apple|muz' ya elma ya da muz anlamına gelir\n",
    "\n",
    "•\t(): Yakala ve grupla\n",
    "\n",
    "\n",
    "\n",
    "#### Square Bracket(Köşeli Ayraç)\n",
    "\n"
   ]
  },
  {
   "cell_type": "code",
   "execution_count": 13,
   "metadata": {},
   "outputs": [
    {
     "name": "stdout",
     "output_type": "stream",
     "text": [
      "['Banana', 'banana']\n"
     ]
    }
   ],
   "source": [
    "import re\n",
    "\n",
    "regex_pattern = r'[Bb]anana'\n",
    "txt = 'Banana is a storehouse of vitamins .There is a lot of vitamin E in apples. There is vitamin K in banana. '\n",
    "matches = re.findall(regex_pattern, txt)\n",
    "print(matches)\n"
   ]
  },
  {
   "cell_type": "markdown",
   "metadata": {},
   "source": [
    "#### RegEx'te kaçış karakteri ()"
   ]
  },
  {
   "cell_type": "code",
   "execution_count": 14,
   "metadata": {},
   "outputs": [
    {
     "name": "stdout",
     "output_type": "stream",
     "text": [
      "['2', '3', '1', '9', '2', '0']\n"
     ]
    }
   ],
   "source": [
    "regex_pattern = r'\\d'  \n",
    "txt = 'TGNA OPENED ON APRIL 23, 1920'\n",
    "matches = re.findall(regex_pattern, txt)\n",
    "print(matches)"
   ]
  },
  {
   "cell_type": "markdown",
   "metadata": {},
   "source": [
    "#### One or more times(+)(Bir veya daha fazla kez)"
   ]
  },
  {
   "cell_type": "code",
   "execution_count": 15,
   "metadata": {},
   "outputs": [
    {
     "name": "stdout",
     "output_type": "stream",
     "text": [
      "['2', '3', '1', '9', '2', '0']\n"
     ]
    }
   ],
   "source": [
    "egex_pattern = r'\\d+' \n",
    "txt = 'TGNA OPENED ON APRIL 23, 1920'\n",
    "matches = re.findall(regex_pattern, txt)\n",
    "print(matches) \n"
   ]
  },
  {
   "cell_type": "markdown",
   "metadata": {},
   "source": [
    "#### Period(.)"
   ]
  },
  {
   "cell_type": "code",
   "execution_count": 17,
   "metadata": {},
   "outputs": [
    {
     "name": "stdout",
     "output_type": "stream",
     "text": [
      "['an', 'an', 'an', 'a ', 'ar']\n",
      "['and banana are fruits']\n"
     ]
    }
   ],
   "source": [
    "regex_pattern = r'[a].'  \n",
    "txt = '''Apple and banana are fruits'''\n",
    "matches = re.findall(regex_pattern, txt)\n",
    "print(matches)  \n",
    "regex_pattern = r'[a].+'  \n",
    "matches = re.findall(regex_pattern, txt)\n",
    "print(matches)"
   ]
  },
  {
   "cell_type": "markdown",
   "metadata": {},
   "source": [
    "#### Zero or more times(*)"
   ]
  },
  {
   "cell_type": "code",
   "execution_count": 18,
   "metadata": {},
   "outputs": [
    {
     "name": "stdout",
     "output_type": "stream",
     "text": [
      "['and banana are fruits']\n"
     ]
    }
   ],
   "source": [
    "regex_pattern = r'[a].*' \n",
    "txt = '''Apple and banana are fruits'''\n",
    "matches = re.findall(regex_pattern, txt)\n",
    "print(matches)  \n"
   ]
  },
  {
   "cell_type": "markdown",
   "metadata": {},
   "source": [
    "#### Zero or one time(?)\n",
    "\n",
    "Sıfır veya bir kez. Model oluşmayabilir veya bir kez oluşabilir.\n"
   ]
  },
  {
   "cell_type": "code",
   "execution_count": 19,
   "metadata": {},
   "outputs": [
    {
     "name": "stdout",
     "output_type": "stream",
     "text": [
      "['python', 'Python', 'Python']\n"
     ]
    }
   ],
   "source": [
    "txt = '''hello, I do data analysis. I usually use python.\n",
    "Python is the most creative programming language. \n",
    "Over many programming languages, I recommend Python.'''\n",
    "regex_pattern = r'[Pp]-?ython' \n",
    "matches = re.findall(regex_pattern, txt)\n",
    "print(matches)\n"
   ]
  },
  {
   "cell_type": "markdown",
   "metadata": {},
   "source": [
    "### Quantifier in RegEx\n",
    "\n",
    "Bir metinde aradığımız alt dizenin uzunluğunu küme parantezini kullanarak belirtebiliriz. 4 karakter uzunluğunda bir alt diziyle ilgilendiğimizi düşünelim:\n"
   ]
  },
  {
   "cell_type": "code",
   "execution_count": 20,
   "metadata": {},
   "outputs": [
    {
     "name": "stdout",
     "output_type": "stream",
     "text": [
      "['1990', '1994']\n"
     ]
    }
   ],
   "source": [
    "txt = 'Python development began in 1990. Python reached version 1.0 in January 1994.'\n",
    "regex_pattern = r'\\d{4}'  \n",
    "matches = re.findall(regex_pattern, txt)\n",
    "print(matches) \n"
   ]
  },
  {
   "cell_type": "markdown",
   "metadata": {},
   "source": [
    "Cart ^\n",
    "\n",
    "•\tStarts with\n",
    "Cümlenin başladığı kelimeyi inceler.\n",
    "\n",
    "\n",
    "\n",
    "•\tNegation\n",
    "\n",
    "Olumsuzlama anlamına gelir.\n"
   ]
  },
  {
   "cell_type": "code",
   "execution_count": 21,
   "metadata": {},
   "outputs": [
    {
     "name": "stdout",
     "output_type": "stream",
     "text": [
      "['1990.', '1.0', '1994.']\n"
     ]
    }
   ],
   "source": [
    "txt = 'Python development began in 1990. Python reached version 1.0 in January 1994.'\n",
    "regex_pattern = r'[^A-Za-z ]+'  \n",
    "matches = re.findall(regex_pattern, txt)\n",
    "print(matches) \n"
   ]
  }
 ],
 "metadata": {
  "interpreter": {
   "hash": "5bb71e04e3d056b3fd374fe835c740c82b88cf9a64babc7a305394decc4b8aa7"
  },
  "kernelspec": {
   "display_name": "Python 3.9.5 64-bit (system)",
   "language": "python",
   "name": "python3"
  },
  "language_info": {
   "codemirror_mode": {
    "name": "ipython",
    "version": 3
   },
   "file_extension": ".py",
   "mimetype": "text/x-python",
   "name": "python",
   "nbconvert_exporter": "python",
   "pygments_lexer": "ipython3",
   "version": "3.9.5"
  },
  "orig_nbformat": 4
 },
 "nbformat": 4,
 "nbformat_minor": 2
}
