{
 "cells": [
  {
   "cell_type": "markdown",
   "metadata": {},
   "source": [
    "# File Handling(Dosya Yönetimi)\n",
    "\n",
    "Verilerimizi genellikle farklı dosya formatlarında saklarız. Dosyaları işlemeye ek olarak, bu bölümde farklı dosya formatlarını da (.txt, .json, .xml, .csv, .tsv, .excel) göreceğiz. İlk olarak, ortak dosya formatına (.txt) sahip dosyaları işlemeye alışalım.\n",
    "\n",
    "Dosya işleme, dosyaları oluşturmamıza, okumamıza, güncellememize ve silmemize izin veren programlamanın içe aktarılan bir parçasıdır. Python'da verileri işlemek için open() yerleşik işlevini kullanırız.\n",
    "\n",
    "## Opening Files for Reading(Dosyaları Okumak İçin Açma)\n",
    "\n",
    "Varsayılan açma modu okumadır, bu nedenle 'r' veya 'rt' belirtmemiz gerekmez. Dosyalar dizininde read_file.txt adlı bir dosya oluşturup kaydettim\n"
   ]
  },
  {
   "cell_type": "code",
   "execution_count": 5,
   "metadata": {},
   "outputs": [
    {
     "ename": "FileNotFoundError",
     "evalue": "[Errno 2] No such file or directory: 'read_file.txt'",
     "output_type": "error",
     "traceback": [
      "\u001b[1;31m---------------------------------------------------------------------------\u001b[0m",
      "\u001b[1;31mFileNotFoundError\u001b[0m                         Traceback (most recent call last)",
      "\u001b[1;32mC:\\Users\\BRA~1\\AppData\\Local\\Temp/ipykernel_13444/2088503456.py\u001b[0m in \u001b[0;36m<module>\u001b[1;34m\u001b[0m\n\u001b[1;32m----> 1\u001b[1;33m \u001b[0mf\u001b[0m  \u001b[1;33m=\u001b[0m  \u001b[0mopen\u001b[0m\u001b[1;33m(\u001b[0m \u001b[1;34m'read_file.txt'\u001b[0m\u001b[1;33m,\u001b[0m\u001b[1;34m'r'\u001b[0m\u001b[1;33m)\u001b[0m\u001b[1;33m\u001b[0m\u001b[1;33m\u001b[0m\u001b[0m\n\u001b[0m\u001b[0;32m      2\u001b[0m \u001b[0mprint\u001b[0m \u001b[1;33m(\u001b[0m \u001b[0mf\u001b[0m \u001b[1;33m)\u001b[0m\u001b[1;33m\u001b[0m\u001b[1;33m\u001b[0m\u001b[0m\n",
      "\u001b[1;31mFileNotFoundError\u001b[0m: [Errno 2] No such file or directory: 'read_file.txt'"
     ]
    }
   ],
   "source": [
    "f  =  open( 'read_file.txt','r')\n",
    "print ( f )\n"
   ]
  },
  {
   "cell_type": "markdown",
   "metadata": {},
   "source": [
    "•\tYukarıdaki örnekte gördüğümüz gibi 'r' değeri görmekteyiz. Okumak için bir dosya açar, dosya yoksa hata verir anlamında yazılır. read() , readline , readlines . Açılan bir dosya close() metodu ile kapatılmalıdır .\n",
    "\n",
    "•\tread()\n",
    "\n",
    "Örnek:\n"
   ]
  },
  {
   "cell_type": "code",
   "execution_count": 7,
   "metadata": {},
   "outputs": [
    {
     "name": "stdout",
     "output_type": "stream",
     "text": [
      "<class 'str'>\n",
      "ad\tsoyad\tyaş\tID\n",
      "FATMA\tAKKAYA\t51\t1514147\n",
      "CLARA\tSOU\t25\t4847847\n",
      "NICY\tBLİND\t45\t5252631\n",
      "\n"
     ]
    }
   ],
   "source": [
    "f = open('read_file.txt','r')\n",
    "txt = f.read()\n",
    "print(type(txt))\n",
    "print(txt)\n",
    "f.close()\n"
   ]
  },
  {
   "cell_type": "markdown",
   "metadata": {},
   "source": [
    "•\tYukarıdaki örnekte gördüğümüz gibi 'r' değeri görmekteyiz. Okumak için bir dosya açar, dosya yoksa hata verir anlamında yazılır. read() , readline , readlines . Açılan bir dosya close() metodu ile kapatılmalıdır .\n",
    "\n",
    "•\tread()\n",
    "\n",
    "Örnek:\n"
   ]
  },
  {
   "cell_type": "code",
   "execution_count": 8,
   "metadata": {},
   "outputs": [
    {
     "name": "stdout",
     "output_type": "stream",
     "text": [
      "<class 'str'>\n",
      "ad\tsoyad\tyaş\tID\n",
      "FATMA\tAKKAYA\t51\t1514147\n",
      "CLARA\tSOU\t25\t4847847\n",
      "NICY\tBLİND\t45\t5252631\n",
      "\n"
     ]
    }
   ],
   "source": [
    "f = open('read_file.txt','r')\n",
    "txt = f.read()\n",
    "print(type(txt))\n",
    "print(txt)\n",
    "f.close()"
   ]
  },
  {
   "cell_type": "markdown",
   "metadata": {},
   "source": [
    "Tüm metni yazdırmak yerine, metin dosyasının ilk 22 karakterini yazdıralım her karakter bir harf niteliğini taşır."
   ]
  },
  {
   "cell_type": "code",
   "execution_count": 11,
   "metadata": {},
   "outputs": [
    {
     "name": "stdout",
     "output_type": "stream",
     "text": [
      "<class 'str'>\n",
      "ad\tsoyad\tyaş\tID\n",
      "FATMA\t\n"
     ]
    }
   ],
   "source": [
    "f = open('read_file.txt','r')\n",
    "txt = f.read(22)\n",
    "print(type(txt))\n",
    "print(txt)\n",
    "f.close()\n"
   ]
  },
  {
   "cell_type": "markdown",
   "metadata": {},
   "source": [
    "readline() : sadece ilk satırı okur. Aşağıda bir dosyanın nasıl açılıp okunacağını gösteren bir örneği inceleyelim."
   ]
  },
  {
   "cell_type": "code",
   "execution_count": 12,
   "metadata": {},
   "outputs": [
    {
     "name": "stdout",
     "output_type": "stream",
     "text": [
      "<class 'str'>\n",
      "ad\tsoyad\tyaş\tID\n",
      "\n"
     ]
    }
   ],
   "source": [
    "f = open('read_file.txt','r')\n",
    "line = f.readline()\n",
    "print(type(line))\n",
    "print(line)\n",
    "f.close()"
   ]
  },
  {
   "cell_type": "markdown",
   "metadata": {},
   "source": [
    "•\treadlines() : tüm metni satır satır okur ve bir satır listesi döndürür şimdi bir dosyanın açılıp okunduğu örneği inceleyelim."
   ]
  },
  {
   "cell_type": "code",
   "execution_count": 13,
   "metadata": {},
   "outputs": [
    {
     "name": "stdout",
     "output_type": "stream",
     "text": [
      "<class 'list'>\n",
      "['ad\\tsoyad\\tyaş\\tID\\n', 'FATMA\\tAKKAYA\\t51\\t1514147\\n', 'CLARA\\tSOU\\t25\\t4847847\\n', 'NICY\\tBLİND\\t45\\t5252631\\n']\n"
     ]
    }
   ],
   "source": [
    "f = open('read_file.txt','r')\n",
    "line = f.readlines()\n",
    "print(type(line))\n",
    "print(line)\n",
    "f.close()"
   ]
  },
  {
   "cell_type": "markdown",
   "metadata": {},
   "source": [
    "Aynı işlemi “f.close()” kullanmak zorunda olmadan “with” ile de halledebiliriz. Aşağıdaki örnek kodu inceleyelim."
   ]
  },
  {
   "cell_type": "code",
   "execution_count": 14,
   "metadata": {},
   "outputs": [
    {
     "name": "stdout",
     "output_type": "stream",
     "text": [
      "<class 'list'>\n",
      "['ad\\tsoyad\\tyaş\\tID', 'FATMA\\tAKKAYA\\t51\\t1514147', 'CLARA\\tSOU\\t25\\t4847847', 'NICY\\tBLİND\\t45\\t5252631']\n"
     ]
    }
   ],
   "source": [
    "with open('read_file.txt','r') as f:\n",
    "    lines = f.read().splitlines()\n",
    "    print(type(lines))\n",
    "    print(lines)"
   ]
  },
  {
   "cell_type": "markdown",
   "metadata": {},
   "source": [
    "#### Opening Files for Writing and Updating(Dosyaları Yazma ve Güncelleme için Açma)\n",
    "\n",
    "Az önce 'r' den bahsetmiştik şimdi ise 'a' ve 'w' ele alalım.\n",
    "\n",
    "\"a\" (ekle ): dosya yeni bir dosya oluşturmazsa, dosyanın sonuna eklenir.\n",
    "\n",
    "\"w\" (yazma): oluşturduğu dosya mevcut değilse, mevcut içeriğin üzerine yazar. Okumakta olduğumuz dosyaya biraz metin ekleyelim:\n",
    "\n",
    "Örnek:\n"
   ]
  },
  {
   "cell_type": "code",
   "execution_count": 17,
   "metadata": {},
   "outputs": [],
   "source": [
    "with open('read_file.txt','w') as f:\n",
    "    f.write('ali ')"
   ]
  },
  {
   "cell_type": "markdown",
   "metadata": {},
   "source": [
    "### Deleting Files(Dosyaları Silme)\n",
    "\n",
    "Dosyayı kaldırmak için aşağıdaki kodu kullanabilriz.\n"
   ]
  },
  {
   "cell_type": "code",
   "execution_count": 18,
   "metadata": {},
   "outputs": [],
   "source": [
    "import os\n",
    "os.remove('read_file.txt')"
   ]
  },
  {
   "cell_type": "markdown",
   "metadata": {},
   "source": [
    "#### File Types(Dosya Türleri)\n",
    "\n",
    "File with txt Extension(txt uzantılı dosya)\n",
    "\n",
    "* txt uzantılı dosya çok yaygın bir veri biçimidir ve önceki bölümde ele aldık. JSON dosyasına geçelim\n",
    "\n",
    "File with json Extension(json uzantılı dosya)\n",
    "\n",
    "* JSON, JavaScript Nesne Gösterimi anlamına gelir. Aslında, dizilenmiş bir JavaScript nesnesi veya Python sözlüğüdür.\n"
   ]
  },
  {
   "cell_type": "code",
   "execution_count": 19,
   "metadata": {},
   "outputs": [],
   "source": [
    "person_json  =  '''{ \n",
    "    \"name\":\"Büşra\", \n",
    "    \"country\":\"Türkiye\", \n",
    "    \"city\":\"İstanbul\", \n",
    "    \"skils\":[ \"c++\", \"R\",\"Python\"] \n",
    "}'''\n"
   ]
  },
  {
   "cell_type": "markdown",
   "metadata": {},
   "source": [
    "#### Changing JSON to Dictionary(json'u sözlüğe değiştrime)\n",
    "\n",
    "Bir JSON'u sözlüğe dönüştürmek için önce json modülünü içe aktarıyoruz ve ardından load() yöntemini kullanıyoruz.\n",
    "\n",
    "Örnek: \n"
   ]
  },
  {
   "cell_type": "code",
   "execution_count": 20,
   "metadata": {},
   "outputs": [
    {
     "name": "stdout",
     "output_type": "stream",
     "text": [
      "<class 'dict'>\n",
      "{'name': 'Büşra', 'country': 'Türkiye', 'city': 'İstanbul', 'skils': ['c++', 'R', 'Python']}\n",
      "Büşra\n"
     ]
    }
   ],
   "source": [
    "import json\n",
    "person_json  =  '''{ \n",
    "    \"name\":\"Büşra\", \n",
    "    \"country\":\"Türkiye\", \n",
    "    \"city\":\"İstanbul\", \n",
    "    \"skils\":[ \"c++\", \"R\",\"Python\"] \n",
    "}'''\n",
    "person_dct = json.loads(person_json)\n",
    "print(type(person_dct))\n",
    "print(person_dct)\n",
    "print(person_dct['name'])\n"
   ]
  },
  {
   "cell_type": "markdown",
   "metadata": {},
   "source": [
    "#### Saving as JSON File(Json dosyası olarak kaydetme)\n",
    "\n",
    "Verilerimizi bir json dosyası olarak da kaydedebiliriz. Aşağıdaki adımları kullanarak json dosyası olarak kaydedelim. Bir json dosyası yazmak için json.dump() yöntemini kullanıyoruz.\n"
   ]
  },
  {
   "cell_type": "code",
   "execution_count": 21,
   "metadata": {},
   "outputs": [],
   "source": [
    "import json\n",
    "person_json  =  { \n",
    "    \"name\":\"Büşra\", \n",
    "    \"country\":\"Türkiye\", \n",
    "    \"city\":\"İstanbul\", \n",
    "    \"skils\":[ \"c++\", \"R\",\"Python\"] \n",
    "}\n",
    "with open('json_example.json', 'w', encoding='utf-8') as f:\n",
    "    json.dump(person_json, f, ensure_ascii=False, indent=4)\n"
   ]
  },
  {
   "cell_type": "markdown",
   "metadata": {},
   "source": [
    "Yukarıda görüldüğü gibi yeni bir dosya olarak kayıt yapmıştır.\n",
    "\n",
    "#### File with csv Extension(csv uzantılı dosya)\n",
    "\n",
    "CSV, virgülle ayrılmış değerler anlamına gelir. CSV, elektronik tablo veya veritabanı gibi tablo verilerini depolamak için kullanılan basit bir dosya biçimidir. CSV, veri biliminde çok yaygın bir veri formatıdır.\n",
    "\n",
    "#### File with xlsx Extension(xlsx uzantılı dosya)\n",
    "\n",
    "Excel dosyalarını okumak için xlrd paketini kurmamız gerekiyor . Bunu pip kullanarak paket kurulumunu yaptıktan sonra ele alacağız.\n"
   ]
  },
  {
   "cell_type": "code",
   "execution_count": null,
   "metadata": {},
   "outputs": [],
   "source": [
    "import xlrd\n",
    "excel_book = xlrd.open_workbook('read_file.xlsx')\n",
    "print(excel_book.nsheets)\n",
    "print(excel_book.sheet_names)\n",
    "\n"
   ]
  },
  {
   "cell_type": "markdown",
   "metadata": {},
   "source": [
    "#### File with xml Extension(xml uzantılı dosyalar)\n",
    "\n",
    "XML, HTML'ye benzeyen başka bir yapılandırılmış veri biçimidir. XML'de etiketler önceden tanımlanmamıştır. İlk satır bir XML bildirimidir. Kişi etiketi, XML'in köküdür. Kişinin bir cinsiyet özelliği vardır Örneği inceleyelim:\n"
   ]
  },
  {
   "cell_type": "code",
   "execution_count": 29,
   "metadata": {},
   "outputs": [
    {
     "name": "stdout",
     "output_type": "stream",
     "text": [
      "Root tag: {urn:schemas-microsoft-com:office:spreadsheet}Workbook\n",
      "Attribute: {}\n",
      "field:  {urn:schemas-microsoft-com:office:office}DocumentProperties\n",
      "field:  {urn:schemas-microsoft-com:office:office}OfficeDocumentSettings\n",
      "field:  {urn:schemas-microsoft-com:office:excel}ExcelWorkbook\n",
      "field:  {urn:schemas-microsoft-com:office:spreadsheet}Styles\n",
      "field:  {urn:schemas-microsoft-com:office:spreadsheet}Worksheet\n"
     ]
    }
   ],
   "source": [
    "import xml.etree.ElementTree as ET\n",
    "tree = ET.parse('read_file.xml')\n",
    "root = tree.getroot()\n",
    "print('Root tag:', root.tag)\n",
    "print('Attribute:', root.attrib)\n",
    "for child in root:\n",
    "    print('field: ', child.tag)\n",
    "    \n"
   ]
  },
  {
   "cell_type": "markdown",
   "metadata": {},
   "source": [
    "Bu anlatımda farklı dosyaları python da açmayı , dosya silme gibi temel dosya işlevlerini gördük. Bu bilgileri yazdığımız kodları excelden veri çekerken kullanacağımızı hatırlatmak isterim ."
   ]
  }
 ],
 "metadata": {
  "interpreter": {
   "hash": "5bb71e04e3d056b3fd374fe835c740c82b88cf9a64babc7a305394decc4b8aa7"
  },
  "kernelspec": {
   "display_name": "Python 3.9.5 64-bit (system)",
   "language": "python",
   "name": "python3"
  },
  "language_info": {
   "codemirror_mode": {
    "name": "ipython",
    "version": 3
   },
   "file_extension": ".py",
   "mimetype": "text/x-python",
   "name": "python",
   "nbconvert_exporter": "python",
   "pygments_lexer": "ipython3",
   "version": "3.9.5"
  },
  "orig_nbformat": 4
 },
 "nbformat": 4,
 "nbformat_minor": 2
}
