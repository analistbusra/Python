{
 "cells": [
  {
   "cell_type": "code",
   "execution_count": 1,
   "metadata": {},
   "outputs": [
    {
     "name": "stdout",
     "output_type": "stream",
     "text": [
      "['MAXYEAR', 'MINYEAR', '__all__', '__builtins__', '__cached__', '__doc__', '__file__', '__loader__', '__name__', '__package__', '__spec__', 'date', 'datetime', 'datetime_CAPI', 'sys', 'time', 'timedelta', 'timezone', 'tzinfo']\n"
     ]
    },
    {
     "data": {
      "text/plain": [
       "['MAXYEAR',\n",
       " 'MINYEAR',\n",
       " '__builtins__',\n",
       " '__cached__',\n",
       " '__doc__',\n",
       " '__file__',\n",
       " '__loader__',\n",
       " '__name__',\n",
       " '__package__',\n",
       " '__spec__',\n",
       " 'date',\n",
       " 'datetime',\n",
       " 'datetime_CAPI',\n",
       " 'sys',\n",
       " 'time',\n",
       " 'timedelta',\n",
       " 'timezone',\n",
       " 'tzinfo']"
      ]
     },
     "execution_count": 1,
     "metadata": {},
     "output_type": "execute_result"
    }
   ],
   "source": [
    "import datetime\n",
    "print(dir(datetime))\n",
    "['MAXYEAR', 'MINYEAR', '__builtins__', '__cached__', '__doc__', '__file__', '__loader__', '__name__', '__package__', '__spec__', 'date', 'datetime', 'datetime_CAPI', 'sys', 'time', 'timedelta', 'timezone', 'tzinfo']"
   ]
  },
  {
   "cell_type": "code",
   "execution_count": 3,
   "metadata": {},
   "outputs": [
    {
     "name": "stdout",
     "output_type": "stream",
     "text": [
      "2021-12-10 00:04:32.215194\n",
      "10 12 2021 0 4\n",
      "timestamp 1639083872.215194\n",
      "10/12/2021, 0:4\n"
     ]
    }
   ],
   "source": [
    "from datetime import datetime\n",
    "now = datetime.now()\n",
    "print(now)                      # 2021-12-10 00:02:35.692810\n",
    "day = now.day                   # 10\n",
    "month = now.month               # 12\n",
    "year = now.year                 # 2021\n",
    "hour = now.hour                 # 0\n",
    "minute = now.minute             # 2\n",
    "second = now.second\n",
    "timestamp = now.timestamp()\n",
    "print(day, month, year, hour, minute)\n",
    "print('timestamp', timestamp)\n",
    "print(f'{day}/{month}/{year}, {hour}:{minute}') #10/12/2021, 0:2\n"
   ]
  },
  {
   "cell_type": "code",
   "execution_count": 9,
   "metadata": {},
   "outputs": [
    {
     "name": "stdout",
     "output_type": "stream",
     "text": [
      "2020-01-01 00:00:00\n",
      "1 1 2020 0 0\n",
      "1/1/2020, 0:0\n"
     ]
    }
   ],
   "source": [
    "from datetime import datetime\n",
    "new_year = datetime(2020, 1, 1)\n",
    "print(new_year)      # 2020-01-01 00:00:00\n",
    "day = new_year.day\n",
    "month = new_year.month\n",
    "year = new_year.year\n",
    "hour = new_year.hour\n",
    "minute = new_year.minute\n",
    "second = new_year.second\n",
    "print(day, month, year, hour, minute) #1 1 2020 0 0\n",
    "print(f'{day}/{month}/{year}, {hour}:{minute}')\n"
   ]
  },
  {
   "cell_type": "code",
   "execution_count": 10,
   "metadata": {},
   "outputs": [
    {
     "name": "stdout",
     "output_type": "stream",
     "text": [
      "time: 00:14:23\n",
      "time one: 12/10/2021, 00:14:23\n",
      "time two: 10/12/2021, 00:14:23\n"
     ]
    }
   ],
   "source": [
    "from datetime import datetime\n",
    "# current date and time\n",
    "now = datetime.now()\n",
    "t = now.strftime(\"%H:%M:%S\")\n",
    "print(\"time:\", t)\n",
    "# time: 00:14:23\n",
    "time_one = now.strftime(\"%m/%d/%Y, %H:%M:%S\")\n",
    "# mm/dd/YY H:M:S format\n",
    "print(\"time one:\", time_one)\n",
    "#time one: 12/10/2021, 00:14:23\n",
    "time_two = now.strftime(\"%d/%m/%Y, %H:%M:%S\")\n",
    "# dd/mm/YY H:M:S format\n",
    "print(\"time two:\", time_two)\n",
    "#time two: 10/12/2021, 00:14:23\n"
   ]
  },
  {
   "cell_type": "code",
   "execution_count": 22,
   "metadata": {},
   "outputs": [
    {
     "name": "stdout",
     "output_type": "stream",
     "text": [
      "date_string = 5 December, 2019\n",
      "date_object = 2019-12-05 00:00:00\n"
     ]
    }
   ],
   "source": [
    "from datetime import datetime\n",
    "date_string = \"5 December, 2019\"\n",
    "print(\"date_string =\", date_string)\n",
    "#date_string = 5 December, 2019\n",
    "date_object = datetime.strptime(date_string, \"%d %B, %Y\")\n",
    "print(\"date_object =\", date_object)\n",
    "#date_object = 2019-12-05 00:00:00"
   ]
  },
  {
   "cell_type": "code",
   "execution_count": 12,
   "metadata": {},
   "outputs": [
    {
     "name": "stdout",
     "output_type": "stream",
     "text": [
      "2020-08-04\n",
      "Current date: 2021-12-10\n",
      "Current year: 2021\n",
      "Current month: 12\n",
      "Current day: 10\n"
     ]
    }
   ],
   "source": [
    "from datetime import date\n",
    "d = date(2020, 8, 4)\n",
    "print(d)\n",
    "#2020-08-04\n",
    "print('Current date:', d.today())    # Current date: 2021-12-10\n",
    "today = date.today()\n",
    "print(\"Current year:\", today.year)   # Current year: 2021\n",
    "print(\"Current month:\", today.month) # Current month: 12\n",
    "print(\"Current day:\", today.day)     # Current day: 10\n"
   ]
  },
  {
   "cell_type": "code",
   "execution_count": 13,
   "metadata": {},
   "outputs": [
    {
     "name": "stdout",
     "output_type": "stream",
     "text": [
      "a = 00:00:00\n",
      "b = 10:30:50\n",
      "c = 10:30:50\n",
      "d = 10:30:50.200555\n"
     ]
    }
   ],
   "source": [
    "from datetime import time\n",
    "# time(hour = 0, minute = 0, second = 0)\n",
    "a = time()\n",
    "print(\"a =\", a)\n",
    "#a = 00:00:00\n",
    "b = time(10, 30, 50)\n",
    "print(\"b =\", b)\n",
    "# b = 10:30:50\n",
    "c = time(hour=10, minute=30, second=50)\n",
    "print(\"c =\", c)\n",
    "# c = 10:30:50\n",
    "d = time(10, 30, 50, 200555)\n",
    "print(\"d =\", d)\n",
    "#d = 10:30:50.200555"
   ]
  },
  {
   "cell_type": "code",
   "execution_count": 17,
   "metadata": {},
   "outputs": [
    {
     "name": "stdout",
     "output_type": "stream",
     "text": [
      "Yeni yıla kalan süre:  21 days, 0:00:00\n",
      "Yeni yıla kalan süre: 20 days, 23:01:00\n"
     ]
    }
   ],
   "source": [
    "today = date(year=2021, month=12, day=11)\n",
    "new_year = date(year=2022, month=1, day=1)\n",
    "time_left_for_newyear = new_year - today\n",
    "print('Yeni yıla kalan süre: ', time_left_for_newyear)\n",
    "#Yeni yıla kalan süre:  21 days, 0:00:00\n",
    "t1 = datetime(year = 2021, month = 12, day = 11, hour = 0, minute = 59, second = 0)\n",
    "t2 = datetime(year = 2022, month = 1, day = 1, hour = 0, minute = 0, second = 0)\n",
    "diff = t2 - t1\n",
    "print('Yeni yıla kalan süre:', diff)\n",
    "#Yeni yıla kalan süre: 20 days, 23:01:00"
   ]
  },
  {
   "cell_type": "code",
   "execution_count": 26,
   "metadata": {},
   "outputs": [
    {
     "name": "stdout",
     "output_type": "stream",
     "text": [
      "data_strings: 11 jULY\n",
      "t3 = 53 days, 1:51:20\n"
     ]
    }
   ],
   "source": [
    "from datetime import timedelta\n",
    "t1 = timedelta(weeks=7, days=11, hours=3, seconds=50)\n",
    "t2 = timedelta(days=7, hours=1, minutes=9, seconds=30)\n",
    "t3 = t1 - t2\n",
    "data_strings='11 jULY'\n",
    "print('data_strings:',data_strings)\n",
    "print(\"t3 =\", t3)\n",
    "#data_strings: 11 jULY\n",
    "#t3 = 53 days, 1:51:20"
   ]
  }
 ],
 "metadata": {
  "interpreter": {
   "hash": "5bb71e04e3d056b3fd374fe835c740c82b88cf9a64babc7a305394decc4b8aa7"
  },
  "kernelspec": {
   "display_name": "Python 3.9.5 64-bit (system)",
   "language": "python",
   "name": "python3"
  },
  "language_info": {
   "codemirror_mode": {
    "name": "ipython",
    "version": 3
   },
   "file_extension": ".py",
   "mimetype": "text/x-python",
   "name": "python",
   "nbconvert_exporter": "python",
   "pygments_lexer": "ipython3",
   "version": "3.9.5"
  },
  "orig_nbformat": 4
 },
 "nbformat": 4,
 "nbformat_minor": 2
}
