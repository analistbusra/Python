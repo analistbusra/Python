{
 "cells": [
  {
   "cell_type": "markdown",
   "metadata": {},
   "source": [
    "# Sözlükler (Dictionaries)\n",
    "\n",
    "Sözlük, sırasız, değiştirilebilir (değişebilir) eşleştirilmiş (anahtar: değer) veri türünün bir kümesidir.\n",
    "\n",
    "### Sözlük Oluşturma\n",
    "Bir sözlük oluşturmak için küme parantezleri, {} veya yerleşik dict() işlevini kullanırız.\n",
    "\n",
    "Örnek:1\n"
   ]
  },
  {
   "cell_type": "code",
   "execution_count": 1,
   "metadata": {},
   "outputs": [],
   "source": [
    "kümeler={}\n",
    "dict={'kelime1':'değer','kelime2':'değer'}\n"
   ]
  },
  {
   "cell_type": "markdown",
   "metadata": {},
   "source": [
    "Örnek:2"
   ]
  },
  {
   "cell_type": "code",
   "execution_count": 3,
   "metadata": {},
   "outputs": [
    {
     "name": "stdout",
     "output_type": "stream",
     "text": [
      "{'ad': 'Büşra', 'Soyad': 'Akkaya', 'ülke': 'Türkiye', 'şehir': 'İstanbul', 'yetenekleri': ['R', 'SPSS', 'Matlab', 'Pthon']}\n"
     ]
    }
   ],
   "source": [
    "üye_bilgisi={'ad':'Büşra','Soyad':'Akkaya',\n",
    "'ülke':'Türkiye','şehir':'İstanbul',\n",
    "'yetenekleri':['R','SPSS','Matlab','Pthon']}\n",
    "print(üye_bilgisi)"
   ]
  },
  {
   "cell_type": "markdown",
   "metadata": {},
   "source": [
    "### Sözlük Uzunluğu\n",
    "\n",
    "len() komutu ile sözlük içerisinde kaç adet çift olduğunu bize söyler.\n",
    "\n",
    "Örnek:1\n"
   ]
  },
  {
   "cell_type": "code",
   "execution_count": 4,
   "metadata": {},
   "outputs": [
    {
     "name": "stdout",
     "output_type": "stream",
     "text": [
      "4\n"
     ]
    }
   ],
   "source": [
    "DCT  = { 'anahtar1' : 'deger1' , 'anahtar2' : 'deger2' , 'anahtar3' : 'deger3' , 'key4' : 'VALUE4' }\n",
    "print( len ( DCT ))"
   ]
  },
  {
   "cell_type": "markdown",
   "metadata": {},
   "source": [
    "Örnek:2"
   ]
  },
  {
   "cell_type": "code",
   "execution_count": 5,
   "metadata": {},
   "outputs": [
    {
     "name": "stdout",
     "output_type": "stream",
     "text": [
      "5\n"
     ]
    }
   ],
   "source": [
    "üye_bilgisi={'ad':'Büşra','Soyad':'Akkaya',\n",
    "'ülke':'Türkiye','şehir':'İstanbul',\n",
    "'yetenekleri':'veri analizi'}\n",
    "print(len(üye_bilgisi))"
   ]
  },
  {
   "cell_type": "markdown",
   "metadata": {},
   "source": [
    "### Sözlük Öğelerine Erişim\n",
    "\n",
    "İstediğimiz değişkene karşılık gelen değeri görebiliriz.\n",
    "\n",
    "Örnek:\n"
   ]
  },
  {
   "cell_type": "code",
   "execution_count": 6,
   "metadata": {},
   "outputs": [
    {
     "name": "stdout",
     "output_type": "stream",
     "text": [
      "Büşra\n",
      "Akkaya\n"
     ]
    }
   ],
   "source": [
    "üye_bilgisi={'ad':'Büşra','Soyad':'Akkaya',\n",
    "'ülke':'Türkiye','şehir':'İstanbul',\n",
    "'yetenekleri':'veri analizi'}\n",
    "print(üye_bilgisi['ad'])  \n",
    "print(üye_bilgisi['Soyad'])  "
   ]
  },
  {
   "cell_type": "markdown",
   "metadata": {},
   "source": [
    "### Sözlüğe Öğe Ekleme\n",
    "\n",
    "Bir sözlüğe yeni anahtar ve değer çiftleri ekleyebiliriz.\n",
    "\n",
    "Örnek:\n"
   ]
  },
  {
   "cell_type": "code",
   "execution_count": 7,
   "metadata": {},
   "outputs": [
    {
     "name": "stdout",
     "output_type": "stream",
     "text": [
      "{'ad': 'Büşra', 'Soyad': 'Akkaya', 'ülke': 'Türkiye', 'şehir': 'İstanbul', 'yetenekleri': 'veri analizi', 'YAŞ': '25', 'EVLİ_BEKAR': 'BEKAR'}\n"
     ]
    }
   ],
   "source": [
    "üye_bilgisi={'ad':'Büşra','Soyad':'Akkaya',\n",
    "'ülke':'Türkiye','şehir':'İstanbul',\n",
    "'yetenekleri':'veri analizi'}\n",
    "üye_bilgisi['YAŞ']='25'\n",
    "üye_bilgisi['EVLİ_BEKAR']='BEKAR'\n",
    "print(üye_bilgisi)"
   ]
  },
  {
   "cell_type": "markdown",
   "metadata": {},
   "source": [
    "### Sözlükteki Öğeleri Değiştirme\n",
    "\n",
    "Bir sözlükteki öğeleri değiştirmek istersek yeniden tanımlamak adına eski değişken ve yeni adı olmak üzere aynı satırda yazılır. “yaş“ “26” olsun ve “ad“ “Fatma” olarak değişsin istiyorum aşağıdaki kod yazılır örneği inceleyelim.\n",
    "\n",
    "Örnek:\n"
   ]
  },
  {
   "cell_type": "code",
   "execution_count": 8,
   "metadata": {},
   "outputs": [
    {
     "name": "stdout",
     "output_type": "stream",
     "text": [
      "{'ad': 'Fatma', 'Soyad': 'Akkaya', 'yaş': '25', 'evli_bekar': 'bekar', 'ülke': 'Türkiye', 'şehir': 'İstanbul', 'yetenekleri': 'veri analizi', 'YAŞ': '26'}\n"
     ]
    }
   ],
   "source": [
    "üye_bilgisi={'ad':'Büşra','Soyad':'Akkaya','yaş':'25','evli_bekar':'bekar','ülke':'Türkiye','şehir':'İstanbul',\n",
    "'yetenekleri':'veri analizi'}\n",
    "üye_bilgisi['YAŞ']='26'\n",
    "üye_bilgisi['ad']='Fatma'\n",
    "print(üye_bilgisi)"
   ]
  },
  {
   "cell_type": "markdown",
   "metadata": {},
   "source": [
    "### Sözlükte Anahtarları Kontrol Etme\n",
    "\n",
    "Sözlükte bir anahtarın olup olmadığını kontrol etmek için in operatörünü kullanırız.\n",
    "\n",
    "Örnek:\n"
   ]
  },
  {
   "cell_type": "code",
   "execution_count": 9,
   "metadata": {},
   "outputs": [
    {
     "name": "stdout",
     "output_type": "stream",
     "text": [
      "True\n",
      "False\n"
     ]
    }
   ],
   "source": [
    "dct = {'anahtar1':'xxxx', 'anahtar2':'xyxyx', 'anahtar3':'xhyxyx', 'anahtar4':'abah'}\n",
    "print('anahtar2' in dct) \n",
    "print('key10' in dct) "
   ]
  },
  {
   "cell_type": "markdown",
   "metadata": {},
   "source": [
    "### Bir Sözlükten Anahtar ve Değer Çiftlerini Kaldırma\n",
    "\n",
    "pop(key) : belirtilen anahtar adına sahip öğeyi kaldırır\n",
    "\n",
    "popitem() : son öğeyi kaldırır \n",
    "\n",
    "del : belirtilen anahtar adına sahip bir öğeyi kaldırır\n",
    "\n",
    "Dilerseniz bu komutları örneklerle inceleyelim üç farklı şekilde öğe silmeyi aşağıda görebiliriz.\n",
    "\n",
    "Örnek:\n"
   ]
  },
  {
   "cell_type": "code",
   "execution_count": 10,
   "metadata": {},
   "outputs": [
    {
     "name": "stdout",
     "output_type": "stream",
     "text": [
      "{'Soyad': 'Akkaya', 'yaş': '25', 'evli_bekar': 'bekar', 'ülke': 'Türkiye', 'şehir': 'İstanbul', 'yetenekleri': 'veri analizi'}\n",
      "{'yaş': '25', 'evli_bekar': 'bekar', 'ülke': 'Türkiye', 'şehir': 'İstanbul', 'yetenekleri': 'veri analizi'}\n"
     ]
    }
   ],
   "source": [
    "üye_bilgisi={'ad': 'Fatma', 'Soyad': 'Akkaya', 'yaş': '25', 'evli_bekar': 'bekar', 'ülke': 'Türkiye', 'şehir': 'İstanbul', 'yetenekleri': 'veri analizi', 'YAŞ': '26'}\n",
    "üye_bilgisi.pop('ad')\n",
    "üye_bilgisi.popitem() \n",
    "print(üye_bilgisi)\n",
    "del üye_bilgisi['Soyad']\n",
    "print(üye_bilgisi)\n"
   ]
  },
  {
   "cell_type": "markdown",
   "metadata": {},
   "source": [
    "### Sözlüğü Öğe Listesine Değiştirme\n",
    "\n",
    "items() komutu ile bir sözlüğü listeye çevirmek için yapmamız gereken aşamaları aşağıda görebiliriz.\n"
   ]
  },
  {
   "cell_type": "code",
   "execution_count": 11,
   "metadata": {},
   "outputs": [
    {
     "name": "stdout",
     "output_type": "stream",
     "text": [
      "dict_items([('ad', 'Fatma'), ('Soyad', 'Akkaya'), ('yaş', '25'), ('evli_bekar', 'bekar'), ('ülke', 'Türkiye'), ('şehir', 'İstanbul'), ('yetenekleri', 'veri analizi'), ('YAŞ', '26')])\n"
     ]
    }
   ],
   "source": [
    "üye_bilgisi={'ad': 'Fatma', 'Soyad': 'Akkaya', 'yaş': '25', 'evli_bekar': 'bekar', 'ülke': 'Türkiye', 'şehir': 'İstanbul', 'yetenekleri': 'veri analizi', 'YAŞ': '26'}\n",
    "print(üye_bilgisi.items())"
   ]
  },
  {
   "cell_type": "markdown",
   "metadata": {},
   "source": [
    "### Sözlük Temizleme\n",
    "\n",
    "Bir sözlükteki öğeleri istiyorsak, bunları clear() yöntemini kullanarak temizleyebiliriz.\n"
   ]
  },
  {
   "cell_type": "code",
   "execution_count": 12,
   "metadata": {},
   "outputs": [
    {
     "name": "stdout",
     "output_type": "stream",
     "text": [
      "<built-in method clear of dict object at 0x00000155F086BF80>\n"
     ]
    }
   ],
   "source": [
    "üye_bilgisi={'ad': 'Fatma', 'Soyad': 'Akkaya', 'yaş': '25', 'evli_bekar': 'bekar', 'ülke': 'Türkiye', 'şehir': 'İstanbul', 'yetenekleri': 'veri analizi', 'YAŞ': '26'}\n",
    "print(üye_bilgisi.clear)\n"
   ]
  },
  {
   "cell_type": "markdown",
   "metadata": {},
   "source": [
    "### Sözlük Silme\n",
    "\n",
    "Sözlüğü kullanmıyorsak tamamen silebiliriz.\n"
   ]
  },
  {
   "cell_type": "code",
   "execution_count": 13,
   "metadata": {},
   "outputs": [],
   "source": [
    "üye_bilgisi={'ad': 'Fatma', 'Soyad': 'Akkaya', 'yaş': '25', 'evli_bekar': 'bekar', 'ülke': 'Türkiye', 'şehir': 'İstanbul', 'yetenekleri': 'veri analizi', 'YAŞ': '26'}\n",
    "del(üye_bilgisi)\n"
   ]
  },
  {
   "cell_type": "markdown",
   "metadata": {},
   "source": [
    "### Bir Sözlüğü Kopyala\n",
    "\n",
    "copy() yöntemini kullanarak bir sözlüğü kopyalayabiliriz . Kopya kullanarak gerçek sözlüğün değişimlerini önleyebiliriz.\n"
   ]
  },
  {
   "cell_type": "code",
   "execution_count": 14,
   "metadata": {},
   "outputs": [],
   "source": [
    "üye_bilgisi={'ad':'Büşra','Soyad':'Akkaya',\n",
    "'ülke':'Türkiye','şehir':'İstanbul',\n",
    "'yetenekleri':'veri analizi'}\n",
    "gerçek=üye_bilgisi.copy()"
   ]
  },
  {
   "cell_type": "markdown",
   "metadata": {},
   "source": [
    "### Sözlük Anahtarlarını Liste Olarak Alma\n",
    "\n",
    "keys () metodu bize bir liste olarak sözlüğün tüm anahtarları verir. Örneğimizi inceleyelim.\n"
   ]
  },
  {
   "cell_type": "code",
   "execution_count": 23,
   "metadata": {},
   "outputs": [
    {
     "name": "stdout",
     "output_type": "stream",
     "text": [
      "dict_keys(['Ahmet', 'Beyza', 'Beste', 'Mehmet'])\n"
     ]
    }
   ],
   "source": [
    "dct = {'Ahmet':'value1', 'Beyza':'value2', 'Beste':'value3', 'Mehmet':'value4'}\n",
    "keys = dct.keys()\n",
    "print(keys)   "
   ]
  },
  {
   "cell_type": "markdown",
   "metadata": {},
   "source": [
    "### Sözlük Değerlerini Liste Olarak Alma\n",
    "\n",
    "values() komutu ile sadece değer kısmındaki değişkenleri listeye dönüştürür.\n"
   ]
  },
  {
   "cell_type": "code",
   "execution_count": 24,
   "metadata": {},
   "outputs": [
    {
     "name": "stdout",
     "output_type": "stream",
     "text": [
      "dict_values(['value1', 'value2', 'value3', 'value4'])\n"
     ]
    }
   ],
   "source": [
    "dct = {'Ahmet':'value1', 'Beyza':'value2', 'Beste':'value3', 'Mehmet':'value4'}\n",
    "values = dct.values()\n",
    "print(values)"
   ]
  },
  {
   "cell_type": "markdown",
   "metadata": {},
   "source": [
    "Bugün sözlük yapısını inceledik diğer günlerde sizlerle Python ile farklı bilgiler paylaşacağım."
   ]
  }
 ],
 "metadata": {
  "interpreter": {
   "hash": "5bb71e04e3d056b3fd374fe835c740c82b88cf9a64babc7a305394decc4b8aa7"
  },
  "kernelspec": {
   "display_name": "Python 3.9.5 64-bit (system)",
   "language": "python",
   "name": "python3"
  },
  "language_info": {
   "codemirror_mode": {
    "name": "ipython",
    "version": 3
   },
   "file_extension": ".py",
   "mimetype": "text/x-python",
   "name": "python",
   "nbconvert_exporter": "python",
   "pygments_lexer": "ipython3",
   "version": "3.9.5"
  },
  "orig_nbformat": 4
 },
 "nbformat": 4,
 "nbformat_minor": 2
}
