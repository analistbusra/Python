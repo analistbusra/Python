{
 "cells": [
  {
   "cell_type": "code",
   "execution_count": 7,
   "metadata": {},
   "outputs": [
    {
     "name": "stdout",
     "output_type": "stream",
     "text": [
      "<_io.TextIOWrapper name='read_file.txt' mode='r' encoding='cp1254'>\n"
     ]
    }
   ],
   "source": [
    "f  =  open( 'read_file.txt','r')\n",
    "print ( f )\n",
    "#<_io.TextIOWrapper name='read_file.txt' mode='r' encoding='cp1254'>"
   ]
  },
  {
   "cell_type": "code",
   "execution_count": 8,
   "metadata": {},
   "outputs": [
    {
     "name": "stdout",
     "output_type": "stream",
     "text": [
      "<class 'str'>\n",
      "\n"
     ]
    }
   ],
   "source": [
    "f = open('read_file.txt','r')\n",
    "txt = f.read()\n",
    "print(type(txt))\n",
    "print(txt)\n",
    "f.close()\n",
    "<class 'str'>\n"
   ]
  },
  {
   "cell_type": "code",
   "execution_count": 9,
   "metadata": {},
   "outputs": [
    {
     "name": "stdout",
     "output_type": "stream",
     "text": [
      "<class 'str'>\n",
      "\n"
     ]
    }
   ],
   "source": [
    "f = open('read_file.txt','r')\n",
    "txt = f.read(10)\n",
    "print(type(txt))\n",
    "print(txt)\n",
    "f.close()"
   ]
  },
  {
   "cell_type": "code",
   "execution_count": 13,
   "metadata": {},
   "outputs": [
    {
     "name": "stdout",
     "output_type": "stream",
     "text": [
      "<class 'list'>\n",
      "[]\n"
     ]
    }
   ],
   "source": [
    "f = open()\n",
    "line = f.readlines()\n",
    "print(type(line))\n",
    "print(line)\n",
    "f.close()"
   ]
  },
  {
   "cell_type": "code",
   "execution_count": 14,
   "metadata": {},
   "outputs": [
    {
     "name": "stdout",
     "output_type": "stream",
     "text": [
      "<class 'list'>\n",
      "[]\n"
     ]
    }
   ],
   "source": [
    "with open('read_file.txt','r') as f:\n",
    "    lines = f.read().splitlines()\n",
    "    print(type(lines))\n",
    "    print(lines)"
   ]
  },
  {
   "cell_type": "code",
   "execution_count": 16,
   "metadata": {},
   "outputs": [],
   "source": [
    "with open('read_file.txt','w') as f:\n",
    "    f.write('ali ')"
   ]
  },
  {
   "cell_type": "code",
   "execution_count": 17,
   "metadata": {},
   "outputs": [],
   "source": [
    "import os\n",
    "os.remove('read_file.txt')\n"
   ]
  },
  {
   "cell_type": "code",
   "execution_count": 21,
   "metadata": {},
   "outputs": [
    {
     "name": "stdout",
     "output_type": "stream",
     "text": [
      "<class 'dict'>\n",
      "{'name': 'Büşra', 'country': 'Türkiye', 'city': 'İstanbul', 'skils': ['c++', 'R', 'Python']}\n",
      "Büşra\n"
     ]
    }
   ],
   "source": [
    "import json\n",
    "person_json  =  '''{ \n",
    "    \"name\":\"Büşra\", \n",
    "    \"country\":\"Türkiye\", \n",
    "    \"city\":\"İstanbul\", \n",
    "    \"skils\":[ \"c++\", \"R\",\"Python\"] \n",
    "}'''\n",
    "# json sözlükte değiştirelim\n",
    "person_dct = json.loads(person_json)\n",
    "print(type(person_dct))\n",
    "print(person_dct)\n",
    "print(person_dct['name'])\n"
   ]
  },
  {
   "cell_type": "code",
   "execution_count": 28,
   "metadata": {},
   "outputs": [
    {
     "name": "stdout",
     "output_type": "stream",
     "text": [
      "<class 'str'>\n",
      "{ \n",
      "    \"name\":\"Büşra\", \n",
      "    \"country\":\"Türkiye\", \n",
      "    \"city\":\"İstanbul\", \n",
      "    \"skils\":[ \"c++\", \"R\",\"Python\"] \n",
      "}\n"
     ]
    }
   ],
   "source": [
    "import json\n",
    "person_json  =  '''{ \n",
    "    \"name\":\"Büşra\", \n",
    "    \"country\":\"Türkiye\", \n",
    "    \"city\":\"İstanbul\", \n",
    "    \"skils\":[ \"c++\", \"R\",\"Python\"] \n",
    "}'''\n",
    "person= json.dumps(person_json, indent=4) \n",
    "print(type(person_json))\n",
    "print(person_json)"
   ]
  },
  {
   "cell_type": "code",
   "execution_count": 30,
   "metadata": {},
   "outputs": [],
   "source": [
    "import json\n",
    "person_json  =  { \n",
    "    \"name\":\"Büşra\", \n",
    "    \"country\":\"Türkiye\", \n",
    "    \"city\":\"İstanbul\", \n",
    "    \"skils\":[ \"c++\", \"R\",\"Python\"] \n",
    "}\n",
    "with open('json_example.json', 'w', encoding='utf-8') as f:\n",
    "    json.dump(person, f, ensure_ascii=False, indent=4)"
   ]
  },
  {
   "cell_type": "code",
   "execution_count": 40,
   "metadata": {},
   "outputs": [
    {
     "ename": "SyntaxError",
     "evalue": "EOL while scanning string literal (Temp/ipykernel_5824/1607261796.py, line 2)",
     "output_type": "error",
     "traceback": [
      "\u001b[1;36m  File \u001b[1;32m\"C:\\Users\\BRA~1\\AppData\\Local\\Temp/ipykernel_5824/1607261796.py\"\u001b[1;36m, line \u001b[1;32m2\u001b[0m\n\u001b[1;33m    excel_book = xlrd.open_workbook('read_file.xls)\u001b[0m\n\u001b[1;37m                                                   ^\u001b[0m\n\u001b[1;31mSyntaxError\u001b[0m\u001b[1;31m:\u001b[0m EOL while scanning string literal\n"
     ]
    }
   ],
   "source": [
    "import xlrd\n",
    "excel_book = xlrd.open_workbook('read_file.xls)\n",
    "print(excel_book.nsheets)\n",
    "print(excel_book.sheet_names)\n"
   ]
  },
  {
   "cell_type": "code",
   "execution_count": 42,
   "metadata": {},
   "outputs": [
    {
     "ename": "SyntaxError",
     "evalue": "invalid syntax (Temp/ipykernel_5824/596003348.py, line 1)",
     "output_type": "error",
     "traceback": [
      "\u001b[1;36m  File \u001b[1;32m\"C:\\Users\\BRA~1\\AppData\\Local\\Temp/ipykernel_5824/596003348.py\"\u001b[1;36m, line \u001b[1;32m1\u001b[0m\n\u001b[1;33m    xml sürümü = \" 1.0 \"\u001b[0m\n\u001b[1;37m        ^\u001b[0m\n\u001b[1;31mSyntaxError\u001b[0m\u001b[1;31m:\u001b[0m invalid syntax\n"
     ]
    }
   ],
   "source": []
  }
 ],
 "metadata": {
  "interpreter": {
   "hash": "5bb71e04e3d056b3fd374fe835c740c82b88cf9a64babc7a305394decc4b8aa7"
  },
  "kernelspec": {
   "display_name": "Python 3.9.5 64-bit (system)",
   "language": "python",
   "name": "python3"
  },
  "language_info": {
   "codemirror_mode": {
    "name": "ipython",
    "version": 3
   },
   "file_extension": ".py",
   "mimetype": "text/x-python",
   "name": "python",
   "nbconvert_exporter": "python",
   "pygments_lexer": "ipython3",
   "version": "3.9.5"
  },
  "orig_nbformat": 4
 },
 "nbformat": 4,
 "nbformat_minor": 2
}
