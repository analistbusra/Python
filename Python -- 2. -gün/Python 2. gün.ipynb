{
 "cells": [
  {
   "cell_type": "markdown",
   "metadata": {},
   "source": [
    "# DEĞİŞKENLER\n",
    "\n",
    "Değişken isimlendirirken dikkat etmemiz gereken noktaları atlamadan isimlendirmek kodu yazan için ve okuyan için daha anlaşılabilir olacaktır.Genel olarak Python programlama dilin de hız ön planda olduğu için ağır programlamalarda fazla işlevsellik sağlanmaz.Bundan dolayı en eski programlama dillerinden olan C/C++ gibi dillerdeki isimlendirme kurallarını kullanabiliriz.\n",
    "\n",
    " ## Pascal Standardı\n",
    "\n",
    "Bu standarda göre oluşturulan değişken ismlerinde her kelimenin baş harfleri büyük yazılır.\n",
    "Örnek:\n",
    "\n",
    "Kullanıcı\n",
    "\n",
    "Öğrencino\n",
    "\n",
    "IDno\n",
    "\n",
    "Camel Standardı\n",
    "\n",
    "Bu standarda göre de oluşturulan değişkenlerin ilk kelimesi küçük harf diğer kelimeler baş harfi büyük harf olacak şekilde yazılır.İki kelimeyi yan yana yazarsak ikinci kelimenin başlangıç harfini büyük yazarız.\n",
    "\n",
    "Örnek:\n",
    "\n",
    "ogrenciNo\n",
    "\n",
    "kayıtNO\n",
    "\n",
    "adresBeyan\n",
    "\n",
    "## UnderScore Standardı\n",
    "\n",
    "iki farkı kelimelerin arasına alt tire(_) koyularak yazılır.Baştaki keime ve alt tireden sonraki kelime büyük harfle başlamalı.\n",
    "\n",
    "Örnek\n",
    "\n",
    "İlk_Ad\n",
    "\n",
    "Yaşadığım_Yer\n",
    "\n",
    "Kimlik_No\n",
    "\n",
    "## UpperScore Standardı\n",
    "\n",
    "Bu standart ise pascal ile underscore standardının birleşimine benzer ek olarak her harf büyük harf ile yazılır ve birden fazla kelime kullanırken aralarında alt tire (_) kullanılır.\n",
    "\n",
    "Örnek:\n",
    "\n",
    "İLK_AD\n",
    "\n",
    "YAŞADIĞIM_YER\n",
    "\n",
    "KİMLİK_NO\n",
    "\n",
    "## İSİMLENDİRMELER\n",
    "\n",
    "Standarlar haricinde sizinle daha genel bilgiler paylaşmak istiyorum.\n",
    "\n",
    "## PAKETLER\n",
    "\n",
    "Paket isimlerinin tamamı küçük harf olmalıdır. Birden fazla kelimeye ihtiyacınız olduğunda alt çizgi kullanın.\n"
   ]
  },
  {
   "cell_type": "code",
   "execution_count": 2,
   "metadata": {},
   "outputs": [],
   "source": [
    "öğrenci_no=121415\n",
    "sicil_no=0000\n",
    "first_name='Fatma'\n",
    "\n"
   ]
  },
  {
   "cell_type": "markdown",
   "metadata": {},
   "source": [
    "\n",
    "## MODÜLLER\n",
    "\n",
    "Modül isimlerinin tamamı küçük harf olmalıdır. Birden fazla kelimeye ihtiyacınız olduğunda alt çizgi kullanın.\n"
   ]
  },
  {
   "cell_type": "code",
   "execution_count": 3,
   "metadata": {},
   "outputs": [],
   "source": [
    "liste=['12.5, 15.8']"
   ]
  },
  {
   "cell_type": "markdown",
   "metadata": {},
   "source": [
    "## SINIFLAR\n",
    "\n",
    "Sınıf isimlerinin ilk harfi büyük diğerleri küçük olmalıdır. Birden fazla kelimeye ihtiyacınız olduğunda bir sonraki kelimenin ilk harfi büyük yazılmalıdır. Bu yazıma Camel Case de denmektedir.\n"
   ]
  },
  {
   "cell_type": "markdown",
   "metadata": {},
   "source": [
    "Kalıp_Ölçüsü\n",
    "\n",
    "Kan_Değeri\n",
    "\n",
    "Boy_Ölçüsü\n"
   ]
  },
  {
   "cell_type": "markdown",
   "metadata": {},
   "source": [
    "## FONKSİYONLAR\n",
    "\n",
    "Fonksiyon isimlerinin tamamı küçük harf olmalıdır. Birden fazla kelimeye ihtiyacınız olduğunda alt çizgi kullanın.\n"
   ]
  },
  {
   "cell_type": "code",
   "execution_count": 4,
   "metadata": {},
   "outputs": [
    {
     "name": "stdout",
     "output_type": "stream",
     "text": [
      "WELCOME\n"
     ]
    }
   ],
   "source": [
    "Asya=('WELCOME')\n",
    "print(Asya)\n"
   ]
  },
  {
   "cell_type": "markdown",
   "metadata": {},
   "source": [
    "### DAHİLİ İŞLEVLER(Built in Function )\n",
    "\n",
    "Pytho'da değişkenleri içe aktarma veya yapılandırma yapmadan yararlanabileceğiniz anlamına gelir.En sık kullanılan yerleşik işlevlerden bazıları şunlardır:\n",
    "\n",
    "print() ,len() , type() , int() , float() , str() , input() , list() , dict() , min() , max() , sum() , sorted() , open() , file() , help() ve dir().\n",
    "\n",
    "print():Görmek istediğimiz çıktıyı print() komutunun içine yazıp çıktıyı almamaızı sağlar.\n",
    "\n",
    "len():Komut içine yazılan değişkenin uzunluğunu bize verir metin türü veri ise karakter sayısını, sayısal veri türü için kaç adet sayısal veri olduğunu bize söyler.\n",
    "\n",
    "input(): Komut içine bize girilmesi istenen metin veya sayı dizisini sorar.\n",
    "\n",
    "ÖRNEK:\n"
   ]
  },
  {
   "cell_type": "code",
   "execution_count": 6,
   "metadata": {},
   "outputs": [
    {
     "name": "stdout",
     "output_type": "stream",
     "text": [
      "Fatma\n",
      "25\n",
      "İstanbul\n"
     ]
    }
   ],
   "source": [
    "ilk_adın=input('adın ne:')\n",
    "yaş=input('yaşın:')\n",
    "sehir=input('yaşadığın şehir:')\n",
    "\n",
    "print(ilk_adın)\n",
    "print(yaş)\n",
    "print(sehir)\n"
   ]
  },
  {
   "cell_type": "markdown",
   "metadata": {},
   "source": [
    "* min(): İçerisine yazılan dizinin en küçük değerini bize verir.\n",
    "* max(): İçerisine yazılan dizinin en büyük değerini bize verir.\n",
    "* sum(): Komut istenen veri setinin toplam sayıyı bize verir.\n"
   ]
  },
  {
   "cell_type": "code",
   "execution_count": 10,
   "metadata": {},
   "outputs": [
    {
     "name": "stdout",
     "output_type": "stream",
     "text": [
      "15\n",
      "98\n",
      "732\n"
     ]
    }
   ],
   "source": [
    "ARA_SINAV_NOTU=([25,56,98,74,78,25,15,65,45,95,55,45,56,])\n",
    "print(min(ARA_SINAV_NOTU))\n",
    "print(max(ARA_SINAV_NOTU))\n",
    "print(sum(ARA_SINAV_NOTU))\n"
   ]
  },
  {
   "cell_type": "markdown",
   "metadata": {},
   "source": [
    "* list(): İstenilen değişken metin veri tipi ise harfleri bize iste halinde verir.\n",
    "\n",
    "ÖRNEK:\n"
   ]
  },
  {
   "cell_type": "code",
   "execution_count": 11,
   "metadata": {},
   "outputs": [
    {
     "name": "stdout",
     "output_type": "stream",
     "text": [
      "['F', 'a', 't', 'm', 'a']\n"
     ]
    }
   ],
   "source": [
    "first_name_to_list  =  list ( first_name )\n",
    "print ( first_name_to_list )\n"
   ]
  },
  {
   "cell_type": "markdown",
   "metadata": {},
   "source": [
    "* len():Komut içine yazılan değişkenin uzunluğunu bize verir metin türü veri ise karakter sayısını, sayısal veri türü için kaç adet sayısal veri olduğunu bize söyler.\n",
    "\n",
    "Örnek:"
   ]
  },
  {
   "cell_type": "code",
   "execution_count": 12,
   "metadata": {},
   "outputs": [
    {
     "name": "stdout",
     "output_type": "stream",
     "text": [
      "11\n"
     ]
    }
   ],
   "source": [
    "first_name='Fatma Büşra'\n",
    "print(len(first_name))"
   ]
  },
  {
   "cell_type": "markdown",
   "metadata": {},
   "source": [
    "## VERİ TÜRLERİNİ DÖNÜŞTÜRME\n",
    "\n",
    "Daha önceki yazımızda veri türlerinin programlamadaki öneminden bahsetmiştik. Dönüşünde kullandığımız komutlar “int(), float(), str(), list()” olarak bilinir örnek üzerinde gösterim.\n",
    "\n",
    "### list() komutu\n",
    "\n",
    "İsmimin harflerini liste şekline getiren komutu yazalım.\n",
    "\n",
    "Örnek:\n"
   ]
  },
  {
   "cell_type": "code",
   "execution_count": 13,
   "metadata": {},
   "outputs": [
    {
     "name": "stdout",
     "output_type": "stream",
     "text": [
      "Fatma Büşra\n",
      "['F', 'a', 't', 'm', 'a', ' ', 'B', 'ü', 'ş', 'r', 'a']\n"
     ]
    }
   ],
   "source": [
    "first_name='Fatma Büşra'\n",
    "print(first_name)\n",
    "first_name_list=list(first_name)\n",
    "print(first_name_list)"
   ]
  },
  {
   "cell_type": "markdown",
   "metadata": {},
   "source": [
    "## float() komutu\n",
    "\n",
    "Örneğin elimizdeki çıktı virgülden sonra 10 haneli fakat göremiyoruz tam sayıyı virgülden sonrasını görmek için aşağıdaki komutu kullanabiliriz.\n",
    "\n",
    "Örnek:\n"
   ]
  },
  {
   "cell_type": "code",
   "execution_count": 14,
   "metadata": {},
   "outputs": [
    {
     "name": "stdout",
     "output_type": "stream",
     "text": [
      "num int 2103\n",
      "num float 2103.0\n"
     ]
    }
   ],
   "source": [
    "num_int=2103\n",
    "print('num int',num_int)\n",
    "num_float=float(num_int)\n",
    "print('num float',num_float)"
   ]
  },
  {
   "cell_type": "markdown",
   "metadata": {},
   "source": [
    "Örneğin elimizde float şeklinde bir sayı dizisi var ve bunu yuvarlanmış görmek istiyorum aşağıdaki komutu kullanabiliriz."
   ]
  },
  {
   "cell_type": "code",
   "execution_count": 18,
   "metadata": {},
   "outputs": [
    {
     "name": "stdout",
     "output_type": "stream",
     "text": [
      "3\n"
     ]
    }
   ],
   "source": [
    "pi=3.14\n",
    "print(int(pi))"
   ]
  },
  {
   "cell_type": "markdown",
   "metadata": {},
   "source": [
    "### str() komutu\n",
    "\n",
    "Elimizdeki sayı dizisini metin halinde yazdıralım.\n"
   ]
  },
  {
   "cell_type": "code",
   "execution_count": 19,
   "metadata": {},
   "outputs": [
    {
     "name": "stdout",
     "output_type": "stream",
     "text": [
      "10\n"
     ]
    }
   ],
   "source": [
    "numara_int=10\n",
    "numara_str=str(numara_int)\n",
    "print(numara_str)"
   ]
  },
  {
   "cell_type": "markdown",
   "metadata": {},
   "source": [
    "Şimdi girdilerimizin ne tür veri olduğunu programa soralım."
   ]
  },
  {
   "cell_type": "code",
   "execution_count": 20,
   "metadata": {},
   "outputs": [
    {
     "name": "stdout",
     "output_type": "stream",
     "text": [
      "<class 'str'>\n",
      "<class 'str'>\n",
      "<class 'int'>\n",
      "<class 'float'>\n"
     ]
    }
   ],
   "source": [
    "first_name='Fatma'\n",
    "city='İstanbul'\n",
    "age=25\n",
    "kılo=52.5\n",
    "print(type(first_name))\n",
    "print(type(city))\n",
    "print(type(age))\n",
    "print(type(kılo))"
   ]
  }
 ],
 "metadata": {
  "interpreter": {
   "hash": "5bb71e04e3d056b3fd374fe835c740c82b88cf9a64babc7a305394decc4b8aa7"
  },
  "kernelspec": {
   "display_name": "Python 3.9.5 64-bit (system)",
   "language": "python",
   "name": "python3"
  },
  "language_info": {
   "codemirror_mode": {
    "name": "ipython",
    "version": 3
   },
   "file_extension": ".py",
   "mimetype": "text/x-python",
   "name": "python",
   "nbconvert_exporter": "python",
   "pygments_lexer": "ipython3",
   "version": "3.9.5"
  },
  "orig_nbformat": 4
 },
 "nbformat": 4,
 "nbformat_minor": 2
}
