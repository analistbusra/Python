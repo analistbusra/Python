{
 "cells": [
  {
   "cell_type": "code",
   "execution_count": 1,
   "metadata": {},
   "outputs": [],
   "source": [
    "import pandas as pd \n",
    "import numpy  as np"
   ]
  },
  {
   "cell_type": "code",
   "execution_count": 2,
   "metadata": {},
   "outputs": [
    {
     "name": "stdout",
     "output_type": "stream",
     "text": [
      "0    1\n",
      "1    2\n",
      "2    3\n",
      "3    4\n",
      "4    5\n",
      "dtype: int64\n"
     ]
    }
   ],
   "source": [
    "nums = [1, 2, 3, 4,5]\n",
    "s = pd.Series(nums)\n",
    "print(s)\n",
    "\n"
   ]
  },
  {
   "cell_type": "code",
   "execution_count": null,
   "metadata": {},
   "outputs": [],
   "source": [
    "0    1\n",
    "1    2\n",
    "2    3\n",
    "3    4\n",
    "4    5\n",
    "dtype: int64"
   ]
  },
  {
   "cell_type": "code",
   "execution_count": 5,
   "metadata": {},
   "outputs": [
    {
     "name": "stdout",
     "output_type": "stream",
     "text": [
      "1.0    1\n",
      "2.0    2\n",
      "3.0    3\n",
      "4.0    4\n",
      "5.0    5\n",
      "dtype: int64\n"
     ]
    }
   ],
   "source": [
    "nums = [1, 2, 3, 4, 5]\n",
    "s = pd.Series(nums, index=[1., 2., 3., 4., 5.])\n",
    "print(s)\n",
    "\n",
    "1.0    1\n",
    "2.0    2\n",
    "3.0    3\n",
    "4.0    4\n",
    "5.0    5\n",
    "dtype: int64"
   ]
  },
  {
   "cell_type": "code",
   "execution_count": 7,
   "metadata": {},
   "outputs": [
    {
     "name": "stdout",
     "output_type": "stream",
     "text": [
      "1      Büşra\n",
      "2    İbrahim\n",
      "3      Fatma\n",
      "dtype: object\n"
     ]
    }
   ],
   "source": [
    "names = ['Büşra','İbrahim','Fatma']\n",
    "names = pd.Series(names, index=[1, 2, 3])\n",
    "print(names)\n",
    "\n",
    "1      Büşra\n",
    "2    İbrahim\n",
    "3      Fatma\n",
    "dtype: object"
   ]
  },
  {
   "cell_type": "code",
   "execution_count": 8,
   "metadata": {},
   "outputs": [
    {
     "name": "stdout",
     "output_type": "stream",
     "text": [
      "name          Büşra\n",
      "country     Türkiye\n",
      "city       İstanbul\n",
      "dtype: object\n"
     ]
    }
   ],
   "source": [
    "dct = {'name':'Büşra','country':'Türkiye','city':'İstanbul'}\n",
    "s = pd.Series(dct)\n",
    "print(s)\n",
    "\n",
    "name          Büşra\n",
    "country     Türkiye\n",
    "city       İstanbul\n",
    "dtype: object"
   ]
  },
  {
   "cell_type": "code",
   "execution_count": 9,
   "metadata": {},
   "outputs": [
    {
     "name": "stdout",
     "output_type": "stream",
     "text": [
      "1    10\n",
      "2    10\n",
      "3    10\n",
      "dtype: int64\n"
     ]
    }
   ],
   "source": [
    "s = pd.Series(10, index = [1, 2, 3])\n",
    "print(s)\n",
    "\n",
    "1    10\n",
    "2    10\n",
    "3    10\n",
    "dtype: int64\n"
   ]
  },
  {
   "cell_type": "code",
   "execution_count": 11,
   "metadata": {},
   "outputs": [
    {
     "name": "stdout",
     "output_type": "stream",
     "text": [
      "0     5.000000\n",
      "1     6.888889\n",
      "2     8.777778\n",
      "3    10.666667\n",
      "4    12.555556\n",
      "5    14.444444\n",
      "6    16.333333\n",
      "7    18.222222\n",
      "8    20.111111\n",
      "9    22.000000\n",
      "dtype: float64\n"
     ]
    }
   ],
   "source": [
    "s = pd.Series(np.linspace(5, 22, 10)) # linspace(starting, end, items)\n",
    "print(s)\n",
    "\n",
    "\n",
    "0     5.000000\n",
    "1     6.888889\n",
    "2     8.777778\n",
    "3    10.666667\n",
    "4    12.555556\n",
    "5    14.444444\n",
    "6    16.333333\n",
    "7    18.222222\n",
    "8    20.111111\n",
    "9    22.000000\n",
    "dtype: float64"
   ]
  },
  {
   "cell_type": "code",
   "execution_count": 12,
   "metadata": {},
   "outputs": [
    {
     "name": "stdout",
     "output_type": "stream",
     "text": [
      "   Names  Country       City\n",
      "0  Büşra  Türkiye   İstanbul\n",
      "1  David       UK     London\n",
      "2   John   Sweden  Stockholm\n"
     ]
    }
   ],
   "source": [
    "data = [\n",
    "    ['Büşra', 'Türkiye', 'İstanbul'], \n",
    "    ['David', 'UK', 'London'],\n",
    "    ['John', 'Sweden', 'Stockholm']\n",
    "]\n",
    "df = pd.DataFrame(data, columns=['Names','Country','City'])\n",
    "print(df)\n",
    "\n",
    "   Names  Country       City\n",
    "0  Büşra  Türkiye   İstanbul\n",
    "1  David       UK     London\n",
    "2   John   Sweden  Stockholm"
   ]
  },
  {
   "cell_type": "code",
   "execution_count": 13,
   "metadata": {},
   "outputs": [
    {
     "name": "stdout",
     "output_type": "stream",
     "text": [
      "    Name  Country       City\n",
      "0  Büşra  Türkiye   İstanbul\n",
      "1  David       UK     London\n",
      "2   John   Sweden  Stockholm\n"
     ]
    }
   ],
   "source": [
    "data = {'Name': ['Büşra', 'David', 'John'], 'Country':[\n",
    "    'Türkiye', 'UK', 'Sweden'], 'City': ['İstanbul', 'London', 'Stockholm']}\n",
    "df = pd.DataFrame(data)\n",
    "print(df)\n",
    "\n",
    "    Name  Country       City\n",
    "0  Büşra  Türkiye   İstanbul\n",
    "1  David       UK     London\n",
    "2   John   Sweden  Stockholm"
   ]
  },
  {
   "cell_type": "code",
   "execution_count": 14,
   "metadata": {},
   "outputs": [
    {
     "name": "stdout",
     "output_type": "stream",
     "text": [
      "    Name  Country       City\n",
      "0  Büşra  Türkiye   İstanbul\n",
      "1  David       UK     London\n",
      "2   John   Sweden  Stockholm\n"
     ]
    }
   ],
   "source": [
    "data = [\n",
    "    {'Name': 'Büşra', 'Country': 'Türkiye', 'City': 'İstanbul'},\n",
    "    {'Name': 'David', 'Country': 'UK', 'City': 'London'},\n",
    "    {'Name': 'John', 'Country': 'Sweden', 'City': 'Stockholm'}]\n",
    "df = pd.DataFrame(data)\n",
    "print(df)\n",
    "\n",
    "    Name  Country       City\n",
    "0  Büşra  Türkiye   İstanbul\n",
    "1  David       UK     London\n",
    "2   John   Sweden  Stockholm"
   ]
  },
  {
   "cell_type": "code",
   "execution_count": 4,
   "metadata": {},
   "outputs": [
    {
     "name": "stdout",
     "output_type": "stream",
     "text": [
      "                                     No;Ad;Soyad;Birim\n",
      "0              121419001556;FUNDA;ÇAKAROĞLU;İSTATİSTİK\n",
      "1                121420071017;ÖVÜNÇ;ALINBAY;İSTATİSTİK\n",
      "2    121420073040;YAĞIZ;GÜNGÖR;İSTATİSTİK İKİNCİ ÖĞ...\n",
      "3           121420081059;ŞERİF SELMAN;ŞAHİN;İSTATİSTİK\n",
      "4             121420091026;BURAK CAN;DÖNMEZ;İSTATİSTİK\n",
      "..                                                 ...\n",
      "117          121420201036;ŞÜKRÜ EMRE;BERBER;İSTATİSTİK\n",
      "118               121420201046;YAKUP;VARDAR;İSTATİSTİK\n",
      "119          121420201052;OSMAN CAN;KARAMAN;İSTATİSTİK\n",
      "120              121420201074;JAHAN;SEIDOVA;İSTATİSTİK\n",
      "121             121420201088;ATAKAN;ERBARUT;İSTATİSTİK\n",
      "\n",
      "[122 rows x 1 columns]\n"
     ]
    }
   ],
   "source": [
    "import csv\n",
    "import pandas as pd\n",
    "data=pd.read_csv('veri.csv')\n",
    "print(data)"
   ]
  },
  {
   "cell_type": "code",
   "execution_count": 1,
   "metadata": {},
   "outputs": [],
   "source": [
    "import csv\n",
    "import pandas as pd"
   ]
  },
  {
   "cell_type": "code",
   "execution_count": 7,
   "metadata": {},
   "outputs": [
    {
     "ename": "IndentationError",
     "evalue": "expected an indented block (Temp/ipykernel_11504/4257765459.py, line 2)",
     "output_type": "error",
     "traceback": [
      "\u001b[1;36m  File \u001b[1;32m\"C:\\Users\\BRA~1\\AppData\\Local\\Temp/ipykernel_11504/4257765459.py\"\u001b[1;36m, line \u001b[1;32m2\u001b[0m\n\u001b[1;33m    veriler_writer=csv.writer(veriler,delimiter=',', quotechar='\"', quoting=csv.QUOTE_MINIMAL)\u001b[0m\n\u001b[1;37m    ^\u001b[0m\n\u001b[1;31mIndentationError\u001b[0m\u001b[1;31m:\u001b[0m expected an indented block\n"
     ]
    }
   ],
   "source": [
    "\n",
    "with open ('veriler.csv', mode ='w') as veriler:\n",
    "veriler_writer=csv.writer(veriler,delimiter=',', quotechar='\"', quoting= csv.QUOTE_MINIMAL)\n"
   ]
  },
  {
   "cell_type": "code",
   "execution_count": 16,
   "metadata": {},
   "outputs": [
    {
     "ename": "SyntaxError",
     "evalue": "(unicode error) 'unicodeescape' codec can't decode bytes in position 2-3: truncated \\UXXXXXXXX escape (Temp/ipykernel_1456/113315252.py, line 1)",
     "output_type": "error",
     "traceback": [
      "\u001b[1;36m  File \u001b[1;32m\"C:\\Users\\BRA~1\\AppData\\Local\\Temp/ipykernel_1456/113315252.py\"\u001b[1;36m, line \u001b[1;32m1\u001b[0m\n\u001b[1;33m    with open(\"C:\\Users\\Büşra\\Desktop\\veriler.csv\") as dosya:\u001b[0m\n\u001b[1;37m                                                  ^\u001b[0m\n\u001b[1;31mSyntaxError\u001b[0m\u001b[1;31m:\u001b[0m (unicode error) 'unicodeescape' codec can't decode bytes in position 2-3: truncated \\UXXXXXXXX escape\n"
     ]
    }
   ],
   "source": [
    "with open(\"C:\\Users\\Büşra\\Desktop\\veriler.csv\") as dosya:\n",
    "    print(dosya.read())"
   ]
  }
 ],
 "metadata": {
  "interpreter": {
   "hash": "5bb71e04e3d056b3fd374fe835c740c82b88cf9a64babc7a305394decc4b8aa7"
  },
  "kernelspec": {
   "display_name": "Python 3.9.5 64-bit (system)",
   "language": "python",
   "name": "python3"
  },
  "language_info": {
   "codemirror_mode": {
    "name": "ipython",
    "version": 3
   },
   "file_extension": ".py",
   "mimetype": "text/x-python",
   "name": "python",
   "nbconvert_exporter": "python",
   "pygments_lexer": "ipython3",
   "version": "3.9.5"
  },
  "orig_nbformat": 4
 },
 "nbformat": 4,
 "nbformat_minor": 2
}
