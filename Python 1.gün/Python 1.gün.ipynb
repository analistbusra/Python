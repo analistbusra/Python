{
 "cells": [
  {
   "cell_type": "markdown",
   "metadata": {},
   "source": [
    "# PYTHON MATEMATİKSEL İŞLEMLER\n",
    "\n",
    "Python’da kütüphaneler olmadan da matematiksel işlemler yapabiliriz. İlerleyen günlerde daha ileri seviye işlemler yapacağız ve kütüphaneler (Pandas,NumPy) konusuna değineceğiz.\n",
    "\n",
    "* Python’da Toplama İşlemi (addition)\n",
    "\n",
    "“+” operatörü ile toplama işlemi yapabiliriz. \n",
    "\n",
    "ÖRNEK:\n"
   ]
  },
  {
   "cell_type": "code",
   "execution_count": 1,
   "metadata": {},
   "outputs": [
    {
     "name": "stdout",
     "output_type": "stream",
     "text": [
      "625\n"
     ]
    }
   ],
   "source": [
    "print(600+25)"
   ]
  },
  {
   "cell_type": "markdown",
   "metadata": {},
   "source": [
    "* Python’da Çıkarma İşlemi (subtraction)\n",
    "\n",
    "“-” operatörü ile çıkarma işlemi yapabiliriz.\n",
    "\n",
    "ÖRNEK:\n"
   ]
  },
  {
   "cell_type": "code",
   "execution_count": 2,
   "metadata": {},
   "outputs": [
    {
     "name": "stdout",
     "output_type": "stream",
     "text": [
      "29\n"
     ]
    }
   ],
   "source": [
    "print(30-1)\n"
   ]
  },
  {
   "cell_type": "markdown",
   "metadata": {},
   "source": [
    "* Python’da Çarpma İşlemi(multiplatication)\n",
    "\n",
    "“*” operatörü ile çarçma işlemi yapabiliriz. \n",
    "\n",
    "ÖRNEK:\n"
   ]
  },
  {
   "cell_type": "code",
   "execution_count": 3,
   "metadata": {},
   "outputs": [
    {
     "name": "stdout",
     "output_type": "stream",
     "text": [
      "35\n"
     ]
    }
   ],
   "source": [
    "print(5*7)"
   ]
  },
  {
   "cell_type": "markdown",
   "metadata": {},
   "source": [
    "* Python’da Bölme İşlemi(division)\n",
    "\n",
    "“/” operatörü ile bölme işlemi yapabiliriz.\n",
    "\n",
    "ÖRNEK:\n"
   ]
  },
  {
   "cell_type": "code",
   "execution_count": 4,
   "metadata": {},
   "outputs": [
    {
     "name": "stdout",
     "output_type": "stream",
     "text": [
      "13.0\n"
     ]
    }
   ],
   "source": [
    "print(65/5)"
   ]
  },
  {
   "cell_type": "markdown",
   "metadata": {},
   "source": [
    "Yukarıda yaptıklarımızı farklı bir şekilde değişken tanımlayarak da gerçekleştirebiliriz.\n",
    "\n",
    "ÖRNEK:\n"
   ]
  },
  {
   "cell_type": "code",
   "execution_count": 5,
   "metadata": {},
   "outputs": [
    {
     "name": "stdout",
     "output_type": "stream",
     "text": [
      "35\n",
      "600\n"
     ]
    }
   ],
   "source": [
    "x=20\n",
    "y=15\n",
    "z=40\n",
    "print(x+y)\n",
    "print(y*z)"
   ]
  },
  {
   "cell_type": "markdown",
   "metadata": {},
   "source": [
    " Bölme işlemini düşünürsek “Bölen, Bölünen, Kalan, Bölüm” kısımlarından oluşur. Python’da hangi operatörler ile bölüm ve kalana ulaştığımızı aşağıda görebilirsiniz.\n",
    "\n",
    "* % OPERATÖRÜ (modulus)\n",
    "Bölme işlemindeki kalan bulma için kullanılan bir operatördür ve dört işleme dahil olarak ele alınır. % operatörü birinci sayıyı ikinci sayıya böler ve ikinci sayıdan kalanı yazar.\n",
    " \n",
    " ÖRNEK:\n"
   ]
  },
  {
   "cell_type": "code",
   "execution_count": 6,
   "metadata": {},
   "outputs": [
    {
     "name": "stdout",
     "output_type": "stream",
     "text": [
      "3\n"
     ]
    }
   ],
   "source": [
    "print(23%5)# 23 5'e bölündüğünde 3 kalanı verir"
   ]
  },
  {
   "cell_type": "markdown",
   "metadata": {},
   "source": [
    "* // OPERATÖRÜ (Floor Division Operator)\n",
    "\n",
    "Bölme işleminde birinci sayıyı ikinci sayıya böler ve kalan sayıyı yazar. \n",
    "\n",
    "ÖRNEK:\n"
   ]
  },
  {
   "cell_type": "code",
   "execution_count": 7,
   "metadata": {},
   "outputs": [
    {
     "name": "stdout",
     "output_type": "stream",
     "text": [
      "4\n"
     ]
    }
   ],
   "source": [
    "print(9//2)#9 2'ye bölündüğünde 4 bölüm vardır"
   ]
  },
  {
   "cell_type": "markdown",
   "metadata": {},
   "source": [
    "* Python ÜSLÜ İFADELER(EXPONENTİAL)\n",
    "\n",
    "•  “**” operatörü ile üslü işlemi yapabiliriz.Üs alma işlemini basitçe yapan komuttur.\n",
    "\n",
    "ÖRNEK:\n"
   ]
  },
  {
   "cell_type": "code",
   "execution_count": 8,
   "metadata": {},
   "outputs": [
    {
     "name": "stdout",
     "output_type": "stream",
     "text": [
      "36\n"
     ]
    }
   ],
   "source": [
    "print(6**2)"
   ]
  },
  {
   "cell_type": "markdown",
   "metadata": {},
   "source": [
    "• Pow() komutu\n",
    "\n",
    "Üstel değerin hesaplanmasına izin veren bir komuttur. Fonksiyonun genel hali;\n",
    "\n",
    "pow(taban,üs)\n",
    "\n",
    "Örnek:\n"
   ]
  },
  {
   "cell_type": "code",
   "execution_count": 10,
   "metadata": {},
   "outputs": [
    {
     "name": "stdout",
     "output_type": "stream",
     "text": [
      "üstel değer 36\n"
     ]
    }
   ],
   "source": [
    "taban=6\n",
    "üs=2\n",
    "print('üstel değer',pow(taban,üs))"
   ]
  },
  {
   "cell_type": "markdown",
   "metadata": {},
   "source": [
    "# PYTHON VERİ TÜRLERİ (DATA TYPES)\n",
    "\n",
    "Programı kullanırken veri tipleri önemlidir. Değişkene atadığımız veri farklı veri türlerinde depolanabilir. Farklı veri tiplerinde tanımlanan değişkenler farklı işler yapabilir. Genel olarak veri türlerini aşağıdaki tabloda görmekteyiz.\n",
    "\n",
    "Metin Veri Türü (String) : Str\n",
    "\n",
    "Sayısal Veri Türü (Numeric) : İnt,float,complex\n",
    "\n",
    "Sıra Veri Türleri (Sequence) : list,tuple\n",
    "\n",
    "Haritalama Veri Türü (Mapping) : Dict\n",
    "\n",
    "* SAYISAL VERİ TÜRLERİ\n",
    "\n",
    "•int() float() complex() komutları ile sayısal veriyi tanımlar.\n",
    "\n",
    "int(): tamsayı sayısal veri tipi\n",
    "\n",
    "float():ondalık sayısal veri tipi\n",
    "\n",
    "complex():karmaşık sayısal veri tipi \n",
    "\n",
    "ÖRNEK:\n"
   ]
  },
  {
   "cell_type": "code",
   "execution_count": 11,
   "metadata": {},
   "outputs": [],
   "source": [
    "x=78 # int tanımlanır.\n",
    "y=27.85 # float tanımlanır.\n",
    "z=2+3j # complex tanımlanır.\n",
    "\n"
   ]
  },
  {
   "cell_type": "markdown",
   "metadata": {},
   "source": [
    "* METİN VERİ TÜRÜ\n",
    "\n",
    "Metin halindeki veri tipleri burada görebiliriz.\n",
    "\n",
    "ÖRNEK:\n"
   ]
  },
  {
   "cell_type": "code",
   "execution_count": 12,
   "metadata": {},
   "outputs": [],
   "source": [
    "first_name='Fatma'"
   ]
  },
  {
   "cell_type": "markdown",
   "metadata": {},
   "source": [
    "* SIRA VERİ TİPİ\n",
    "\n",
    "Üç tip sıra veri tipini ele alırsak farklı gösterimler ile adlandırıldıklarını görmekteyiz\n",
    "\n",
    "ÖRNEK:\n"
   ]
  },
  {
   "cell_type": "code",
   "execution_count": 13,
   "metadata": {},
   "outputs": [],
   "source": [
    "tek_sayılar=[1,3,5,7,9] # list tanımlanır.\n",
    "paket_ağırlık={9.2, 8.7, 8.14} # set tanımlanır.\n",
    "paket_fiyat=(10.2,11.5,12.7) # tuple yanımlanır.\n"
   ]
  },
  {
   "cell_type": "markdown",
   "metadata": {},
   "source": [
    "* HARİTALAMA VERİ TÜRÜ\n",
    "\n",
    "ÖRNEK:\n"
   ]
  },
  {
   "cell_type": "code",
   "execution_count": 14,
   "metadata": {},
   "outputs": [
    {
     "name": "stdout",
     "output_type": "stream",
     "text": [
      "{'AD': 'Büşra'}\n"
     ]
    }
   ],
   "source": [
    "x={'AD':'Büşra'}\n",
    "print(x)\n",
    "\n"
   ]
  },
  {
   "cell_type": "markdown",
   "metadata": {},
   "source": [
    "VERİ TÜRÜNÜ ALMA\n",
    "\n",
    "typ() komutu ile verinin hangi tip olduğunu anlayabiliriz.\n",
    "\n",
    "GENEL GÖSTERİMİ\n",
    "\n",
    "print(type('istenien veri'))\n",
    "\n",
    "\n",
    "GENEL GÖSTERİME ÖRNEK\n"
   ]
  },
  {
   "cell_type": "code",
   "execution_count": 15,
   "metadata": {},
   "outputs": [],
   "source": [
    "A=157\n",
    "B=57.8777712\n",
    "C=5+9J\n",
    "D='BÜŞRA'\n",
    "E=[1,3,5,7,9]\n",
    "F={9.2, 8.7, 8.14}\n",
    "G=(10.2,11.5,12.7)\n",
    "H={'ŞEHİR':'İSTANBUL'}\n",
    "\n"
   ]
  },
  {
   "cell_type": "markdown",
   "metadata": {},
   "source": [
    "Değişkenler tanımlandıktan sonra hangi veri türüne ait olduklarını aşağıdaki komut yardımıyla öğrenelim."
   ]
  },
  {
   "cell_type": "code",
   "execution_count": 16,
   "metadata": {},
   "outputs": [
    {
     "name": "stdout",
     "output_type": "stream",
     "text": [
      "<class 'int'>\n",
      "<class 'float'>\n",
      "<class 'complex'>\n",
      "<class 'str'>\n",
      "<class 'list'>\n",
      "<class 'set'>\n",
      "<class 'tuple'>\n",
      "<class 'dict'>\n"
     ]
    }
   ],
   "source": [
    "print(type(A))\n",
    "print(type(B))\n",
    "print(type(C))\n",
    "print(type(D))\n",
    "print(type(E))\n",
    "print(type(F))\n",
    "print(type(G))\n",
    "print(type(H))\n"
   ]
  }
 ],
 "metadata": {
  "interpreter": {
   "hash": "5bb71e04e3d056b3fd374fe835c740c82b88cf9a64babc7a305394decc4b8aa7"
  },
  "kernelspec": {
   "display_name": "Python 3.9.5 64-bit (system)",
   "language": "python",
   "name": "python3"
  },
  "language_info": {
   "codemirror_mode": {
    "name": "ipython",
    "version": 3
   },
   "file_extension": ".py",
   "mimetype": "text/x-python",
   "name": "python",
   "nbconvert_exporter": "python",
   "pygments_lexer": "ipython3",
   "version": "3.9.5"
  },
  "orig_nbformat": 4
 },
 "nbformat": 4,
 "nbformat_minor": 2
}
