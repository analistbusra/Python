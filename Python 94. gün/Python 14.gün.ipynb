{
 "cells": [
  {
   "cell_type": "markdown",
   "metadata": {},
   "source": [
    "### Higher Order Functions(Daha Yüksek Dereceli Fonksiyonlar)\n",
    "\n",
    "1- Bir fonksiyon bir veya daha fazla fonksiyonu parametre olarak alabilir.\n",
    "\n",
    "2- Bir işlev, başka bir işlevin sonucu olarak döndürülebilir.\n",
    "\n",
    "3- Bir fonksiyon değiştirilebilir\n",
    "\n",
    "4-Bir değişkene bir fonksiyon atanabilir\n",
    "\n",
    "5-Bu bölümde şunları ele alacağız:\n",
    "\n",
    "•\tFonksiyonları parametre olarak işleme\n",
    "\n",
    "•\tFonksiyonları başka fonksiyonlardan dönüş değeri olarak döndürme\n",
    "\n",
    "•\tPython kapaklarını ve dekoratörlerini kullanma\n",
    "\n",
    "### Function as a Parameter(Fonksiyon Parametreleri)\n"
   ]
  },
  {
   "cell_type": "code",
   "execution_count": 1,
   "metadata": {},
   "outputs": [],
   "source": [
    "def sum_numbers(nums):  # normal fonksiyon\n",
    "\n",
    "    return sum(nums)   \n"
   ]
  },
  {
   "cell_type": "markdown",
   "metadata": {},
   "source": [
    "* Yukarıda Pythonda normal bir fonksiyon tanımladığımızı ve parametreleri görebiliriz.\n",
    "\n",
    "### Function as a Return Value(Dönüş değeri Fonksiyonu)\n",
    "\n",
    "Farklı fonksiyonlar dönüş değerinde kullanılablir. Bazı örnek fonksiyonları inceleyelim.\n"
   ]
  },
  {
   "cell_type": "code",
   "execution_count": 2,
   "metadata": {},
   "outputs": [],
   "source": [
    "def square(x):          \n",
    "    return x ** 2       # a karesel fonksiyon\n",
    "\n",
    "def cube(x):            # a kübik fonksiyon\n",
    "    return x ** 3\n",
    "\n",
    "def absolute(x):        # an mutlak değer fonksiyon\n",
    "    if x >= 0:\n",
    "        return x\n",
    "    else:\n",
    "        return -(x)\n"
   ]
  },
  {
   "cell_type": "markdown",
   "metadata": {},
   "source": [
    "### Python Closures(Python Kapanışları)\n",
    "\n",
    "Python, iç içe geçmiş bir işlevin, çevreleyen işlevin dış kapsamına erişmesine izin verir. Bu kapanış olarak bilinir. Python'da kapanışların nasıl çalıştığına bir göz atalım. Python'da, bir işlevi başka bir kapsülleme işlevinin içine yerleştirip ardından iç işlevi döndürerek kapatmış oluruz.\n",
    "\n"
   ]
  },
  {
   "cell_type": "code",
   "execution_count": 3,
   "metadata": {},
   "outputs": [
    {
     "name": "stdout",
     "output_type": "stream",
     "text": [
      "13\n",
      "18\n"
     ]
    }
   ],
   "source": [
    "def add_eight():\n",
    "    eight = 8\n",
    "    def add(num):\n",
    "        return num + eight # aşağıdaki kapatma işleminde belirlenen 5 ve 10 bizim num değişkenimiz olucak\n",
    "    return add\n",
    "\n",
    "closure_result = add_eight()\n",
    "print(closure_result(5))  \n",
    "print(closure_result(10))"
   ]
  },
  {
   "cell_type": "markdown",
   "metadata": {},
   "source": [
    "### Python Decorators(Python Dekoretörleri)\n",
    "\n",
    "Dekoratör, Python'da, kullanıcının yapısını değiştirmeden mevcut bir nesneye yeni işlevler eklemesine izin veren bir tasarım kalıbıdır. Dekoratörler genellikle süslemek istediğiniz bir fonksiyonun tanımından önce çağrılır.\n"
   ]
  },
  {
   "cell_type": "code",
   "execution_count": 5,
   "metadata": {},
   "outputs": [
    {
     "name": "stdout",
     "output_type": "stream",
     "text": [
      "BEN  PYTHON ÖĞRENMEYE ÇALIŞIYORUM\n"
     ]
    }
   ],
   "source": [
    "def greeting():\n",
    "    return 'Ben  Python öğrenmeye çalışıyorum'\n",
    "def uppercase_decorator(function):\n",
    "    def wrapper():\n",
    "        func = function()\n",
    "        make_uppercase = func.upper()\n",
    "        return make_uppercase\n",
    "    return wrapper\n",
    "g = uppercase_decorator(greeting)\n",
    "print(g())"
   ]
  },
  {
   "cell_type": "markdown",
   "metadata": {},
   "source": [
    "### Applying Multiple Decorators to a Single Function(Tek Bir İşleve Birden Çok Dekoratör Uygulamak)\n",
    "\n",
    "•\tİlk Dekoratör\n"
   ]
  },
  {
   "cell_type": "code",
   "execution_count": 6,
   "metadata": {},
   "outputs": [],
   "source": [
    "def uppercase_decorator(function):\n",
    "    def wrapper():\n",
    "        func = function()\n",
    "        make_uppercase = func.upper()\n",
    "        return make_uppercase\n",
    "    return wrapper"
   ]
  },
  {
   "cell_type": "markdown",
   "metadata": {},
   "source": [
    "* İkinci Dekoretör"
   ]
  },
  {
   "cell_type": "code",
   "execution_count": 7,
   "metadata": {},
   "outputs": [],
   "source": [
    "def split_string_decorator(function):\n",
    "    def wrapper():\n",
    "        func = function()\n",
    "        splitted_string = func.split()\n",
    "        return splitted_string\n",
    "\n",
    "    return wrapper"
   ]
  },
  {
   "cell_type": "markdown",
   "metadata": {},
   "source": [
    "### Accepting Parameters in Decorator Functions(Dekoratör Fonksiyonlarında Parametreleri Kabul Etme)\n",
    "\n",
    "Çoğu zaman parametreleri almak için fonksiyonlarımıza ihtiyaç duyarız, bu yüzden parametreleri kabul eden bir dekoratör tanımlamamız gerekebilir.\n"
   ]
  },
  {
   "cell_type": "code",
   "execution_count": 18,
   "metadata": {},
   "outputs": [],
   "source": [
    "def decorator_with_parameters(function):\n",
    " def wrapper_accepting_parameters(para1, para2, para3):\n",
    "    function(para1, para2, para3)\n",
    "    print(\"I live in {}\".format(para3))\n",
    "    return wrapper_accepting_parameters\n"
   ]
  },
  {
   "cell_type": "markdown",
   "metadata": {},
   "source": [
    "### Built-in Higher Order Functions(Yerleşik Yüksek Dereceli Fonksiyonlar)\n",
    "\n",
    "Bu bölümde ele aldığımız yerleşik yüksek dereceli işlevlerden bazıları map() , filter ve Reduce'dir . Lambda işlevi parametre olarak geçirilebilir ve lambda işlevlerinin en iyi kullanım durumu harita, filtre ve küçültme gibi işlevlerdedir.\n",
    "\n",
    "### Python - Map Function(Python - Harita İşlevi)\n",
    "\n",
    "map() işlevi, bir işlevi alan ve parametre olarak yinelenebilen yerleşik bir işlevdir.\n",
    "\n",
    "Örnek:\n"
   ]
  },
  {
   "cell_type": "code",
   "execution_count": 10,
   "metadata": {},
   "outputs": [
    {
     "name": "stdout",
     "output_type": "stream",
     "text": [
      "[1, 2, 3, 4, 5]\n"
     ]
    }
   ],
   "source": [
    "numbers_str = ['1', '2', '3', '4', '5']  \n",
    "numbers_int = map(int, numbers_str)\n",
    "print(list(numbers_int))\n"
   ]
  },
  {
   "cell_type": "markdown",
   "metadata": {},
   "source": [
    "Örnek:"
   ]
  },
  {
   "cell_type": "code",
   "execution_count": 11,
   "metadata": {},
   "outputs": [
    {
     "name": "stdout",
     "output_type": "stream",
     "text": [
      "[1, 4, 9, 16, 25]\n",
      "[1, 4, 9, 16, 25]\n"
     ]
    }
   ],
   "source": [
    "numbers = [1, 2, 3, 4, 5] \n",
    "def square(x):\n",
    "    return x ** 2\n",
    "numbers_squared = map(square, numbers)\n",
    "print(list(numbers_squared))    \n",
    "\n",
    "# Aynı işlemi lambda ile yapabiliriz.\n",
    "numbers_squared = map(lambda x : x ** 2, numbers)\n",
    "print(list(numbers_squared))  \n"
   ]
  },
  {
   "cell_type": "markdown",
   "metadata": {},
   "source": [
    "map ile liste üzerinde değişiklik yaparak tekrar döndürebiliriz."
   ]
  },
  {
   "cell_type": "markdown",
   "metadata": {},
   "source": [
    "### Python - Filter Function(Filtre Fonksiyonu)\n",
    "\n",
    "filter() işlevi, belirtilen yinelenebilir öğenin (liste) her öğesi için boole değeri döndüren belirtilen işlevi çağırır. Filtreleme kriterlerini karşılayan öğeleri filtreler.\n",
    "\n",
    "Örnek:\n"
   ]
  },
  {
   "cell_type": "code",
   "execution_count": 17,
   "metadata": {},
   "outputs": [
    {
     "name": "stdout",
     "output_type": "stream",
     "text": [
      "[2, 4, 6]\n"
     ]
    }
   ],
   "source": [
    "numbers = [1, 2, 3, 4, 5,6]  \n",
    "\n",
    "def is_even(num):\n",
    "    if num % 2 == 0:\n",
    "        return True\n",
    "        return False\n",
    "\n",
    "even_numbers = filter(is_even, numbers)\n",
    "print(list(even_numbers))"
   ]
  },
  {
   "cell_type": "markdown",
   "metadata": {},
   "source": [
    "Örnek:"
   ]
  },
  {
   "cell_type": "code",
   "execution_count": 16,
   "metadata": {},
   "outputs": [
    {
     "name": "stdout",
     "output_type": "stream",
     "text": [
      "['Fatma Büşra']\n"
     ]
    }
   ],
   "source": [
    "\n",
    "names = ['Fatma Büşra', 'Beyza', 'Kübra', 'Beste']  # iterable\n",
    "def is_name_long(name):\n",
    "    if len(name) > 7:\n",
    "        return True\n",
    "    return False\n",
    "\n",
    "long_names = filter(is_name_long, names)\n",
    "print(list(long_names)) \n"
   ]
  },
  {
   "cell_type": "markdown",
   "metadata": {},
   "source": [
    "### Python - Reduce Function(Fonksiyonu Azaltır)\n",
    "\n",
    "reduce () fonksiyonu functools modülünde tanımlanan ve bu modülü alınacak gerekir. Harita ve filtre gibi, bir işlev ve bir yinelenebilir olmak üzere iki parametre alır. Ancak, başka bir yinelenebilir döndürmez, bunun yerine tek bir değer döndürür.\n"
   ]
  },
  {
   "cell_type": "code",
   "execution_count": 22,
   "metadata": {},
   "outputs": [],
   "source": [
    "numbers_str = ['1', '2', '3', '4', '5']  \n",
    "def add_two_nums(x, y):\n",
    "    return int(x) + int(y)\n",
    "\n",
    "    total = reduce(add_two_nums, numbers_str)\n",
    "    print(total) \n"
   ]
  }
 ],
 "metadata": {
  "interpreter": {
   "hash": "5bb71e04e3d056b3fd374fe835c740c82b88cf9a64babc7a305394decc4b8aa7"
  },
  "kernelspec": {
   "display_name": "Python 3.9.5 64-bit (system)",
   "language": "python",
   "name": "python3"
  },
  "language_info": {
   "codemirror_mode": {
    "name": "ipython",
    "version": 3
   },
   "file_extension": ".py",
   "mimetype": "text/x-python",
   "name": "python",
   "nbconvert_exporter": "python",
   "pygments_lexer": "ipython3",
   "version": "3.9.5"
  },
  "orig_nbformat": 4
 },
 "nbformat": 4,
 "nbformat_minor": 2
}
