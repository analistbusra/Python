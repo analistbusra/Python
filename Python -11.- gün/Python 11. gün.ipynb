{
 "cells": [
  {
   "cell_type": "markdown",
   "metadata": {},
   "source": [
    "# Functions/Fonksiyonlar\n",
    "Tanım\n",
    "\n",
    "Biz şimdiye dek karşılaştığımız print(), len(), type() ve open() gibi örnekler sayesinde ‘fonksiyon’ denen şeyi az çok tanıdığımızı söyleyebiliriz. Dolayısıyla fonksiyonun ne demek olduğunu şeklen de olsa biliyoruz ve hatta fonksiyonları kodlarımız içinde etkili bir şekilde kullanabiliyoruz.Fonksiyonların görevi, karmaşık işlemleri bir araya toplayarak, bu işlemleri tek adımda yapmamızı sağlamaktır. Fonksiyonlar çoğu zaman, yapmak istediğimiz işlemler için bir şablon vazifesi görür. Fonksiyonun özelliklerini madde madde inceleyelim ve genel bir fonsiyon tanımız\n",
    "\n",
    "### 1) Her fonksiyonun bir adı bulunur ve fonksiyonlar sahip oldukları bu adlarla anılır.\n",
    "\n",
    "print() fonksiyonu,\n",
    "\n",
    "open()fonksiyonu,\n",
    "\n",
    "type() fonksiyonu\n",
    "\n",
    "input()fonksiyonu,\n",
    "\n",
    "len() fonksiyonu en bilinenleri sayabiliriz bunların haricinde daha fazla fonksiyon bulunmaktadır.\n",
    "\n",
    "### 2) Foksiyonların yanına eklenen parantez işaretlerinin içine, fonksiyonlara işlevsellik kazandıran bazı parametreler yazılır.\n",
    "\n",
    "open(dosya_adı),print(\"Merhaba Dünya!\"),len(\"İstanbul\")\n",
    "\n",
    "### 3) Fonksiyonlar farklı sayıda parametre alabilir.\n",
    "\n",
    "Örneğin print() fonksiyonu toplam 256 adet parametre alabilirken, input() fonksiyonu yalnızca tek bir parametre alır.\n",
    "\n",
    "### 4) Fonksiyonların, isimli ve isimsiz parametreleri dışında, bir de varsayılan değerli parametreleri vardır.\n",
    "\n",
    "Örneğin print() fonksiyonunun sep, end ve file parametreleri varsayılan değerli parametrelere birer örnektir. Eğer bir parametrenin varsayılan bir değeri varsa, o parametreye herhangi bir değer vermeden de fonksiyonu kullanabiliriz. Python bu parametrelere, belirli değerleri kendisi atayacaktır. Tabii eğer istersek, varsayılan değerli parametrelere kendimiz de başka birtakım değerler verebiliriz.\n",
    "\n",
    "\n",
    "\n",
    "Defining a Function / Bir Fonksiyon Bildirmek\n",
    "Bir fonksiyon yaptığımızda buna fonksiyon bildirme diyoruz. Örneği inceleyelim ve fonksiyonu çağıralım.\n"
   ]
  },
  {
   "cell_type": "code",
   "execution_count": 3,
   "metadata": {},
   "outputs": [],
   "source": [
    "def function_name():\n",
    "  codes\n"
   ]
  },
  {
   "cell_type": "markdown",
   "metadata": {},
   "source": [
    "### Function without Parameters / Parametresiz Fonksiyon"
   ]
  },
  {
   "cell_type": "code",
   "execution_count": 4,
   "metadata": {},
   "outputs": [
    {
     "data": {
      "text/plain": [
       "<function __main__.add_information()>"
      ]
     },
     "execution_count": 4,
     "metadata": {},
     "output_type": "execute_result"
    }
   ],
   "source": [
    "def add_information():\n",
    "    name='büşra'\n",
    "    second_name='fatma'\n",
    "    lst_name=' akkaya'\n",
    "    sapce=' '\n",
    "    information=name +sapce + second_name + sapce+ lst_name\n",
    "    print(information)\n",
    "add_information                      "
   ]
  },
  {
   "cell_type": "markdown",
   "metadata": {},
   "source": [
    "###  Function Returning a Value-1/ Değer Döndüren Fonksiyon-1\n",
    "\n",
    "Fonksiyon ayrıca değer döndürebilir. Eğer bir fonksiyonun dönüş ifadesi yoksa işlevin değeri yoktur. Yukarıdaki fonksiyonları return kullanarak yeniden yazalım. Artık fonksiyonu çağırdığımızda ve yazdırdığımızda bir fonksiyondan bir değer alıyoruz.\n"
   ]
  },
  {
   "cell_type": "code",
   "execution_count": 5,
   "metadata": {},
   "outputs": [
    {
     "name": "stdout",
     "output_type": "stream",
     "text": [
      "5\n"
     ]
    }
   ],
   "source": [
    "def add_two_numbers ():\n",
    "    num_one = 2\n",
    "    num_two = 3\n",
    "    total = num_one + num_two\n",
    "    return total\n",
    "print(add_two_numbers())"
   ]
  },
  {
   "cell_type": "markdown",
   "metadata": {},
   "source": [
    "### Function with Parameters/Paremetrelerle Fonksiyon\n",
    "\n",
    "Bir fonksiyonda farklı veri tiplerini (sayı, string, boolean, list, tuple, dct veya set) parametre olarak iletebiliriz.\n",
    "\n",
    "•\tTek Parametre: Eğer fonksiyonumuz bir parametre alıyorsa, fonksiyonumuzu bir argüman ile çağırmalıyız.\n",
    "\n",
    "Örnek:\n"
   ]
  },
  {
   "cell_type": "code",
   "execution_count": 6,
   "metadata": {},
   "outputs": [
    {
     "name": "stdout",
     "output_type": "stream",
     "text": [
      "Büşra, welcome to Python for Everyone!\n"
     ]
    }
   ],
   "source": [
    "def greetings (name):\n",
    "    message = name + ', welcome to Python for Everyone!'\n",
    "    return message\n",
    "\n",
    "print(greetings('Büşra'))\n"
   ]
  },
  {
   "cell_type": "markdown",
   "metadata": {},
   "source": [
    "Örnek:"
   ]
  },
  {
   "cell_type": "code",
   "execution_count": 7,
   "metadata": {},
   "outputs": [
    {
     "name": "stdout",
     "output_type": "stream",
     "text": [
      "8\n"
     ]
    }
   ],
   "source": [
    "def sum_square(x):\n",
    "    return x*x + x*x\n",
    "print(sum_square(2))"
   ]
  },
  {
   "cell_type": "markdown",
   "metadata": {},
   "source": [
    "Örnek:"
   ]
  },
  {
   "cell_type": "code",
   "execution_count": 8,
   "metadata": {},
   "outputs": [
    {
     "name": "stdout",
     "output_type": "stream",
     "text": [
      "4\n"
     ]
    }
   ],
   "source": [
    "def square_number(x):\n",
    "    return x * x\n",
    "print(square_number(2))\n"
   ]
  },
  {
   "cell_type": "markdown",
   "metadata": {},
   "source": [
    "Örnek:"
   ]
  },
  {
   "cell_type": "code",
   "execution_count": 9,
   "metadata": {},
   "outputs": [
    {
     "name": "stdout",
     "output_type": "stream",
     "text": [
      "314.0\n"
     ]
    }
   ],
   "source": [
    "def area_of_circle (r):\n",
    "    PI = 3.14\n",
    "    area = PI * r ** 2 #(100*3,14)\n",
    "    return area\n",
    "print(area_of_circle(10))\n"
   ]
  },
  {
   "cell_type": "markdown",
   "metadata": {},
   "source": [
    "Örnek:"
   ]
  },
  {
   "cell_type": "code",
   "execution_count": 12,
   "metadata": {},
   "outputs": [
    {
     "name": "stdout",
     "output_type": "stream",
     "text": [
      "1275\n",
      "None\n",
      "5050\n",
      "None\n"
     ]
    }
   ],
   "source": [
    "def sum_of_numbers(n):\n",
    "    total = 0\n",
    "    for i in range(n+1):\n",
    "        total+=i\n",
    "    print(total)\n",
    "print(sum_of_numbers(50)) \n",
    "print(sum_of_numbers(100)) \n"
   ]
  },
  {
   "cell_type": "markdown",
   "metadata": {},
   "source": [
    "•\tİki Parametre: Bir fonksiyonun bir parametresi veya parametresi olabilir veya olmayabilir. Bir fonksiyon ayrıca iki veya daha fazla parametreye sahip olabilir. İki parametreli bir fonksiyonu kontrol edelim.\n",
    "\n",
    "Genel gösterimi:\n"
   ]
  },
  {
   "cell_type": "markdown",
   "metadata": {},
   "source": [
    "def function_name(para1, para2):\n",
    "\n",
    "    codes\n",
    "\n",
    "    codes\n",
    "    \n",
    "print(function_name(1, arg2))"
   ]
  },
  {
   "cell_type": "markdown",
   "metadata": {},
   "source": [
    "Örnek:"
   ]
  },
  {
   "cell_type": "code",
   "execution_count": 14,
   "metadata": {},
   "outputs": [
    {
     "name": "stdout",
     "output_type": "stream",
     "text": [
      "ad-soyad:  Büşra Akkaya\n"
     ]
    }
   ],
   "source": [
    "def generate_all (first_name, last_name):\n",
    "    space = ' '\n",
    "    full_name = first_name + space + last_name\n",
    "    return full_name\n",
    "print('ad-soyad: ', generate_all('Büşra','Akkaya'))\n"
   ]
  },
  {
   "cell_type": "markdown",
   "metadata": {},
   "source": [
    "Örnek:"
   ]
  },
  {
   "cell_type": "code",
   "execution_count": 15,
   "metadata": {},
   "outputs": [
    {
     "name": "stdout",
     "output_type": "stream",
     "text": [
      "Sum of square:  89\n"
     ]
    }
   ],
   "source": [
    "def sum_two_numbers (num_one, num_two):\n",
    "    sum = num_one*num_one + num_two*num_two\n",
    "    return sum\n",
    "print('Sum of square: ', sum_two_numbers(5, 8))\n",
    "\n"
   ]
  },
  {
   "cell_type": "markdown",
   "metadata": {},
   "source": [
    "Örnek:"
   ]
  },
  {
   "cell_type": "code",
   "execution_count": 16,
   "metadata": {},
   "outputs": [
    {
     "name": "stdout",
     "output_type": "stream",
     "text": [
      "Now Age:  51\n"
     ]
    }
   ],
   "source": [
    "def calculate_age (current_year, birth_year):\n",
    "    age = current_year - birth_year\n",
    "    return age; \n",
    "\n",
    "print('Now Age: ', calculate_age(1870, 1819))\n"
   ]
  },
  {
   "cell_type": "markdown",
   "metadata": {},
   "source": [
    "### Passing Arguments with Key and Value/Anahtar ve Değer ile Bağımsız Değişkenleri Geçme\n",
    "\n",
    "Genel Gösterim\n"
   ]
  },
  {
   "cell_type": "markdown",
   "metadata": {},
   "source": [
    "def function_name(para1, para2):\n",
    "\n",
    "    codes\n",
    "    codes\n",
    "    \n",
    "print(function_name(para1 = 'John', para2 = 'Doe'))"
   ]
  },
  {
   "cell_type": "markdown",
   "metadata": {},
   "source": [
    "Örnek:"
   ]
  },
  {
   "cell_type": "code",
   "execution_count": 18,
   "metadata": {},
   "outputs": [
    {
     "name": "stdout",
     "output_type": "stream",
     "text": [
      "Büşra Akkaya\n",
      "None\n"
     ]
    }
   ],
   "source": [
    "def print_fullname(firstname, lastname):\n",
    "    space = ' '\n",
    "    full_name = firstname  + space + lastname\n",
    "    print(full_name)\n",
    "print(print_fullname(firstname = 'Büşra', lastname = 'Akkaya'))\n"
   ]
  },
  {
   "cell_type": "markdown",
   "metadata": {},
   "source": [
    "Örnek:"
   ]
  },
  {
   "cell_type": "code",
   "execution_count": 19,
   "metadata": {},
   "outputs": [
    {
     "name": "stdout",
     "output_type": "stream",
     "text": [
      "46\n",
      "None\n"
     ]
    }
   ],
   "source": [
    "def add_two_numbers (num1, num2):\n",
    "    total = num1 + num2\n",
    "    print(total)\n",
    "print(add_two_numbers(num2 = 38, num1 = 8))\n"
   ]
  },
  {
   "cell_type": "markdown",
   "metadata": {},
   "source": [
    "### Function Returning a Value-2 / Değer Döndüren Fonksiyon-2\n",
    "\n",
    "Bir fonksiyonla bir değer döndürmezsek, fonksiyonumuz varsayılan olarak None değerini döndürür. Bir işlevle bir değer döndürmek için, geri döndürdüğümüz değişkenin ardından return anahtar sözcüğünü kullanırız. Bir fonksiyondan her türlü veri tipini döndürebiliriz. Farklı örnekleri inceleyelim.\n",
    "\n",
    "Örnek:\n"
   ]
  },
  {
   "cell_type": "code",
   "execution_count": 20,
   "metadata": {},
   "outputs": [
    {
     "data": {
      "text/plain": [
       "'Büşra Akkaya'"
      ]
     },
     "execution_count": 20,
     "metadata": {},
     "output_type": "execute_result"
    }
   ],
   "source": [
    "def print_name(firstname):\n",
    "    return firstname\n",
    "print_name('Büşra') \n",
    "\n",
    "def print_full_name(firstname, lastname):\n",
    "    space = ' '\n",
    "    full_name = firstname  + space + lastname\n",
    "    return full_name\n",
    "print_full_name(firstname='Büşra', lastname='Akkaya')\n"
   ]
  },
  {
   "cell_type": "markdown",
   "metadata": {},
   "source": [
    "Örnek:"
   ]
  },
  {
   "cell_type": "code",
   "execution_count": 21,
   "metadata": {},
   "outputs": [
    {
     "name": "stdout",
     "output_type": "stream",
     "text": [
      "5\n",
      "Age:  200\n"
     ]
    }
   ],
   "source": [
    "def add_two_numbers (num1, num2):\n",
    "    total = num1 + num2\n",
    "    return total\n",
    "print(add_two_numbers(2, 3))\n",
    "def a_age (year, birth_year):\n",
    "    age = year - birth_year\n",
    "    return age;\n",
    "print('Age: ', a_age(2019, 1819))\n"
   ]
  },
  {
   "cell_type": "markdown",
   "metadata": {},
   "source": [
    "Örnek:"
   ]
  },
  {
   "cell_type": "code",
   "execution_count": 22,
   "metadata": {},
   "outputs": [
    {
     "name": "stdout",
     "output_type": "stream",
     "text": [
      "[0, 5, 10]\n"
     ]
    }
   ],
   "source": [
    "def find_even_numbers(n):\n",
    "    evens = []\n",
    "    for i in range(n + 1):\n",
    "        if i %5 == 0:\n",
    "            evens.append(i)\n",
    "    return evens\n",
    "print(find_even_numbers(10))\n"
   ]
  },
  {
   "cell_type": "markdown",
   "metadata": {},
   "source": [
    "### Function with Default Parameters/Varsayılan Parametrelerle Fonksiyon\n",
    "\n",
    "Fonksiyonu çağırdığımızda bazen varsayılan değerleri parametrelere iletiriz. Fonksiyonu çağırırken argümanları iletmezsek, onların varsayılan değerleri kullanılacaktır.\n",
    "Genel Gösterim:\n",
    "def function_name(param = value):\n",
    "    codes\n",
    "function_name()\n",
    "function_name(arg)\n"
   ]
  },
  {
   "cell_type": "markdown",
   "metadata": {},
   "source": [
    "### Arbitrary Number of Arguments/Argümanların Keyfi Sayısı\n",
    "\n",
    "Eğer fonksiyonumuza aktardığımız argüman sayısını bilmiyorsak, parametre isminin önüne * ekleyerek isteğe bağlı sayıda argüman alabilen bir fonksiyon oluşturabiliriz.\n",
    "\n",
    "Genel Gösterim:\n",
    " \n",
    "def function_name(*args):\n",
    "\n",
    "    codes\n",
    "    \n",
    "function_name(param1, param2, param3,..)\n"
   ]
  },
  {
   "cell_type": "markdown",
   "metadata": {},
   "source": [
    "Örnek:"
   ]
  },
  {
   "cell_type": "code",
   "execution_count": 23,
   "metadata": {},
   "outputs": [
    {
     "name": "stdout",
     "output_type": "stream",
     "text": [
      "22\n"
     ]
    }
   ],
   "source": [
    "def sum_all_nums(*nums):\n",
    "    total = 0\n",
    "    for num in nums:\n",
    "        total += num     \n",
    "    return total\n",
    "print(sum_all_nums(14, 3, 5))\n"
   ]
  },
  {
   "cell_type": "markdown",
   "metadata": {},
   "source": [
    "Örnek:"
   ]
  },
  {
   "cell_type": "code",
   "execution_count": 24,
   "metadata": {},
   "outputs": [
    {
     "name": "stdout",
     "output_type": "stream",
     "text": [
      "32\n"
     ]
    }
   ],
   "source": [
    "def sum_all_nums(*nums):\n",
    "    total = 10\n",
    "    for num in nums:\n",
    "        total += num     \n",
    "    return total\n",
    "print(sum_all_nums(14, 3, 5))\n"
   ]
  },
  {
   "cell_type": "markdown",
   "metadata": {},
   "source": [
    "Yukarıdaki iki örnekte benzerdir total değerlerin önemi vurgulamak için iki örneği de  incelemenizi tavsiye ederim.\n",
    "\n",
    "### Default and Arbitrary Number of Parameters in Functions/Fonksiyonlarda Varsayılan ve Keyfi Parametre Sayısı\n"
   ]
  },
  {
   "cell_type": "code",
   "execution_count": 25,
   "metadata": {},
   "outputs": [
    {
     "name": "stdout",
     "output_type": "stream",
     "text": [
      "Ekip\n",
      "Büşra\n",
      "Burak\n",
      "Deniz\n",
      "Eyüp\n",
      "None\n"
     ]
    }
   ],
   "source": [
    "def generate_groups (team,*args):\n",
    "    print(team)\n",
    "    for i in args:\n",
    "        print(i)\n",
    "print(generate_groups('Ekip','Büşra','Burak','Deniz','Eyüp'))"
   ]
  },
  {
   "cell_type": "markdown",
   "metadata": {},
   "source": [
    "Function/Başka Bir Fonksiyonun Parametresi Olarak Fonksiyon\n",
    "\n"
   ]
  },
  {
   "cell_type": "code",
   "execution_count": 26,
   "metadata": {},
   "outputs": [
    {
     "name": "stdout",
     "output_type": "stream",
     "text": [
      "9\n"
     ]
    }
   ],
   "source": [
    "def  do_something ( f , x ):\n",
    "    return  f ( x )\n",
    "def  square_number ( n ):\n",
    "     return  n  *  n \n",
    "print (do_something ( square_number , 3))\n"
   ]
  }
 ],
 "metadata": {
  "interpreter": {
   "hash": "5bb71e04e3d056b3fd374fe835c740c82b88cf9a64babc7a305394decc4b8aa7"
  },
  "kernelspec": {
   "display_name": "Python 3.9.5 64-bit (system)",
   "language": "python",
   "name": "python3"
  },
  "language_info": {
   "codemirror_mode": {
    "name": "ipython",
    "version": 3
   },
   "file_extension": ".py",
   "mimetype": "text/x-python",
   "name": "python",
   "nbconvert_exporter": "python",
   "pygments_lexer": "ipython3",
   "version": "3.9.5"
  },
  "orig_nbformat": 4
 },
 "nbformat": 4,
 "nbformat_minor": 2
}
