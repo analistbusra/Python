{
 "cells": [
  {
   "cell_type": "code",
   "execution_count": 6,
   "metadata": {},
   "outputs": [
    {
     "name": "stdout",
     "output_type": "stream",
     "text": [
      "5\n"
     ]
    }
   ],
   "source": [
    "\n",
    "üye_bilgisi={'ad':'Büşra','Soyad':'Akkaya',\n",
    "'ülke':'Türkiye','şehir':'İstanbul',\n",
    "'yetenekleri':'veri analizi'}\n",
    "print(len(üye_bilgisi))\n",
    "#5\n"
   ]
  },
  {
   "cell_type": "code",
   "execution_count": 3,
   "metadata": {},
   "outputs": [
    {
     "name": "stdout",
     "output_type": "stream",
     "text": [
      "4\n"
     ]
    }
   ],
   "source": [
    "\n",
    "DCT  = { 'anahtar1' : 'deger1' , 'anahtar2' : 'deger2' , 'anahtar3' : 'deger3' , 'key4' : 'VALUE4' }\n",
    "print( len ( DCT ))\n",
    "#4"
   ]
  },
  {
   "cell_type": "code",
   "execution_count": 10,
   "metadata": {},
   "outputs": [
    {
     "name": "stdout",
     "output_type": "stream",
     "text": [
      "{'ad': 'Büşra', 'Soyad': 'Akkaya', 'ülke': 'Türkiye', 'şehir': 'İstanbul', 'yetenekleri': 'veri analizi', 'YAŞ': '25', 'EVLİ_BEKAR': 'BEKAR'}\n"
     ]
    }
   ],
   "source": [
    "üye_bilgisi={'ad':'Büşra','Soyad':'Akkaya',\n",
    "'ülke':'Türkiye','şehir':'İstanbul',\n",
    "'yetenekleri':'veri analizi'}\n",
    "üye_bilgisi['YAŞ']='25'\n",
    "üye_bilgisi['EVLİ_BEKAR']='BEKAR'\n",
    "print(üye_bilgisi)\n",
    "# {'ad': 'Büşra', 'Soyad': 'Akkaya', 'ülke': 'Türkiye', 'şehir': 'İstanbul', 'yetenekleri': 'veri analizi', 'YAŞ': '25', 'EVLİ_BEKAR': 'BEKAR'}\n"
   ]
  },
  {
   "cell_type": "code",
   "execution_count": 2,
   "metadata": {},
   "outputs": [
    {
     "name": "stdout",
     "output_type": "stream",
     "text": [
      "{'anahtar1': 'deger1', 'anahtar2': 'deger2', 'anahtar3': 'deger3', 'key4': 'VALUE4', 'key5': 'value5'}\n"
     ]
    }
   ],
   "source": [
    "DCT  = { 'anahtar1' : 'deger1' , 'anahtar2' : 'deger2' , 'anahtar3' : 'deger3' , 'key4' : 'VALUE4' }\n",
    "DCT [ 'key5' ] =  'value5'\n",
    "print(DCT)"
   ]
  },
  {
   "cell_type": "code",
   "execution_count": 13,
   "metadata": {},
   "outputs": [
    {
     "name": "stdout",
     "output_type": "stream",
     "text": [
      "{'ad': 'Fatma', 'Soyad': 'Akkaya', 'yaş': '25', 'evli_bekar': 'bekar', 'ülke': 'Türkiye', 'şehir': 'İstanbul', 'yetenekleri': 'veri analizi', 'YAŞ': '26'}\n"
     ]
    }
   ],
   "source": [
    "üye_bilgisi={'ad':'Büşra','Soyad':'Akkaya','yaş':'25','evli_bekar':'bekar','ülke':'Türkiye','şehir':'İstanbul',\n",
    "'yetenekleri':'veri analizi'}\n",
    "üye_bilgisi['YAŞ']='26'\n",
    "üye_bilgisi['ad']='Fatma'\n",
    "print(üye_bilgisi)\n",
    "# {'ad': 'Fatma', 'Soyad': 'Akkaya', 'yaş': '25', 'evli_bekar': 'bekar', 'ülke': 'Türkiye', 'şehir': 'İstanbul', 'yetenekleri': 'veri analizi', 'YAŞ': '26'}\n"
   ]
  },
  {
   "cell_type": "code",
   "execution_count": 14,
   "metadata": {},
   "outputs": [
    {
     "name": "stdout",
     "output_type": "stream",
     "text": [
      "True\n",
      "False\n"
     ]
    }
   ],
   "source": [
    "\n",
    "dct = {'anahtar1':'xxxx', 'anahtar2':'xyxyx', 'anahtar3':'xhyxyx', 'anahtar4':'abah'}\n",
    "print('anahtar2' in dct) # True\n",
    "print('key10' in dct) # False\n"
   ]
  },
  {
   "cell_type": "code",
   "execution_count": 18,
   "metadata": {},
   "outputs": [
    {
     "name": "stdout",
     "output_type": "stream",
     "text": [
      "{'Soyad': 'Akkaya', 'yaş': '25', 'evli_bekar': 'bekar', 'ülke': 'Türkiye', 'şehir': 'İstanbul', 'yetenekleri': 'veri analizi'}\n",
      "{'yaş': '25', 'evli_bekar': 'bekar', 'ülke': 'Türkiye', 'şehir': 'İstanbul', 'yetenekleri': 'veri analizi'}\n"
     ]
    }
   ],
   "source": [
    "üye_bilgisi={'ad': 'Fatma', 'Soyad': 'Akkaya', 'yaş': '25', 'evli_bekar': 'bekar', 'ülke': 'Türkiye', 'şehir': 'İstanbul', 'yetenekleri': 'veri analizi', 'YAŞ': '26'}\n",
    "üye_bilgisi.pop('ad')\n",
    "üye_bilgisi.popitem() # son terim silinir.('YAŞ', '26')\n",
    "print(üye_bilgisi)\n",
    "#{'Soyad': 'Akkaya', 'yaş': '25', 'evli_bekar': 'bekar', 'ülke': 'Türkiye', 'şehir': 'İstanbul', 'yetenekleri': 'veri analizi'}\n",
    "del üye_bilgisi['Soyad']\n",
    "print(üye_bilgisi)\n",
    "# {'yaş': '25', 'evli_bekar': 'bekar', 'ülke': 'Türkiye', 'şehir': 'İstanbul', 'yetenekleri': 'veri analizi'}\n"
   ]
  },
  {
   "cell_type": "code",
   "execution_count": 19,
   "metadata": {},
   "outputs": [
    {
     "name": "stdout",
     "output_type": "stream",
     "text": [
      "dict_items([('ad', 'Fatma'), ('Soyad', 'Akkaya'), ('yaş', '25'), ('evli_bekar', 'bekar'), ('ülke', 'Türkiye'), ('şehir', 'İstanbul'), ('yetenekleri', 'veri analizi'), ('YAŞ', '26')])\n"
     ]
    }
   ],
   "source": [
    "üye_bilgisi={'ad': 'Fatma', 'Soyad': 'Akkaya', 'yaş': '25', 'evli_bekar': 'bekar', 'ülke': 'Türkiye', 'şehir': 'İstanbul', 'yetenekleri': 'veri analizi', 'YAŞ': '26'}\n",
    "print(üye_bilgisi.items())\n",
    "#dict_items([('ad', 'Fatma'), ('Soyad', 'Akkaya'), ('yaş', '25'), ('evli_bekar', 'bekar'), ('ülke', 'Türkiye'), ('şehir', 'İstanbul'), ('yetenekleri', 'veri analizi'), ('YAŞ', '26')])\n"
   ]
  },
  {
   "cell_type": "code",
   "execution_count": 21,
   "metadata": {},
   "outputs": [],
   "source": [
    "üye_bilgisi={'ad': 'Fatma', 'Soyad': 'Akkaya', 'yaş': '25', 'evli_bekar': 'bekar', 'ülke': 'Türkiye', 'şehir': 'İstanbul', 'yetenekleri': 'veri analizi', 'YAŞ': '26'}\n",
    "del(üye_bilgisi)\n",
    "# artık üye_bilgisi sözlüğü yok \n"
   ]
  },
  {
   "cell_type": "code",
   "execution_count": 26,
   "metadata": {},
   "outputs": [
    {
     "name": "stdout",
     "output_type": "stream",
     "text": [
      "dict_values(['Büşra', 'Akkaya', 'Türkiye', 'İstanbul', 'veri analizi'])\n"
     ]
    }
   ],
   "source": [
    "üye_bilgisi={'ad':'Büşra','Soyad':'Akkaya',\n",
    "'ülke':'Türkiye','şehir':'İstanbul',\n",
    "'yetenekleri':'veri analizi'}\n",
    "değer=dict.values(üye_bilgisi)\n",
    "print(değer)\n",
    "# dict_values(['Büşra', 'Akkaya', 'Türkiye', 'İstanbul', 'veri analizi'])\n"
   ]
  },
  {
   "cell_type": "code",
   "execution_count": null,
   "metadata": {},
   "outputs": [],
   "source": []
  }
 ],
 "metadata": {
  "interpreter": {
   "hash": "5bb71e04e3d056b3fd374fe835c740c82b88cf9a64babc7a305394decc4b8aa7"
  },
  "kernelspec": {
   "display_name": "Python 3.9.5 64-bit (system)",
   "language": "python",
   "name": "python3"
  },
  "language_info": {
   "codemirror_mode": {
    "name": "ipython",
    "version": 3
   },
   "file_extension": ".py",
   "mimetype": "text/x-python",
   "name": "python",
   "nbconvert_exporter": "python",
   "pygments_lexer": "ipython3",
   "version": "3.9.5"
  },
  "orig_nbformat": 4
 },
 "nbformat": 4,
 "nbformat_minor": 2
}
