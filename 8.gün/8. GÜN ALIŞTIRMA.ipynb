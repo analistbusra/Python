{
 "cells": [
  {
   "cell_type": "code",
   "execution_count": null,
   "metadata": {},
   "outputs": [],
   "source": [
    "# Alıştırmalar: 8. Gün\n",
    "#Köpek adında boş bir sözlük oluşturun\n",
    "#Köpek sözlüğüne isim, renk, cins, bacaklar, yaş ekleyin\n",
    "#Bir öğrenci sözlüğü oluşturun ve sözlüğe anahtar olarak ad, soyadı, cinsiyet, yaş, medeni durum, beceriler, ülke, şehir ve adresi ekleyin\n",
    "#Öğrenci sözlüğünün uzunluğunu alın\n",
    "#Becerilerin değerini alın ve veri türünü kontrol edin, bir liste olmalı\n",
    "#Bir veya iki beceri ekleyerek beceri değerlerini değiştirin\n",
    "#Sözlük anahtarlarını liste olarak alın\n",
    "#Sözlük değerlerini bir liste olarak alın\n",
    "#Öğeler () yöntemini kullanarak sözlüğü bir demet listesiyle değiştirin\n",
    "#Sözlükteki öğelerden birini silin\n",
    "#Sözlüklerden birini silin\n"
   ]
  },
  {
   "cell_type": "code",
   "execution_count": 1,
   "metadata": {},
   "outputs": [
    {
     "name": "stdout",
     "output_type": "stream",
     "text": [
      "{'cins', 'isim', 'yaş', 'bacaklar', 'renk'}\n"
     ]
    }
   ],
   "source": [
    "dog={}\n",
    "dog={'isim','renk','cins','bacaklar','yaş'}\n",
    "print(dog)\n",
    "{'cins', 'isim', 'yaş', 'bacaklar', 'renk'}"
   ]
  },
  {
   "cell_type": "code",
   "execution_count": 13,
   "metadata": {},
   "outputs": [
    {
     "name": "stdout",
     "output_type": "stream",
     "text": [
      "8\n"
     ]
    }
   ],
   "source": [
    "sss={'ad':'Büşra','soy_ad':'Akkaya','cinsiyet':'kadın','medeni durum':'bekar','beceriler':{'R programlama','C++','SPSS','Python'}\n",
    ",'ülke':'Türkiye','şehir':'istanbul','adres':{'sokak':'yoncalı sokak','posta kod':'2600'}}\n",
    "print(len(dict))"
   ]
  },
  {
   "cell_type": "code",
   "execution_count": 17,
   "metadata": {},
   "outputs": [
    {
     "name": "stdout",
     "output_type": "stream",
     "text": [
      "dict_values(['Büşra', 'Akkaya', 'kadın', 'bekar', {'Python', 'C++', 'SPSS', 'R programlama'}, 'Türkiye', 'İstanbul', {'sokak': 'yonca sokağı', 'posta kodu': '252600'}])\n"
     ]
    }
   ],
   "source": [
    "bilgi={'ad':'Büşra','soy_ad':'Akkaya','cinsiyet':'kadın','medeni durum':'bekar','beceriler':{'R programlama','C++','SPSS','Python'}\n",
    ",'ülke':'Türkiye','şehir':'istanbul','adres':{'sokak':'yoncalı sokak','posta kod':'2600'}}\n",
    "bil=dict.values()\n",
    "print(bil)"
   ]
  },
  {
   "cell_type": "code",
   "execution_count": 22,
   "metadata": {},
   "outputs": [
    {
     "name": "stdout",
     "output_type": "stream",
     "text": [
      "{'ad': 'Büşra', 'soy_ad': 'Akkaya', 'cinsiyet': 'kadın', 'medeni durum': 'bekar', 'beceriler': {'java', 'R programlama', 'Python', 'C++', 'SPSS'}, 'ülke': 'Türkiye', 'şehir': 'istanbul', 'adres': {'sokak': 'yoncalı sokak', 'posta kod': '2600'}}\n"
     ]
    }
   ],
   "source": [
    "bilgi={'ad':'Büşra','soy_ad':'Akkaya','cinsiyet':'kadın','medeni durum':'bekar','beceriler':{'R programlama','C++','SPSS','Python'}\n",
    ",'ülke':'Türkiye','şehir':'istanbul','adres':{'sokak':'yoncalı sokak','posta kod':'2600'}}\n",
    "bilgi['beceriler']={'R programlama','C++','SPSS','Python','java'}\n",
    "print(bilgi)"
   ]
  },
  {
   "cell_type": "code",
   "execution_count": null,
   "metadata": {},
   "outputs": [],
   "source": [
    "#Sözlük anahtarlarını liste olarak alın keys()\n"
   ]
  },
  {
   "cell_type": "code",
   "execution_count": 23,
   "metadata": {},
   "outputs": [
    {
     "name": "stdout",
     "output_type": "stream",
     "text": [
      "dict_keys(['ad', 'soy_ad', 'cinsiyet', 'medeni durum', 'beceriler', 'ülke', 'şehir', 'adres'])\n"
     ]
    }
   ],
   "source": [
    "p_information={'ad':'Büşra',\n",
    "'soy_ad':'Akkaya',\n",
    "'cinsiyet':'kadın',\n",
    "'medeni durum':'bekar',\n",
    "'beceriler':{'R programlama','C++','SPSS','Python'}\n",
    ",'ülke':'Türkiye',\n",
    "'şehir':'istanbul',\n",
    "'adres':{'sokak':'yoncalı sokak','posta kod':'2600'}}\n",
    "anahtar=p_information.keys()\n",
    "print(anahtar)"
   ]
  },
  {
   "cell_type": "code",
   "execution_count": null,
   "metadata": {},
   "outputs": [],
   "source": [
    "#Sözlük değerlerini bir liste olarak alın"
   ]
  },
  {
   "cell_type": "code",
   "execution_count": 24,
   "metadata": {},
   "outputs": [
    {
     "name": "stdout",
     "output_type": "stream",
     "text": [
      "dict_keys(['ad', 'soy_ad', 'cinsiyet', 'medeni durum', 'beceriler', 'ülke', 'şehir', 'adres'])\n"
     ]
    }
   ],
   "source": [
    "information={'ad':'Büşra',\n",
    "'soy_ad':'Akkaya',\n",
    "'cinsiyet':'kadın',\n",
    "'medeni durum':'bekar',\n",
    "'beceriler':{'R programlama','C++','SPSS','Python'}\n",
    ",'ülke':'Türkiye',\n",
    "'şehir':'istanbul',\n",
    "'adres':{'sokak':'yoncalı sokak','posta kod':'2600'}}\n",
    "değer=information.keys()\n",
    "print(değer)"
   ]
  },
  {
   "cell_type": "code",
   "execution_count": null,
   "metadata": {},
   "outputs": [],
   "source": [
    "#dict() yöntemini kullanarak sözlüğü bir demet listesiyle değiştirin # items()"
   ]
  },
  {
   "cell_type": "code",
   "execution_count": 25,
   "metadata": {},
   "outputs": [
    {
     "name": "stdout",
     "output_type": "stream",
     "text": [
      "dict_items([('ad', 'Büşra'), ('soy_ad', 'Akkaya'), ('cinsiyet', 'kadın'), ('medeni durum', 'bekar'), ('beceriler', {'Python', 'C++', 'SPSS', 'R programlama'}), ('ülke', 'Türkiye'), ('şehir', 'istanbul'), ('adres', {'sokak': 'yoncalı sokak', 'posta kod': '2600'})])\n"
     ]
    }
   ],
   "source": [
    "information={'ad':'Büşra',\n",
    "'soy_ad':'Akkaya',\n",
    "'cinsiyet':'kadın',\n",
    "'medeni durum':'bekar',\n",
    "'beceriler':{'R programlama','C++','SPSS','Python'}\n",
    ",'ülke':'Türkiye',\n",
    "'şehir':'istanbul',\n",
    "'adres':{'sokak':'yoncalı sokak','posta kod':'2600'}}\n",
    "print(information.items())"
   ]
  },
  {
   "cell_type": "code",
   "execution_count": null,
   "metadata": {},
   "outputs": [],
   "source": [
    "# sözlükteki öğelerden birini sil # del pop() popitem() sonuncu değeri siler"
   ]
  },
  {
   "cell_type": "code",
   "execution_count": 28,
   "metadata": {},
   "outputs": [],
   "source": [
    "information={'ad':'Büşra',\n",
    "'soy_ad':'Akkaya',\n",
    "'cinsiyet':'kadın',\n",
    "'medeni durum':'bekar',\n",
    "'beceriler':{'R programlama','C++','SPSS','Python'}\n",
    ",'ülke':'Türkiye',\n",
    "'şehir':'istanbul',\n",
    "'adres':{'sokak':'yoncalı sokak','posta kod':'2600'}}"
   ]
  },
  {
   "cell_type": "code",
   "execution_count": 27,
   "metadata": {},
   "outputs": [
    {
     "name": "stdout",
     "output_type": "stream",
     "text": [
      "{'ad': 'Büşra', 'soy_ad': 'Akkaya', 'cinsiyet': 'kadın', 'beceriler': {'Python', 'C++', 'SPSS', 'R programlama'}, 'ülke': 'Türkiye', 'şehir': 'istanbul', 'adres': {'sokak': 'yoncalı sokak', 'posta kod': '2600'}}\n"
     ]
    }
   ],
   "source": [
    "information.pop('medeni durum')\n",
    "print(information)"
   ]
  },
  {
   "cell_type": "code",
   "execution_count": 29,
   "metadata": {},
   "outputs": [
    {
     "name": "stdout",
     "output_type": "stream",
     "text": [
      "{'ad': 'Büşra', 'soy_ad': 'Akkaya', 'cinsiyet': 'kadın', 'medeni durum': 'bekar', 'beceriler': {'Python', 'C++', 'SPSS', 'R programlama'}, 'ülke': 'Türkiye', 'şehir': 'istanbul'}\n"
     ]
    }
   ],
   "source": [
    "information.popitem()\n",
    "print(information)"
   ]
  },
  {
   "cell_type": "code",
   "execution_count": 34,
   "metadata": {},
   "outputs": [
    {
     "name": "stdout",
     "output_type": "stream",
     "text": [
      "{'ad': 'Büşra', 'soy_ad': 'Akkaya', 'medeni durum': 'bekar', 'beceriler': {'Python', 'C++', 'SPSS', 'R programlama'}, 'ülke': 'Türkiye', 'şehir': 'istanbul'}\n"
     ]
    }
   ],
   "source": [
    "del information ['cinsiyet']\n",
    "print(information)\n"
   ]
  },
  {
   "cell_type": "code",
   "execution_count": null,
   "metadata": {},
   "outputs": [],
   "source": [
    "#Sözlüklerden birini silin\n"
   ]
  },
  {
   "cell_type": "code",
   "execution_count": 36,
   "metadata": {},
   "outputs": [],
   "source": [
    "astara={'ad':'Büşra',\n",
    "'soy_ad':'Akkaya',\n",
    "'cinsiyet':'kadın',\n",
    "'medeni durum':'bekar',\n",
    "'beceriler':{'R programlama','C++','SPSS','Python'}\n",
    ",'ülke':'Türkiye',\n",
    "'şehir':'istanbul',\n",
    "'adres':{'sokak':'yoncalı sokak','posta kod':'2600'}}\n"
   ]
  },
  {
   "cell_type": "code",
   "execution_count": 37,
   "metadata": {},
   "outputs": [],
   "source": [
    "del astara"
   ]
  },
  {
   "cell_type": "code",
   "execution_count": 38,
   "metadata": {},
   "outputs": [
    {
     "ename": "NameError",
     "evalue": "name 'astara' is not defined",
     "output_type": "error",
     "traceback": [
      "\u001b[1;31m---------------------------------------------------------------------------\u001b[0m",
      "\u001b[1;31mNameError\u001b[0m                                 Traceback (most recent call last)",
      "\u001b[1;32mC:\\Users\\BRA~1\\AppData\\Local\\Temp/ipykernel_8144/4108473288.py\u001b[0m in \u001b[0;36m<module>\u001b[1;34m\u001b[0m\n\u001b[1;32m----> 1\u001b[1;33m \u001b[0mprint\u001b[0m\u001b[1;33m(\u001b[0m\u001b[0mastara\u001b[0m\u001b[1;33m)\u001b[0m\u001b[1;33m\u001b[0m\u001b[1;33m\u001b[0m\u001b[0m\n\u001b[0m",
      "\u001b[1;31mNameError\u001b[0m: name 'astara' is not defined"
     ]
    }
   ],
   "source": [
    "print(astara) #### ERROR "
   ]
  }
 ],
 "metadata": {
  "interpreter": {
   "hash": "5bb71e04e3d056b3fd374fe835c740c82b88cf9a64babc7a305394decc4b8aa7"
  },
  "kernelspec": {
   "display_name": "Python 3.9.5 64-bit (system)",
   "language": "python",
   "name": "python3"
  },
  "language_info": {
   "codemirror_mode": {
    "name": "ipython",
    "version": 3
   },
   "file_extension": ".py",
   "mimetype": "text/x-python",
   "name": "python",
   "nbconvert_exporter": "python",
   "pygments_lexer": "ipython3",
   "version": "3.9.5"
  },
  "orig_nbformat": 4
 },
 "nbformat": 4,
 "nbformat_minor": 2
}
