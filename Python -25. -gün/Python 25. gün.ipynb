{
 "cells": [
  {
   "cell_type": "markdown",
   "metadata": {},
   "source": [
    "# Pandas\n",
    "\n",
    "Pandas, Python programlama dili için açık kaynaklı, yüksek performanslı, kullanımı kolay veri yapıları ve veri analiz araçlarıdır. Pandas, seriler ve veri çerçeveleri olan tablo benzeri verilerle çalışmak üzere tasarlanmış veri yapıları ve araçlar ekler . Pandas, veri işleme için aşağıdaki özellikleri sağlar.\n",
    "\n",
    "•\tyeniden şekillendirme\n",
    "\n",
    "•\tbirleştirme\n",
    "\n",
    "•\tsıralama\n",
    "\n",
    "•\tdilimleme\n",
    "\n",
    "•\ttoplama\n",
    "\n",
    "•\tatama\n",
    "\n",
    "## Installing Pandas(pandas yükleme)\n",
    "\n"
   ]
  },
  {
   "cell_type": "code",
   "execution_count": null,
   "metadata": {},
   "outputs": [],
   "source": [
    "pip install pandas"
   ]
  },
  {
   "cell_type": "markdown",
   "metadata": {},
   "source": [
    "•\tPandas veri yapısı Seri ve DataFrame'lere dayanmaktadır. Bir dizi bir sütundur ve bir DataFrame, dizi koleksiyonundan oluşan çok boyutlu bir tablodur. Bir pandas serisi oluşturmak için tek boyutlu diziler veya bir python listesi oluşturmak için numpy kullanmalıyız. \n",
    "\n",
    "## Importing Pandas(pandas içe aktarmak)\n"
   ]
  },
  {
   "cell_type": "code",
   "execution_count": 7,
   "metadata": {},
   "outputs": [],
   "source": [
    "import pandas as pd\n",
    "import numpy as np"
   ]
  },
  {
   "cell_type": "markdown",
   "metadata": {},
   "source": [
    "## Creating Pandas Series with Default Index(Varsayılan Dizin ile PandaS Serisi Oluşturma)\n",
    "\n",
    "Örnek:\n"
   ]
  },
  {
   "cell_type": "code",
   "execution_count": 2,
   "metadata": {},
   "outputs": [
    {
     "name": "stdout",
     "output_type": "stream",
     "text": [
      "0    1\n",
      "1    2\n",
      "2    3\n",
      "3    4\n",
      "4    5\n",
      "dtype: int64\n"
     ]
    }
   ],
   "source": [
    "nums = [1, 2, 3, 4,5]\n",
    "s = pd.Series(nums)\n",
    "print(s)\n"
   ]
  },
  {
   "cell_type": "markdown",
   "metadata": {},
   "source": [
    "Creating Pandas Series with custom index(Özel dizinle Pandas Serisi oluşturma)\n",
    "\n",
    "Örnek:\n"
   ]
  },
  {
   "cell_type": "code",
   "execution_count": 3,
   "metadata": {},
   "outputs": [
    {
     "name": "stdout",
     "output_type": "stream",
     "text": [
      "1.0    1\n",
      "2.0    2\n",
      "3.0    3\n",
      "4.0    4\n",
      "5.0    5\n",
      "dtype: int64\n"
     ]
    }
   ],
   "source": [
    "nums = [1, 2, 3, 4, 5]\n",
    "s = pd.Series(nums, index=[1., 2., 3., 4., 5.])\n",
    "print(s)\n"
   ]
  },
  {
   "cell_type": "markdown",
   "metadata": {},
   "source": [
    "Örnek:"
   ]
  },
  {
   "cell_type": "code",
   "execution_count": 4,
   "metadata": {},
   "outputs": [
    {
     "name": "stdout",
     "output_type": "stream",
     "text": [
      "1      Büşra\n",
      "2    İbrahim\n",
      "3      Fatma\n",
      "dtype: object\n"
     ]
    }
   ],
   "source": [
    "names = ['Büşra','İbrahim','Fatma']\n",
    "names = pd.Series(names, index=[1, 2, 3])\n",
    "print(names)\n",
    "\n"
   ]
  },
  {
   "cell_type": "markdown",
   "metadata": {},
   "source": [
    "## Creating Pandas Series from a Dictionary(Sözlükten Pandas Serisi Oluşturma)\n",
    "\n",
    "Örnek:\n"
   ]
  },
  {
   "cell_type": "code",
   "execution_count": 5,
   "metadata": {},
   "outputs": [
    {
     "name": "stdout",
     "output_type": "stream",
     "text": [
      "name          Büşra\n",
      "country     Türkiye\n",
      "city       İstanbul\n",
      "dtype: object\n"
     ]
    }
   ],
   "source": [
    "dct = {'name':'Büşra','country':'Türkiye','city':'İstanbul'}\n",
    "s = pd.Series(dct)\n",
    "print(s)\n",
    "\n"
   ]
  },
  {
   "cell_type": "markdown",
   "metadata": {},
   "source": [
    "\n",
    "Creating a Constant Pandas Series(Sabit Bir Panda Serisi Oluşturma)\n"
   ]
  },
  {
   "cell_type": "code",
   "execution_count": 6,
   "metadata": {},
   "outputs": [
    {
     "name": "stdout",
     "output_type": "stream",
     "text": [
      "1    10\n",
      "2    10\n",
      "3    10\n",
      "dtype: int64\n"
     ]
    }
   ],
   "source": [
    "s = pd.Series(10, index = [1, 2, 3])\n",
    "print(s)\n"
   ]
  },
  {
   "cell_type": "markdown",
   "metadata": {},
   "source": [
    "## Creating a Pandas Series Using Linspace(Linspace Kullanarak Panda Serisi Oluşturma)\n",
    "\n",
    "Hatırlarsanız linspace Numpy anlatırken de değinmiştik burada Pandas ile ne kadar benzer noktaları olduğunu görebiliriz."
   ]
  },
  {
   "cell_type": "code",
   "execution_count": 8,
   "metadata": {},
   "outputs": [
    {
     "name": "stdout",
     "output_type": "stream",
     "text": [
      "0     5.000000\n",
      "1     6.888889\n",
      "2     8.777778\n",
      "3    10.666667\n",
      "4    12.555556\n",
      "5    14.444444\n",
      "6    16.333333\n",
      "7    18.222222\n",
      "8    20.111111\n",
      "9    22.000000\n",
      "dtype: float64\n"
     ]
    }
   ],
   "source": [
    "s = pd.Series(np.linspace(5, 22, 10)) # linspace(starting, end, items)\n",
    "print(s)\n",
    "\n"
   ]
  },
  {
   "cell_type": "markdown",
   "metadata": {},
   "source": [
    "## DataFrames (Veri Çerçevesi)\n",
    "\n",
    "Pandas  veri çerçeveleri farklı şekillerde oluşturulabilir.\n"
   ]
  },
  {
   "cell_type": "code",
   "execution_count": 10,
   "metadata": {},
   "outputs": [
    {
     "name": "stdout",
     "output_type": "stream",
     "text": [
      "   Names  Country       City\n",
      "0  Büşra  Türkiye   İstanbul\n",
      "1  David       UK     London\n",
      "2   John   Sweden  Stockholm\n"
     ]
    }
   ],
   "source": [
    "data = [\n",
    "    ['Büşra', 'Türkiye', 'İstanbul'], \n",
    "    ['David', 'UK', 'London'],\n",
    "    ['John', 'Sweden', 'Stockholm']]\n",
    "df = pd.DataFrame(data, columns=['Names','Country','City'])\n",
    "print(df)\n"
   ]
  },
  {
   "cell_type": "markdown",
   "metadata": {},
   "source": [
    "## Creating DataFrames from List of Lists(Liste Listesinden DataFrames Oluşturma)"
   ]
  },
  {
   "cell_type": "code",
   "execution_count": 11,
   "metadata": {},
   "outputs": [
    {
     "name": "stdout",
     "output_type": "stream",
     "text": [
      "    Name  Country       City\n",
      "0  Büşra  Türkiye   İstanbul\n",
      "1  David       UK     London\n",
      "2   John   Sweden  Stockholm\n"
     ]
    }
   ],
   "source": [
    "data = {'Name': ['Büşra', 'David', 'John'], 'Country':[\n",
    "    'Türkiye', 'UK', 'Sweden'], 'City': ['İstanbul', 'London', 'Stockholm']}\n",
    "df = pd.DataFrame(data)\n",
    "print(df)\n"
   ]
  },
  {
   "cell_type": "markdown",
   "metadata": {},
   "source": [
    "### Creating DataFrame Using Dictionary(Sözlük Kullanarak DataFrame Oluşturma)"
   ]
  },
  {
   "cell_type": "code",
   "execution_count": 12,
   "metadata": {},
   "outputs": [
    {
     "name": "stdout",
     "output_type": "stream",
     "text": [
      "    Name  Country       City\n",
      "0  Büşra  Türkiye   İstanbul\n",
      "1  David       UK     London\n",
      "2   John   Sweden  Stockholm\n"
     ]
    }
   ],
   "source": [
    "data = [\n",
    "    {'Name': 'Büşra', 'Country': 'Türkiye', 'City': 'İstanbul'},\n",
    "    {'Name': 'David', 'Country': 'UK', 'City': 'London'},\n",
    "    {'Name': 'John', 'Country': 'Sweden', 'City': 'Stockholm'}]\n",
    "df = pd.DataFrame(data)\n",
    "print(df)\n"
   ]
  },
  {
   "cell_type": "markdown",
   "metadata": {},
   "source": [
    "## Reading CSV File Using Pandas(Pandas Kullanarak CSV Dosyasını Okumak)"
   ]
  },
  {
   "cell_type": "code",
   "execution_count": 47,
   "metadata": {},
   "outputs": [
    {
     "name": "stdout",
     "output_type": "stream",
     "text": [
      "   Column2;Soru 1;Soru 2;Toplam\n",
      "0                 MALE;25;30;75\n",
      "1               FEMALE;35;30;85\n",
      "2               FEMALE;35;10;65\n",
      "3               FEMALE;35;30;85\n",
      "4               FEMALE;35;35;90\n",
      "5               FEMALE;35;35;90\n",
      "6                 MALE;35;35;95\n",
      "7                 MALE;35;35;90\n",
      "8                 MALE;35;35;90\n",
      "9                 MALE;35;35;90\n",
      "10                MALE;35;35;90\n",
      "11              FEMALE;35;35;90\n",
      "12              FEMALE;35;35;95\n",
      "13                MALE;35;35;95\n",
      "14              FEMALE;35;35;90\n",
      "15              FEMALE;35;35;95\n",
      "16                MALE;35;35;95\n",
      "17                MALE;35;35;95\n",
      "18                MALE;35;35;95\n",
      "19                MALE;35;35;85\n",
      "20              FEMALE;35;35;90\n",
      "21              FEMALE;35;35;80\n",
      "22                MALE;35;35;95\n",
      "23                MALE;35;35;90\n"
     ]
    }
   ],
   "source": [
    "import pandas as pd\n",
    "\n",
    "df = pd.read_csv('VERİ_LİSTE.csv')\n",
    "print(df)\n"
   ]
  },
  {
   "cell_type": "markdown",
   "metadata": {},
   "source": [
    "## Veri Keşfi\n",
    "\n",
    "Head() ile sadece ilk 5 satırı okuyalım."
   ]
  },
  {
   "cell_type": "code",
   "execution_count": 48,
   "metadata": {},
   "outputs": [
    {
     "name": "stdout",
     "output_type": "stream",
     "text": [
      "  Column2;Soru 1;Soru 2;Toplam\n",
      "0                MALE;25;30;75\n",
      "1              FEMALE;35;30;85\n",
      "2              FEMALE;35;10;65\n",
      "3              FEMALE;35;30;85\n",
      "4              FEMALE;35;35;90\n"
     ]
    }
   ],
   "source": [
    "print(df.head(5))"
   ]
  },
  {
   "cell_type": "markdown",
   "metadata": {},
   "source": [
    "Ayrıca tail() yöntemlerini kullanarak veri çerçevesinin son kayıtlarını da keşfedelim. Parantez içerisine sayı yazılmazsa son 5 sayı getirir."
   ]
  },
  {
   "cell_type": "code",
   "execution_count": 49,
   "metadata": {},
   "outputs": [
    {
     "name": "stdout",
     "output_type": "stream",
     "text": [
      "   Column2;Soru 1;Soru 2;Toplam\n",
      "19                MALE;35;35;85\n",
      "20              FEMALE;35;35;90\n",
      "21              FEMALE;35;35;80\n",
      "22                MALE;35;35;95\n",
      "23                MALE;35;35;90\n"
     ]
    }
   ],
   "source": [
    "print(df.tail())"
   ]
  },
  {
   "cell_type": "markdown",
   "metadata": {},
   "source": [
    "Büyük bir veri setiyle uğraştığınızı düşünün kaç adet sütun ve satır olduğunu otomatik öğrenmek için aşağıdaki komutu kullanabiliriz."
   ]
  },
  {
   "cell_type": "code",
   "execution_count": 50,
   "metadata": {},
   "outputs": [
    {
     "name": "stdout",
     "output_type": "stream",
     "text": [
      "(24, 1)\n"
     ]
    }
   ],
   "source": [
    "print(df.shape)"
   ]
  },
  {
   "cell_type": "markdown",
   "metadata": {},
   "source": [
    "Sütun isimlerini görmek istiyorum aşağıdaki komut ile görebilirim."
   ]
  },
  {
   "cell_type": "markdown",
   "metadata": {},
   "source": []
  },
  {
   "cell_type": "code",
   "execution_count": 58,
   "metadata": {},
   "outputs": [
    {
     "name": "stdout",
     "output_type": "stream",
     "text": [
      "Index(['Column2;Soru 1;Soru 2;Toplam'], dtype='object')\n"
     ]
    }
   ],
   "source": [
    "print(df.columns)\n"
   ]
  },
  {
   "cell_type": "code",
   "execution_count": 62,
   "metadata": {},
   "outputs": [
    {
     "name": "stdout",
     "output_type": "stream",
     "text": [
      "       Column2;Soru 1;Soru 2;Toplam\n",
      "count                            24\n",
      "unique                            9\n",
      "top                   MALE;35;35;95\n",
      "freq                              6\n"
     ]
    }
   ],
   "source": [
    "print(df.describe()) "
   ]
  },
  {
   "cell_type": "markdown",
   "metadata": {},
   "source": [
    "### Bir DataFrame'i Değiştirme\n",
    "\n",
    "Bir DataFrame'i Değiştirmek: * Yeni bir DataFrame oluşturabiliriz * Yeni bir sütun oluşturup DataFrame'e ekleyebiliriz, * DataFrame'den var olan bir sütunu kaldırabiliriz, * DataFrame'de var olan bir sütunu değiştirebiliriz, * yapabiliriz DataFrame'deki sütun değerlerinin veri türünü değiştirin\n",
    "\n",
    "### DataFrame Oluşturma\n",
    "\n",
    "Her zaman olduğu gibi, önce gerekli paketleri içe aktarıyoruz. Şimdi, şimdiye kadarki en iyi iki arkadaş olan pandaları ve numpy'yi içe aktaralım."
   ]
  },
  {
   "cell_type": "code",
   "execution_count": 63,
   "metadata": {},
   "outputs": [
    {
     "name": "stdout",
     "output_type": "stream",
     "text": [
      "  Column2 Soru 1 Soru 2\n",
      "0  FEMALE     25     15\n",
      "1    MALE     25     25\n",
      "2  FEMALE     02     45\n"
     ]
    }
   ],
   "source": [
    "import pandas as pd\n",
    "import numpy as np\n",
    "data = [\n",
    "    {\"Column2\": \"FEMALE\", \"Soru 1\":\"25\",\"Soru 2\":\"15\"},\n",
    "    {\"Column2\": \"MALE\", \"Soru 1\":\"25\",\"Soru 2\":\"25\"},\n",
    "    {\"Column2\": \"FEMALE\", \"Soru 1\":\"02\",\"Soru 2\":\"45\"}]\n",
    "df = pd.DataFrame(data)\n",
    "print(df)"
   ]
  },
  {
   "cell_type": "markdown",
   "metadata": {},
   "source": [
    "\n",
    "\n",
    "Önce bir DataFrame oluşturmak için önceki örneği kullanalım. DataFrame'i oluşturduktan sonra sütunları ve sütun değerlerini değiştirmeye başlayacağız.\n",
    "\n",
    "Yeni Sütun Ekleme\n",
    "DataFrame'e bir toplam  sütunu ekleyelim."
   ]
  },
  {
   "cell_type": "code",
   "execution_count": 70,
   "metadata": {},
   "outputs": [
    {
     "data": {
      "text/html": [
       "<div>\n",
       "<style scoped>\n",
       "    .dataframe tbody tr th:only-of-type {\n",
       "        vertical-align: middle;\n",
       "    }\n",
       "\n",
       "    .dataframe tbody tr th {\n",
       "        vertical-align: top;\n",
       "    }\n",
       "\n",
       "    .dataframe thead th {\n",
       "        text-align: right;\n",
       "    }\n",
       "</style>\n",
       "<table border=\"1\" class=\"dataframe\">\n",
       "  <thead>\n",
       "    <tr style=\"text-align: right;\">\n",
       "      <th></th>\n",
       "      <th>Column2</th>\n",
       "      <th>Soru 1</th>\n",
       "      <th>Soru 2</th>\n",
       "      <th>Toplam</th>\n",
       "      <th>Soru 3</th>\n",
       "    </tr>\n",
       "  </thead>\n",
       "  <tbody>\n",
       "    <tr>\n",
       "      <th>0</th>\n",
       "      <td>FEMALE</td>\n",
       "      <td>25</td>\n",
       "      <td>15</td>\n",
       "      <td>40</td>\n",
       "      <td>15</td>\n",
       "    </tr>\n",
       "    <tr>\n",
       "      <th>1</th>\n",
       "      <td>MALE</td>\n",
       "      <td>25</td>\n",
       "      <td>25</td>\n",
       "      <td>50</td>\n",
       "      <td>25</td>\n",
       "    </tr>\n",
       "    <tr>\n",
       "      <th>2</th>\n",
       "      <td>FEMALE</td>\n",
       "      <td>02</td>\n",
       "      <td>30</td>\n",
       "      <td>47</td>\n",
       "      <td>30</td>\n",
       "    </tr>\n",
       "  </tbody>\n",
       "</table>\n",
       "</div>"
      ],
      "text/plain": [
       "  Column2 Soru 1  Soru 2  Toplam  Soru 3\n",
       "0  FEMALE     25      15      40      15\n",
       "1    MALE     25      25      50      25\n",
       "2  FEMALE     02      30      47      30"
      ]
     },
     "execution_count": 70,
     "metadata": {},
     "output_type": "execute_result"
    }
   ],
   "source": [
    "Toplam=[40,50,47]\n",
    "df['Toplam']=Toplam\n",
    "df"
   ]
  },
  {
   "cell_type": "markdown",
   "metadata": {},
   "source": [
    "DataFrame' e 3. soru sütunu ekleyelim."
   ]
  },
  {
   "cell_type": "code",
   "execution_count": 76,
   "metadata": {},
   "outputs": [
    {
     "data": {
      "text/html": [
       "<div>\n",
       "<style scoped>\n",
       "    .dataframe tbody tr th:only-of-type {\n",
       "        vertical-align: middle;\n",
       "    }\n",
       "\n",
       "    .dataframe tbody tr th {\n",
       "        vertical-align: top;\n",
       "    }\n",
       "\n",
       "    .dataframe thead th {\n",
       "        text-align: right;\n",
       "    }\n",
       "</style>\n",
       "<table border=\"1\" class=\"dataframe\">\n",
       "  <thead>\n",
       "    <tr style=\"text-align: right;\">\n",
       "      <th></th>\n",
       "      <th>Column2</th>\n",
       "      <th>Soru 1</th>\n",
       "      <th>Soru 2</th>\n",
       "      <th>Toplam</th>\n",
       "      <th>Soru 3</th>\n",
       "    </tr>\n",
       "  </thead>\n",
       "  <tbody>\n",
       "    <tr>\n",
       "      <th>0</th>\n",
       "      <td>FEMALE</td>\n",
       "      <td>25</td>\n",
       "      <td>14.5</td>\n",
       "      <td>40</td>\n",
       "      <td>15</td>\n",
       "    </tr>\n",
       "    <tr>\n",
       "      <th>1</th>\n",
       "      <td>MALE</td>\n",
       "      <td>25</td>\n",
       "      <td>24.5</td>\n",
       "      <td>50</td>\n",
       "      <td>25</td>\n",
       "    </tr>\n",
       "    <tr>\n",
       "      <th>2</th>\n",
       "      <td>FEMALE</td>\n",
       "      <td>02</td>\n",
       "      <td>29.5</td>\n",
       "      <td>47</td>\n",
       "      <td>30</td>\n",
       "    </tr>\n",
       "  </tbody>\n",
       "</table>\n",
       "</div>"
      ],
      "text/plain": [
       "  Column2 Soru 1  Soru 2  Toplam  Soru 3\n",
       "0  FEMALE     25    14.5      40      15\n",
       "1    MALE     25    24.5      50      25\n",
       "2  FEMALE     02    29.5      47      30"
      ]
     },
     "execution_count": 76,
     "metadata": {},
     "output_type": "execute_result"
    }
   ],
   "source": [
    "Soru3=[15,25,30]\n",
    "df['Soru 3']=Soru3\n",
    "df"
   ]
  },
  {
   "cell_type": "markdown",
   "metadata": {},
   "source": [
    "### Sütun Değerlerini Değiştirme"
   ]
  },
  {
   "cell_type": "markdown",
   "metadata": {},
   "source": [
    "2. soru puanı 0.5'er puan azaltı Soru 2 sütununu değiştirelim"
   ]
  },
  {
   "cell_type": "code",
   "execution_count": 84,
   "metadata": {},
   "outputs": [
    {
     "data": {
      "text/html": [
       "<div>\n",
       "<style scoped>\n",
       "    .dataframe tbody tr th:only-of-type {\n",
       "        vertical-align: middle;\n",
       "    }\n",
       "\n",
       "    .dataframe tbody tr th {\n",
       "        vertical-align: top;\n",
       "    }\n",
       "\n",
       "    .dataframe thead th {\n",
       "        text-align: right;\n",
       "    }\n",
       "</style>\n",
       "<table border=\"1\" class=\"dataframe\">\n",
       "  <thead>\n",
       "    <tr style=\"text-align: right;\">\n",
       "      <th></th>\n",
       "      <th>Column2</th>\n",
       "      <th>Soru 1</th>\n",
       "      <th>Soru 2</th>\n",
       "      <th>Toplam</th>\n",
       "      <th>Soru 3</th>\n",
       "    </tr>\n",
       "  </thead>\n",
       "  <tbody>\n",
       "    <tr>\n",
       "      <th>0</th>\n",
       "      <td>FEMALE</td>\n",
       "      <td>25</td>\n",
       "      <td>9.5</td>\n",
       "      <td>40</td>\n",
       "      <td>15</td>\n",
       "    </tr>\n",
       "    <tr>\n",
       "      <th>1</th>\n",
       "      <td>MALE</td>\n",
       "      <td>25</td>\n",
       "      <td>19.5</td>\n",
       "      <td>50</td>\n",
       "      <td>25</td>\n",
       "    </tr>\n",
       "    <tr>\n",
       "      <th>2</th>\n",
       "      <td>FEMALE</td>\n",
       "      <td>02</td>\n",
       "      <td>29.5</td>\n",
       "      <td>47</td>\n",
       "      <td>30</td>\n",
       "    </tr>\n",
       "  </tbody>\n",
       "</table>\n",
       "</div>"
      ],
      "text/plain": [
       "  Column2 Soru 1  Soru 2  Toplam  Soru 3\n",
       "0  FEMALE     25     9.5      40      15\n",
       "1    MALE     25    19.5      50      25\n",
       "2  FEMALE     02    29.5      47      30"
      ]
     },
     "execution_count": 84,
     "metadata": {},
     "output_type": "execute_result"
    }
   ],
   "source": [
    "df['Soru 2']=df['Soru 2']-0.5\n",
    "df"
   ]
  },
  {
   "cell_type": "markdown",
   "metadata": {},
   "source": [
    "### DataFrame sütunlarını biçimlendirme"
   ]
  },
  {
   "cell_type": "markdown",
   "metadata": {},
   "source": [
    "DataFrame'deki sütunların virgülden sonraki halini yuvarlayalım."
   ]
  },
  {
   "cell_type": "code",
   "execution_count": 86,
   "metadata": {},
   "outputs": [
    {
     "name": "stdout",
     "output_type": "stream",
     "text": [
      "  Column2 Soru 1  Soru 2  Toplam  Soru 3\n",
      "0  FEMALE     25    10.0      40      15\n",
      "1    MALE     25    20.0      50      25\n",
      "2  FEMALE     02    30.0      47      30\n"
     ]
    }
   ],
   "source": [
    "df['Soru 2']= round(df['Soru 2'],1)\n",
    "print(df) "
   ]
  },
  {
   "cell_type": "code",
   "execution_count": 88,
   "metadata": {},
   "outputs": [
    {
     "data": {
      "text/html": [
       "<div>\n",
       "<style scoped>\n",
       "    .dataframe tbody tr th:only-of-type {\n",
       "        vertical-align: middle;\n",
       "    }\n",
       "\n",
       "    .dataframe tbody tr th {\n",
       "        vertical-align: top;\n",
       "    }\n",
       "\n",
       "    .dataframe thead th {\n",
       "        text-align: right;\n",
       "    }\n",
       "</style>\n",
       "<table border=\"1\" class=\"dataframe\">\n",
       "  <thead>\n",
       "    <tr style=\"text-align: right;\">\n",
       "      <th></th>\n",
       "      <th>Column2</th>\n",
       "      <th>Soru 1</th>\n",
       "      <th>Soru 2</th>\n",
       "      <th>Toplam</th>\n",
       "      <th>Soru 3</th>\n",
       "      <th>Harf Notu</th>\n",
       "      <th>Sınav Yılı</th>\n",
       "    </tr>\n",
       "  </thead>\n",
       "  <tbody>\n",
       "    <tr>\n",
       "      <th>0</th>\n",
       "      <td>FEMALE</td>\n",
       "      <td>25</td>\n",
       "      <td>10.0</td>\n",
       "      <td>40</td>\n",
       "      <td>15</td>\n",
       "      <td>AA</td>\n",
       "      <td>2020</td>\n",
       "    </tr>\n",
       "    <tr>\n",
       "      <th>1</th>\n",
       "      <td>MALE</td>\n",
       "      <td>25</td>\n",
       "      <td>20.0</td>\n",
       "      <td>50</td>\n",
       "      <td>25</td>\n",
       "      <td>BC</td>\n",
       "      <td>2020</td>\n",
       "    </tr>\n",
       "    <tr>\n",
       "      <th>2</th>\n",
       "      <td>FEMALE</td>\n",
       "      <td>02</td>\n",
       "      <td>30.0</td>\n",
       "      <td>47</td>\n",
       "      <td>30</td>\n",
       "      <td>FF</td>\n",
       "      <td>2020</td>\n",
       "    </tr>\n",
       "  </tbody>\n",
       "</table>\n",
       "</div>"
      ],
      "text/plain": [
       "  Column2 Soru 1  Soru 2  Toplam  Soru 3 Harf Notu  Sınav Yılı\n",
       "0  FEMALE     25    10.0      40      15        AA        2020\n",
       "1    MALE     25    20.0      50      25        BC        2020\n",
       "2  FEMALE     02    30.0      47      30        FF        2020"
      ]
     },
     "execution_count": 88,
     "metadata": {},
     "output_type": "execute_result"
    }
   ],
   "source": [
    "nott=['AA','BC','FF']\n",
    "yıl = pd.Series(2020, index=[0, 1,2])\n",
    "df['Harf Notu'] = nott\n",
    "df['Sınav Yılı'] = yıl\n",
    "df"
   ]
  },
  {
   "cell_type": "markdown",
   "metadata": {},
   "source": [
    "### Sütun değerlerinin veri türlerini kontrol etme"
   ]
  },
  {
   "cell_type": "code",
   "execution_count": 90,
   "metadata": {},
   "outputs": [
    {
     "data": {
      "text/plain": [
       "dtype('int64')"
      ]
     },
     "execution_count": 90,
     "metadata": {},
     "output_type": "execute_result"
    }
   ],
   "source": [
    "df['Sınav Yılı'].dtype"
   ]
  },
  {
   "cell_type": "code",
   "execution_count": 91,
   "metadata": {},
   "outputs": [
    {
     "name": "stdout",
     "output_type": "stream",
     "text": [
      "int32\n"
     ]
    }
   ],
   "source": [
    "df['Sınav Yılı'] = df['Sınav Yılı'].astype('int')\n",
    "print(df['Sınav Yılı'].dtype) "
   ]
  },
  {
   "cell_type": "markdown",
   "metadata": {},
   "source": [
    "## Satır Değerini Çağırma"
   ]
  },
  {
   "cell_type": "code",
   "execution_count": 96,
   "metadata": {},
   "outputs": [
    {
     "name": "stdout",
     "output_type": "stream",
     "text": [
      "  Column2 Soru 1  Soru 2  Toplam  Soru 3 Harf Notu  Sınav Yılı\n",
      "0  FEMALE     25    10.0      40      15        AA        2020\n"
     ]
    }
   ],
   "source": [
    "print(df[df['Harf Notu'] == 'AA'])"
   ]
  },
  {
   "cell_type": "code",
   "execution_count": 97,
   "metadata": {},
   "outputs": [
    {
     "name": "stdout",
     "output_type": "stream",
     "text": [
      "  Column2 Soru 1  Soru 2  Toplam  Soru 3 Harf Notu  Sınav Yılı\n",
      "1    MALE     25    20.0      50      25        BC        2020\n"
     ]
    }
   ],
   "source": [
    "print(df[df['Harf Notu'] == 'BC'])"
   ]
  }
 ],
 "metadata": {
  "interpreter": {
   "hash": "5bb71e04e3d056b3fd374fe835c740c82b88cf9a64babc7a305394decc4b8aa7"
  },
  "kernelspec": {
   "display_name": "Python 3.9.5 64-bit (system)",
   "language": "python",
   "name": "python3"
  },
  "language_info": {
   "codemirror_mode": {
    "name": "ipython",
    "version": 3
   },
   "file_extension": ".py",
   "mimetype": "text/x-python",
   "name": "python",
   "nbconvert_exporter": "python",
   "pygments_lexer": "ipython3",
   "version": "3.9.5"
  },
  "orig_nbformat": 4
 },
 "nbformat": 4,
 "nbformat_minor": 2
}
