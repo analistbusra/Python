{
 "cells": [
  {
   "cell_type": "markdown",
   "metadata": {},
   "source": [
    "# Python for Statistical Analysis (İstatistiksel Analiz için Python)\n",
    "\n",
    "İstatistik, verilerin toplanması, düzenlenmesi, görüntülenmesi, analiz edilmesi, yorumlanması ve sunulmasını inceler. İstatistik, veri bilimi ve makine öğrenimi için ön koşul olması önerilen bir Matematik dalıdır. İstatistik çok geniş bir alandır ama biz bu bölümde sadece en alakalı kısma odaklanacağız. Bu zorluğu tamamladıktan sonra web geliştirme, veri analizi, makine öğrenimi ve veri bilimi yoluna gidebilirsiniz.\n",
    "\n",
    "## Data(Veri)\n",
    "\n",
    "Veri, genellikle analiz olmak üzere, bir amaç için toplanan ve çevrilen herhangi bir karakter kümesidir. Metin ve sayılar, resimler, ses veya video dahil herhangi bir karakter olabilir. Veriler bir bağlama yerleştirilmezse, bir insan veya bilgisayar için bir anlam ifade etmez. Verilerden anlam çıkarmak için farklı araçlar kullanarak veriler üzerinde çalışmamız gerekir. Veri analizi, veri bilimi veya makine öğreniminin iş akışı verilerden başlar. Veriler bazı veri kaynaklarından sağlanabilir veya oluşturulabilir. Yapılandırılmış ve yapılandırılmamış veriler vardır. Veriler küçük veya büyük formatta bulunabilir. Alacağımız veri türlerinin çoğu, dosya işleme bölümünde ele alınmıştır.\n",
    "\n",
    "## Statistics Module(İstatistik Modülü)\n",
    "\n",
    "Python istatistik modülü, sayısal verilerin matematiksel istatistiklerini hesaplamak için işlevler sağlar. Modül, NumPy, SciPy gibi üçüncü taraf kitaplıklarına veya Minitab, SAS ve Matlab gibi profesyonel istatistikçileri hedefleyen tescilli tam özellikli istatistik paketlerine rakip olmayı amaçlamaz. Grafik ve bilimsel hesap makineleri seviyesine yöneliktir.\n",
    "\n",
    "## NumPy\n",
    "\n",
    "İlk bölümde Python'u başlı başına harika bir genel amaçlı programlama dili olarak tanımladık, ancak diğer popüler kütüphanelerin (numpy, scipy, matplotlib, pandas vb.) yardımıyla bilimsel hesaplama için güçlü bir ortam haline geldi. Numpy,Python'daki temel kitaplıklardan biridir dilerseniz detaylı NumPy kütüphanesini inceleyelim ve uygulayalım.\n",
    "\n",
    "### Importing NumPy\n",
    "\n",
    "NumPy kütüphanesini içe aktaralım.\n",
    "\n",
    "* Creating numpy array using\n",
    "\n",
    "Creating int numpy arrays(int numpy dizileri oluşturma)\n"
   ]
  },
  {
   "cell_type": "code",
   "execution_count": 1,
   "metadata": {},
   "outputs": [
    {
     "name": "stdout",
     "output_type": "stream",
     "text": [
      "numpy: 1.20.3\n",
      "['ALLOW_THREADS', 'AxisError', 'BUFSIZE', 'Bytes0', 'CLIP', 'ComplexWarning', 'DataSource', 'Datetime64', 'ERR_CALL', 'ERR_DEFAULT', 'ERR_IGNORE', 'ERR_LOG', 'ERR_PRINT', 'ERR_RAISE', 'ERR_WARN', 'FLOATING_POINT_SUPPORT', 'FPE_DIVIDEBYZERO', 'FPE_INVALID', 'FPE_OVERFLOW', 'FPE_UNDERFLOW', 'False_', 'Inf', 'Infinity', 'MAXDIMS', 'MAY_SHARE_BOUNDS', 'MAY_SHARE_EXACT', 'MachAr', 'ModuleDeprecationWarning', 'NAN', 'NINF', 'NZERO', 'NaN', 'PINF', 'PZERO', 'RAISE', 'RankWarning', 'SHIFT_DIVIDEBYZERO', 'SHIFT_INVALID', 'SHIFT_OVERFLOW', 'SHIFT_UNDERFLOW', 'ScalarType', 'Str0', 'Tester', 'TooHardError', 'True_', 'UFUNC_BUFSIZE_DEFAULT', 'UFUNC_PYVALS_NAME', 'Uint64', 'VisibleDeprecationWarning', 'WRAP', '_NoValue', '_UFUNC_API', '__NUMPY_SETUP__', '__all__', '__builtins__', '__cached__', '__config__', '__deprecated_attrs__', '__dir__', '__doc__', '__expired_functions__', '__file__', '__getattr__', '__git_revision__', '__loader__', '__name__', '__package__', '__path__', '__spec__', '__version__', '_add_newdoc_ufunc', '_distributor_init', '_financial_names', '_globals', '_mat', '_pytesttester', 'abs', 'absolute', 'add', 'add_docstring', 'add_newdoc', 'add_newdoc_ufunc', 'alen', 'all', 'allclose', 'alltrue', 'amax', 'amin', 'angle', 'any', 'append', 'apply_along_axis', 'apply_over_axes', 'arange', 'arccos', 'arccosh', 'arcsin', 'arcsinh', 'arctan', 'arctan2', 'arctanh', 'argmax', 'argmin', 'argpartition', 'argsort', 'argwhere', 'around', 'array', 'array2string', 'array_equal', 'array_equiv', 'array_repr', 'array_split', 'array_str', 'asanyarray', 'asarray', 'asarray_chkfinite', 'ascontiguousarray', 'asfarray', 'asfortranarray', 'asmatrix', 'asscalar', 'atleast_1d', 'atleast_2d', 'atleast_3d', 'average', 'bartlett', 'base_repr', 'binary_repr', 'bincount', 'bitwise_and', 'bitwise_not', 'bitwise_or', 'bitwise_xor', 'blackman', 'block', 'bmat', 'bool8', 'bool_', 'broadcast', 'broadcast_arrays', 'broadcast_shapes', 'broadcast_to', 'busday_count', 'busday_offset', 'busdaycalendar', 'byte', 'byte_bounds', 'bytes0', 'bytes_', 'c_', 'can_cast', 'cast', 'cbrt', 'cdouble', 'ceil', 'cfloat', 'char', 'character', 'chararray', 'choose', 'clip', 'clongdouble', 'clongfloat', 'column_stack', 'common_type', 'compare_chararrays', 'compat', 'complex128', 'complex64', 'complex_', 'complexfloating', 'compress', 'concatenate', 'conj', 'conjugate', 'convolve', 'copy', 'copysign', 'copyto', 'core', 'corrcoef', 'correlate', 'cos', 'cosh', 'count_nonzero', 'cov', 'cross', 'csingle', 'ctypeslib', 'cumprod', 'cumproduct', 'cumsum', 'datetime64', 'datetime_as_string', 'datetime_data', 'deg2rad', 'degrees', 'delete', 'deprecate', 'deprecate_with_doc', 'diag', 'diag_indices', 'diag_indices_from', 'diagflat', 'diagonal', 'diff', 'digitize', 'disp', 'divide', 'divmod', 'dot', 'double', 'dsplit', 'dstack', 'dtype', 'e', 'ediff1d', 'einsum', 'einsum_path', 'emath', 'empty', 'empty_like', 'equal', 'errstate', 'euler_gamma', 'exp', 'exp2', 'expand_dims', 'expm1', 'extract', 'eye', 'fabs', 'fastCopyAndTranspose', 'fft', 'fill_diagonal', 'find_common_type', 'finfo', 'fix', 'flatiter', 'flatnonzero', 'flexible', 'flip', 'fliplr', 'flipud', 'float16', 'float32', 'float64', 'float_', 'float_power', 'floating', 'floor', 'floor_divide', 'fmax', 'fmin', 'fmod', 'format_float_positional', 'format_float_scientific', 'format_parser', 'frexp', 'frombuffer', 'fromfile', 'fromfunction', 'fromiter', 'frompyfunc', 'fromregex', 'fromstring', 'full', 'full_like', 'gcd', 'generic', 'genfromtxt', 'geomspace', 'get_array_wrap', 'get_include', 'get_printoptions', 'getbufsize', 'geterr', 'geterrcall', 'geterrobj', 'gradient', 'greater', 'greater_equal', 'half', 'hamming', 'hanning', 'heaviside', 'histogram', 'histogram2d', 'histogram_bin_edges', 'histogramdd', 'hsplit', 'hstack', 'hypot', 'i0', 'identity', 'iinfo', 'imag', 'in1d', 'index_exp', 'indices', 'inexact', 'inf', 'info', 'infty', 'inner', 'insert', 'int0', 'int16', 'int32', 'int64', 'int8', 'int_', 'intc', 'integer', 'interp', 'intersect1d', 'intp', 'invert', 'is_busday', 'isclose', 'iscomplex', 'iscomplexobj', 'isfinite', 'isfortran', 'isin', 'isinf', 'isnan', 'isnat', 'isneginf', 'isposinf', 'isreal', 'isrealobj', 'isscalar', 'issctype', 'issubclass_', 'issubdtype', 'issubsctype', 'iterable', 'ix_', 'kaiser', 'kron', 'lcm', 'ldexp', 'left_shift', 'less', 'less_equal', 'lexsort', 'lib', 'linalg', 'linspace', 'little_endian', 'load', 'loads', 'loadtxt', 'log', 'log10', 'log1p', 'log2', 'logaddexp', 'logaddexp2', 'logical_and', 'logical_not', 'logical_or', 'logical_xor', 'logspace', 'longcomplex', 'longdouble', 'longfloat', 'longlong', 'lookfor', 'ma', 'mafromtxt', 'mask_indices', 'mat', 'math', 'matmul', 'matrix', 'matrixlib', 'max', 'maximum', 'maximum_sctype', 'may_share_memory', 'mean', 'median', 'memmap', 'meshgrid', 'mgrid', 'min', 'min_scalar_type', 'minimum', 'mintypecode', 'mod', 'modf', 'moveaxis', 'msort', 'multiply', 'nan', 'nan_to_num', 'nanargmax', 'nanargmin', 'nancumprod', 'nancumsum', 'nanmax', 'nanmean', 'nanmedian', 'nanmin', 'nanpercentile', 'nanprod', 'nanquantile', 'nanstd', 'nansum', 'nanvar', 'nbytes', 'ndarray', 'ndenumerate', 'ndfromtxt', 'ndim', 'ndindex', 'nditer', 'negative', 'nested_iters', 'newaxis', 'nextafter', 'nonzero', 'not_equal', 'numarray', 'number', 'obj2sctype', 'object0', 'object_', 'ogrid', 'oldnumeric', 'ones', 'ones_like', 'os', 'outer', 'packbits', 'pad', 'partition', 'percentile', 'pi', 'piecewise', 'place', 'poly', 'poly1d', 'polyadd', 'polyder', 'polydiv', 'polyfit', 'polyint', 'polymul', 'polynomial', 'polysub', 'polyval', 'positive', 'power', 'printoptions', 'prod', 'product', 'promote_types', 'ptp', 'put', 'put_along_axis', 'putmask', 'quantile', 'r_', 'rad2deg', 'radians', 'random', 'ravel', 'ravel_multi_index', 'real', 'real_if_close', 'rec', 'recarray', 'recfromcsv', 'recfromtxt', 'reciprocal', 'record', 'remainder', 'repeat', 'require', 'reshape', 'resize', 'result_type', 'right_shift', 'rint', 'roll', 'rollaxis', 'roots', 'rot90', 'round', 'round_', 'row_stack', 's_', 'safe_eval', 'save', 'savetxt', 'savez', 'savez_compressed', 'sctype2char', 'sctypeDict', 'sctypes', 'searchsorted', 'select', 'set_numeric_ops', 'set_printoptions', 'set_string_function', 'setbufsize', 'setdiff1d', 'seterr', 'seterrcall', 'seterrobj', 'setxor1d', 'shape', 'shares_memory', 'short', 'show_config', 'sign', 'signbit', 'signedinteger', 'sin', 'sinc', 'single', 'singlecomplex', 'sinh', 'size', 'sometrue', 'sort', 'sort_complex', 'source', 'spacing', 'split', 'sqrt', 'square', 'squeeze', 'stack', 'std', 'str0', 'str_', 'string_', 'subtract', 'sum', 'swapaxes', 'sys', 'take', 'take_along_axis', 'tan', 'tanh', 'tensordot', 'test', 'testing', 'tile', 'timedelta64', 'trace', 'tracemalloc_domain', 'transpose', 'trapz', 'tri', 'tril', 'tril_indices', 'tril_indices_from', 'trim_zeros', 'triu', 'triu_indices', 'triu_indices_from', 'true_divide', 'trunc', 'typeDict', 'typecodes', 'typename', 'ubyte', 'ufunc', 'uint', 'uint0', 'uint16', 'uint32', 'uint64', 'uint8', 'uintc', 'uintp', 'ulonglong', 'unicode_', 'union1d', 'unique', 'unpackbits', 'unravel_index', 'unsignedinteger', 'unwrap', 'use_hugepage', 'ushort', 'vander', 'var', 'vdot', 'vectorize', 'version', 'void', 'void0', 'vsplit', 'vstack', 'warnings', 'where', 'who', 'zeros', 'zeros_like']\n"
     ]
    }
   ],
   "source": [
    "import numpy as np\n",
    "print('numpy:', np.__version__)\n",
    "print(dir(np))\n"
   ]
  },
  {
   "cell_type": "markdown",
   "metadata": {},
   "source": [
    "* Python Liste oluşturma"
   ]
  },
  {
   "cell_type": "code",
   "execution_count": 2,
   "metadata": {},
   "outputs": [],
   "source": [
    "\n",
    "python_list = [1,2,3,4,5]"
   ]
  },
  {
   "cell_type": "markdown",
   "metadata": {},
   "source": [
    "Veri Türleri Kontrol"
   ]
  },
  {
   "cell_type": "code",
   "execution_count": 3,
   "metadata": {},
   "outputs": [
    {
     "name": "stdout",
     "output_type": "stream",
     "text": [
      "Type: <class 'list'>\n"
     ]
    }
   ],
   "source": [
    "print('Type:', type (python_list))"
   ]
  },
  {
   "cell_type": "markdown",
   "metadata": {},
   "source": [
    "Örnek:"
   ]
  },
  {
   "cell_type": "code",
   "execution_count": 4,
   "metadata": {},
   "outputs": [
    {
     "name": "stdout",
     "output_type": "stream",
     "text": [
      "[1, 2, 3, 4, 5]\n",
      "[[0, 1, 2], [3, 4, 5], [6, 7, 8]]\n"
     ]
    }
   ],
   "source": [
    "print(python_list) # [1, 2, 3, 4, 5]\n",
    "\n",
    "two_dimensional_list = [[0,1,2], [3,4,5], [6,7,8]]\n",
    "print(two_dimensional_list)"
   ]
  },
  {
   "cell_type": "markdown",
   "metadata": {},
   "source": [
    "Python listesinden Numpy(Sayısal Python) dizisi oluşturma"
   ]
  },
  {
   "cell_type": "code",
   "execution_count": 5,
   "metadata": {},
   "outputs": [
    {
     "name": "stdout",
     "output_type": "stream",
     "text": [
      "<class 'numpy.ndarray'>\n",
      "[1 2 3 4 5]\n"
     ]
    }
   ],
   "source": [
    "numpy_array_from_list = np.array(python_list)\n",
    "print(type (numpy_array_from_list))   \n",
    "print(numpy_array_from_list) \n"
   ]
  },
  {
   "cell_type": "markdown",
   "metadata": {},
   "source": [
    "### Creating float numpy arrays(Float numpy dizileri oluşturma)\n",
    "\n",
    "Bir kayan nokta veri türü parametresiyle listeden bir kayan nokta dizisi oluşturma\n"
   ]
  },
  {
   "cell_type": "code",
   "execution_count": 6,
   "metadata": {},
   "outputs": [
    {
     "name": "stdout",
     "output_type": "stream",
     "text": [
      "[1. 2. 3. 4. 5.]\n"
     ]
    }
   ],
   "source": [
    "python_list = [1,2,3,4,5]\n",
    "\n",
    "numy_array_from_list2 = np.array(python_list, dtype=float)\n",
    "print(numy_array_from_list2) \n"
   ]
  },
  {
   "cell_type": "markdown",
   "metadata": {},
   "source": [
    "### Creating boolean numpy arrays(Boolean numpy dizileri oluşturma)\n",
    "\n",
    "Listeden bir boole dizisi oluşturma\n"
   ]
  },
  {
   "cell_type": "code",
   "execution_count": 7,
   "metadata": {},
   "outputs": [
    {
     "name": "stdout",
     "output_type": "stream",
     "text": [
      "[False  True  True False False]\n"
     ]
    }
   ],
   "source": [
    "numpy_bool_array = np.array([0, 1, -1, 0, 0], dtype=bool)\n",
    "print(numpy_bool_array)\n"
   ]
  },
  {
   "cell_type": "markdown",
   "metadata": {},
   "source": [
    "### Creating multidimensional array using numpy(Numpy kullanarak çok boyutlu dizi oluşturma)\n",
    "\n",
    "Numpy dizisinde bir veya birden çok satır ve sütun olabilir\n"
   ]
  },
  {
   "cell_type": "code",
   "execution_count": 8,
   "metadata": {},
   "outputs": [
    {
     "name": "stdout",
     "output_type": "stream",
     "text": [
      "<class 'numpy.ndarray'>\n",
      "[[0 1 2]\n",
      " [3 4 5]\n",
      " [6 7 8]]\n"
     ]
    }
   ],
   "source": [
    "two_dimensional_list = [[0,1,2], [3,4,5], [6,7,8]]\n",
    "numpy_two_dimensional_list = np.array(two_dimensional_list)\n",
    "print(type (numpy_two_dimensional_list))\n",
    "print(numpy_two_dimensional_list)\n"
   ]
  },
  {
   "cell_type": "markdown",
   "metadata": {},
   "source": [
    "### Converting numpy array to list(Numpy dizisini listeye dönüştürme)\n",
    "\n",
    "Bir diziyi her zaman tolist() kullanarak bir python listesine dönüştürebiliriz.\n"
   ]
  },
  {
   "cell_type": "code",
   "execution_count": 9,
   "metadata": {},
   "outputs": [
    {
     "name": "stdout",
     "output_type": "stream",
     "text": [
      "<class 'list'>\n",
      "tek boyutlu dizi: [1, 2, 3, 4, 5]\n",
      "iki boyutlu dizisi [[0, 1, 2], [3, 4, 5], [6, 7, 8]]\n"
     ]
    }
   ],
   "source": [
    "np_to_list  =  numpy_array_from_list . tolist ()\n",
    "print( type ( np_to_list ))\n",
    "print( 'tek boyutlu dizi:' , np_to_list )\n",
    "print( 'iki boyutlu dizisi' , numpy_two_dimensional_list . tolist ())\n",
    "\n"
   ]
  },
  {
   "cell_type": "markdown",
   "metadata": {},
   "source": [
    "### Creating numpy array from tuple(Tuple'dan numpy dizisi oluşturma)"
   ]
  },
  {
   "cell_type": "code",
   "execution_count": 10,
   "metadata": {},
   "outputs": [
    {
     "name": "stdout",
     "output_type": "stream",
     "text": [
      "<class 'tuple'>\n",
      "python_tuple:  (1, 2, 3, 4, 5)\n",
      "<class 'numpy.ndarray'>\n",
      "numpy_array_from_tuple:  [1 2 3 4 5]\n"
     ]
    }
   ],
   "source": [
    "#NumPy Dizisi \n",
    "python_tuple = (1,2,3,4,5)\n",
    "print(type (python_tuple))\n",
    "print('python_tuple: ', python_tuple) \n",
    "\n",
    "#Python'da NumPy Dizisi\n",
    "numpy_array_from_tuple = np.array(python_tuple)\n",
    "print(type (numpy_array_from_tuple)) \n",
    "print('numpy_array_from_tuple: ', numpy_array_from_tuple) "
   ]
  },
  {
   "cell_type": "markdown",
   "metadata": {},
   "source": [
    "### Shape of numpy array(Numpy dizisinin şekli)\n",
    "\n",
    "Şekil yöntemi, dizinin şeklini bir tanımlama grubu olarak sağlar. Birincisi satır, ikincisi sütundur. Dizi tek boyutluysa dizinin boyutunu döndürür.\n",
    "\n",
    "Örnek:\n"
   ]
  },
  {
   "cell_type": "code",
   "execution_count": 11,
   "metadata": {},
   "outputs": [
    {
     "name": "stdout",
     "output_type": "stream",
     "text": [
      "[1 2 3 4 5 6 7]\n",
      "shape of nums:  (7,)\n",
      "[[0 1 2]\n",
      " [3 4 5]\n",
      " [6 7 8]]\n",
      "shape of numpy_two_dimensional_list:  (3, 3)\n",
      "(3, 4)\n"
     ]
    }
   ],
   "source": [
    "nums = np.array([1, 2, 3, 4, 5,6,7])\n",
    "print(nums)\n",
    "print('shape of nums: ', nums.shape)\n",
    "print(numpy_two_dimensional_list)\n",
    "print('shape of numpy_two_dimensional_list: ', numpy_two_dimensional_list.shape)\n",
    "three_by_four_array = np.array([[0, 1, 2, 3],\n",
    "        [4,5,6,7],\n",
    "        [8,9,10, 11]])\n",
    "print(three_by_four_array.shape)\n"
   ]
  },
  {
   "cell_type": "markdown",
   "metadata": {},
   "source": [
    "### Data type of numpy array(Numpy dizisinin veri türü)\n",
    "\n",
    "Veri türleri türü: str, int, float, Complex, bool, list, None\n"
   ]
  },
  {
   "cell_type": "code",
   "execution_count": 12,
   "metadata": {},
   "outputs": [
    {
     "name": "stdout",
     "output_type": "stream",
     "text": [
      "[-5 -4 -3 -2 -1  0  1  2  3  4  5]\n",
      "int32\n",
      "[-5. -4. -3. -2. -1.  0.  1.  2.  3.  4.  5.]\n",
      "float64\n"
     ]
    }
   ],
   "source": [
    "int_lists = [-5,-4,-3, -2, -1, 0, 1, 2,3,4,5]\n",
    "int_array = np.array(int_lists)\n",
    "float_array = np.array(int_lists, dtype=float)\n",
    "\n",
    "print(int_array)\n",
    "print(int_array.dtype)\n",
    "print(float_array)\n",
    "print(float_array.dtype)\n"
   ]
  },
  {
   "cell_type": "markdown",
   "metadata": {},
   "source": [
    "### Size of a numpy array(Numpy dizisinin boyutu)\n",
    "\n",
    "Numpy'de, bir numpy dizi listesindeki öğelerin sayısını bilmek için \"size\" kullanırız.\n"
   ]
  },
  {
   "cell_type": "code",
   "execution_count": 16,
   "metadata": {},
   "outputs": [
    {
     "name": "stdout",
     "output_type": "stream",
     "text": [
      "The size: 7\n",
      "The size: 12\n"
     ]
    }
   ],
   "source": [
    "numpy_array_from_list = np.array([1, 2, 3, 4, 5,6,7])\n",
    "two_dimensional_list = np.array([[0, 1, 2],\n",
    "                              [3, 4, 5],\n",
    "                              [6, 7, 8],\n",
    "                              [9,10,11]])\n",
    "\n",
    "print('The size:', numpy_array_from_list.size)\n",
    "print('The size:', two_dimensional_list.size) \n"
   ]
  },
  {
   "cell_type": "markdown",
   "metadata": {},
   "source": [
    "# Mathematical Operation using numpy(Numpy kullanarak matematiksel işlem)\n",
    "\n",
    "NumPy dizisi, tam olarak python listesi gibi değildir. Python listesinde matematiksel işlem yapmak için öğeler arasında döngü yapmalıyız, ancak numpy herhangi bir matematiksel işlemi döngü yapmadan yapmamıza izin verebilir. Matematiksel operasyon:\n",
    "\n",
    "Toplama (+)\n",
    "\n",
    "Çıkarma (-)\n",
    "\n",
    "Çarpma işlemi (*)\n",
    "\n",
    "Bölünme (/)\n",
    "\n",
    "Modüller (%)\n",
    "\n",
    "Kat Bölümü (//)\n",
    "\n",
    "Üstel (**)\n",
    "\n",
    "## Addition(Toplama)\n"
   ]
  },
  {
   "cell_type": "code",
   "execution_count": 17,
   "metadata": {},
   "outputs": [
    {
     "name": "stdout",
     "output_type": "stream",
     "text": [
      "original array:  [1 2 3 4 5]\n",
      "[11 12 13 14 15]\n"
     ]
    }
   ],
   "source": [
    "numpy_array_from_list = np.array([1, 2, 3, 4, 5])\n",
    "print('original array: ', numpy_array_from_list)\n",
    "ten_plus_original = numpy_array_from_list  + 10\n",
    "print(ten_plus_original)\n"
   ]
  },
  {
   "cell_type": "markdown",
   "metadata": {},
   "source": [
    "## Subtraction(Çıkarma)"
   ]
  },
  {
   "cell_type": "code",
   "execution_count": 19,
   "metadata": {},
   "outputs": [
    {
     "name": "stdout",
     "output_type": "stream",
     "text": [
      "original array:  [10 20 30 40 50]\n",
      "[ 0 10 20 30 40]\n"
     ]
    }
   ],
   "source": [
    "numpy_array_from_list = np.array([10, 20, 30, 40, 50])\n",
    "print('original array: ', numpy_array_from_list)\n",
    "ten_plus_original = numpy_array_from_list  - 10\n",
    "print(ten_plus_original)\n"
   ]
  },
  {
   "cell_type": "markdown",
   "metadata": {},
   "source": [
    "## Multiplication(Çarpma)"
   ]
  },
  {
   "cell_type": "code",
   "execution_count": 21,
   "metadata": {},
   "outputs": [
    {
     "name": "stdout",
     "output_type": "stream",
     "text": [
      "original array:  [1 2 3 4 5]\n",
      "[ 3  6  9 12 15]\n"
     ]
    }
   ],
   "source": [
    "numpy_array_from_list = np.array([1, 2, 3, 4, 5])\n",
    "\n",
    "print('original array: ', numpy_array_from_list)\n",
    "ten_times_original = numpy_array_from_list * 3\n",
    "print(ten_times_original)\n"
   ]
  },
  {
   "cell_type": "markdown",
   "metadata": {},
   "source": [
    "## Division(Bölünme)"
   ]
  },
  {
   "cell_type": "code",
   "execution_count": 22,
   "metadata": {},
   "outputs": [
    {
     "name": "stdout",
     "output_type": "stream",
     "text": [
      "original array:  [10 20 30 40 50]\n",
      "[1. 2. 3. 4. 5.]\n"
     ]
    }
   ],
   "source": [
    "numpy_array_from_list = np.array([10, 20, 30, 40, 50])\n",
    "print('original array: ', numpy_array_from_list)\n",
    "ten_times_original = numpy_array_from_list / 10\n",
    "print(ten_times_original)\n"
   ]
  },
  {
   "cell_type": "markdown",
   "metadata": {},
   "source": [
    "## Modulus(Modül)"
   ]
  },
  {
   "cell_type": "code",
   "execution_count": 23,
   "metadata": {},
   "outputs": [
    {
     "name": "stdout",
     "output_type": "stream",
     "text": [
      "original array:  [ 3  6  7  4 12]\n",
      "[0 0 1 1 0]\n"
     ]
    }
   ],
   "source": [
    "numpy_array_from_list = np.array([3, 6, 7, 4, 12])\n",
    "print('original array: ', numpy_array_from_list)\n",
    "ten_times_original = numpy_array_from_list % 3\n",
    "print(ten_times_original)# 3' e bölümünden kalan "
   ]
  },
  {
   "cell_type": "markdown",
   "metadata": {},
   "source": [
    "## Floor Division(Kat Bölümü)"
   ]
  },
  {
   "cell_type": "code",
   "execution_count": 26,
   "metadata": {},
   "outputs": [
    {
     "name": "stdout",
     "output_type": "stream",
     "text": [
      "original array:  [11  2 32  4  5]\n",
      "[1 0 3 0 0]\n"
     ]
    }
   ],
   "source": [
    "numpy_array_from_list = np.array([11, 2, 32, 4, 5])\n",
    "print('original array: ', numpy_array_from_list)\n",
    "ten_times_original = numpy_array_from_list // 10\n",
    "print(ten_times_original)\n"
   ]
  },
  {
   "cell_type": "markdown",
   "metadata": {},
   "source": [
    "## Exponential(Üstel)"
   ]
  },
  {
   "cell_type": "code",
   "execution_count": 27,
   "metadata": {},
   "outputs": [
    {
     "name": "stdout",
     "output_type": "stream",
     "text": [
      "original array:  [1 2 3 4 5]\n",
      "[ 1  4  9 16 25]\n"
     ]
    }
   ],
   "source": [
    "numpy_array_from_list = np.array([1, 2, 3, 4, 5])\n",
    "print('original array: ', numpy_array_from_list)\n",
    "ten_times_original = numpy_array_from_list  ** 2\n",
    "print(ten_times_original)"
   ]
  },
  {
   "cell_type": "markdown",
   "metadata": {},
   "source": [
    "Checking data types(Veri türünü kontrol etme)"
   ]
  },
  {
   "cell_type": "code",
   "execution_count": 28,
   "metadata": {},
   "outputs": [
    {
     "name": "stdout",
     "output_type": "stream",
     "text": [
      "int32\n",
      "float64\n",
      "bool\n"
     ]
    }
   ],
   "source": [
    "numpy_int_arr = np.array([1,2,3,4])\n",
    "numpy_float_arr = np.array([1.1, 2.0,3.2])\n",
    "numpy_bool_arr = np.array([-3, -2, 0, 1,2,3], dtype='bool')\n",
    "\n",
    "print(numpy_int_arr.dtype)\n",
    "print(numpy_float_arr.dtype)\n",
    "print(numpy_bool_arr.dtype)\n"
   ]
  },
  {
   "cell_type": "markdown",
   "metadata": {},
   "source": [
    "### Converting types(Türleri Değiştirme)\n",
    "\n",
    "* Numpy dizisinin veri türlerini dönüştürebiliriz\n",
    "\n",
    "\n",
    "\n",
    "1.\tInt to Float\n"
   ]
  },
  {
   "cell_type": "code",
   "execution_count": 29,
   "metadata": {},
   "outputs": [
    {
     "data": {
      "text/plain": [
       "array([1., 2., 3., 4.])"
      ]
     },
     "execution_count": 29,
     "metadata": {},
     "output_type": "execute_result"
    }
   ],
   "source": [
    "numpy_int_arr = np.array([1,2,3,4], dtype = 'float')\n",
    "numpy_int_arr\n"
   ]
  },
  {
   "cell_type": "markdown",
   "metadata": {},
   "source": [
    "2.\tFloat to Int\n",
    "\n"
   ]
  },
  {
   "cell_type": "code",
   "execution_count": 30,
   "metadata": {},
   "outputs": [
    {
     "data": {
      "text/plain": [
       "array([1, 2, 3, 4])"
      ]
     },
     "execution_count": 30,
     "metadata": {},
     "output_type": "execute_result"
    }
   ],
   "source": [
    "numpy_int_arr = np.array([1., 2., 3., 4.], dtype = 'int')\n",
    "numpy_int_arr\n"
   ]
  },
  {
   "cell_type": "markdown",
   "metadata": {},
   "source": [
    "\n",
    "3.\tInt ot boolean\n"
   ]
  },
  {
   "cell_type": "code",
   "execution_count": 31,
   "metadata": {},
   "outputs": [
    {
     "data": {
      "text/plain": [
       "array([ True,  True, False,  True,  True,  True])"
      ]
     },
     "execution_count": 31,
     "metadata": {},
     "output_type": "execute_result"
    }
   ],
   "source": [
    "np.array([-3, -2, 0, 1,2,3], dtype='bool')"
   ]
  },
  {
   "cell_type": "markdown",
   "metadata": {},
   "source": [
    "4.\tInt to str"
   ]
  },
  {
   "cell_type": "code",
   "execution_count": 32,
   "metadata": {},
   "outputs": [
    {
     "data": {
      "text/plain": [
       "array(['1', '2', '3', '4', '5'], dtype='<U11')"
      ]
     },
     "execution_count": 32,
     "metadata": {},
     "output_type": "execute_result"
    }
   ],
   "source": [
    "numpy_array_from_list.astype('int').astype('str')"
   ]
  },
  {
   "cell_type": "markdown",
   "metadata": {},
   "source": [
    "### Multi-dimensional Arrays(Çok Boyutlu Diziler)\n",
    "\n",
    "Örnek:\n"
   ]
  },
  {
   "cell_type": "code",
   "execution_count": 33,
   "metadata": {},
   "outputs": [
    {
     "name": "stdout",
     "output_type": "stream",
     "text": [
      "<class 'numpy.ndarray'>\n",
      "[[0 2 4]\n",
      " [1 3 5]\n",
      " [6 7 8]]\n",
      "Shape:  (3, 3)\n",
      "Size: 9\n",
      "Data type: int32\n"
     ]
    }
   ],
   "source": [
    "two_dimension_array = np.array([(0,2,4),(1,3,5), (6,7,8)])\n",
    "print(type (two_dimension_array))\n",
    "print(two_dimension_array)\n",
    "print('Shape: ', two_dimension_array.shape)\n",
    "print('Size:', two_dimension_array.size)\n",
    "print('Data type:', two_dimension_array.dtype)\n",
    "\n"
   ]
  },
  {
   "cell_type": "markdown",
   "metadata": {},
   "source": [
    "Dizinin 3 boyuttan oluştuğunu 9 adet eleman bulunduğu int veri tipine sahip olduğunu yorumlarız."
   ]
  },
  {
   "cell_type": "markdown",
   "metadata": {},
   "source": [
    "### Getting items from a numpy array(Numpy dizisinden öğe alma)\n",
    "\n",
    "Örnek:\n"
   ]
  },
  {
   "cell_type": "code",
   "execution_count": 34,
   "metadata": {},
   "outputs": [
    {
     "name": "stdout",
     "output_type": "stream",
     "text": [
      "Even nubers row: [0 2 4]\n",
      "odd row: [3 5 7]\n",
      "negative numbers row:  [-1 -8 -9]\n"
     ]
    }
   ],
   "source": [
    "two_dimension_array = np.array([[0,2,4],[3,5,7], [-1,-8,-9]])\n",
    "first_row = two_dimension_array[0]\n",
    "second_row = two_dimension_array[1]\n",
    "third_row = two_dimension_array[2]\n",
    "print('Even nubers row:', first_row)\n",
    "print('odd row:', second_row)\n",
    "print('negative numbers row: ', third_row)"
   ]
  },
  {
   "cell_type": "markdown",
   "metadata": {},
   "source": [
    "Even number row [0] olarak adlandırırız burada pozitig indeksleme olarak da düşünülebilir ilk eleman herzaman 0 ,ikinci 1 olarak indeksleme yapılır. Aynı anlama gelen farklı bir örnek yapalım."
   ]
  },
  {
   "cell_type": "markdown",
   "metadata": {},
   "source": [
    "Örnek:"
   ]
  },
  {
   "cell_type": "code",
   "execution_count": 35,
   "metadata": {},
   "outputs": [
    {
     "name": "stdout",
     "output_type": "stream",
     "text": [
      "First column: [ 0  3 -1]\n",
      "Second column: [ 2  5 -8]\n",
      "Third column:  [ 4  7 -9]\n",
      "[[ 0  2  4]\n",
      " [ 3  5  7]\n",
      " [-1 -8 -9]]\n"
     ]
    }
   ],
   "source": [
    "first_column= two_dimension_array[:,0]\n",
    "second_column = two_dimension_array[:,1]\n",
    "third_column = two_dimension_array[:,2]\n",
    "print('First column:', first_column)\n",
    "print('Second column:', second_column)\n",
    "print('Third column: ', third_column)\n",
    "print(two_dimension_array)"
   ]
  },
  {
   "cell_type": "markdown",
   "metadata": {},
   "source": [
    "### Slicing Numpy array(Numpy Dizisini Dilimleme)\n",
    "\n",
    "Numpy'de dilimleme, python listesinde dilimlemeye benzer\n",
    "\n",
    "Örnek:\n"
   ]
  },
  {
   "cell_type": "code",
   "execution_count": 36,
   "metadata": {},
   "outputs": [
    {
     "name": "stdout",
     "output_type": "stream",
     "text": [
      "[[1 2 3 1]\n",
      " [4 5 6 2]\n",
      " [7 8 9 4]]\n"
     ]
    }
   ],
   "source": [
    "two_dimension_array = np.array([[1,2,3,1],[4,5,6,2], [7,8,9,4]])\n",
    "first_two_rows_and_columns = two_dimension_array[0:4, 0:4]\n",
    "print(first_two_rows_and_columns)\n"
   ]
  },
  {
   "cell_type": "markdown",
   "metadata": {},
   "source": [
    "### How to reverse the rows and the whole array?([::])(Satırları ve tüm diziyi nasıl tersine çevirebilirim?)\n"
   ]
  },
  {
   "cell_type": "code",
   "execution_count": 37,
   "metadata": {},
   "outputs": [
    {
     "data": {
      "text/plain": [
       "array([[1, 2, 3, 1],\n",
       "       [4, 5, 6, 2],\n",
       "       [7, 8, 9, 4]])"
      ]
     },
     "execution_count": 37,
     "metadata": {},
     "output_type": "execute_result"
    }
   ],
   "source": [
    "two_dimension_array[::]"
   ]
  },
  {
   "cell_type": "markdown",
   "metadata": {},
   "source": [
    "### Reverse the row and column positions(Satır ve sütun konumlarını ters çevirin)"
   ]
  },
  {
   "cell_type": "code",
   "execution_count": 38,
   "metadata": {},
   "outputs": [
    {
     "data": {
      "text/plain": [
       "array([[9, 8, 7],\n",
       "       [6, 5, 4],\n",
       "       [3, 2, 1]])"
      ]
     },
     "execution_count": 38,
     "metadata": {},
     "output_type": "execute_result"
    }
   ],
   "source": [
    "two_dimension_array = np.array([[1,2,3],[4,5,6], [7,8,9]])\n",
    "two_dimension_array[::-1,::-1]\n"
   ]
  },
  {
   "cell_type": "markdown",
   "metadata": {},
   "source": [
    "### How to represent missing values ?(Eksik değerler nasıl temsil edilir?)"
   ]
  },
  {
   "cell_type": "code",
   "execution_count": 39,
   "metadata": {},
   "outputs": [
    {
     "name": "stdout",
     "output_type": "stream",
     "text": [
      "[[1 2 3]\n",
      " [4 5 6]\n",
      " [7 8 9]]\n",
      "[[ 1  2  3]\n",
      " [ 4 55 44]\n",
      " [ 7  8  9]]\n"
     ]
    }
   ],
   "source": [
    "print(two_dimension_array)\n",
    "two_dimension_array[1,1] = 55\n",
    "two_dimension_array[1,2] =44\n",
    "print(two_dimension_array)\n"
   ]
  },
  {
   "cell_type": "markdown",
   "metadata": {},
   "source": [
    "\n",
    "•\tNumpy Zeroes\n"
   ]
  },
  {
   "cell_type": "markdown",
   "metadata": {},
   "source": [
    "(3,3) olan 0'dan oluşan numpy dizisi aşağıda görelim."
   ]
  },
  {
   "cell_type": "code",
   "execution_count": 40,
   "metadata": {},
   "outputs": [
    {
     "data": {
      "text/plain": [
       "array([[0, 0, 0],\n",
       "       [0, 0, 0],\n",
       "       [0, 0, 0]])"
      ]
     },
     "execution_count": 40,
     "metadata": {},
     "output_type": "execute_result"
    }
   ],
   "source": [
    "numpy_zeroes = np.zeros((3,3),dtype=int,order='C')\n",
    "numpy_zeroes\n"
   ]
  },
  {
   "cell_type": "markdown",
   "metadata": {},
   "source": [
    "(4,4) olan 1'den oluşan numpy dizisi aşağıda görelim.\n"
   ]
  },
  {
   "cell_type": "code",
   "execution_count": 41,
   "metadata": {},
   "outputs": [
    {
     "name": "stdout",
     "output_type": "stream",
     "text": [
      "[[1 1 1 1]\n",
      " [1 1 1 1]\n",
      " [1 1 1 1]\n",
      " [1 1 1 1]]\n"
     ]
    }
   ],
   "source": [
    "numpy_ones = np.ones((4,4),dtype=int,order='C')\n",
    "print(numpy_ones)\n"
   ]
  },
  {
   "cell_type": "markdown",
   "metadata": {},
   "source": [
    "•\tReshape:Genel olarak değiştirmek istediğimiz dizin için kullanırız.\n",
    "numpy.reshape(), numpy.flatten(),aşağıda göreceğimiz üzere diziyi değiştirebiliriz.\n"
   ]
  },
  {
   "cell_type": "code",
   "execution_count": 42,
   "metadata": {},
   "outputs": [
    {
     "name": "stdout",
     "output_type": "stream",
     "text": [
      "[[1 2 3]\n",
      " [4 5 6]]\n",
      "[[1 2]\n",
      " [3 4]\n",
      " [5 6]]\n"
     ]
    }
   ],
   "source": [
    "first_shape  = np.array([(1,2,3), (4,5,6)])\n",
    "print(first_shape)\n",
    "reshaped = first_shape.reshape(3,2)\n",
    "print(reshaped)\n",
    "\n"
   ]
  },
  {
   "cell_type": "markdown",
   "metadata": {},
   "source": [
    "•\tYukarıdaki dizinin array ile yazalım."
   ]
  },
  {
   "cell_type": "code",
   "execution_count": 43,
   "metadata": {},
   "outputs": [
    {
     "data": {
      "text/plain": [
       "array([1, 2, 3, 4, 5, 6])"
      ]
     },
     "execution_count": 43,
     "metadata": {},
     "output_type": "execute_result"
    }
   ],
   "source": [
    "flattened = reshaped.flatten()\n",
    "flattened\n"
   ]
  },
  {
   "cell_type": "markdown",
   "metadata": {},
   "source": [
    "•\t\"array” leri birleştirelim"
   ]
  },
  {
   "cell_type": "code",
   "execution_count": 47,
   "metadata": {},
   "outputs": [
    {
     "name": "stdout",
     "output_type": "stream",
     "text": [
      "toplam: [5 7 9]\n",
      "Birleştirilmiş Array: [1 2 3 4 5 6]\n"
     ]
    }
   ],
   "source": [
    "np_list_one = np.array([1,2,3])   \n",
    " \n",
    "np_list_two = np.array([4,5,6])\n",
    "\n",
    "print('toplam:',np_list_one + np_list_two)\n",
    "\n",
    "print('Birleştirilmiş Array:', np.hstack((np_list_one, np_list_two)))\n"
   ]
  },
  {
   "cell_type": "markdown",
   "metadata": {},
   "source": [
    "•\tVertical Stack(Dikey Yığın)"
   ]
  },
  {
   "cell_type": "markdown",
   "metadata": {},
   "source": [
    "Vstack ile alt alta yazdırabilirim."
   ]
  },
  {
   "cell_type": "code",
   "execution_count": 48,
   "metadata": {},
   "outputs": [
    {
     "name": "stdout",
     "output_type": "stream",
     "text": [
      "Vertical Append: [[1 2 3]\n",
      " [4 5 6]]\n"
     ]
    }
   ],
   "source": [
    "print('Vertical Append:', np.vstack((np_list_one, np_list_two)))"
   ]
  },
  {
   "cell_type": "markdown",
   "metadata": {},
   "source": [
    "•\tGenerating Random Numbers(Rastgele Sayılar Üretme)\n",
    "\n",
    "Örnek:1\n"
   ]
  },
  {
   "cell_type": "code",
   "execution_count": 49,
   "metadata": {},
   "outputs": [
    {
     "data": {
      "text/plain": [
       "0.17891715130928387"
      ]
     },
     "execution_count": 49,
     "metadata": {},
     "output_type": "execute_result"
    }
   ],
   "source": [
    "random_float = np.random.random()\n",
    "random_float\n"
   ]
  },
  {
   "cell_type": "markdown",
   "metadata": {},
   "source": [
    "Örnek:2"
   ]
  },
  {
   "cell_type": "code",
   "execution_count": 50,
   "metadata": {},
   "outputs": [
    {
     "data": {
      "text/plain": [
       "array([0.75982013, 0.93256446, 0.39875566, 0.22826714, 0.10626511])"
      ]
     },
     "execution_count": 50,
     "metadata": {},
     "output_type": "execute_result"
    }
   ],
   "source": [
    "random_float = np.random.random(5)\n",
    "random_float\n"
   ]
  },
  {
   "cell_type": "markdown",
   "metadata": {},
   "source": [
    "0 ile 10 arasında rastgele bir tamsayı oluşturma"
   ]
  },
  {
   "cell_type": "code",
   "execution_count": 53,
   "metadata": {},
   "outputs": [
    {
     "data": {
      "text/plain": [
       "2"
      ]
     },
     "execution_count": 53,
     "metadata": {},
     "output_type": "execute_result"
    }
   ],
   "source": [
    "random_int=np.random.randint(0,11)\n",
    "random_int"
   ]
  },
  {
   "cell_type": "markdown",
   "metadata": {},
   "source": [
    "Örnek:3"
   ]
  },
  {
   "cell_type": "code",
   "execution_count": 56,
   "metadata": {},
   "outputs": [
    {
     "data": {
      "text/plain": [
       "array([3, 8, 8, 8])"
      ]
     },
     "execution_count": 56,
     "metadata": {},
     "output_type": "execute_result"
    }
   ],
   "source": [
    "#2 ile 10 arasında rasgele 4 adet tam sayı üret\n",
    "random_int = np.random.randint(2,10, size=4)\n",
    "random_int\n"
   ]
  },
  {
   "cell_type": "markdown",
   "metadata": {},
   "source": [
    "Örnek:4"
   ]
  },
  {
   "cell_type": "code",
   "execution_count": 60,
   "metadata": {},
   "outputs": [
    {
     "data": {
      "text/plain": [
       "array([[2, 5, 9],\n",
       "       [2, 2, 6],\n",
       "       [3, 4, 7]])"
      ]
     },
     "execution_count": 60,
     "metadata": {},
     "output_type": "execute_result"
    }
   ],
   "source": [
    "#3'e 3 lük matris olsun ve 2ile 10 arası rassal sayılardan oluşsun.\n",
    "random_float = np.random.randint(2,10, size=(3,3))\n",
    "random_float\n"
   ]
  },
  {
   "cell_type": "markdown",
   "metadata": {},
   "source": [
    "•\tGenerationg random numbers(Rasgele Sayı Oluşturma)\n",
    "\n",
    "Genel gösterim: np.random.normal(mu, sigma, size)(ortalama,varyans,adet)\n",
    "\n",
    "Örnek:\n"
   ]
  },
  {
   "cell_type": "code",
   "execution_count": 62,
   "metadata": {},
   "outputs": [
    {
     "data": {
      "text/plain": [
       "array([ 96.17099603,  88.8813559 ,  65.82488589,  87.08611003,\n",
       "        99.69902146,  79.7934266 ,  73.51440185,  80.36462633,\n",
       "        80.40581182,  98.79995436, 120.02314727,  88.33167377,\n",
       "        95.54951277,  82.71600357,  60.68305701,  84.11529193,\n",
       "        77.1188313 ,  80.49572525,  93.07499382,  56.3442323 ,\n",
       "        66.20081443,  78.11478132,  44.35640687,  75.78095755,\n",
       "        86.35219313,  96.31370095,  72.93637853, 100.57100093,\n",
       "        94.0218546 ,  58.33304466,  68.04497337, 115.35709932])"
      ]
     },
     "execution_count": 62,
     "metadata": {},
     "output_type": "execute_result"
    }
   ],
   "source": [
    "normal_array = np.random.normal(79, 15, 32)\n",
    "normal_array\n"
   ]
  },
  {
   "cell_type": "markdown",
   "metadata": {},
   "source": [
    "## Numpy and Statistics(NumPy ve İstatistik)\n",
    "\n",
    "Öncelikle gerekli kütüphaneleri çağıralım “seaborn” ve “ matplotlip” çağıralım. Aşağıda örnekte bir set oluşturalım ve histogramını Tablo:1’de inceleyelim.\n",
    "\n",
    "Örnek:\n"
   ]
  },
  {
   "cell_type": "markdown",
   "metadata": {},
   "source": [
    "Aşağıdaki üretilen veri setinin histogramını plt.hist komutu ile çizebiliriz.Yukarıda tanımladığım normal_array veri setini önce yazdım daha sonra istediğim rengi ve sayıyı girdim."
   ]
  },
  {
   "cell_type": "code",
   "execution_count": 67,
   "metadata": {},
   "outputs": [
    {
     "data": {
      "text/plain": [
       "(array([1., 0., 0., 0., 1., 1., 1., 0., 2., 1., 0., 2., 2., 1., 4., 2., 2.,\n",
       "        2., 0., 2., 3., 2., 1., 0., 0., 0., 0., 0., 1., 1.]),\n",
       " array([ 44.35640687,  46.87863155,  49.40085623,  51.92308091,\n",
       "         54.44530559,  56.96753027,  59.48975495,  62.01197963,\n",
       "         64.53420431,  67.05642899,  69.57865367,  72.10087835,\n",
       "         74.62310303,  77.14532771,  79.66755239,  82.18977707,\n",
       "         84.71200175,  87.23422643,  89.75645111,  92.27867579,\n",
       "         94.80090047,  97.32312515,  99.84534983, 102.36757451,\n",
       "        104.88979919, 107.41202387, 109.93424855, 112.45647323,\n",
       "        114.97869791, 117.50092259, 120.02314727]),\n",
       " <BarContainer object of 30 artists>)"
      ]
     },
     "execution_count": 67,
     "metadata": {},
     "output_type": "execute_result"
    },
    {
     "data": {
      "image/png": "[encoded data removed]",
      "text/plain": [
       "<Figure size 432x288 with 1 Axes>"
      ]
     },
     "metadata": {},
     "output_type": "display_data"
    }
   ],
   "source": [
    "import matplotlib.pyplot as plt\n",
    "import seaborn as sns\n",
    "sns.set()\n",
    "plt.hist(normal_array, color=\"blue\", bins=30)\n"
   ]
  },
  {
   "cell_type": "markdown",
   "metadata": {},
   "source": [
    "### Matrix in numpy(NumPy'da Matris)\n",
    "\n",
    "Örnek:\n"
   ]
  },
  {
   "cell_type": "code",
   "execution_count": 68,
   "metadata": {},
   "outputs": [
    {
     "data": {
      "text/plain": [
       "matrix([[1., 1., 1., 1.],\n",
       "        [1., 1., 1., 1.],\n",
       "        [1., 1., 1., 1.],\n",
       "        [1., 1., 1., 1.]])"
      ]
     },
     "execution_count": 68,
     "metadata": {},
     "output_type": "execute_result"
    }
   ],
   "source": [
    "four_matrix = np.matrix(np.ones((4,4), dtype=float))\n",
    "four_matrix\n",
    "\n"
   ]
  },
  {
   "cell_type": "markdown",
   "metadata": {},
   "source": [
    "Yukarıda tanımlamış olduğum matrise 2. eleman satırına (tabiki 0,1,2 diye ilerlediğini unutmayalım) tüm elemanlarını 2 yap diyorum aşağıda görebiliriz."
   ]
  },
  {
   "cell_type": "code",
   "execution_count": 69,
   "metadata": {},
   "outputs": [
    {
     "data": {
      "text/plain": [
       "matrix([[1., 1., 1., 1.],\n",
       "        [1., 1., 1., 1.],\n",
       "        [2., 2., 2., 2.],\n",
       "        [1., 1., 1., 1.]])"
      ]
     },
     "execution_count": 69,
     "metadata": {},
     "output_type": "execute_result"
    }
   ],
   "source": [
    "np.asarray(four_matrix)[2] = 2\n",
    "four_matrix\n"
   ]
  },
  {
   "cell_type": "markdown",
   "metadata": {},
   "source": [
    "### Numpy numpy.arange()\n",
    "\n",
    "Arange Nedir? Bazen, tanımlanmış bir aralık içinde eşit aralıklarla yerleştirilmiş değerler oluşturmak istersiniz. Örneğin, 1'den 10'a kadar değerler oluşturmak istiyorsunuz; numpy.arange() işlevini kullanabiliriz.\n"
   ]
  },
  {
   "cell_type": "code",
   "execution_count": 70,
   "metadata": {},
   "outputs": [
    {
     "name": "stdout",
     "output_type": "stream",
     "text": [
      "0\n",
      "2\n",
      "4\n",
      "6\n",
      "8\n",
      "10\n"
     ]
    }
   ],
   "source": [
    "lst  =  range ( 0 , 11 , 2 )\n",
    "lst\n",
    "for l in lst:\n",
    "    print(l)\n"
   ]
  },
  {
   "cell_type": "markdown",
   "metadata": {},
   "source": [
    "Sayı oluşrutalım başlangış noktası artış, miktarı ve bitiş noktasını ele alalım genel gösterimi: range arange numpy.arange(start, stop, step)"
   ]
  },
  {
   "cell_type": "code",
   "execution_count": 71,
   "metadata": {},
   "outputs": [
    {
     "data": {
      "text/plain": [
       "array([ 0,  1,  2,  3,  4,  5,  6,  7,  8,  9, 10, 11, 12, 13, 14, 15, 16,\n",
       "       17, 18, 19])"
      ]
     },
     "execution_count": 71,
     "metadata": {},
     "output_type": "execute_result"
    }
   ],
   "source": [
    "whole_numbers = np.arange(0, 20, 1)\n",
    "whole_numbers\n",
    "\n"
   ]
  },
  {
   "cell_type": "markdown",
   "metadata": {},
   "source": [
    "### Creating sequence of numbers using linspace(Linspace kullanarak sayı dizisi oluşturma)\n",
    "\n",
    "Virgül sonrası olan değerler oluşturmak isterseniz “linspace” kullanabiliriz.\n"
   ]
  },
  {
   "cell_type": "code",
   "execution_count": 73,
   "metadata": {},
   "outputs": [
    {
     "data": {
      "text/plain": [
       "array([1.        , 1.44444444, 1.88888889, 2.33333333, 2.77777778,\n",
       "       3.22222222, 3.66666667, 4.11111111, 4.55555556, 5.        ])"
      ]
     },
     "execution_count": 73,
     "metadata": {},
     "output_type": "execute_result"
    }
   ],
   "source": [
    "np.linspace(1.0, 5.0, num=10)"
   ]
  },
  {
   "cell_type": "markdown",
   "metadata": {},
   "source": [
    "Son değeri dahil etmemek:\n",
    "\n",
    "Örnek:\n"
   ]
  },
  {
   "cell_type": "code",
   "execution_count": 74,
   "metadata": {},
   "outputs": [
    {
     "data": {
      "text/plain": [
       "array([1. , 1.8, 2.6, 3.4, 4.2])"
      ]
     },
     "execution_count": 74,
     "metadata": {},
     "output_type": "execute_result"
    }
   ],
   "source": [
    "np.linspace(1.0, 5.0, num=5, endpoint=False)"
   ]
  },
  {
   "cell_type": "markdown",
   "metadata": {},
   "source": [
    "LogSpace, bir günlük ölçeğinde çift aralıklı sayıları döndürür. Logspace, np.linspace ile aynı parametrelere sahiptir.\n",
    "Genel Gösterim: numpy.logspace(start, stop, num, endpoint)\n",
    "\n"
   ]
  },
  {
   "cell_type": "code",
   "execution_count": 75,
   "metadata": {},
   "outputs": [
    {
     "data": {
      "text/plain": [
       "array([  100.        ,   464.15888336,  2154.43469003, 10000.        ])"
      ]
     },
     "execution_count": 75,
     "metadata": {},
     "output_type": "execute_result"
    }
   ],
   "source": [
    "np.logspace(2, 4.0, num=4)"
   ]
  },
  {
   "cell_type": "code",
   "execution_count": 76,
   "metadata": {},
   "outputs": [
    {
     "name": "stdout",
     "output_type": "stream",
     "text": [
      "First row:  [1 2 3]\n",
      "Second row:  [4 5 6]\n",
      "First column:  [1 4]\n",
      "Second column:  [2 5]\n",
      "Third column:  [3 6]\n"
     ]
    }
   ],
   "source": [
    "#Liste Parçalayalım\n",
    "np_list = np.array([(1,2,3), (4,5,6)])\n",
    "np_list\n",
    "\n",
    "\n",
    "# Birinci satır İkinci satır olarak parçalayalım.\n",
    "print('First row: ', np_list[0])\n",
    "print('Second row: ', np_list[1])\n",
    "\n",
    "#farklı bir yol:\n",
    "print('First column: ', np_list[:,0])\n",
    "print('Second column: ', np_list[:,1])\n",
    "print('Third column: ', np_list[:,2])\n"
   ]
  },
  {
   "cell_type": "markdown",
   "metadata": {},
   "source": [
    "## NumPy Statistical Functions with Example(Örnekle NumPy İstatistiksel İşlevleri)\n",
    "\n",
    "NumPy, dizideki verilen öğelerden minimum, maksimum, ortalama, medyan, yüzdelik, standart sapma ve varyans vb. bulmak için oldukça kullanışlı istatistiksel işlevlere sahiptir. Fonksiyonlar aşağıdaki gibi açıklanmıştır. İstatistiksel fonksiyon Numpy, aşağıda listelendiği gibi sağlam istatistiksel fonksiyonla donatılmıştır.\n",
    "\n",
    "Numpy Fonksiyonları\n",
    "\n",
    "•\tMin np.min()\n",
    "\n",
    "•\tMaks. np.maks()\n",
    "\n",
    "•\tOrtalama np.mean()\n",
    "\n",
    "•\tMedyan np.medyan()\n",
    "\n",
    "•\tvaryans\n",
    "\n",
    "•\tYüzdelik\n",
    "\n",
    "•\tStandart sapma np.std()\n",
    "\n",
    "Örnek:\n",
    "\n"
   ]
  },
  {
   "cell_type": "code",
   "execution_count": 78,
   "metadata": {},
   "outputs": [
    {
     "name": "stdout",
     "output_type": "stream",
     "text": [
      "[4.50770471 4.98654432 4.99183563 5.90443806 4.94080276 5.62588017\n",
      " 5.15556479 4.61991639 4.59399333 5.66706074 5.30193191 4.82465699\n",
      " 5.66591904 5.76118782 4.65691276 4.84278497 4.71380686 5.41894501\n",
      " 4.70121874 5.04732754 4.90308101 4.01921437 4.63472286 4.86878221\n",
      " 4.60554348 4.65562146 5.30348086 4.86788622 5.21392476 5.32718268\n",
      " 4.60025913 5.22180386 4.82203795 4.69619965 4.22042525 5.42416524\n",
      " 5.90414281 5.23360136 5.47060669 4.57666746 4.89046002 5.44701895\n",
      " 4.19573359 5.5201249  5.41076724 5.07637697 4.83439378 4.38993221\n",
      " 4.8555141  5.63046348 4.92009866 4.56211488 4.71964707 4.92863029\n",
      " 5.21342708 5.11608488 5.30016768 4.62645667 4.67114314 4.75163728\n",
      " 4.64071154 5.13969178 5.6177159  5.19375922 4.19165339 5.11026532\n",
      " 4.93218345 4.76907216 6.1321178  4.57607727 5.13755733 4.26366006\n",
      " 5.27403295 5.00946565 5.17901422 5.25556872 4.52278461 5.23178847\n",
      " 5.45300911 5.61805633 4.50675267 4.9700822  5.43075448 4.40033812\n",
      " 5.76274579 4.6371026  5.36470687 4.41489905 4.87530166 4.41429202\n",
      " 5.00856424 4.54998073 6.14075561 5.30600245 4.83161519 4.79384867\n",
      " 5.18864069 4.94648828 5.86406812 5.00408784]\n",
      "minimum değer:  1\n",
      "maximum değer:  55\n",
      "ortalama:  14.777777777777779\n",
      "sd(standart sapma):  18.913709183069525\n"
     ]
    }
   ],
   "source": [
    "np_normal_dis = np.random.normal(5, 0.5, 100)\n",
    "print(np_normal_dis)\n",
    "\n",
    "print('minimum değer: ', two_dimension_array.min())\n",
    "print('maximum değer: ', two_dimension_array.max())\n",
    "print('ortalama: ',two_dimension_array.mean())\n",
    "print('sd(standart sapma): ', two_dimension_array.std())\n"
   ]
  },
  {
   "cell_type": "markdown",
   "metadata": {},
   "source": [
    "Örrnek:"
   ]
  },
  {
   "cell_type": "code",
   "execution_count": 83,
   "metadata": {},
   "outputs": [
    {
     "name": "stdout",
     "output_type": "stream",
     "text": [
      "[[ 1  2  3]\n",
      " [ 4 55 44]\n",
      " [ 7  8  9]]\n",
      " minimum satır:  [1 2 3]\n",
      " maximum satır:  [ 7 55 44]\n",
      "=== Row ==\n",
      "minimum sütun:  [1 4 7]\n",
      "maximum sütun:  [ 3 55  9]\n"
     ]
    }
   ],
   "source": [
    "print(two_dimension_array)\n",
    "print(' minimum satır: ', np.amin(two_dimension_array,axis=0))\n",
    "print(' maximum satır: ', np.amax(two_dimension_array,axis=0))\n",
    "print('=== Row ==')\n",
    "print('minimum sütun: ', np.amin(two_dimension_array,axis=1))\n",
    "print('maximum sütun: ', np.amax(two_dimension_array,axis=1))\n",
    "\n"
   ]
  },
  {
   "cell_type": "markdown",
   "metadata": {},
   "source": [
    "### How to create repeating sequences?(Tekrar eden diziler nasıl oluşturulur?)"
   ]
  },
  {
   "cell_type": "code",
   "execution_count": 85,
   "metadata": {},
   "outputs": [
    {
     "name": "stdout",
     "output_type": "stream",
     "text": [
      "Tekrarlı:    [1 2 3 1 2 3]\n"
     ]
    }
   ],
   "source": [
    "a = [1,2,3]\n",
    "print('Tekrarlı:   ', np.tile(a, 2))# a'yı 2 kere tekrar et\n"
   ]
  },
  {
   "cell_type": "code",
   "execution_count": 86,
   "metadata": {},
   "outputs": [
    {
     "name": "stdout",
     "output_type": "stream",
     "text": [
      "Repeat:  [1 1 2 2 3 3]\n"
     ]
    }
   ],
   "source": [
    "print('Repeat: ', np.repeat(a, 2))"
   ]
  },
  {
   "cell_type": "markdown",
   "metadata": {},
   "source": [
    "How to generate random numbers?()\n",
    "\n",
    "Rasgele sayı üretmek için np.random.random() komutu virgüllü rasgele bir sayı üretmek için kullanılır.\n",
    "\n",
    "Örnek:1\n"
   ]
  },
  {
   "cell_type": "code",
   "execution_count": 87,
   "metadata": {},
   "outputs": [
    {
     "name": "stdout",
     "output_type": "stream",
     "text": [
      "0.6458270589888289\n"
     ]
    }
   ],
   "source": [
    "one_random_num = np.random.random()\n",
    "one_random_in = np.random\n",
    "print(one_random_num)\n"
   ]
  },
  {
   "cell_type": "markdown",
   "metadata": {},
   "source": [
    "Örnek:2"
   ]
  },
  {
   "cell_type": "code",
   "execution_count": 88,
   "metadata": {},
   "outputs": [
    {
     "name": "stdout",
     "output_type": "stream",
     "text": [
      "[[0.82887437 0.20186723 0.95456602]\n",
      " [0.01842893 0.79362108 0.45642132]]\n"
     ]
    }
   ],
   "source": [
    "r = np.random.random(size=[2,3])# 2'ye 3 Matris şeklinde \n",
    "print(r)\n"
   ]
  },
  {
   "cell_type": "markdown",
   "metadata": {},
   "source": [
    "Örnek:3"
   ]
  },
  {
   "cell_type": "code",
   "execution_count": 91,
   "metadata": {},
   "outputs": [
    {
     "name": "stdout",
     "output_type": "stream",
     "text": [
      "[5.14639562 5.02402849 5.03820193 5.07901123 4.86787023 5.03936234\n",
      " 5.04536995 4.9739205  5.03151362 5.06815728 5.00399744 5.12383394\n",
      " 5.00089002 5.19212731 4.8453539  5.01473468 4.95524106 5.13354301\n",
      " 4.96717613 5.07575741 4.92842063 4.97406004 5.06896556 4.80877302\n",
      " 5.06835883 4.89121088 4.98284064 5.09128551 4.8148661  4.93148987\n",
      " 5.05539753 4.85550493 5.08577456 4.9746209  4.91978008 5.02587087\n",
      " 4.99257552 5.01009241 5.01736658 4.95004541 5.06477908 4.84854322\n",
      " 5.10245199 4.99247266 4.98398744 5.02912952 5.17789416 5.0531047\n",
      " 4.95573991 5.07821903 5.0718349  5.05401659 5.06113472 5.19374165\n",
      " 5.06504764 4.81411442 4.88829621 5.14112728 5.05600511 5.01707921\n",
      " 5.09594333 5.00023664 5.11693241 4.99079838 5.05903588 5.0618604\n",
      " 4.94245361 5.16953246 5.05709337 5.0124569  5.06941691 5.1322178\n",
      " 4.9648705  4.94760147 5.04812139 4.9615209  4.89905854 4.96290162\n",
      " 4.92291392 4.97278175 4.91593748 5.02454373 5.05863654 5.11126038\n",
      " 4.87722015 4.99723808 5.21693305 5.07687193 4.84745258 4.98371558\n",
      " 4.88298934 5.00942407 4.87023108 5.08246546 5.01579995 4.96628385\n",
      " 5.06775441 5.00541865 5.09297158 4.98149209 5.04169091 4.9298379\n",
      " 5.03796014 4.92818825 5.01586152 4.95964666 4.85500187 4.89504627\n",
      " 5.19867911 5.04890811 4.99665676 5.02772842 5.05745754 5.11695394\n",
      " 5.01225924 4.92825095 4.94271915 4.82395445 4.95589054 5.17472163\n",
      " 5.01357192 4.99270269 4.84281761 4.90445796 5.00161078 5.07975923\n",
      " 4.96701892 5.01146407 4.9384747  4.92692594 4.94918793 4.85792253\n",
      " 5.00436741 5.14500971 5.12024429 4.94140956 4.97716063 5.14601815\n",
      " 4.85512458 5.13339406 5.04800254 5.08186069 5.13269985 5.05145231\n",
      " 4.7629838  4.96893527 5.14609081 4.91682807 4.94392315 4.96720264\n",
      " 4.93909606 5.14975084 4.78496078 4.8837979  5.00348013 5.11596211\n",
      " 5.06255309 4.9667076  4.93051117 4.95704747 5.15387604 5.02979334\n",
      " 5.06076444 5.0217607  5.08194054 5.04477894 5.02158325 4.97963523\n",
      " 4.90736368 4.88914202 5.03477883 5.07141175 5.0818141  4.93822758\n",
      " 5.04903352 5.09801493 4.99764281 4.91510394 5.06509295 5.0041728\n",
      " 4.88624381 5.07192228 5.02164324 5.01606146 5.03801777 4.98432768\n",
      " 5.02340555 4.94519079 5.001624   4.97906274 5.17177017 4.89338071\n",
      " 5.09610215 4.92505761 5.04239493 4.9637901  4.93200778 4.75174527\n",
      " 5.03366041 5.01852447 4.96014296 5.20595726 5.26938788 5.07441678\n",
      " 4.96667716 4.91455033 4.95622942 5.00545717 5.16637446 4.86733555\n",
      " 5.15549532 5.11672761 4.90044032 5.12438727 4.95769717 5.07904182\n",
      " 5.09578396 4.78427786 4.99998979 4.97616335 4.91727429 4.98461842\n",
      " 5.0078486  4.96515634 4.95464609 4.91614202 5.02484002 5.0913449\n",
      " 5.1398946  4.91142434 4.96716983 4.98466023 4.96387449 5.14216855\n",
      " 4.93177082 5.05429669 5.08901827 4.98015656 5.08658877 5.04124912\n",
      " 4.97996969 5.16327817 5.02474536 5.0235779  5.14472497 5.10890791\n",
      " 4.87219873 4.8612057  5.1170996  5.02842874 5.0344061  5.00296669\n",
      " 5.07071365 4.82906225 4.96777991 4.84314427 4.98259666 5.09090951\n",
      " 4.98911367 4.87154513 4.90526473 5.05439622 5.02203786 5.03864799\n",
      " 5.05150186 4.79283124 4.86647227 5.08785264 4.92879419 5.13778852\n",
      " 4.95807372 5.01192619 5.02845438 4.9603702  5.04928177 4.94674536\n",
      " 5.02129795 5.00052984 4.80254881 5.0956171  5.01492851 4.88446214\n",
      " 5.01622344 4.90895252 4.97308408 5.09337405 5.01784321 4.86574229\n",
      " 5.07998005 4.92116384 4.98294823 5.09999559 5.02754999 4.99229798\n",
      " 4.79656016 4.88864612 4.84451018 4.91620546 5.10569405 4.95937966\n",
      " 5.00170716 4.82674142 4.98926168 4.92891586 4.96081244 4.85478859\n",
      " 5.08194639 5.0159861  4.92750435 4.92988777 5.06702639 5.13064481\n",
      " 4.73475486 5.09692329 4.97265358 4.92596169 5.12063001 5.02235066\n",
      " 5.0265196  4.99024787 4.88021191 4.98476571 5.01533975 5.02063617\n",
      " 5.06123514 4.99111833 5.08028819 5.12947503 4.94578263 5.03322016\n",
      " 4.95998906 4.81789369 4.81171354 4.89925112 5.06905934 4.98723685\n",
      " 5.17284871 5.1379126  4.93428862 4.85260348 5.14491241 4.90219719\n",
      " 4.99959876 5.16107306 5.1721927  5.09831452 4.8725597  5.04898602\n",
      " 5.0356362  4.97014296 5.0855665  5.15620412 5.03490609 5.06466711\n",
      " 5.1021677  5.13670941 5.02130198 4.82687395 4.96380488 4.98477498\n",
      " 4.9868643  4.98205607 5.04946667 5.00358824 5.04963338 4.97032494\n",
      " 5.05778345 4.96833661 5.12954559 5.08195273 4.87606312 4.81602133\n",
      " 4.98425727 4.99940217 4.76777617 5.13233811 5.12975174 4.87059222\n",
      " 4.96141656 5.07801578 4.8647736  5.02461134 4.89804384 5.05991766\n",
      " 4.90652508 5.1237008  4.96411049 5.12883264 5.01953837 5.04934125\n",
      " 4.97108235 5.10873475 4.96437237 5.01830311 5.10778797 4.96838622\n",
      " 4.91294256 4.99033018 5.04554051 5.06003876 4.97940703 4.98721442\n",
      " 5.11058738 4.97522738 4.92073292 5.17150035 4.9428728  5.18866793\n",
      " 4.94256682 4.9192351  4.98036233 5.05456993 4.90066543 4.89025686\n",
      " 5.02201605 5.0552406  5.07994962 4.92358132 4.8683688  4.90835995\n",
      " 4.9966338  4.92520593 4.93199813 5.08288075 5.07455358 4.97992675\n",
      " 4.90856699 5.01159163 5.02864378 4.90539682 4.941229   5.01740939\n",
      " 4.95470484 5.00703968 4.99980573 4.88929405 5.03228266 4.93326967\n",
      " 5.00646988 4.98674358 4.91390261 5.12696362 5.05414835 5.01531151\n",
      " 4.9480702  4.86093061 4.76430287 5.1406512  4.98710332 5.16818558\n",
      " 4.87890095 4.94431496 5.0481864  5.10050422 4.95936416 5.124316\n",
      " 5.08480027 4.86630106 4.9256543  5.17541999 4.97452083 4.96535994\n",
      " 4.99909431 4.90200852 4.9978789  4.99612669 5.01152664 5.12472406\n",
      " 5.10729621 5.13204555 5.00849416 4.94840056 4.89345454 4.90568849\n",
      " 4.94402906 4.91998185 5.16290851 4.92461244 4.94937364 5.1797702\n",
      " 5.0955948  5.04601317 4.96020356 5.13200738 4.83469677 5.03058608\n",
      " 5.16006895 5.12219727 4.991271   5.07150823 5.00672178 5.08909698\n",
      " 4.94706941 5.07006804 4.86892497 4.98786111 5.09818136 5.1474048\n",
      " 4.91753843 4.90282228 4.94464426 5.09195416 4.84763169 5.04529382\n",
      " 4.82532371 4.95505564 5.13958462 5.0161907  5.29667941 5.01509782\n",
      " 5.0691978  5.14378594 5.07211473 5.05056084 4.91545982 5.03156853\n",
      " 4.84923682 5.04932667 5.189388   5.02748643 4.92147054 5.03571989\n",
      " 5.16000236 5.011384   4.88122261 4.98110757 4.92935079 4.96280828\n",
      " 4.96738499 5.09723881 4.89430782 4.93239795 5.05086508 4.85574121\n",
      " 5.07658125 5.0394353  5.01059134 5.0305779  5.02069246 5.12195481\n",
      " 5.10876457 5.08956349 5.11387957 4.90621328 4.96167002 4.90925575\n",
      " 5.01631239 5.01835532 4.98980159 5.22629714 5.10832513 4.72590882\n",
      " 5.01826032 5.02298581 4.97957476 5.05777528 5.0369052  4.91803677\n",
      " 4.83031376 5.01837725 5.07407361 4.88896289 5.0985474  4.96656737\n",
      " 5.08371924 4.98571983 4.96375629 5.11347851 4.87811988 5.04129896\n",
      " 5.01401281 5.09340066 4.97031804 4.98602903 4.96416624 4.98001366\n",
      " 4.9682235  5.05104054 4.85509506 4.94091588 5.0463299  5.12289574\n",
      " 5.17398957 5.06187818 5.03160518 5.03287383 5.04853428 4.96377783\n",
      " 4.92627647 5.18010238 4.98331048 4.90439579 5.01558334 4.91300095\n",
      " 4.93773948 4.99616695 4.97631835 5.05463734 4.99328597 5.02097484\n",
      " 4.87654951 4.94549422 5.14524164 4.91876308 4.99037201 4.96576797\n",
      " 5.11586864 5.04159926 5.10846662 5.01739905 5.11012412 5.08557215\n",
      " 4.92064668 4.84659328 4.96249276 5.04437572 5.01298869 4.97743945\n",
      " 5.06041928 4.99970882 4.82875973 4.87782731 5.22921941 4.85833313\n",
      " 5.06046456 5.14922656 4.75138973 4.90371253 4.95770354 5.00705951\n",
      " 4.80725548 4.80994337 5.21939887 4.89699353 5.05890226 4.93919909\n",
      " 4.94997115 5.05507504 5.19901176 5.00730905 5.0129572  4.93492853\n",
      " 5.08905001 4.99586533 4.99080839 5.08881478 5.09370016 4.83268902\n",
      " 4.93037953 4.93015157 5.05314471 4.94661781 4.98181871 4.93412999\n",
      " 4.97490273 4.99502191 5.1728066  5.10868091 4.99386475 4.99762439\n",
      " 4.99485022 4.9278749  5.12337654 5.07417499 5.09208126 5.0529662\n",
      " 4.98317881 4.95782682 4.94271782 4.95684176 4.98551023 5.13704533\n",
      " 5.07408342 4.91015989 5.02926766 5.21249689 5.10858062 5.01882859\n",
      " 4.90380173 4.87439527 4.8512215  5.09556293 4.84702845 5.01848986\n",
      " 5.11665997 4.94593216 4.86597871 5.12332888 5.00976362 4.91363274\n",
      " 4.86536818 5.08602156 4.95719531 5.02570328 5.19533536 4.9559749\n",
      " 5.03492517 5.12031566 4.95894541 4.96419226 4.93967656 4.95753728\n",
      " 5.0537467  5.00689099 4.94161767 5.17230641 5.05657297 5.08088715\n",
      " 5.08566326 4.86058369 4.79146034 4.98276054 4.98865336 4.91619235\n",
      " 4.8784465  5.01989156 4.9832797  5.0129615  5.14389276 4.91988249\n",
      " 4.99447726 5.08367664 5.01862063 5.01574936 4.92379094 4.93198998\n",
      " 4.89934387 4.89235184 5.02617736 4.96205125 4.98368284 5.12151392\n",
      " 5.08033412 4.97961435 5.01986149 4.8581226  4.8930201  4.96177763\n",
      " 4.96593497 5.05335279 4.92404079 5.15944152 5.06490323 5.04159418\n",
      " 4.90342896 4.87426982 5.14361269 4.86269472 4.95135736 5.00945847\n",
      " 4.97447846 5.12691667 5.05150616 5.04678008 5.00709475 5.03843648\n",
      " 4.94396483 5.09703944 5.05867568 4.87711959 4.90060098 4.85311849\n",
      " 5.00386983 5.06808522 5.15211061 4.8853699  4.90289502 5.12627988\n",
      " 5.03524688 4.97353344 5.1061305  4.87356558 5.03679123 4.96744416\n",
      " 4.99329382 4.8939559  4.93117847 5.0425984  4.85084998 5.07998391\n",
      " 4.90648497 4.89231601 4.88436857 4.9082013  5.19627361 5.16064888\n",
      " 4.86588264 5.00829532 4.95762641 4.96152784 5.15209678 5.07033675\n",
      " 4.81172784 5.05286486 4.83911661 5.04749624 5.08191452 5.01694481\n",
      " 5.13099049 4.96686203 5.09098489 5.10262091 5.01114721 5.08128595\n",
      " 4.90818555 4.99699411 5.0221544  5.11835733 5.1067934  5.02721277\n",
      " 5.09156492 4.96361231 4.955845   5.09977695 5.03225102 5.10712616\n",
      " 5.01528212 5.05397116 4.85173797 5.01881427 5.12180442 5.13316622\n",
      " 4.95802116 5.1782015  5.07887075 4.97762574 4.96095979 5.01857093\n",
      " 4.99343    4.79303925 4.94917608 5.09143771 5.16207827 5.01182149\n",
      " 4.91554563 4.97328492 4.99574139 4.94378796 4.99686375 4.95090198\n",
      " 5.18520505 4.93354553 5.11843514 4.93315527 4.94434791 5.15168131\n",
      " 5.00815427 4.78343847 4.88066841 4.85985682 4.99517196 4.9414177\n",
      " 4.96758465 5.15554229 4.81243123 4.93901137 5.00501832 5.04372295\n",
      " 4.96481918 5.06476452 5.03195527 5.12476658 5.10826696 4.96508965\n",
      " 4.95043702 5.04974984 4.88283585 5.0880976  5.1361083  4.99046445\n",
      " 5.11522802 4.91110963 4.76235542 5.12668403 5.02277156 4.88427251\n",
      " 5.04023625 5.09461324 4.90073823 5.08863224 4.93773465 4.97347171\n",
      " 5.01009643 5.09559371 4.89941378 5.00605546 5.14065611 5.02777691\n",
      " 5.05675286 4.95376353 4.95535598 5.06745002 5.02211179 4.98430524\n",
      " 4.82810238 4.96010867 5.02651319 5.05126593 4.98109821 5.03048752\n",
      " 5.10571893 5.12164418 4.95335379 4.91268533 4.75039623 5.01353181\n",
      " 4.93880069 5.22621696 5.16406179 5.02205789 5.04536695 5.01413248\n",
      " 4.90236304 5.02517087 5.02675353 4.97008477 5.11478447 5.02729799\n",
      " 5.21065557 4.88738021 4.9741563  4.97783833 5.02192826 5.15746589\n",
      " 4.96164026 5.02763621 4.81637778 4.90970461 5.1202498  4.97268487\n",
      " 4.87949648 5.07591106 5.00756797 5.04741662 4.88017393 4.95288458\n",
      " 5.02534782 4.92915868 4.97083031 4.89492188 5.05431457 4.97397597\n",
      " 5.02407727 5.08568139 4.89976409 5.05114848 5.03837764 5.03738569\n",
      " 5.04382181 5.06331821 5.05524595 5.12287433 4.99885177 5.03718862\n",
      " 5.07331047 4.93147554 4.93732214 4.93809819 5.07280778 5.05128868\n",
      " 4.94310869 4.92910829 4.89840246 4.90692118 4.95091668 5.2355607\n",
      " 5.05923557 5.01530077 5.092499   4.96659044 4.92370188 4.92607598\n",
      " 4.88599525 4.93112149 4.88346547 5.00105597 4.99411691 5.05478439\n",
      " 4.88868092 4.91814893 4.95201547 5.02458532 5.08830442 5.01233172\n",
      " 4.94652839 4.81507487 5.11804079 5.11753014 4.95711883 5.00763104\n",
      " 5.02927955 4.87711543 4.86538474 5.20537979 5.09195128 5.00576714\n",
      " 4.98510089 4.94833875 5.08625812 5.17805542]\n"
     ]
    }
   ],
   "source": [
    "from scipy import stats\n",
    "np_normal_dis = np.random.normal(5, 0.1, 1000) #(normal dağılıma uygun mü=5 st=0.1 olan 1000 adet veri üret)\n",
    "print(np_normal_dis)\n"
   ]
  },
  {
   "cell_type": "markdown",
   "metadata": {},
   "source": [
    "Histogram Grafiğini  aşağıda  görebiliriz."
   ]
  },
  {
   "cell_type": "code",
   "execution_count": 92,
   "metadata": {},
   "outputs": [
    {
     "data": {
      "image/png": "[encoded data removed]",
      "text/plain": [
       "<Figure size 432x288 with 1 Axes>"
      ]
     },
     "metadata": {},
     "output_type": "display_data"
    }
   ],
   "source": [
    "plt.hist(np_normal_dis, color=\"blue\", bins=21)\n",
    "plt.show()"
   ]
  },
  {
   "cell_type": "markdown",
   "metadata": {},
   "source": [
    "# Lineer Cebir\n",
    "\n",
    "Doğrusal iki dizinin çarpımı\n"
   ]
  },
  {
   "cell_type": "code",
   "execution_count": 93,
   "metadata": {},
   "outputs": [
    {
     "data": {
      "text/plain": [
       "23"
      ]
     },
     "execution_count": 93,
     "metadata": {},
     "output_type": "execute_result"
    }
   ],
   "source": [
    "f = np.array([1,2,3])\n",
    "g = np.array([4,5,3])\n",
    "### 1*4+2*5 + 3*6\n",
    "np.dot(f, g)\n"
   ]
  },
  {
   "cell_type": "markdown",
   "metadata": {},
   "source": [
    "NumPy Matrix Multiplication with np.matmul()"
   ]
  },
  {
   "cell_type": "code",
   "execution_count": 94,
   "metadata": {},
   "outputs": [
    {
     "data": {
      "text/plain": [
       "array([[19, 22],\n",
       "       [43, 50]])"
      ]
     },
     "execution_count": 94,
     "metadata": {},
     "output_type": "execute_result"
    }
   ],
   "source": [
    "h = [[1,2],[3,4]]\n",
    "i = [[5,6],[7,8]]\n",
    "### 1*5+2*7 = 19\n",
    "np.matmul(h, i)\n"
   ]
  },
  {
   "cell_type": "markdown",
   "metadata": {},
   "source": [
    "Determinant :"
   ]
  },
  {
   "cell_type": "code",
   "execution_count": 95,
   "metadata": {},
   "outputs": [
    {
     "data": {
      "text/plain": [
       "-2.000000000000005"
      ]
     },
     "execution_count": 95,
     "metadata": {},
     "output_type": "execute_result"
    }
   ],
   "source": [
    "np.linalg.det(i)"
   ]
  },
  {
   "cell_type": "markdown",
   "metadata": {},
   "source": [
    "Örnek:"
   ]
  },
  {
   "cell_type": "code",
   "execution_count": 96,
   "metadata": {},
   "outputs": [
    {
     "data": {
      "text/plain": [
       "[2, 3, 4, 5, 6, 7, 8, 9, 10, 11, 12]"
      ]
     },
     "execution_count": 96,
     "metadata": {},
     "output_type": "execute_result"
    }
   ],
   "source": [
    "# x+2 olsun ve  0'dan başlasın ve 11'e kadar 1'er artsın\n",
    "new_list = [ x + 2 for x in range(0, 11)]\n",
    "new_list\n"
   ]
  },
  {
   "cell_type": "markdown",
   "metadata": {},
   "source": [
    "Örnek:"
   ]
  },
  {
   "cell_type": "code",
   "execution_count": 97,
   "metadata": {},
   "outputs": [
    {
     "data": {
      "text/plain": [
       "array([ 2,  3,  4,  5,  6,  7,  8,  9, 10, 11, 12])"
      ]
     },
     "execution_count": 97,
     "metadata": {},
     "output_type": "execute_result"
    }
   ],
   "source": [
    "# x+2 yerine bir başka şekilde aynı işlemi yapabiliriz.\n",
    "np_arr = np.array(range(0, 11))\n",
    "np_arr + 2\n"
   ]
  },
  {
   "cell_type": "markdown",
   "metadata": {},
   "source": [
    "Doğrusal ilişkisi olan nicelikler için doğrusal denklem kullanırız. Aşağıdaki örneği görelim:\n",
    "\n",
    "\n",
    "•\tNumpy kullanarak Gauss normal dağılımını çizmek. Aşağıda görebileceğiniz gibi, numpy rastgele sayılar üretebilir. Rastgele örnek oluşturmak için ortalama(mu), sigma(standart sapma), veri noktalarının sayısına ihtiyacımız var.\n",
    "\n",
    "\n",
    "Örnek:\n"
   ]
  },
  {
   "cell_type": "code",
   "execution_count": 108,
   "metadata": {},
   "outputs": [
    {
     "name": "stderr",
     "output_type": "stream",
     "text": [
      "C:\\Users\\Büşra\\AppData\\Local\\Programs\\Python\\Python39\\lib\\site-packages\\seaborn\\distributions.py:2557: FutureWarning: `distplot` is a deprecated function and will be removed in a future version. Please adapt your code to use either `displot` (a figure-level function with similar flexibility) or `histplot` (an axes-level function for histograms).\n",
      "  warnings.warn(msg, FutureWarning)\n"
     ]
    },
    {
     "data": {
      "image/png": "[encoded data removed]",
      "text/plain": [
       "<Figure size 432x288 with 1 Axes>"
      ]
     },
     "metadata": {},
     "output_type": "display_data"
    }
   ],
   "source": [
    "mu = 28\n",
    "sigma = 15\n",
    "samples = 100000\n",
    "\n",
    "x = np.random.normal(mu, sigma, samples)\n",
    "ax = sns.distplot(x);ax.set(xlabel=\"x\", ylabel='y')\n",
    "plt.show()\n"
   ]
  },
  {
   "cell_type": "markdown",
   "metadata": {},
   "source": [
    "Normal dağılıma uygun bir nokta grafiği olduğuna dair bşr yorum yapabiliriz sağa yada sola çarpıklık bulunmamakta"
   ]
  }
 ],
 "metadata": {
  "interpreter": {
   "hash": "5bb71e04e3d056b3fd374fe835c740c82b88cf9a64babc7a305394decc4b8aa7"
  },
  "kernelspec": {
   "display_name": "Python 3.9.5 64-bit (system)",
   "language": "python",
   "name": "python3"
  },
  "language_info": {
   "codemirror_mode": {
    "name": "ipython",
    "version": 3
   },
   "file_extension": ".py",
   "mimetype": "text/x-python",
   "name": "python",
   "nbconvert_exporter": "python",
   "pygments_lexer": "ipython3",
   "version": "3.9.5"
  },
  "orig_nbformat": 4
 },
 "nbformat": 4,
 "nbformat_minor": 2
}
