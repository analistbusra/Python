{
 "cells": [
  {
   "cell_type": "code",
   "execution_count": 1,
   "metadata": {},
   "outputs": [],
   "source": [
    "import  numpy  as  np \n",
    "    "
   ]
  },
  {
   "cell_type": "code",
   "execution_count": null,
   "metadata": {},
   "outputs": [],
   "source": [
    "import numpy as np\n",
    "print('numpy:', np.__version__)\n",
    "#numpy: 1.20.3\n",
    "print(dir(np))"
   ]
  },
  {
   "cell_type": "code",
   "execution_count": null,
   "metadata": {},
   "outputs": [],
   "source": [
    "# python liste oluşturma\n",
    "python_list = [1,2,3,4,5]\n",
    "\n",
    "# Veri türleri kontrol\n",
    "print('Type:', type (python_list)) # <class 'list'>\n",
    "    \n",
    "print(python_list) # [1, 2, 3, 4, 5]\n",
    "\n",
    "two_dimensional_list = [[0,1,2], [3,4,5], [6,7,8]]\n",
    "print(two_dimensional_list)  # [[0, 1, 2], [3, 4, 5], [6, 7, 8]]\n",
    "\n",
    "#  Python listesinden Numpy(Sayısal Python) dizisi oluşturma\n",
    "\n",
    "numpy_array_from_list = np.array(python_list)\n",
    "print(type (numpy_array_from_list))   # <class 'numpy.ndarray'>\n",
    "print(numpy_array_from_list) # array([1, 2, 3, 4, 5])"
   ]
  },
  {
   "cell_type": "code",
   "execution_count": 3,
   "metadata": {},
   "outputs": [
    {
     "name": "stdout",
     "output_type": "stream",
     "text": [
      "[1. 2. 3. 4. 5.]\n"
     ]
    }
   ],
   "source": [
    "python_list = [1,2,3,4,5]\n",
    "\n",
    "numy_array_from_list2 = np.array(python_list, dtype=float)\n",
    "print(numy_array_from_list2) # array([1., 2., 3., 4., 5.])"
   ]
  },
  {
   "cell_type": "code",
   "execution_count": 4,
   "metadata": {},
   "outputs": [
    {
     "name": "stdout",
     "output_type": "stream",
     "text": [
      "[False  True  True False False]\n"
     ]
    }
   ],
   "source": [
    "numpy_bool_array = np.array([0, 1, -1, 0, 0], dtype=bool)\n",
    "print(numpy_bool_array)# [False  True  True False False]\n"
   ]
  },
  {
   "cell_type": "code",
   "execution_count": 5,
   "metadata": {},
   "outputs": [
    {
     "name": "stdout",
     "output_type": "stream",
     "text": [
      "<class 'numpy.ndarray'>\n",
      "[[0 1 2]\n",
      " [3 4 5]\n",
      " [6 7 8]]\n"
     ]
    }
   ],
   "source": [
    "two_dimensional_list = [[0,1,2], [3,4,5], [6,7,8]]\n",
    "numpy_two_dimensional_list = np.array(two_dimensional_list)\n",
    "print(type (numpy_two_dimensional_list))\n",
    "print(numpy_two_dimensional_list)\n",
    "\n",
    "<class 'numpy.ndarray'>\n",
    "[[0 1 2]\n",
    " [3 4 5]\n",
    " [6 7 8]]\n"
   ]
  },
  {
   "cell_type": "code",
   "execution_count": null,
   "metadata": {},
   "outputs": [],
   "source": [
    "np_to_list  =  numpy_array_from_list . tolist ()\n",
    "print( type ( np_to_list ))\n",
    "print( 'tek boyutlu dizi:' , np_to_list )\n",
    "print( 'iki boyutlu dizisi' , numpy_two_dimensional_list . tolist ())\n"
   ]
  },
  {
   "cell_type": "code",
   "execution_count": 6,
   "metadata": {},
   "outputs": [
    {
     "name": "stdout",
     "output_type": "stream",
     "text": [
      "<class 'tuple'>\n",
      "python_tuple:  (1, 2, 3, 4, 5)\n",
      "<class 'numpy.ndarray'>\n",
      "numpy_array_from_tuple:  [1 2 3 4 5]\n"
     ]
    }
   ],
   "source": [
    "#NumPy Dizisi \n",
    "python_tuple = (1,2,3,4,5)\n",
    "print(type (python_tuple)) # <class 'tuple'>\n",
    "print('python_tuple: ', python_tuple) # python_tuple:  (1, 2, 3, 4, 5)\n",
    "\n",
    "#Python'da NumPy Dizisi\n",
    "numpy_array_from_tuple = np.array(python_tuple)\n",
    "print(type (numpy_array_from_tuple)) # <class 'numpy.ndarray'>\n",
    "print('numpy_array_from_tuple: ', numpy_array_from_tuple) # numpy_array_from_tuple:  [1 2 3 4 5]"
   ]
  },
  {
   "cell_type": "code",
   "execution_count": 8,
   "metadata": {},
   "outputs": [
    {
     "name": "stdout",
     "output_type": "stream",
     "text": [
      "[1 2 3 4 5 6 7]\n",
      "shape of nums:  (7,)\n",
      "[[0 1 2]\n",
      " [3 4 5]\n",
      " [6 7 8]]\n",
      "shape of numpy_two_dimensional_list:  (3, 3)\n",
      "(3, 4)\n"
     ]
    }
   ],
   "source": [
    "nums = np.array([1, 2, 3, 4, 5,6,7])\n",
    "print(nums)\n",
    "print('shape of nums: ', nums.shape)\n",
    "print(numpy_two_dimensional_list)\n",
    "print('shape of numpy_two_dimensional_list: ', numpy_two_dimensional_list.shape)\n",
    "three_by_four_array = np.array([[0, 1, 2, 3],\n",
    "        [4,5,6,7],\n",
    "        [8,9,10, 11]])\n",
    "print(three_by_four_array.shape)\n",
    "\n",
    "[1 2 3 4 5 6 7]\n",
    "shape of nums:  (7,)\n",
    "[[0 1 2]\n",
    " [3 4 5]\n",
    " [6 7 8]]\n",
    "shape of numpy_two_dimensional_list:  (3, 3)\n",
    "(3, 4)"
   ]
  },
  {
   "cell_type": "code",
   "execution_count": 10,
   "metadata": {},
   "outputs": [
    {
     "name": "stdout",
     "output_type": "stream",
     "text": [
      "[-5 -4 -3 -2 -1  0  1  2  3  4  5]\n",
      "int32\n",
      "[-5. -4. -3. -2. -1.  0.  1.  2.  3.  4.  5.]\n",
      "float64\n"
     ]
    }
   ],
   "source": [
    "int_lists = [-5,-4,-3, -2, -1, 0, 1, 2,3,4,5]\n",
    "int_array = np.array(int_lists)\n",
    "float_array = np.array(int_lists, dtype=float)\n",
    "\n",
    "print(int_array)\n",
    "#[-5 -4 -3 -2 -1  0  1  2  3  4  5]\n",
    "print(int_array.dtype)#int32\n",
    "print(float_array)\n",
    "#[-5. -4. -3. -2. -1.  0.  1.  2.  3.  4.  5.]\n",
    "print(float_array.dtype)#float64\n"
   ]
  },
  {
   "cell_type": "code",
   "execution_count": 17,
   "metadata": {},
   "outputs": [
    {
     "ename": "TypeError",
     "evalue": "array() takes from 1 to 2 positional arguments but 3 were given",
     "output_type": "error",
     "traceback": [
      "\u001b[1;31m---------------------------------------------------------------------------\u001b[0m",
      "\u001b[1;31mTypeError\u001b[0m                                 Traceback (most recent call last)",
      "\u001b[1;32mC:\\Users\\BRA~1\\AppData\\Local\\Temp/ipykernel_10876/4284805257.py\u001b[0m in \u001b[0;36m<module>\u001b[1;34m\u001b[0m\n\u001b[0;32m      1\u001b[0m \u001b[0mnumpy_array_from_list\u001b[0m \u001b[1;33m=\u001b[0m \u001b[0mnp\u001b[0m\u001b[1;33m.\u001b[0m\u001b[0marray\u001b[0m\u001b[1;33m(\u001b[0m\u001b[1;33m[\u001b[0m\u001b[1;36m1\u001b[0m\u001b[1;33m,\u001b[0m \u001b[1;36m3\u001b[0m\u001b[1;33m,\u001b[0m \u001b[1;36m5\u001b[0m\u001b[1;33m,\u001b[0m \u001b[1;36m7\u001b[0m\u001b[1;33m,\u001b[0m\u001b[1;36m9\u001b[0m\u001b[1;33m]\u001b[0m\u001b[1;33m)\u001b[0m\u001b[1;33m\u001b[0m\u001b[1;33m\u001b[0m\u001b[0m\n\u001b[1;32m----> 2\u001b[1;33m \u001b[0mtwo_dimensional_list\u001b[0m \u001b[1;33m=\u001b[0m \u001b[0mnp\u001b[0m\u001b[1;33m.\u001b[0m\u001b[0marray\u001b[0m\u001b[1;33m(\u001b[0m\u001b[1;33m[\u001b[0m\u001b[1;36m1\u001b[0m\u001b[1;33m,\u001b[0m \u001b[1;36m2\u001b[0m\u001b[1;33m]\u001b[0m\u001b[1;33m,\u001b[0m \u001b[1;33m[\u001b[0m\u001b[1;36m3\u001b[0m\u001b[1;33m,\u001b[0m \u001b[1;36m4\u001b[0m\u001b[1;33m]\u001b[0m\u001b[1;33m,\u001b[0m\u001b[1;33m[\u001b[0m\u001b[1;36m6\u001b[0m\u001b[1;33m,\u001b[0m \u001b[1;36m7\u001b[0m\u001b[1;33m]\u001b[0m\u001b[1;33m)\u001b[0m\u001b[1;33m\u001b[0m\u001b[1;33m\u001b[0m\u001b[0m\n\u001b[0m\u001b[0;32m      3\u001b[0m \u001b[1;33m\u001b[0m\u001b[0m\n\u001b[0;32m      4\u001b[0m \u001b[0mprint\u001b[0m\u001b[1;33m(\u001b[0m\u001b[1;34m'The size:'\u001b[0m\u001b[1;33m,\u001b[0m \u001b[0mnumpy_array_from_list\u001b[0m\u001b[1;33m.\u001b[0m\u001b[0msize\u001b[0m\u001b[1;33m)\u001b[0m \u001b[1;31m# 5\u001b[0m\u001b[1;33m\u001b[0m\u001b[1;33m\u001b[0m\u001b[0m\n\u001b[0;32m      5\u001b[0m \u001b[0mprint\u001b[0m\u001b[1;33m(\u001b[0m\u001b[1;34m'The size:'\u001b[0m\u001b[1;33m,\u001b[0m \u001b[0mtwo_dimensional_list\u001b[0m\u001b[1;33m.\u001b[0m\u001b[0msize\u001b[0m\u001b[1;33m)\u001b[0m  \u001b[1;31m# 3\u001b[0m\u001b[1;33m\u001b[0m\u001b[1;33m\u001b[0m\u001b[0m\n",
      "\u001b[1;31mTypeError\u001b[0m: array() takes from 1 to 2 positional arguments but 3 were given"
     ]
    }
   ],
   "source": [
    "numpy_array_from_list = np.array([1, 3, 5, 7,9])\n",
    "two_dimensional_list = np.array([1, 2], [3, 4],[6, 7])\n",
    "\n",
    "print('The size:', numpy_array_from_list.size) # 5\n",
    "print('The size:', two_dimensional_list.size)  # 3"
   ]
  },
  {
   "cell_type": "code",
   "execution_count": 18,
   "metadata": {},
   "outputs": [
    {
     "name": "stdout",
     "output_type": "stream",
     "text": [
      "original array:  [1 2 3 4 5]\n",
      "[11 12 13 14 15]\n"
     ]
    }
   ],
   "source": [
    "numpy_array_from_list = np.array([1, 2, 3, 4, 5])\n",
    "print('original array: ', numpy_array_from_list)\n",
    "ten_plus_original = numpy_array_from_list  + 10\n",
    "print(ten_plus_original)\n",
    "#original array:  [1 2 3 4 5]\n",
    "#[11 12 13 14 15]"
   ]
  },
  {
   "cell_type": "code",
   "execution_count": null,
   "metadata": {},
   "outputs": [],
   "source": [
    "numpy_array_from_list = np.array([1, 2, 3, 4, 5])\n",
    "\n",
    "print('original array: ', numpy_array_from_list)\n",
    "ten_times_original = numpy_array_from_list % 3\n",
    "print(ten_times_original)"
   ]
  },
  {
   "cell_type": "code",
   "execution_count": 19,
   "metadata": {},
   "outputs": [
    {
     "name": "stdout",
     "output_type": "stream",
     "text": [
      "original array:  [1 2 3 4 5]\n",
      "[0 0 0 0 0]\n"
     ]
    }
   ],
   "source": [
    "numpy_array_from_list = np.array([1, 2, 3, 4, 5])\n",
    "print('original array: ', numpy_array_from_list)\n",
    "#original array:  [1 2 3 4 5]\n",
    "ten_times_original = numpy_array_from_list // 10\n",
    "print(ten_times_original)#[0 0 0 0 0]"
   ]
  },
  {
   "cell_type": "code",
   "execution_count": 20,
   "metadata": {},
   "outputs": [
    {
     "name": "stdout",
     "output_type": "stream",
     "text": [
      "original array:  [1 2 3 4 5]\n",
      "[ 1  4  9 16 25]\n"
     ]
    }
   ],
   "source": [
    "numpy_array_from_list = np.array([1, 2, 3, 4, 5])\n",
    "print('original array: ', numpy_array_from_list)\n",
    "#original array:  [1 2 3 4 5]\n",
    "ten_times_original = numpy_array_from_list  ** 2\n",
    "print(ten_times_original)\n",
    "#[ 1  4  9 16 25]"
   ]
  },
  {
   "cell_type": "code",
   "execution_count": 22,
   "metadata": {},
   "outputs": [
    {
     "name": "stdout",
     "output_type": "stream",
     "text": [
      "original array:  [1 2 3 4 5]\n",
      "[1 2 0 1 2]\n"
     ]
    }
   ],
   "source": [
    "numpy_array_from_list = np.array([1, 2, 3, 4, 5])\n",
    "print('original array: ', numpy_array_from_list)\n",
    "ten_times_original = numpy_array_from_list % 3\n",
    "print(ten_times_original)\n",
    "    \n",
    "#original array:  [1 2 3 4 5]\n",
    "#[1 2 0 1 2]   "
   ]
  },
  {
   "cell_type": "code",
   "execution_count": 23,
   "metadata": {},
   "outputs": [
    {
     "name": "stdout",
     "output_type": "stream",
     "text": [
      "original array:  [1 2 3 4 5]\n",
      "[0 0 0 0 0]\n"
     ]
    }
   ],
   "source": [
    "numpy_array_from_list = np.array([1, 2, 3, 4, 5])\n",
    "print('original array: ', numpy_array_from_list)\n",
    "#original array:  [1 2 3 4 5]\n",
    "ten_times_original = numpy_array_from_list // 10\n",
    "print(ten_times_original)\n",
    "[0 0 0 0 0]"
   ]
  },
  {
   "cell_type": "code",
   "execution_count": 24,
   "metadata": {},
   "outputs": [
    {
     "name": "stdout",
     "output_type": "stream",
     "text": [
      "original array:  [1 2 3 4 5]\n",
      "[ 1  4  9 16 25]\n"
     ]
    }
   ],
   "source": [
    "numpy_array_from_list = np.array([1, 2, 3, 4, 5])\n",
    "print('original array: ', numpy_array_from_list)\n",
    "ten_times_original = numpy_array_from_list  ** 2\n",
    "print(ten_times_original)\n",
    "\n",
    "original array:  [1 2 3 4 5]\n",
    "[ 1  4  9 16 25]"
   ]
  },
  {
   "cell_type": "code",
   "execution_count": null,
   "metadata": {},
   "outputs": [],
   "source": [
    "numpy_int_arr = np.array([1,2,3,4])\n",
    "numpy_float_arr = np.array([1.1, 2.0,3.2])\n",
    "numpy_bool_arr = np.array([-3, -2, 0, 1,2,3], dtype='bool')\n",
    "\n",
    "print(numpy_int_arr.dtype)\n",
    "print(numpy_float_arr.dtype)\n",
    "print(numpy_bool_arr.dtype)"
   ]
  },
  {
   "cell_type": "code",
   "execution_count": 25,
   "metadata": {},
   "outputs": [
    {
     "data": {
      "text/plain": [
       "array([1., 2., 3., 4.])"
      ]
     },
     "execution_count": 25,
     "metadata": {},
     "output_type": "execute_result"
    }
   ],
   "source": [
    "numpy_int_arr = np.array([1,2,3,4], dtype = 'float')\n",
    "numpy_int_arr\n",
    "#array([1., 2., 3., 4.])"
   ]
  },
  {
   "cell_type": "code",
   "execution_count": 26,
   "metadata": {},
   "outputs": [
    {
     "data": {
      "text/plain": [
       "array([1, 2, 3, 4])"
      ]
     },
     "execution_count": 26,
     "metadata": {},
     "output_type": "execute_result"
    }
   ],
   "source": [
    "numpy_int_arr = np.array([1., 2., 3., 4.], dtype = 'int')\n",
    "numpy_int_arr\n",
    "#array([1, 2, 3, 4])"
   ]
  },
  {
   "cell_type": "code",
   "execution_count": 27,
   "metadata": {},
   "outputs": [
    {
     "data": {
      "text/plain": [
       "array([ True,  True, False,  True,  True,  True])"
      ]
     },
     "execution_count": 27,
     "metadata": {},
     "output_type": "execute_result"
    }
   ],
   "source": [
    "np.array([-3, -2, 0, 1,2,3], dtype='bool')\n",
    "#array([ True,  True, False,  True,  True,  True])"
   ]
  },
  {
   "cell_type": "code",
   "execution_count": 29,
   "metadata": {},
   "outputs": [
    {
     "data": {
      "text/plain": [
       "array(['1', '2', '3', '4', '5'], dtype='<U11')"
      ]
     },
     "execution_count": 29,
     "metadata": {},
     "output_type": "execute_result"
    }
   ],
   "source": [
    "numpy_array_from_list.astype('int').astype('str')\n",
    "#array(['1', '2', '3', '4', '5'], dtype='<U11')"
   ]
  },
  {
   "cell_type": "code",
   "execution_count": 5,
   "metadata": {},
   "outputs": [
    {
     "name": "stdout",
     "output_type": "stream",
     "text": [
      "<class 'numpy.ndarray'>\n",
      "[[0 2 4]\n",
      " [1 3 5]\n",
      " [6 7 8]]\n",
      "Shape:  (3, 3)\n",
      "Size: 9\n",
      "Data type: int32\n"
     ]
    }
   ],
   "source": [
    "two_dimension_array = np.array([(0,2,4),(1,3,5), (6,7,8)])\n",
    "print(type (two_dimension_array))\n",
    "print(two_dimension_array)\n",
    "print('Shape: ', two_dimension_array.shape)\n",
    "print('Size:', two_dimension_array.size)\n",
    "print('Data type:', two_dimension_array.dtype)\n",
    "\n",
    "\n",
    "<class 'numpy.ndarray'>\n",
    "[[0 2 4]\n",
    " [1 3 5]\n",
    " [6 7 8]]\n",
    "Shape:  (3, 3)\n",
    "Size: 9\n",
    "Data type: int32\n"
   ]
  },
  {
   "cell_type": "code",
   "execution_count": 7,
   "metadata": {},
   "outputs": [
    {
     "name": "stdout",
     "output_type": "stream",
     "text": [
      "Even nubers row: [0 2 4]\n",
      "odd row: [3 5 7]\n",
      "negative numbers row:  [-1 -8 -9]\n"
     ]
    }
   ],
   "source": [
    "two_dimension_array = np.array([[0,2,4],[3,5,7], [-1,-8,-9]])\n",
    "first_row = two_dimension_array[0]\n",
    "second_row = two_dimension_array[1]\n",
    "third_row = two_dimension_array[2]\n",
    "print('Even nubers row:', first_row)\n",
    "print('odd row:', second_row)\n",
    "print('negative numbers row: ', third_row)\n",
    "\n",
    "Even nubers row: [0 2 4]\n",
    "odd row: [3 5 7]\n",
    "negative numbers row:  [-1 -8 -9]"
   ]
  },
  {
   "cell_type": "code",
   "execution_count": 8,
   "metadata": {},
   "outputs": [
    {
     "name": "stdout",
     "output_type": "stream",
     "text": [
      "First column: [ 0  3 -1]\n",
      "Second column: [ 2  5 -8]\n",
      "Third column:  [ 4  7 -9]\n",
      "[[ 0  2  4]\n",
      " [ 3  5  7]\n",
      " [-1 -8 -9]]\n"
     ]
    }
   ],
   "source": [
    "first_column= two_dimension_array[:,0]\n",
    "second_column = two_dimension_array[:,1]\n",
    "third_column = two_dimension_array[:,2]\n",
    "print('First column:', first_column)\n",
    "print('Second column:', second_column)\n",
    "print('Third column: ', third_column)\n",
    "print(two_dimension_array)\n",
    "\n",
    "\n",
    "\n",
    "First column: [ 0  3 -1]\n",
    "Second column: [ 2  5 -8]\n",
    "Third column:  [ 4  7 -9]\n",
    "[[ 0  2  4]\n",
    " [ 3  5  7]\n",
    " [-1 -8 -9]]\n",
    " "
   ]
  },
  {
   "cell_type": "code",
   "execution_count": 16,
   "metadata": {},
   "outputs": [
    {
     "name": "stdout",
     "output_type": "stream",
     "text": [
      "[[1 2 3 1]\n",
      " [4 5 6 2]\n",
      " [7 8 9 4]]\n"
     ]
    }
   ],
   "source": [
    "two_dimension_array = np.array([[1,2,3,1],[4,5,6,2], [7,8,9,4]])\n",
    "first_two_rows_and_columns = two_dimension_array[0:4, 0:4]\n",
    "print(first_two_rows_and_columns)\n",
    "\n",
    "[[1 2 3 1]\n",
    " [4 5 6 2]\n",
    " [7 8 9 4]]\n",
    " "
   ]
  },
  {
   "cell_type": "code",
   "execution_count": 19,
   "metadata": {},
   "outputs": [
    {
     "data": {
      "text/plain": [
       "array([[1, 2, 3, 1],\n",
       "       [4, 5, 6, 2],\n",
       "       [7, 8, 9, 4]])"
      ]
     },
     "execution_count": 19,
     "metadata": {},
     "output_type": "execute_result"
    }
   ],
   "source": [
    "two_dimension_array[::]\n",
    "\n",
    "#array([[1, 2, 3, 1],\n",
    "      # [4, 5, 6, 2],\n",
    "       #[7, 8, 9, 4]])"
   ]
  },
  {
   "cell_type": "code",
   "execution_count": 3,
   "metadata": {},
   "outputs": [
    {
     "data": {
      "text/plain": [
       "array([[9, 8, 7],\n",
       "       [6, 5, 4],\n",
       "       [3, 2, 1]])"
      ]
     },
     "execution_count": 3,
     "metadata": {},
     "output_type": "execute_result"
    }
   ],
   "source": [
    "two_dimension_array = np.array([[1,2,3],[4,5,6], [7,8,9]])\n",
    "two_dimension_array[::-1,::-1]\n",
    "\n",
    "\n",
    "array([[9, 8, 7],\n",
    "       [6, 5, 4],\n",
    "       [3, 2, 1]])"
   ]
  },
  {
   "cell_type": "code",
   "execution_count": 4,
   "metadata": {},
   "outputs": [
    {
     "name": "stdout",
     "output_type": "stream",
     "text": [
      "[[1 2 3]\n",
      " [4 5 6]\n",
      " [7 8 9]]\n",
      "[[ 1  2  3]\n",
      " [ 4 55 44]\n",
      " [ 7  8  9]]\n"
     ]
    }
   ],
   "source": [
    "print(two_dimension_array)\n",
    "two_dimension_array[1,1] = 55\n",
    "two_dimension_array[1,2] =44\n",
    "print(two_dimension_array)\n",
    "\n",
    "[[1 2 3]\n",
    " [4 5 6]\n",
    " [7 8 9]]\n",
    "[[ 1  2  3]\n",
    " [ 4 55 44]\n",
    " [ 7  8  9]]\n"
   ]
  },
  {
   "cell_type": "code",
   "execution_count": 6,
   "metadata": {},
   "outputs": [
    {
     "data": {
      "text/plain": [
       "array([[0, 0, 0],\n",
       "       [0, 0, 0],\n",
       "       [0, 0, 0]])"
      ]
     },
     "execution_count": 6,
     "metadata": {},
     "output_type": "execute_result"
    }
   ],
   "source": [
    "numpy_zeroes = np.zeros((3,3),dtype=int,order='C')\n",
    "numpy_zeroes\n",
    "\n",
    "\n",
    "array([[0, 0, 0],\n",
    "       [0, 0, 0],\n",
    "       [0, 0, 0]])"
   ]
  },
  {
   "cell_type": "code",
   "execution_count": 8,
   "metadata": {},
   "outputs": [
    {
     "name": "stdout",
     "output_type": "stream",
     "text": [
      "[[1 1 1 1]\n",
      " [1 1 1 1]\n",
      " [1 1 1 1]\n",
      " [1 1 1 1]]\n"
     ]
    }
   ],
   "source": [
    "numpy_ones = np.ones((4,4),dtype=int,order='C')\n",
    "print(numpy_ones)\n",
    "\n",
    "[[1 1 1 1]\n",
    " [1 1 1 1]\n",
    " [1 1 1 1]\n",
    " [1 1 1 1]]\n",
    "\n"
   ]
  },
  {
   "cell_type": "code",
   "execution_count": 9,
   "metadata": {},
   "outputs": [],
   "source": [
    "twoes = numpy_ones * 2"
   ]
  },
  {
   "cell_type": "code",
   "execution_count": 13,
   "metadata": {},
   "outputs": [
    {
     "name": "stdout",
     "output_type": "stream",
     "text": [
      "[[1 4 3]\n",
      " [4 4 6]]\n",
      "[[1 4]\n",
      " [3 4]\n",
      " [4 6]]\n"
     ]
    }
   ],
   "source": [
    "first_shape  = np.array([(1,4,3), (4,4,6)])\n",
    "print(first_shape)\n",
    "reshaped = first_shape.reshape(3,2)\n",
    "print(reshaped)\n",
    "\n"
   ]
  },
  {
   "cell_type": "code",
   "execution_count": 14,
   "metadata": {},
   "outputs": [
    {
     "data": {
      "text/plain": [
       "array([1, 4, 3, 4, 4, 6])"
      ]
     },
     "execution_count": 14,
     "metadata": {},
     "output_type": "execute_result"
    }
   ],
   "source": [
    "flattened = reshaped.flatten()\n",
    "flattened\n",
    "#array([1, 4, 3, 4, 4, 6])"
   ]
  },
  {
   "cell_type": "code",
   "execution_count": 15,
   "metadata": {},
   "outputs": [
    {
     "name": "stdout",
     "output_type": "stream",
     "text": [
      "[5 7 9]\n",
      "Horizontal Append: [1 2 3 4 5 6]\n"
     ]
    }
   ],
   "source": [
    "np_list_one = np.array([1,2,3])   \n",
    " \n",
    "np_list_two = np.array([4,5,6])\n",
    "\n",
    "print(np_list_one + np_list_two)\n",
    "\n",
    "print('Horizontal Append:', np.hstack((np_list_one, np_list_two)))\n",
    "\n",
    "#[5 7 9]\n",
    "\n",
    "#Horizontal Append: [1 2 3 4 5 6]\n"
   ]
  },
  {
   "cell_type": "code",
   "execution_count": 16,
   "metadata": {},
   "outputs": [
    {
     "name": "stdout",
     "output_type": "stream",
     "text": [
      "Vertical Append: [[1 2 3]\n",
      " [4 5 6]]\n"
     ]
    }
   ],
   "source": [
    "print('Vertical Append:', np.vstack((np_list_one, np_list_two)))\n",
    "\n",
    "#Vertical Append: [[1 2 3]\n",
    "#[4 5 6]]"
   ]
  },
  {
   "cell_type": "code",
   "execution_count": 17,
   "metadata": {},
   "outputs": [
    {
     "data": {
      "text/plain": [
       "0.10062022391087522"
      ]
     },
     "execution_count": 17,
     "metadata": {},
     "output_type": "execute_result"
    }
   ],
   "source": [
    "random_float = np.random.random()\n",
    "random_float\n",
    "#0.10062022391087522\n"
   ]
  },
  {
   "cell_type": "code",
   "execution_count": 19,
   "metadata": {},
   "outputs": [
    {
     "data": {
      "text/plain": [
       "array([0.54871705, 0.61188574, 0.14481353, 0.63867363, 0.68573411])"
      ]
     },
     "execution_count": 19,
     "metadata": {},
     "output_type": "execute_result"
    }
   ],
   "source": [
    "random_floats = np.random.random(5)#5 ADET FLOAT SAYI ÜRET\n",
    "random_floats\n",
    "#array([0.54871705, 0.61188574, 0.14481353, 0.63867363, 0.68573411])\n"
   ]
  },
  {
   "cell_type": "code",
   "execution_count": 23,
   "metadata": {},
   "outputs": [
    {
     "name": "stdout",
     "output_type": "stream",
     "text": [
      "9\n"
     ]
    }
   ],
   "source": [
    "#0 ile 10 arasında rastgele bir tamsayı oluşturma\n",
    "random_int = np.random.randint(0, 11)\n",
    "print(random_int)\n",
    "#9 rasgele 0 ile 10 arasında  bir sayı geldi"
   ]
  },
  {
   "cell_type": "code",
   "execution_count": 24,
   "metadata": {},
   "outputs": [
    {
     "data": {
      "text/plain": [
       "array([5, 4, 2, 9])"
      ]
     },
     "execution_count": 24,
     "metadata": {},
     "output_type": "execute_result"
    }
   ],
   "source": [
    "#2 ile 10 arasında rasgele 4 adet tam sayı üret\n",
    "random_int = np.random.randint(2,10, size=4)\n",
    "random_int\n",
    "#array([5, 4, 2, 9])\n"
   ]
  },
  {
   "cell_type": "code",
   "execution_count": 25,
   "metadata": {},
   "outputs": [
    {
     "data": {
      "text/plain": [
       "array([[2, 4, 6],\n",
       "       [6, 9, 2],\n",
       "       [4, 2, 2]])"
      ]
     },
     "execution_count": 25,
     "metadata": {},
     "output_type": "execute_result"
    }
   ],
   "source": [
    "#3'e 3 lük matris olsun ve 2ile 10 arası rassal sayılardan oluşsun.\n",
    "random_int = np.random.randint(2,10, size=(3,3))\n",
    "random_int\n",
    "\n",
    "#array([[2, 4, 6],\n",
    "       [6, 9, 2],\n",
    "       [4, 2, 2]])"
   ]
  },
  {
   "cell_type": "code",
   "execution_count": 26,
   "metadata": {},
   "outputs": [
    {
     "data": {
      "text/plain": [
       "array([ 65.79162175,  52.87867978,  78.67320333,  52.61137418,\n",
       "       108.93041318,  73.88803797,  98.40779342,  82.45002868,\n",
       "        82.85260741,  64.99056632,  65.38146986,  48.36771228,\n",
       "        49.04167286,  47.09471977,  54.94069096,  85.54996565,\n",
       "        86.82911375,  64.6712154 ,  62.7470582 ,  60.22290748,\n",
       "        78.70096193,  91.332835  ,  96.87060371,  79.63618362,\n",
       "        88.38094156,  93.04927569,  90.43887856,  85.44640763,\n",
       "        64.38383598,  81.21542455,  47.20465619,  80.2904986 ,\n",
       "        65.16934088,  67.27709637,  76.83120845,  74.79379359,\n",
       "        72.95407443,  90.49216529,  95.71560489,  57.5762741 ,\n",
       "        57.55055755,  92.74968067,  56.1174167 ,  83.96339255,\n",
       "        36.68622187,  84.49278091,  59.89850725,  73.36244983,\n",
       "        61.27726988,  89.37622428,  89.22865229, 107.11481286,\n",
       "        71.53717157,  72.96655027, 113.60741613,  72.96181181,\n",
       "        67.54535122,  82.36553804,  88.61826315,  81.0347691 ,\n",
       "        85.30413514,  71.34114649,  83.3867504 ,  61.90216392,\n",
       "        75.64732757,  83.73429924,  67.1720353 ,  90.38365832,\n",
       "        82.4072446 ,  84.25445911,  91.39229014,  81.98140515,\n",
       "        77.11038093, 101.34846151,  78.80529281,  65.62182063,\n",
       "        62.83452668,  98.49867943,  74.47540675,  82.57894099])"
      ]
     },
     "execution_count": 26,
     "metadata": {},
     "output_type": "execute_result"
    }
   ],
   "source": [
    "normal_array = np.random.normal(79, 15, 80)\n",
    "normal_array\n"
   ]
  },
  {
   "cell_type": "code",
   "execution_count": 11,
   "metadata": {},
   "outputs": [
    {
     "ename": "NameError",
     "evalue": "name 'normal_array' is not defined",
     "output_type": "error",
     "traceback": [
      "\u001b[1;31m---------------------------------------------------------------------------\u001b[0m",
      "\u001b[1;31mNameError\u001b[0m                                 Traceback (most recent call last)",
      "\u001b[1;32mC:\\Users\\BRA~1\\AppData\\Local\\Temp/ipykernel_5228/315751236.py\u001b[0m in \u001b[0;36m<module>\u001b[1;34m\u001b[0m\n\u001b[0;32m      2\u001b[0m \u001b[1;32mimport\u001b[0m \u001b[0mseaborn\u001b[0m \u001b[1;32mas\u001b[0m \u001b[0msns\u001b[0m\u001b[1;33m\u001b[0m\u001b[1;33m\u001b[0m\u001b[0m\n\u001b[0;32m      3\u001b[0m \u001b[0msns\u001b[0m\u001b[1;33m.\u001b[0m\u001b[0mset\u001b[0m\u001b[1;33m(\u001b[0m\u001b[1;33m)\u001b[0m\u001b[1;33m\u001b[0m\u001b[1;33m\u001b[0m\u001b[0m\n\u001b[1;32m----> 4\u001b[1;33m \u001b[0mplt\u001b[0m\u001b[1;33m.\u001b[0m\u001b[0mhist\u001b[0m\u001b[1;33m(\u001b[0m\u001b[0mnormal_array\u001b[0m\u001b[1;33m,\u001b[0m \u001b[0mcolor\u001b[0m\u001b[1;33m=\u001b[0m\u001b[1;34m\"grey\"\u001b[0m\u001b[1;33m,\u001b[0m \u001b[0mbins\u001b[0m\u001b[1;33m=\u001b[0m\u001b[1;36m50\u001b[0m\u001b[1;33m)\u001b[0m\u001b[1;33m\u001b[0m\u001b[1;33m\u001b[0m\u001b[0m\n\u001b[0m",
      "\u001b[1;31mNameError\u001b[0m: name 'normal_array' is not defined"
     ]
    }
   ],
   "source": [
    "import matplotlib.pyplot as plt\n",
    "import seaborn as sns\n",
    "sns.set()\n",
    "plt.hist(normal_array, color=\"grey\", bins=50)"
   ]
  },
  {
   "cell_type": "code",
   "execution_count": 29,
   "metadata": {},
   "outputs": [
    {
     "data": {
      "text/plain": [
       "matrix([[1., 1., 1., 1.],\n",
       "        [1., 1., 1., 1.],\n",
       "        [1., 1., 1., 1.],\n",
       "        [1., 1., 1., 1.]])"
      ]
     },
     "execution_count": 29,
     "metadata": {},
     "output_type": "execute_result"
    }
   ],
   "source": [
    "four_by_four_matrix = np.matrix(np.ones((4,4), dtype=float))\n",
    "four_by_four_matrix\n",
    "\n",
    "matrix([[1., 1., 1., 1.],\n",
    "        [1., 1., 1., 1.],\n",
    "        [1., 1., 1., 1.],\n",
    "        [1., 1., 1., 1.]])\n"
   ]
  },
  {
   "cell_type": "code",
   "execution_count": 30,
   "metadata": {},
   "outputs": [
    {
     "data": {
      "text/plain": [
       "matrix([[1., 1., 1., 1.],\n",
       "        [1., 1., 1., 1.],\n",
       "        [2., 2., 2., 2.],\n",
       "        [1., 1., 1., 1.]])"
      ]
     },
     "execution_count": 30,
     "metadata": {},
     "output_type": "execute_result"
    }
   ],
   "source": [
    "np.asarray(four_by_four_matrix)[2] = 2\n",
    "four_by_four_matrix\n",
    "\n",
    "matrix([[1., 1., 1., 1.],\n",
    "        [1., 1., 1., 1.],\n",
    "        [2., 2., 2., 2.],\n",
    "        [1., 1., 1., 1.]])\n"
   ]
  },
  {
   "cell_type": "code",
   "execution_count": 31,
   "metadata": {},
   "outputs": [
    {
     "data": {
      "text/plain": [
       "range(0, 11, 2)"
      ]
     },
     "execution_count": 31,
     "metadata": {},
     "output_type": "execute_result"
    }
   ],
   "source": [
    "lst  =  range ( 0 , 11 , 2 )\n",
    "lst"
   ]
  },
  {
   "cell_type": "code",
   "execution_count": 32,
   "metadata": {},
   "outputs": [
    {
     "data": {
      "text/plain": [
       "range(0, 11, 2)"
      ]
     },
     "execution_count": 32,
     "metadata": {},
     "output_type": "execute_result"
    }
   ],
   "source": [
    "range(0, 11, 2)"
   ]
  },
  {
   "cell_type": "code",
   "execution_count": 40,
   "metadata": {},
   "outputs": [
    {
     "data": {
      "text/plain": [
       "array([ 0,  2,  4,  6,  8, 10, 12, 14, 16, 18, 20, 22, 24])"
      ]
     },
     "execution_count": 40,
     "metadata": {},
     "output_type": "execute_result"
    }
   ],
   "source": [
    "even_number=np.arange(0,25,2)\n",
    "even_number"
   ]
  },
  {
   "cell_type": "code",
   "execution_count": 37,
   "metadata": {},
   "outputs": [
    {
     "data": {
      "text/plain": [
       "array([ 0,  1,  2,  3,  4,  5,  6,  7,  8,  9, 10, 11, 12, 13, 14, 15, 16,\n",
       "       17, 18, 19])"
      ]
     },
     "execution_count": 37,
     "metadata": {},
     "output_type": "execute_result"
    }
   ],
   "source": [
    "whole_numbers = np.arange(0, 20, 1)\n",
    "whole_numbers\n",
    "\n",
    "#array([ 0,  1,  2,  3,  4,  5,  6,  7,  8,  9, 10, 11, 12, 13, 14, 15, 16,\n",
    "       17, 18, 19])"
   ]
  },
  {
   "cell_type": "code",
   "execution_count": 43,
   "metadata": {},
   "outputs": [
    {
     "data": {
      "text/plain": [
       "array([1.        , 1.44444444, 1.88888889, 2.33333333, 2.77777778,\n",
       "       3.22222222, 3.66666667, 4.11111111, 4.55555556, 5.        ])"
      ]
     },
     "execution_count": 43,
     "metadata": {},
     "output_type": "execute_result"
    }
   ],
   "source": [
    "np.linspace(1.0, 5.0, num=10)#1.0'dan 5.0'a 10 tane sayı oluşturalım.\n",
    "\n",
    "array([1.        , 1.44444444, 1.88888889, 2.33333333, 2.77777778,\n",
    "       3.22222222, 3.66666667, 4.11111111, 4.55555556, 5.        ])"
   ]
  },
  {
   "cell_type": "code",
   "execution_count": 44,
   "metadata": {},
   "outputs": [
    {
     "data": {
      "text/plain": [
       "array([1. , 1.8, 2.6, 3.4, 4.2])"
      ]
     },
     "execution_count": 44,
     "metadata": {},
     "output_type": "execute_result"
    }
   ],
   "source": [
    "np.linspace(1.0, 5.0, num=5, endpoint=False)\n",
    "#array([1. , 1.8, 2.6, 3.4, 4.2])"
   ]
  },
  {
   "cell_type": "code",
   "execution_count": 46,
   "metadata": {},
   "outputs": [
    {
     "data": {
      "text/plain": [
       "array([  100.        ,   464.15888336,  2154.43469003, 10000.        ])"
      ]
     },
     "execution_count": 46,
     "metadata": {},
     "output_type": "execute_result"
    }
   ],
   "source": [
    "np.logspace(2, 4.0, num=4)\n",
    "\n",
    "array([  100.        ,   464.15888336,  2154.43469003, 10000.        ])"
   ]
  },
  {
   "cell_type": "code",
   "execution_count": 50,
   "metadata": {},
   "outputs": [
    {
     "name": "stdout",
     "output_type": "stream",
     "text": [
      "First row:  [1 2 3]\n",
      "Second row:  [4 5 6]\n",
      "First column:  [1 4]\n",
      "Second column:  [2 5]\n",
      "Third column:  [3 6]\n"
     ]
    }
   ],
   "source": [
    "#Liste Parçalayalım\n",
    "np_list = np.array([(1,2,3), (4,5,6)])\n",
    "np_list\n",
    "\n",
    "#array([[1, 2, 3],\n",
    "     #  [4, 5, 6]])\n",
    "\n",
    "# Birinci satır İkinci satır olarak parçalayalım.\n",
    "print('First row: ', np_list[0])\n",
    "print('Second row: ', np_list[1])\n",
    "\n",
    "#First row:  [1 2 3]\n",
    "#Second row:  [4 5 6]\n",
    "\n",
    "print('First column: ', np_list[:,0])\n",
    "print('Second column: ', np_list[:,1])\n",
    "print('Third column: ', np_list[:,2])\n",
    "\n",
    "#First column:  [1 4]\n",
    "#Second column:  [2 5]\n",
    "#Third column:  [3 6]"
   ]
  },
  {
   "cell_type": "code",
   "execution_count": 53,
   "metadata": {},
   "outputs": [
    {
     "name": "stdout",
     "output_type": "stream",
     "text": [
      "[4.51973653 5.18170615 5.23094397 4.63975923 4.59576707 5.02698729\n",
      " 5.09340393 4.3287569  4.46867527 5.33168575 5.59652313 5.11937362\n",
      " 5.76146516 5.35608593 4.84339967 3.98936354 6.06551548 5.78428081\n",
      " 5.32085472 4.89176266 5.46897312 4.65958169 4.79368098 4.77237791\n",
      " 4.58107749 4.45556191 5.31848723 5.08140703 5.79405462 4.56529556\n",
      " 4.85768253 5.41523643 4.98410963 5.67512735 5.45741322 4.4874891\n",
      " 5.0118196  4.85863187 5.04024498 5.33453937 4.81134298 5.10023393\n",
      " 5.19300245 5.26911795 4.40981663 4.60511726 5.54421921 4.88264242\n",
      " 5.40697379 5.59951588 3.98545032 5.27245213 4.50138931 4.57302668\n",
      " 5.23252824 4.76266865 4.85592048 3.81270713 4.84154585 4.1692835\n",
      " 4.96705909 5.5088007  5.3629441  5.3067828  4.05250016 5.17702812\n",
      " 5.25085436 4.96604939 5.32144566 4.96029394 5.33009874 4.46877043\n",
      " 5.06710144 5.67853687 4.8099848  5.03698568 4.98310454 5.4705493\n",
      " 5.44757937 5.19089288 4.09847691 4.97248168 3.84739249 5.62994409\n",
      " 5.33869893 5.0621495  5.47524526 4.18595334 5.59694376 5.62553196\n",
      " 5.59988312 4.1149021  4.40305664 4.93819563 4.76673277 5.30279311\n",
      " 4.15688708 4.39303436 5.33966837 5.09817038]\n",
      "min:  1\n",
      "max:  55\n",
      "mean:  14.777777777777779\n",
      "sd:  18.913709183069525\n"
     ]
    }
   ],
   "source": [
    "np_normal_dis = np.random.normal(5, 0.5, 100)\n",
    "print(np_normal_dis)\n",
    "## min, max, mean, median, sd\n",
    "print('min: ', two_dimension_array.min())\n",
    "print('max: ', two_dimension_array.max())\n",
    "print('mean: ',two_dimension_array.mean())\n",
    "# print('median: ', two_dimension_array.median())\n",
    "print('sd: ', two_dimension_array.std())\n",
    "\n",
    "[4.51973653 5.18170615 5.23094397 4.63975923 4.59576707 5.02698729\n",
    " 5.09340393 4.3287569  4.46867527 5.33168575 5.59652313 5.11937362\n",
    " 5.76146516 5.35608593 4.84339967 3.98936354 6.06551548 5.78428081\n",
    " 5.32085472 4.89176266 5.46897312 4.65958169 4.79368098 4.77237791\n",
    " 4.58107749 4.45556191 5.31848723 5.08140703 5.79405462 4.56529556\n",
    " 4.85768253 5.41523643 4.98410963 5.67512735 5.45741322 4.4874891\n",
    " 5.0118196  4.85863187 5.04024498 5.33453937 4.81134298 5.10023393\n",
    " 5.19300245 5.26911795 4.40981663 4.60511726 5.54421921 4.88264242\n",
    " 5.40697379 5.59951588 3.98545032 5.27245213 4.50138931 4.57302668\n",
    " 5.23252824 4.76266865 4.85592048 3.81270713 4.84154585 4.1692835\n",
    " 4.96705909 5.5088007  5.3629441  5.3067828  4.05250016 5.17702812\n",
    " 5.25085436 4.96604939 5.32144566 4.96029394 5.33009874 4.46877043\n",
    " 5.06710144 5.67853687 4.8099848  5.03698568 4.98310454 5.4705493\n",
    " 5.44757937 5.19089288 4.09847691 4.97248168 3.84739249 5.62994409\n",
    " 5.33869893 5.0621495  5.47524526 4.18595334 5.59694376 5.62553196\n",
    " 5.59988312 4.1149021  4.40305664 4.93819563 4.76673277 5.30279311\n",
    " 4.15688708 4.39303436 5.33966837 5.09817038]\n",
    "min:  1\n",
    "max:  55\n",
    "mean:  14.777777777777779\n",
    "sd:  18.913709183069525"
   ]
  },
  {
   "cell_type": "code",
   "execution_count": 54,
   "metadata": {},
   "outputs": [
    {
     "name": "stdout",
     "output_type": "stream",
     "text": [
      "[[ 1  2  3]\n",
      " [ 4 55 44]\n",
      " [ 7  8  9]]\n",
      "Column with minimum:  [1 2 3]\n",
      "Column with maximum:  [ 7 55 44]\n",
      "=== Row ==\n",
      "Row with minimum:  [1 4 7]\n",
      "Row with maximum:  [ 3 55  9]\n"
     ]
    }
   ],
   "source": [
    "print(two_dimension_array)\n",
    "print('Column with minimum: ', np.amin(two_dimension_array,axis=0))\n",
    "print('Column with maximum: ', np.amax(two_dimension_array,axis=0))\n",
    "print('=== Row ==')\n",
    "print('Row with minimum: ', np.amin(two_dimension_array,axis=1))\n",
    "print('Row with maximum: ', np.amax(two_dimension_array,axis=1))\n",
    "\n",
    "[[ 1  2  3]\n",
    " [ 4 55 44]\n",
    " [ 7  8  9]]\n",
    "Column with minimum:  [1 2 3]\n",
    "Column with maximum:  [ 7 55 44]\n",
    "=== Row ==\n",
    "Row with minimum:  [1 4 7]\n",
    "Row with maximum:  [ 3 55  9]"
   ]
  },
  {
   "cell_type": "code",
   "execution_count": 55,
   "metadata": {},
   "outputs": [
    {
     "name": "stdout",
     "output_type": "stream",
     "text": [
      "Tile:    [1 2 3 1 2 3]\n"
     ]
    }
   ],
   "source": [
    "a = [1,2,3]\n",
    "print('Tile:   ', np.tile(a, 2)) # 2 kere tekrar etsin\n",
    "\n",
    "#Tile:    [1 2 3 1 2 3]"
   ]
  },
  {
   "cell_type": "code",
   "execution_count": 56,
   "metadata": {},
   "outputs": [
    {
     "name": "stdout",
     "output_type": "stream",
     "text": [
      "Repeat:  [1 1 2 2 3 3]\n"
     ]
    }
   ],
   "source": [
    "print('Repeat: ', np.repeat(a, 2))\n",
    "#Repeat:  [1 1 2 2 3 3]\n"
   ]
  },
  {
   "cell_type": "code",
   "execution_count": 59,
   "metadata": {},
   "outputs": [
    {
     "name": "stdout",
     "output_type": "stream",
     "text": [
      "0.22885345753592512\n"
     ]
    }
   ],
   "source": [
    "one_random_num = np.random.random()\n",
    "one_random_in = np.random\n",
    "print(one_random_num)\n",
    "#0.22885345753592512"
   ]
  },
  {
   "cell_type": "code",
   "execution_count": 62,
   "metadata": {},
   "outputs": [
    {
     "name": "stdout",
     "output_type": "stream",
     "text": [
      "[[0.43326235 0.06563784 0.37499954]\n",
      " [0.87698826 0.11264158 0.81280818]]\n"
     ]
    }
   ],
   "source": [
    "r = np.random.random(size=[2,3])# 2'ye 3 Matris şeklinde \n",
    "print(r)\n",
    "#[[0.43326235 0.06563784 0.37499954]\n",
    "# [0.87698826 0.11264158 0.81280818]]"
   ]
  },
  {
   "cell_type": "code",
   "execution_count": 65,
   "metadata": {},
   "outputs": [
    {
     "name": "stdout",
     "output_type": "stream",
     "text": [
      "[4.99550868 4.99451966 5.03794649 5.04271461 5.04288226 5.07469876\n",
      " 4.89560964 5.02827478 5.19769785 5.0207816  5.01133324 5.09049031\n",
      " 5.07502474 4.99287453 5.05867563 5.00196182 5.11276638 4.88246346\n",
      " 5.03500716 4.99500792 5.03121137 4.89225427 4.99223279 5.07313089\n",
      " 5.10808955 4.96931832 4.89693058 5.0677695  4.87562624 4.96833184\n",
      " 4.99787219 5.03872414 5.09724067 5.01296355 4.97615252 5.03083723\n",
      " 5.00875234 4.94517074 5.03386502 5.03575934 5.07673711 4.9892058\n",
      " 5.01218554 4.96919139 4.89766252 5.03174182 4.92266461 5.12836635\n",
      " 5.23866087 4.88960634 4.99213256 4.97645349 4.928744   5.11280541\n",
      " 5.00273018 5.00241387 4.97675288 5.15437767 4.98870626 4.98325307\n",
      " 4.98048672 4.98451977 5.02592001 5.06056875 5.1344513  5.09083235\n",
      " 4.93704313 4.99843342 5.11755652 4.92139173 4.97539048 4.72611937\n",
      " 5.06346447 4.97726389 4.99341498 4.93522892 5.09098514 4.90285985\n",
      " 5.02635682 4.99141212 4.9117725  5.01073423 5.01365841 4.96363546\n",
      " 5.10614662 4.92898164 4.92774512 5.05645187 5.15037374 5.0023237\n",
      " 5.1474118  4.97596973 4.96250415 4.96080518 5.01762268 4.86636324\n",
      " 4.8674973  4.84499412 5.08339311 5.15549915 4.83348001 4.99246504\n",
      " 5.02571291 4.90444428 4.96460785 5.1829305  4.89103149 4.9910016\n",
      " 4.94799427 4.90317183 4.89354174 5.02807825 5.03844819 5.0761719\n",
      " 5.06820673 5.04843422 5.05934656 5.05186299 4.96507247 5.10930956\n",
      " 5.0074474  5.02384035 5.0698387  4.82689415 5.00151255 5.08009826\n",
      " 5.02472921 5.21439304 5.04868548 5.18745638 4.97641007 4.86268467\n",
      " 5.06863176 4.98668154 5.10705257 4.87615632 5.00925805 4.98846025\n",
      " 4.95431812 4.97337521 4.84620233 5.12248203 5.01126705 5.063741\n",
      " 5.01760452 4.89013959 5.16815692 5.1076016  5.02361138 4.92436684\n",
      " 5.01861961 4.84614819 4.95897367 5.11204215 4.97018049 4.90147865\n",
      " 5.08050358 5.08356069 5.1442619  5.0258909  5.03518197 5.0032669\n",
      " 5.0756556  5.23655803 5.04324953 4.92105046 4.97570289 4.93876904\n",
      " 4.98342217 4.93818124 4.91953805 5.01590758 4.96122012 5.06983677\n",
      " 5.13469492 5.01812106 4.96921651 4.94339602 4.91627977 5.08429164\n",
      " 4.81232018 4.95522084 4.98152157 5.00786776 5.00760629 4.95070992\n",
      " 4.87530687 5.2048217  5.12930754 4.96233464 5.00583091 5.05824952\n",
      " 5.09837651 4.81236494 4.93491069 4.86716348 5.0582963  4.93714699\n",
      " 4.94289175 4.97779385 5.07991282 4.93202928 5.2115797  4.98574094\n",
      " 5.05331335 5.13913495 4.91386238 5.05717577 5.08440318 4.85443193\n",
      " 4.93010258 5.04445452 5.1185342  4.94674904 4.94954855 4.96905427\n",
      " 5.08465143 4.94802819 5.04443443 4.95183409 5.09665837 4.96379074\n",
      " 5.07104226 4.95767067 4.90082898 4.70857718 4.98297251 4.86882933\n",
      " 4.99405825 5.01610359 4.99424351 4.93093237 4.98038588 5.11610713\n",
      " 4.97210676 5.17335773 4.92907061 5.18604141 4.9253781  5.1551264\n",
      " 5.19587208 4.88861023 5.02405232 5.13884753 4.98927027 5.1621889\n",
      " 5.12167772 5.02255263 5.06080172 4.86761247 4.86176781 5.01457914\n",
      " 4.89440113 4.91560834 5.15351298 5.13553957 5.10121037 4.95017415\n",
      " 5.01028341 5.07282644 4.9954225  5.3290419  4.88558279 4.95344803\n",
      " 4.9531271  4.92285158 5.15761271 4.90540786 4.95256726 5.01640815\n",
      " 4.95651506 5.0588102  4.95054941 4.67362897 5.04747794 4.97407102\n",
      " 5.05391607 5.07069347 4.89819708 4.8501357  4.9226837  5.092512\n",
      " 5.02036644 4.81493152 4.94717155 4.99228293 4.94713906 4.99547304\n",
      " 5.08930569 5.08073975 5.03936503 5.04248133 4.95135889 4.91950671\n",
      " 5.07899878 5.02568969 5.14773553 4.92782189 5.05136471 5.03090044\n",
      " 5.05698301 5.11872938 5.13478638 4.90147075 5.14389122 4.82866529\n",
      " 4.89277952 5.01523747 5.0286023  5.07865764 5.25793683 5.09524918\n",
      " 4.89951316 5.09043552 4.98614666 4.83985686 5.02386955 4.97146951\n",
      " 5.05927875 4.98017105 5.04568844 5.05462322 5.11768523 4.9957692\n",
      " 4.8844637  4.60482159 5.04429287 5.02196603 4.78583872 4.84341502\n",
      " 4.87774286 5.10979484 5.02020563 5.02530804 4.80713352 5.06225716\n",
      " 5.0529042  4.95904736 5.01716081 4.91907466 5.01329129 4.94030357\n",
      " 5.09136371 4.89812    4.85748148 4.83697551 5.03978422 4.94098191\n",
      " 4.84968418 4.90937762 4.96294843 4.96599288 5.06015088 5.04988791\n",
      " 5.03878029 4.98688161 5.02548303 4.93336319 5.03321667 4.88202489\n",
      " 4.96196737 4.89608097 5.00204158 4.92457999 5.07901756 5.01815256\n",
      " 4.82904147 5.10756648 5.27753329 5.06445296 4.95153773 4.93338812\n",
      " 5.09912628 5.16634992 4.99978662 5.05205803 5.07902142 4.97954715\n",
      " 5.12880108 5.0422534  4.83717195 5.19297718 5.19369611 4.92086826\n",
      " 4.99388149 4.92601296 4.91886187 4.9944375  5.00542019 4.9032811\n",
      " 5.27775648 4.84753713 4.75923928 5.20322333 5.08108411 4.93066672\n",
      " 5.05010525 5.03409993 4.92623624 4.97932907 4.85053354 5.02778424\n",
      " 4.99329138 4.95368099 5.02632545 4.95330454 5.03021382 5.08397487\n",
      " 5.00331775 5.06452908 4.92079951 5.09945062 5.07263423 4.93893439\n",
      " 4.96009716 4.87057555 4.88167118 5.00561842 5.09067771 4.96006337\n",
      " 5.07485261 5.03692863 4.89700149 5.08826969 4.97719012 4.88749571\n",
      " 4.88189114 4.85406387 4.94091495 5.02108942 5.05413145 5.04079205\n",
      " 5.00403723 4.99414147 4.96806342 5.0096525  4.96525239 5.02289049\n",
      " 4.96839981 5.03699018 4.89214252 5.0020687  5.10175909 4.96517101\n",
      " 4.95143604 4.94806377 5.00728575 5.16214079 4.90123011 5.10127107\n",
      " 4.85071091 4.99398477 4.8140389  4.88033806 5.03524231 5.09415451\n",
      " 4.92498229 5.03090744 4.95452879 4.91854407 5.01017917 4.95089134\n",
      " 5.20803727 4.94006283 4.98068677 4.94402277 5.04103622 4.97277783\n",
      " 4.93426393 5.04929438 5.12555898 5.02036453 5.04994805 5.06876165\n",
      " 5.11653623 5.01222903 4.92566994 4.95635157 5.05862452 5.09961302\n",
      " 4.9695375  4.98174262 4.91214931 4.84710414 4.94587233 4.95015675\n",
      " 4.89074653 4.9574411  4.9975327  4.99794488 4.96367103 5.09328329\n",
      " 4.89672954 5.17145693 4.82465489 5.0399876  5.00940877 5.00118089\n",
      " 4.87619104 5.04736207 4.93137237 5.23499753 4.88499044 5.17833568\n",
      " 4.90769268 5.03634536 5.06651647 4.79777913 4.7835148  5.03771419\n",
      " 4.93007476 5.21927137 5.17234111 4.95913511 4.99105944 4.91608315\n",
      " 4.98642657 4.91793429 5.05007243 5.13981911 4.98962914 4.98041922\n",
      " 5.10114507 4.96817532 4.85442475 4.95854812 5.12025142 4.94629204\n",
      " 5.05251939 4.85628514 4.90777595 5.01367077 4.85669349 5.00756248\n",
      " 5.03167386 4.94250432 5.05844027 4.93683501 4.93717501 5.14656589\n",
      " 4.96600055 5.09413902 4.86000455 4.97457458 5.133233   4.8618653\n",
      " 4.97112139 4.99949872 5.09967645 4.95463632 5.00306491 5.03900501\n",
      " 4.97442862 5.02740068 4.89345124 5.04559675 5.12599218 5.0273557\n",
      " 5.1188705  5.01169309 4.89413832 5.01153519 4.88359852 4.92301122\n",
      " 4.9513618  5.00234512 5.02383667 4.9934371  4.94626713 4.93922759\n",
      " 5.0152407  5.11661778 5.027834   5.05332731 5.03412938 5.03015619\n",
      " 5.0782334  4.8694041  5.02112357 4.9791468  4.84464268 4.92274363\n",
      " 5.039432   5.0100984  5.04075925 5.20168817 5.01998742 5.02813089\n",
      " 4.98199184 5.06648272 5.00775147 5.0422965  5.14571013 5.00800722\n",
      " 4.95394816 5.00060912 5.01483301 5.00044573 4.84944586 5.12283307\n",
      " 4.95565061 4.8906679  4.94689998 4.97327251 4.97257389 5.06936383\n",
      " 5.05168004 4.89001326 4.92727503 5.03438703 5.06116235 5.04513613\n",
      " 4.98117675 5.02160869 5.05430288 4.9143065  4.98170506 5.16540247\n",
      " 5.02168516 5.07841277 4.90820873 5.05740533 5.02603476 4.79789587\n",
      " 4.878821   5.25767039 4.91395296 4.89502021 5.0328152  4.8721204\n",
      " 4.95111747 5.0636254  5.0709145  5.01953568 4.98966075 5.04132546\n",
      " 4.95203096 5.07519654 4.93115566 5.11895155 4.90069164 4.93824599\n",
      " 5.06440538 4.85650646 4.93690647 4.89534965 5.00815519 4.82745703\n",
      " 4.95481456 4.85832122 4.88477277 5.00997933 4.98857216 5.10100059\n",
      " 4.91904712 4.95701555 4.83708915 4.85747993 5.09741805 5.01030294\n",
      " 4.9418163  4.8439738  5.08590783 4.88369575 5.10642789 4.92999667\n",
      " 5.15925827 5.06496149 4.86615283 4.97755609 5.04172025 4.87528184\n",
      " 5.00508688 4.96475749 4.89349656 4.93893607 4.87833355 5.01361722\n",
      " 4.95538252 5.14885052 5.04131357 5.11822939 5.08724396 5.13752868\n",
      " 4.97004058 5.13809684 4.82679649 5.04747368 4.84632045 4.9976503\n",
      " 5.13069597 5.0269956  5.05612138 4.88384141 4.85065701 5.10094021\n",
      " 4.75562265 5.17456962 5.0548216  4.90197547 4.95134227 5.02841248\n",
      " 5.09955414 4.99488853 4.97887824 4.95882614 4.8979713  5.01615\n",
      " 5.12747127 5.02998611 4.9663009  4.72685264 5.04514343 5.1623113\n",
      " 4.97528058 5.02574982 5.09407833 4.8355463  4.94593539 5.02703479\n",
      " 4.97540246 5.04719597 4.99067764 5.07208143 5.04441104 4.9654654\n",
      " 5.02382672 4.99375482 5.12971351 5.23134064 4.97569424 4.98219918\n",
      " 4.9785496  4.85583492 5.04579684 5.11103695 4.92044891 5.00395788\n",
      " 4.95025755 5.02912746 5.00055357 5.08891953 5.17635879 4.92014526\n",
      " 5.03549999 5.043746   4.98260754 5.00542316 4.87512249 5.00287864\n",
      " 4.98515393 4.93033542 5.03177248 5.16225485 4.98022836 4.90469665\n",
      " 5.06411187 4.93730626 4.95418743 4.84094201 5.0928295  5.13648053\n",
      " 4.9676422  4.94463366 5.02311956 5.13023759 5.14048326 4.84980289\n",
      " 5.04883215 4.82979064 4.87590481 5.07965184 5.06203049 4.95571699\n",
      " 4.9459263  4.99609391 5.01967113 4.80724088 4.89413592 4.7986793\n",
      " 4.99744973 5.04159338 5.07207176 5.00470236 5.05482658 5.1609886\n",
      " 4.94006772 4.76505495 5.08350792 4.85727728 4.97897428 4.90131721\n",
      " 5.05057654 4.71961215 5.00404867 4.99187652 4.84694076 4.91135454\n",
      " 4.96065276 5.01862151 5.12176689 4.93709786 4.98652509 5.06247025\n",
      " 5.0066844  4.94109244 4.91378161 5.06797032 5.03721948 5.00757166\n",
      " 5.01763315 4.99889601 5.03887336 4.95663179 5.0258608  5.13868903\n",
      " 4.97074146 5.02862039 4.9848698  5.06054213 5.03071415 4.85901118\n",
      " 5.00652914 5.07290592 4.98112462 5.18240994 5.17399126 5.01548724\n",
      " 5.08984617 4.79203101 5.00189381 5.00482825 4.89747857 5.02678449\n",
      " 4.7946297  4.98247816 5.09017179 5.01923451 4.98206389 5.04216681\n",
      " 4.89187083 4.80730077 4.94280794 4.92979085 5.13599366 4.98773632\n",
      " 5.13359035 4.9653128  5.03077904 4.99076117 5.11670966 5.04815375\n",
      " 5.07044504 5.07715526 4.96291682 4.94303982 4.89667259 4.96470551\n",
      " 4.9233567  4.91918874 5.07142066 4.98367926 4.96886167 5.00244262\n",
      " 5.01399336 5.16440594 4.97107938 5.09858741 4.93964104 5.08282305\n",
      " 4.94249351 5.06712534 5.02374743 4.94167108 5.05144186 5.08875594\n",
      " 5.05000897 5.04848874 4.89329471 5.04746216 5.01781713 5.05172565\n",
      " 4.91050723 4.923692   4.89972462 5.07338395 5.0869703  5.03307839\n",
      " 4.89859478 4.9208623  4.88678939 5.08950522 4.98406821 5.00567132\n",
      " 5.0998925  4.95897953 4.87279881 5.01924017 4.78958213 5.05879644\n",
      " 5.12665215 5.11169477 5.12695703 5.12842972 4.95449054 5.03973464\n",
      " 5.01497602 4.89350569 4.92682919 5.10109897 4.86167681 5.01771783\n",
      " 4.9834099  5.12356513 5.13002067 4.99002198 5.06373899 5.07819077\n",
      " 4.97693989 5.00773542 5.00301303 5.01657695 5.05117077 5.03113933\n",
      " 4.81280657 5.01571111 4.96893421 5.14899824 5.00598071 5.10667609\n",
      " 4.9060336  4.90558778 5.12042216 4.87609976 4.95378468 4.9833598\n",
      " 5.04251125 5.04410982 4.87110732 5.05857722 4.92882173 4.89374852\n",
      " 5.20132094 4.9592381  5.00764921 4.87773186 5.03955574 5.06541295\n",
      " 5.0289278  5.0503621  5.08397265 4.9794341  5.18196952 4.91018968\n",
      " 5.11928987 5.09001063 5.12959279 5.08693009 5.00552861 4.98423087\n",
      " 4.89481995 5.08200002 4.91551867 4.84996479 4.9508273  4.92966969\n",
      " 5.09392837 5.09471728 5.1163181  4.93124511 4.87544721 5.05421604\n",
      " 5.04131181 4.99601786 4.71418388 5.1579341  4.94254594 4.84085133\n",
      " 4.96670148 4.93942714 4.99457976 5.19335735 5.11621181 5.06972204\n",
      " 4.86399019 5.03590223 5.20490478 5.07020326 4.9316376  4.78415121\n",
      " 4.88195239 5.11629955 4.94160871 4.9205626  4.99782456 5.08423652\n",
      " 4.94671811 4.84392797 5.05355393 5.17219693]\n",
      "min:  4.604821591827487\n",
      "max:  5.329041899264341\n",
      "mean:  4.998723087998381\n",
      "median:  5.002055137562557\n",
      "mode:  ModeResult(mode=array([4.60482159]), count=array([1]))\n",
      "sd:  0.09456348661589764\n"
     ]
    }
   ],
   "source": [
    "from scipy import stats\n",
    "np_normal_dis = np.random.normal(5, 0.1, 1000) \n",
    "print(np_normal_dis)\n",
    "## min, max, mean, median, sd\n",
    "print('min: ', np.min(np_normal_dis))\n",
    "print('max: ', np.max(np_normal_dis))\n",
    "print('mean: ', np.mean(np_normal_dis))\n",
    "print('median: ', np.median(np_normal_dis))\n",
    "print('mode: ', stats.mode(np_normal_dis))\n",
    "print('sd: ', np.std(np_normal_dis))\n"
   ]
  },
  {
   "cell_type": "code",
   "execution_count": null,
   "metadata": {},
   "outputs": [],
   "source": [
    "max:  5.329041899264341\n",
    "mean:  4.998723087998381\n",
    "median:  5.002055137562557\n",
    "mode:  ModeResult(mode=array([4.60482159]), count=array([1]))\n",
    "sd:  0.09456348661589764"
   ]
  },
  {
   "cell_type": "code",
   "execution_count": 66,
   "metadata": {},
   "outputs": [
    {
     "data": {
      "image/png": "[encoded data removed]",
      "text/plain": [
       "<Figure size 432x288 with 1 Axes>"
      ]
     },
     "metadata": {},
     "output_type": "display_data"
    }
   ],
   "source": [
    "plt.hist(np_normal_dis, color=\"grey\", bins=21)\n",
    "plt.show()"
   ]
  },
  {
   "cell_type": "code",
   "execution_count": 67,
   "metadata": {},
   "outputs": [
    {
     "data": {
      "text/plain": [
       "23"
      ]
     },
     "execution_count": 67,
     "metadata": {},
     "output_type": "execute_result"
    }
   ],
   "source": [
    "f = np.array([1,2,3])\n",
    "g = np.array([4,5,3])\n",
    "### 1*4+2*5 + 3*6\n",
    "np.dot(f, g)  # 23"
   ]
  },
  {
   "cell_type": "code",
   "execution_count": 3,
   "metadata": {},
   "outputs": [
    {
     "data": {
      "text/plain": [
       "array([[19, 22],\n",
       "       [43, 50]])"
      ]
     },
     "execution_count": 3,
     "metadata": {},
     "output_type": "execute_result"
    }
   ],
   "source": [
    "h = [[1,2],[3,4]]\n",
    "i = [[5,6],[7,8]]\n",
    "### 1*5+2*7 = 19\n",
    "np.matmul(h, i)\n",
    "### array([[19, 22],\n",
    "       #[43, 50]])"
   ]
  },
  {
   "cell_type": "code",
   "execution_count": 4,
   "metadata": {},
   "outputs": [
    {
     "data": {
      "text/plain": [
       "-2.000000000000005"
      ]
     },
     "execution_count": 4,
     "metadata": {},
     "output_type": "execute_result"
    }
   ],
   "source": [
    "np.linalg.det(i)\n",
    "#-2.000000000000005\n"
   ]
  },
  {
   "cell_type": "code",
   "execution_count": 5,
   "metadata": {},
   "outputs": [],
   "source": [
    "Z = np.zeros((8,8))\n",
    "Z[1::2,::2] = 1\n",
    "Z[::2,1::2] = 1"
   ]
  },
  {
   "cell_type": "code",
   "execution_count": 6,
   "metadata": {},
   "outputs": [
    {
     "data": {
      "text/plain": [
       "array([[0., 1., 0., 1., 0., 1., 0., 1.],\n",
       "       [1., 0., 1., 0., 1., 0., 1., 0.],\n",
       "       [0., 1., 0., 1., 0., 1., 0., 1.],\n",
       "       [1., 0., 1., 0., 1., 0., 1., 0.],\n",
       "       [0., 1., 0., 1., 0., 1., 0., 1.],\n",
       "       [1., 0., 1., 0., 1., 0., 1., 0.],\n",
       "       [0., 1., 0., 1., 0., 1., 0., 1.],\n",
       "       [1., 0., 1., 0., 1., 0., 1., 0.]])"
      ]
     },
     "execution_count": 6,
     "metadata": {},
     "output_type": "execute_result"
    }
   ],
   "source": [
    "Z"
   ]
  },
  {
   "cell_type": "code",
   "execution_count": 7,
   "metadata": {},
   "outputs": [
    {
     "data": {
      "text/plain": [
       "[2, 3, 4, 5, 6, 7, 8, 9, 10, 11, 12]"
      ]
     },
     "execution_count": 7,
     "metadata": {},
     "output_type": "execute_result"
    }
   ],
   "source": [
    "# x+2 olsun ve  0'dan başlasın ve 11'e kadar 1'er artsın\n",
    "new_list = [ x + 2 for x in range(0, 11)]\n",
    "new_list\n",
    "#[2, 3, 4, 5, 6, 7, 8, 9, 10, 11, 12]"
   ]
  },
  {
   "cell_type": "code",
   "execution_count": 8,
   "metadata": {},
   "outputs": [
    {
     "data": {
      "text/plain": [
       "array([ 2,  3,  4,  5,  6,  7,  8,  9, 10, 11, 12])"
      ]
     },
     "execution_count": 8,
     "metadata": {},
     "output_type": "execute_result"
    }
   ],
   "source": [
    "# x+2 yerine bir başka şekilde aynı işlemi yapabiliriz.\n",
    "np_arr = np.array(range(0, 11))\n",
    "np_arr + 2\n",
    "#array([ 2,  3,  4,  5,  6,  7,  8,  9, 10, 11, 12])\n"
   ]
  },
  {
   "cell_type": "code",
   "execution_count": 9,
   "metadata": {},
   "outputs": [
    {
     "data": {
      "text/plain": [
       "array([ 7,  9, 11, 13, 15])"
      ]
     },
     "execution_count": 9,
     "metadata": {},
     "output_type": "execute_result"
    }
   ],
   "source": [
    "temp = np.array([1,2,3,4,5])\n",
    "pressure = temp * 2 + 5\n",
    "pressure\n",
    "#array([ 7,  9, 11, 13, 15])\n",
    "#doğrusal ilerleyen bir veriyi ele alalım.\n"
   ]
  },
  {
   "cell_type": "code",
   "execution_count": 12,
   "metadata": {},
   "outputs": [
    {
     "data": {
      "image/png": "[encoded data removed]",
      "text/plain": [
       "<Figure size 432x288 with 1 Axes>"
      ]
     },
     "metadata": {},
     "output_type": "display_data"
    }
   ],
   "source": [
    "plt.plot(temp,pressure)\n",
    "plt.xlabel('Temperature in oC')\n",
    "plt.ylabel('Pressure in atm')\n",
    "plt.title('Temperature vs Pressure')\n",
    "plt.xticks(np.arange(0, 6, step=0.5))\n",
    "plt.show()"
   ]
  },
  {
   "cell_type": "code",
   "execution_count": 13,
   "metadata": {},
   "outputs": [
    {
     "name": "stderr",
     "output_type": "stream",
     "text": [
      "C:\\Users\\Büşra\\AppData\\Local\\Programs\\Python\\Python39\\lib\\site-packages\\seaborn\\distributions.py:2557: FutureWarning: `distplot` is a deprecated function and will be removed in a future version. Please adapt your code to use either `displot` (a figure-level function with similar flexibility) or `histplot` (an axes-level function for histograms).\n",
      "  warnings.warn(msg, FutureWarning)\n"
     ]
    },
    {
     "data": {
      "image/png": "[encoded data removed]",
      "text/plain": [
       "<Figure size 432x288 with 1 Axes>"
      ]
     },
     "metadata": {},
     "output_type": "display_data"
    }
   ],
   "source": [
    "mu = 28\n",
    "sigma = 15\n",
    "samples = 100000\n",
    "\n",
    "x = np.random.normal(mu, sigma, samples)\n",
    "ax = sns.distplot(x);\n",
    "ax.set(xlabel=\"x\", ylabel='y')\n",
    "plt.show()"
   ]
  }
 ],
 "metadata": {
  "interpreter": {
   "hash": "5bb71e04e3d056b3fd374fe835c740c82b88cf9a64babc7a305394decc4b8aa7"
  },
  "kernelspec": {
   "display_name": "Python 3.9.5 64-bit (system)",
   "language": "python",
   "name": "python3"
  },
  "language_info": {
   "codemirror_mode": {
    "name": "ipython",
    "version": 3
   },
   "file_extension": ".py",
   "mimetype": "text/x-python",
   "name": "python",
   "nbconvert_exporter": "python",
   "pygments_lexer": "ipython3",
   "version": "3.9.5"
  },
  "orig_nbformat": 4
 },
 "nbformat": 4,
 "nbformat_minor": 2
}
