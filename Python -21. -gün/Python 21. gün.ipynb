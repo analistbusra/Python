{
 "cells": [
  {
   "cell_type": "markdown",
   "metadata": {},
   "source": [
    "# Classes and Objects(Sınıflar ve Nesneler)\n",
    "\n",
    "Python’dan bir önceki yazıda bahsetmiştik. Dil olarak, özünde, nesne yönelimli (object-oriented programming) gözükse de fonksiyonel programlama (functional programming) için de prosedüral programlama  için de kullanılabiliyor. Ben bu yazıda  yalnızca sınıf ve obje yapısı üzerine açıklama yapmak istiyorum. "
   ]
  },
  {
   "cell_type": "markdown",
   "metadata": {},
   "source": [
    "## Class (Sınıf)\n",
    "\n",
    "Python’dan bağımsız, class (sınıf) nedir dersek cevabı sanırım evrensel hale gelmiş şu cümle olacaktır: Yöntemleri (methods) ve değişkenleri (variables) olan yeniden kullanılabilir bir kod yığını. Peki, yöntemleri ve değişkenleri ne demek? Bir tanımlama yaptınız ve içinde toplama yapıyorsunuz diyelim."
   ]
  },
  {
   "cell_type": "code",
   "execution_count": 1,
   "metadata": {},
   "outputs": [],
   "source": [
    "def sum( a,b ):\n",
    "   return a+b"
   ]
  },
  {
   "cell_type": "markdown",
   "metadata": {},
   "source": [
    "Buna fonksiyon (function) diyoruz, method yani yöntem ise class içinde tanımlanınca bu ismi alıyor. Tabii aşağıdaki method’ı çağırırken, o class’a ait bir nesne ile çağırmanız gerekli"
   ]
  },
  {
   "cell_type": "markdown",
   "metadata": {},
   "source": [
    "#### Sınıflar hakkında bilmemiz gerekenler\n",
    "\n",
    "* Kendimize has, özel türler yapmak için kullanılır.\n",
    "* Oluşacak özel türleri, önceden tanımlı başka özellikler ile destekleyebiliriz.\n",
    "* class anathar kelimesi tanımlama için şarttır.\n",
    "* Geleneksel olarak bir sınıf adı CamelCase(ClassName şeklinde) kullanır.\n",
    "* Bu sınıftan oluşacak nesnelerin yapısını ve davranışını tanımlarız."
   ]
  },
  {
   "cell_type": "markdown",
   "metadata": {},
   "source": [
    "ÖRNEK:"
   ]
  },
  {
   "cell_type": "code",
   "execution_count": 2,
   "metadata": {},
   "outputs": [
    {
     "name": "stdout",
     "output_type": "stream",
     "text": [
      "<class '__main__.Person'>\n"
     ]
    }
   ],
   "source": [
    "class Person:\n",
    "  pass\n",
    "print(Person)"
   ]
  },
  {
   "cell_type": "markdown",
   "metadata": {},
   "source": [
    "## Object (Nesne)\n",
    "\n",
    "Aslında yukarıda nesnelerin nasıl oluşturulduklarına dair bilgi vermiş olduk. Python’daki neredeyse her şey bir nesnedir. Doğal olarak, yukarıda da tanımlama yaptığımız gibi her nesne kendi özellikleri ve method’ları ile birlikte gelir"
   ]
  },
  {
   "cell_type": "markdown",
   "metadata": {},
   "source": [
    "### Nesneler hakkında bilmemiz gerekenler\n",
    "\n",
    "* Nesneler oluştuktan sonra belli duruma (state’e) sahip olurlar.\n",
    "* Nesneler yine oluşturulduktan itibaren memoryde yer almaya başlarlar.\n",
    "* Yukarıda da gördüğümüz üzere, bir sınıfın birden fazla nesnesi olabilir ve hepsi farklı özellikler gösterirler.\n",
    "* Nesneler, sınıflardan oluşturulur ve sınıflar var olmadan var olamazlar. Yani bir sınıftan oluşmayan bir nesne olamaz."
   ]
  },
  {
   "cell_type": "markdown",
   "metadata": {},
   "source": [
    "ÖRNEK:"
   ]
  },
  {
   "cell_type": "code",
   "execution_count": 3,
   "metadata": {},
   "outputs": [
    {
     "name": "stdout",
     "output_type": "stream",
     "text": [
      "<__main__.Person object at 0x00000217E8E43F40>\n"
     ]
    }
   ],
   "source": [
    "p=Person()\n",
    "print(p)"
   ]
  },
  {
   "cell_type": "markdown",
   "metadata": {},
   "source": [
    "### Sınıf Oluşturma Örnek"
   ]
  },
  {
   "cell_type": "code",
   "execution_count": 4,
   "metadata": {},
   "outputs": [
    {
     "name": "stdout",
     "output_type": "stream",
     "text": [
      "Fatma Büşra\n",
      "<__main__.Person object at 0x00000217E8E43E80>\n"
     ]
    }
   ],
   "source": [
    "class Person:\n",
    "      def __init__ (self, name):\n",
    "          self.name =name\n",
    "\n",
    "p = Person('Fatma Büşra')\n",
    "print(p.name)\n",
    "print(p)"
   ]
  },
  {
   "cell_type": "code",
   "execution_count": 5,
   "metadata": {},
   "outputs": [
    {
     "name": "stdout",
     "output_type": "stream",
     "text": [
      "Fatma Büşra\n",
      "Akkaya\n",
      "25\n",
      "Turkey\n",
      "İstanbul\n"
     ]
    }
   ],
   "source": [
    "class Person:\n",
    "      def __init__(self, firstname, lastname, age, country, city):\n",
    "          self.firstname = firstname\n",
    "          self.lastname = lastname\n",
    "          self.age = age\n",
    "          self.country = country\n",
    "          self.city = city\n",
    "\n",
    "\n",
    "p = Person('Fatma Büşra', 'Akkaya', 25, 'Turkey', 'İstanbul')\n",
    "print(p.firstname)\n",
    "print(p.lastname)\n",
    "print(p.age)\n",
    "print(p.country)\n",
    "print(p.city)"
   ]
  },
  {
   "cell_type": "markdown",
   "metadata": {},
   "source": [
    "### Nesne Yöntemleri Örnek\n",
    "\n",
    "Nesnelerin yöntemleri olabilir. Yöntemler, nesneye ait olan işlevlerdir."
   ]
  },
  {
   "cell_type": "code",
   "execution_count": 7,
   "metadata": {},
   "outputs": [
    {
     "name": "stdout",
     "output_type": "stream",
     "text": [
      "Büşra Akkaya  25 yaşındadır. Büşra yaşadığı şehir olan İstanbul ve Turkey çok sever.\n"
     ]
    }
   ],
   "source": [
    "class Person:\n",
    "      def __init__(self, firstname, lastname, age, country, city):\n",
    "          self.firstname = firstname\n",
    "          self.lastname = lastname\n",
    "          self.age = age\n",
    "          self.country = country\n",
    "          self.city = city\n",
    "      def person_info(self):\n",
    "        return f'{self.firstname} {self.lastname}  {self.age} yaşındadır. Büşra yaşadığı şehir olan {self.city} ve {self.country} çok sever.'\n",
    "\n",
    "p = Person('Büşra', 'Akkaya', 25, 'Turkey', 'İstanbul')\n",
    "print(p.person_info())"
   ]
  },
  {
   "cell_type": "markdown",
   "metadata": {},
   "source": [
    "### Nesne Varsayılan Yöntemleri\n",
    "\n",
    "Bazen, nesne yöntemleriniz için varsayılan değerlere sahip olmak isteyebilirsiniz. Yapıcıdaki parametreler için varsayılan değerler verirsek, sınıfımızı parametresiz olarak çağırdığımızda veya somutlaştırdığımızda hatalardan kaçınabiliriz. Nasıl göründüğüne bir bakalım:"
   ]
  },
  {
   "cell_type": "code",
   "execution_count": 10,
   "metadata": {},
   "outputs": [
    {
     "name": "stdout",
     "output_type": "stream",
     "text": [
      "Büşra Akkaya  25 yaşındadır. Büşra yaşadığı şehir olan İstanbul ve Turkey çok sever.\n",
      "Burak KIR  30 yaşındadır. Burak yaşadığı şehir olan Ankara ve Turkey çok sever.\n",
      "['HTML', 'CSS', 'JavaScript']\n",
      "[]\n"
     ]
    }
   ],
   "source": [
    "class Person:\n",
    "      def __init__(self, firstname='Büşra', lastname='Akkaya', age=25, country='Turkey', city='İstanbul'):\n",
    "          self.firstname = firstname\n",
    "          self.lastname = lastname\n",
    "          self.age = age\n",
    "          self.country = country\n",
    "          self.city = city\n",
    "          self.skills = []\n",
    "\n",
    "      def person_info(self):\n",
    "        return f'{self.firstname} {self.lastname}  {self.age} yaşındadır. {self.firstname} yaşadığı şehir olan {self.city} ve {self.country} çok sever.'\n",
    "      def add_skill(self, skill):\n",
    "          self.skills.append(skill)\n",
    "\n",
    "p1 = Person()\n",
    "print(p1.person_info())\n",
    "p1.add_skill('HTML')\n",
    "p1.add_skill('CSS')\n",
    "p1.add_skill('JavaScript')\n",
    "p2 = Person('Burak', 'KIR', 30, 'Turkey', 'Ankara')\n",
    "print(p2.person_info())\n",
    "print(p1.skills)\n",
    "print(p2.skills)"
   ]
  },
  {
   "cell_type": "markdown",
   "metadata": {},
   "source": [
    "### Üst öğe yöntemini geçersiz kılma(Örnek)"
   ]
  },
  {
   "cell_type": "code",
   "execution_count": 19,
   "metadata": {},
   "outputs": [
    {
     "name": "stdout",
     "output_type": "stream",
     "text": [
      "Büşra Akkaya  25 yaşındadır. O kadın yaşadığı şehir olan İstanbul ve Türkiye yi çok sever.\n",
      "yetenekleri: ['Rprogramlama', 'Python']\n",
      "İbrahim Boz  27 yaşındadır. O erkek yaşadığı şehir olan Ankara ve Türkiye yi çok sever.\n",
      "yetenekleri ['SQL', 'IBM']\n"
     ]
    }
   ],
   "source": [
    "class Student(Person):\n",
    "    def __init__(self, firstname='Büşra', lastname='Akkaya', age=25, country='Türkiye', city='İstanbul',gender='female'):\n",
    "        self.gender=gender\n",
    "        super().__init__(firstname=firstname, lastname=lastname, age=age, country=country, city=city)\n",
    "    def person_info(self):\n",
    "        gender='O kadın' if self.gender =='female' else 'O erkek'\n",
    "        return f'{self.firstname} {self.lastname}  {self.age} yaşındadır. {gender} yaşadığı şehir olan {self.city} ve {self.country} yi çok sever.'\n",
    "\n",
    "        \n",
    "s1=Student('Büşra','Akkaya',25,'Türkiye','İstanbul','female')\n",
    "s2=Student('İbrahim','Boz','27','Türkiye','Ankara','male')\n",
    "print(s1.person_info())\n",
    "s1.add_skill('Rprogramlama')\n",
    "s1.add_skill('Python')\n",
    "print(\"yetenekleri:\",s1.skills)\n",
    "print(s2.person_info())\n",
    "s2.add_skill('SQL')\n",
    "s2.add_skill('IBM')\n",
    "print(\"yetenekleri\",s2.skills)\n"
   ]
  },
  {
   "cell_type": "markdown",
   "metadata": {},
   "source": [
    "Yöntemleri ve özellikleri üst öğesinden otomatik olarak devralmak için super() yerleşik işlevini veya kişi üst adını kullanabiliriz. Yukarıdaki örnekte parent yöntemini geçersiz kılıyoruz. Student  yönteminin farklı bir özelliği vardır, cinsiyetin erkek mi kadın mı olduğunu belirleyebilir ve uygun zamir(O) atayabilir."
   ]
  }
 ],
 "metadata": {
  "interpreter": {
   "hash": "5bb71e04e3d056b3fd374fe835c740c82b88cf9a64babc7a305394decc4b8aa7"
  },
  "kernelspec": {
   "display_name": "Python 3.9.5 64-bit (system)",
   "language": "python",
   "name": "python3"
  },
  "language_info": {
   "codemirror_mode": {
    "name": "ipython",
    "version": 3
   },
   "file_extension": ".py",
   "mimetype": "text/x-python",
   "name": "python",
   "nbconvert_exporter": "python",
   "pygments_lexer": "ipython3",
   "version": "3.9.5"
  },
  "orig_nbformat": 4
 },
 "nbformat": 4,
 "nbformat_minor": 2
}
