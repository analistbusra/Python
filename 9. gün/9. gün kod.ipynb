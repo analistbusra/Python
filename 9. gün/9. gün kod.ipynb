{
 "cells": [
  {
   "cell_type": "code",
   "execution_count": 4,
   "metadata": {},
   "outputs": [
    {
     "name": "stdout",
     "output_type": "stream",
     "text": [
      "b , a'dan büyüktür\n"
     ]
    }
   ],
   "source": [
    "a = 33\n",
    "b = 200\n",
    "if b > a:\n",
    "  print(\"b , a'dan büyüktür\")\n",
    "# b , a'dan büyüktür\n"
   ]
  },
  {
   "cell_type": "code",
   "execution_count": 5,
   "metadata": {},
   "outputs": [
    {
     "name": "stdout",
     "output_type": "stream",
     "text": [
      "A pozitif bir sayıdır\n"
     ]
    }
   ],
   "source": [
    "a  =  3 \n",
    "if  a  >  0 :\n",
    "     print ( 'A pozitif bir sayıdır' )\n",
    "# A pozitif bir sayıdır\n"
   ]
  },
  {
   "cell_type": "code",
   "execution_count": 7,
   "metadata": {},
   "outputs": [
    {
     "ename": "IndentationError",
     "evalue": "unindent does not match any outer indentation level (<tokenize>, line 4)",
     "output_type": "error",
     "traceback": [
      "\u001b[1;36m  File \u001b[1;32m\"<tokenize>\"\u001b[1;36m, line \u001b[1;32m4\u001b[0m\n\u001b[1;33m    else :\u001b[0m\n\u001b[1;37m    ^\u001b[0m\n\u001b[1;31mIndentationError\u001b[0m\u001b[1;31m:\u001b[0m unindent does not match any outer indentation level\n"
     ]
    }
   ],
   "source": [
    "a  =  3 \n",
    "if  a  <  0 :\n",
    "     print ( 'A negatif bir sayıdır' )\n",
    "else:\n",
    "     print ( 'A pozitif bir sayıdır' )\n",
    "     "
   ]
  },
  {
   "cell_type": "code",
   "execution_count": 12,
   "metadata": {},
   "outputs": [
    {
     "ename": "IndentationError",
     "evalue": "unindent does not match any outer indentation level (<tokenize>, line 7)",
     "output_type": "error",
     "traceback": [
      "\u001b[1;36m  File \u001b[1;32m\"<tokenize>\"\u001b[1;36m, line \u001b[1;32m7\u001b[0m\n\u001b[1;33m    else :\u001b[0m\n\u001b[1;37m    ^\u001b[0m\n\u001b[1;31mIndentationError\u001b[0m\u001b[1;31m:\u001b[0m unindent does not match any outer indentation level\n"
     ]
    }
   ],
   "source": [
    "a  =  0 \n",
    "if  a  >  0 :\n",
    "     print ( 'A pozitif bir sayıdır' )\n",
    " # kod işler \n",
    " elif  a  <  0 :\n",
    "     print ( 'A negatif bir sayıdır' )   # çıktı alamayız \n",
    " else :\n",
    "     print ( 'A sıfırdır' )\n",
    "     # çıktı alamayız \n",
    "     "
   ]
  },
  {
   "cell_type": "code",
   "execution_count": 14,
   "metadata": {},
   "outputs": [
    {
     "name": "stdout",
     "output_type": "stream",
     "text": [
      "A pozitiftir\n"
     ]
    }
   ],
   "source": [
    "a = 3\n",
    "print('A pozitiftir') if a > 0 else print('A negatiftir.')\n",
    "#A pozitiftir\n"
   ]
  },
  {
   "cell_type": "code",
   "execution_count": 15,
   "metadata": {},
   "outputs": [
    {
     "name": "stdout",
     "output_type": "stream",
     "text": [
      "B\n"
     ]
    }
   ],
   "source": [
    "a = 2\n",
    "b = 330\n",
    "print(\"A\") if a > b else print(\"B\")\n",
    "# eğer a>b ise \"A\" DEĞİL ise \"B\" çıktısını versin\n",
    "#B"
   ]
  },
  {
   "cell_type": "code",
   "execution_count": 23,
   "metadata": {},
   "outputs": [
    {
     "ename": "IndentationError",
     "evalue": "unindent does not match any outer indentation level (<tokenize>, line 8)",
     "output_type": "error",
     "traceback": [
      "\u001b[1;36m  File \u001b[1;32m\"<tokenize>\"\u001b[1;36m, line \u001b[1;32m8\u001b[0m\n\u001b[1;33m    elif  a  <=  0 :\u001b[0m\n\u001b[1;37m    ^\u001b[0m\n\u001b[1;31mIndentationError\u001b[0m\u001b[1;31m:\u001b[0m unindent does not match any outer indentation level\n"
     ]
    }
   ],
   "source": [
    "a  = 2 \n",
    "if  a  >  0 :\n",
    "     if  a  %  2  ==  0 :\n",
    "         print ( 'A pozitif ve çift tam sayıdır' )\n",
    "     else :\n",
    "         print ( 'A pozitif bir sayıdır' )\n",
    "\n",
    " elif  a  <=  0 :\n",
    "     print ( 'A sıfırdır' )\n",
    " else :\n",
    "     print ( 'A negatif bir sayıdır' )\n",
    "     "
   ]
  },
  {
   "cell_type": "code",
   "execution_count": 27,
   "metadata": {},
   "outputs": [
    {
     "name": "stdout",
     "output_type": "stream",
     "text": [
      "A çift ve pozitif bir tam sayıdır\n"
     ]
    }
   ],
   "source": [
    "a  =  0 \n",
    "if  a  >  0  or a  %  2  ==  0 :\n",
    "         print ( 'A çift ve pozitif bir tam sayıdır' )\n",
    "elif  a  >  0  or a  %  2  !=   0 :\n",
    "      print ( 'A pozitif bir tam sayıdır' )\n",
    "elif  a  ==  0 :\n",
    "     print ( 'A sıfırdır' )\n",
    "else :\n",
    "     print ( 'A negatiftir' )\n",
    "     # A çift ve pozitif bir tam sayıdır\n"
   ]
  },
  {
   "cell_type": "code",
   "execution_count": 24,
   "metadata": {},
   "outputs": [
    {
     "name": "stdout",
     "output_type": "stream",
     "text": [
      "A is zero\n"
     ]
    }
   ],
   "source": [
    "a = 0\n",
    "if a > 0 and a % 2 == 0:\n",
    "        print('A is an even and positive integer')\n",
    "elif a > 0 and a % 2 !=  0:\n",
    "     print('A is a positive integer')\n",
    "elif a == 0:\n",
    "    print('A is zero')\n",
    "else:\n",
    "    print('A is negative')"
   ]
  },
  {
   "cell_type": "code",
   "execution_count": null,
   "metadata": {},
   "outputs": [],
   "source": [
    "yaş=input('kaç yaşındasın')"
   ]
  }
 ],
 "metadata": {
  "interpreter": {
   "hash": "5bb71e04e3d056b3fd374fe835c740c82b88cf9a64babc7a305394decc4b8aa7"
  },
  "kernelspec": {
   "display_name": "Python 3.9.5 64-bit (system)",
   "language": "python",
   "name": "python3"
  },
  "language_info": {
   "codemirror_mode": {
    "name": "ipython",
    "version": 3
   },
   "file_extension": ".py",
   "mimetype": "text/x-python",
   "name": "python",
   "nbconvert_exporter": "python",
   "pygments_lexer": "ipython3",
   "version": "3.9.5"
  },
  "orig_nbformat": 4
 },
 "nbformat": 4,
 "nbformat_minor": 2
}
