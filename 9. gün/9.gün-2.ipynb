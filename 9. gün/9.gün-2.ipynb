{
 "cells": [
  {
   "cell_type": "markdown",
   "metadata": {},
   "source": [
    "1)Öğrencilere aldıkları puanlara göre not veren bir kod yazın:"
   ]
  },
  {
   "cell_type": "code",
   "execution_count": 9,
   "metadata": {},
   "outputs": [
    {
     "name": "stdout",
     "output_type": "stream",
     "text": [
      "14\n",
      "üzgünüz puan başarısız\n"
     ]
    }
   ],
   "source": [
    "puan=input('sınavdan kaç puan aldın')\n",
    "puan=int(puan)\n",
    "print(puan)\n",
    "if (puan)>=80:\n",
    "    print('A')\n",
    "elif 70<=(puan)<=80:\n",
    "    print('B')\n",
    "elif 60<=(puan)<70:\n",
    "    print('C')\n",
    "elif 45<=(puan)<60:\n",
    "    print('D')\n",
    "else:\n",
    "    print('üzgünüz puan başarısız')\n",
    "\n"
   ]
  },
  {
   "cell_type": "markdown",
   "metadata": {},
   "source": [
    "2)Mevsimin Sonbahar, Kış, İlkbahar veya Yaz olup olmadığını kontrol edin. Kullanıcı girişi: Eylül, Ekim veya Kasım ise, sezon Sonbahardır. Aralık, Ocak veya Şubat, mevsim kıştır. Mart, Nisan veya Mayıs, mevsim Bahar, Haziran, Temmuz veya Ağustos, mevsim Yaz\n",
    "\n"
   ]
  },
  {
   "cell_type": "code",
   "execution_count": 15,
   "metadata": {},
   "outputs": [
    {
     "name": "stdout",
     "output_type": "stream",
     "text": [
      "eylül sonbahardadır.\n"
     ]
    }
   ],
   "source": [
    "sonbahar=('eylül','ekim','kasım')\n",
    "kış=('aralık','ocak','şubat')\n",
    "bahar=('mart','nisan','mayıs')\n",
    "yaz=('haziran','temmuz','ağustos')\n",
    "if 'eylül' in sonbahar:\n",
    "    print('eylül sonbahardadır.')\n"
   ]
  },
  {
   "cell_type": "markdown",
   "metadata": {},
   "source": [
    "2)Aşağıdaki liste bazı meyveler içerir:\n",
    "\n",
    "meyveler = [ ' muz ' , ' portakal ' , ' mango ' , ' limon ' ]\n",
    "Listede bir meyve yoksa, meyveyi listeye ekleyin ve değiştirilen listeyi yazdırın. Eğer meyve varsa print('Bu meyve listede zaten var')"
   ]
  },
  {
   "cell_type": "code",
   "execution_count": 16,
   "metadata": {},
   "outputs": [
    {
     "data": {
      "text/plain": [
       "False"
      ]
     },
     "execution_count": 16,
     "metadata": {},
     "output_type": "execute_result"
    }
   ],
   "source": [
    "meyveler=('muz','portakal','mango','limon')\n",
    "'çilek' in meyveler\n"
   ]
  },
  {
   "cell_type": "code",
   "execution_count": 21,
   "metadata": {},
   "outputs": [
    {
     "name": "stdout",
     "output_type": "stream",
     "text": [
      "['muz', 'portakal', 'mango', 'limon', 'çilek']\n"
     ]
    }
   ],
   "source": [
    "meyveler=['muz','portakal','mango','limon']\n",
    "meyveler[0]='muz'\n",
    "meyveler.append('çilek')\n",
    "print(meyveler)"
   ]
  }
 ],
 "metadata": {
  "interpreter": {
   "hash": "5bb71e04e3d056b3fd374fe835c740c82b88cf9a64babc7a305394decc4b8aa7"
  },
  "kernelspec": {
   "display_name": "Python 3.9.5 64-bit (system)",
   "language": "python",
   "name": "python3"
  },
  "language_info": {
   "codemirror_mode": {
    "name": "ipython",
    "version": 3
   },
   "file_extension": ".py",
   "mimetype": "text/x-python",
   "name": "python",
   "nbconvert_exporter": "python",
   "pygments_lexer": "ipython3",
   "version": "3.9.5"
  },
  "orig_nbformat": 4
 },
 "nbformat": 4,
 "nbformat_minor": 2
}
