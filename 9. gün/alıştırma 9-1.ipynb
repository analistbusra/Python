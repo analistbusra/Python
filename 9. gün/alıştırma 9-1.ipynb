{
 "cells": [
  {
   "cell_type": "markdown",
   "metadata": {},
   "source": [
    "1) Girişi kullanarak kullanıcı girdisi alın (\"Yaşınızı girin: \"). Kullanıcı 18 yaşında veya daha büyükse geri bildirimde bulunun: Araba kullanacak yaştasınız. 18'in altındaysa, eksik olan yılları beklemek için geri bildirimde bulunun. "
   ]
  },
  {
   "cell_type": "code",
   "execution_count": 16,
   "metadata": {},
   "outputs": [
    {
     "name": "stdout",
     "output_type": "stream",
     "text": [
      "yaşınızı girin: 25\n",
      "ehliyet alabilecek yaştasın\n"
     ]
    }
   ],
   "source": [
    "\n",
    "yaş=input('yaşınızı girin')\n",
    "print('yaşınızı girin:' , yaş)\n",
    "if yaş == 18:\n",
    "    print('yaşınızı girin:' , yaş)\n",
    "print('ehliyet alabilecek yaştasın')\n"
   ]
  },
  {
   "cell_type": "code",
   "execution_count": 36,
   "metadata": {},
   "outputs": [
    {
     "name": "stdout",
     "output_type": "stream",
     "text": [
      "4\n",
      "ehliyet almak için  4 yaş kadar büyümen gerek\n"
     ]
    }
   ],
   "source": [
    "yaş=input('yaşını gir')\n",
    "yaş=int(yaş)\n",
    "erişkin=(18)\n",
    "kalan=((erişkin)-(yaş))\n",
    "print(kalan)\n",
    "print('ehliyet almak için ',kalan, 'yaş kadar büyümen gerek')"
   ]
  },
  {
   "cell_type": "code",
   "execution_count": 64,
   "metadata": {},
   "outputs": [
    {
     "name": "stdout",
     "output_type": "stream",
     "text": [
      "yaşınızı girin: 14\n",
      "4\n",
      "ehliyet almak için  4 yaş kadar büyümen gerek\n"
     ]
    }
   ],
   "source": [
    "yaş=input('yaşını gir')\n",
    "yaş=int(yaş)\n",
    "print('yaşınızı girin:' , yaş)\n",
    "if (yaş) > 18:\n",
    "   print('ehliyet alabilecek yaştasın')\n",
    "   \n",
    "else:\n",
    " erişkin=(18)\n",
    " kalan=((erişkin)-(yaş))\n",
    " print(kalan)\n",
    " print('ehliyet almak için ',kalan, 'yaş kadar büyümen gerek')"
   ]
  },
  {
   "cell_type": "markdown",
   "metadata": {},
   "source": [
    "2)if… else kullanarak my_age ve your_age değerlerini karşılaştırın. Kim daha yaşlı (ben mi sen mi)? Girdi olarak yaşı almak için input(“Yaşınızı girin: ”) kullanın. 1 yıllık yaş farkı için \"yıl\", daha büyük farklar için \"yıl\" ve benim_yaşım = yaşınız_yaşıysa özel bir metin yazdırmak için yuvalanmış bir koşul kullanabilirsiniz. "
   ]
  },
  {
   "cell_type": "code",
   "execution_count": 61,
   "metadata": {},
   "outputs": [
    {
     "name": "stdout",
     "output_type": "stream",
     "text": [
      "35\n",
      "41\n",
      "benim yaşım senin yaşından 6 yaş küçük\n"
     ]
    }
   ],
   "source": [
    "benim_yaşım=input('kendi yaşını gir')\n",
    "benim_yaşım=int(benim_yaşım)\n",
    "print(benim_yaşım)\n",
    "senin_yaşın=input('onun yaşını gir')\n",
    "senin_yaşın=int(senin_yaşın)\n",
    "print(senin_yaşın)\n",
    "if (benim_yaşım)>(senin_yaşın):\n",
    "    fark=((benim_yaşım)-(senin_yaşın))\n",
    "    fark=int(fark)\n",
    "    print('benim yaşım senin yaşından ', fark, 'yaş büyüktür')\n",
    "elif (benim_yaşım)==(senin_yaşın):\n",
    "     print('OOO yaşasın aynı yaştayız')\n",
    "else:\n",
    "    fazla=((senin_yaşın)-(benim_yaşım))\n",
    "    fazla=int(fazla)\n",
    "    print('benim yaşım senin yaşından',fazla,'yaş küçük')"
   ]
  },
  {
   "cell_type": "markdown",
   "metadata": {},
   "source": [
    "3)Giriş istemini kullanarak kullanıcıdan iki numara alın. a, b'den büyükse, a, b'den büyüktür, a, b'den küçükse, a, b'den küçüktür, yoksa a, b'ye eşittir. "
   ]
  },
  {
   "cell_type": "code",
   "execution_count": 66,
   "metadata": {},
   "outputs": [
    {
     "name": "stdout",
     "output_type": "stream",
     "text": [
      "1.numara 5\n",
      "2. numara 5\n",
      "a b ye eşittir\n"
     ]
    }
   ],
   "source": [
    "a_number=input('1. numaryı girin')\n",
    "print('1.numara', a_number)\n",
    "a_number=int(a_number)\n",
    "b_number=input('2. numaryı girin')\n",
    "b_number=int(b_number)\n",
    "print('2. numara',b_number)\n",
    "if (a_number)>(b_number):\n",
    "    print('a b den büyüktür')\n",
    "elif (a_number)<(b_number):\n",
    "    print('a,b den küçüktür')\n",
    "else:\n",
    "    print('a b ye eşittir')"
   ]
  },
  {
   "cell_type": "code",
   "execution_count": null,
   "metadata": {},
   "outputs": [],
   "source": []
  }
 ],
 "metadata": {
  "interpreter": {
   "hash": "5bb71e04e3d056b3fd374fe835c740c82b88cf9a64babc7a305394decc4b8aa7"
  },
  "kernelspec": {
   "display_name": "Python 3.9.5 64-bit (system)",
   "language": "python",
   "name": "python3"
  },
  "language_info": {
   "codemirror_mode": {
    "name": "ipython",
    "version": 3
   },
   "file_extension": ".py",
   "mimetype": "text/x-python",
   "name": "python",
   "nbconvert_exporter": "python",
   "pygments_lexer": "ipython3",
   "version": "3.9.5"
  },
  "orig_nbformat": 4
 },
 "nbformat": 4,
 "nbformat_minor": 2
}
