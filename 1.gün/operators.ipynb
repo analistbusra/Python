{
 "cells": [
  {
   "cell_type": "code",
   "execution_count": 1,
   "metadata": {},
   "outputs": [],
   "source": [
    "ogrenciNo=input('ogrencİ no girin')"
   ]
  },
  {
   "cell_type": "code",
   "execution_count": 2,
   "metadata": {},
   "outputs": [
    {
     "name": "stdout",
     "output_type": "stream",
     "text": [
      "karpuz\n"
     ]
    }
   ],
   "source": [
    "Karpuz=('karpuz')\n",
    "print(Karpuz)"
   ]
  },
  {
   "cell_type": "code",
   "execution_count": 3,
   "metadata": {},
   "outputs": [],
   "source": [
    "KULLANICI_ADI=('ADDD')"
   ]
  },
  {
   "cell_type": "code",
   "execution_count": 5,
   "metadata": {},
   "outputs": [
    {
     "name": "stdout",
     "output_type": "stream",
     "text": [
      "ADDD\n"
     ]
    }
   ],
   "source": [
    "print(KULLANICI_ADI)"
   ]
  },
  {
   "cell_type": "code",
   "execution_count": 6,
   "metadata": {},
   "outputs": [
    {
     "name": "stdout",
     "output_type": "stream",
     "text": [
      "jjj\n"
     ]
    }
   ],
   "source": [
    "KullanıcıAdı=('jjj')\n",
    "print(KullanıcıAdı)"
   ]
  },
  {
   "cell_type": "code",
   "execution_count": 2,
   "metadata": {},
   "outputs": [
    {
     "name": "stdout",
     "output_type": "stream",
     "text": [
      "True\n"
     ]
    }
   ],
   "source": [
    "print(True)"
   ]
  },
  {
   "cell_type": "code",
   "execution_count": 3,
   "metadata": {},
   "outputs": [
    {
     "name": "stdout",
     "output_type": "stream",
     "text": [
      "2\n"
     ]
    }
   ],
   "source": [
    "print(4//2)"
   ]
  },
  {
   "cell_type": "code",
   "execution_count": 5,
   "metadata": {},
   "outputs": [
    {
     "name": "stdout",
     "output_type": "stream",
     "text": [
      "a + b =  10\n",
      "a - b =  6\n",
      "a * b =  16\n",
      "a / b =  4.0\n",
      "a % b = 0\n",
      "a // b =  4\n",
      "a ** b = 64\n"
     ]
    }
   ],
   "source": [
    "a=8 # a bir değişkendir ve 8 a'ya atanmıştır.\n",
    "b=2 # b bir değişkendir ve 2 b'ye atanmıştır.\n",
    "toplam  =  a  +  b \n",
    "fark  =  a  -  b \n",
    "çarpım  =  a  *  b \n",
    "bölme  =  a  /  b \n",
    "kalan  =  a  %  b \n",
    "bölüm =  a  //  b \n",
    "üstel  =  a **  b \n",
    "\n",
    "print ( 'a + b = ' , toplam )\n",
    "print ( 'a - b = ' , fark )\n",
    "print ( 'a * b = ' , çarpım )\n",
    "print ( 'a / b = ' , bölme )\n",
    "print ( 'a % b =' , kalan )\n",
    "print ( 'a // b = ' , bölüm  )\n",
    "print ( 'a ** b =' , üstel )\n",
    " \n"
   ]
  },
  {
   "cell_type": "code",
   "execution_count": 6,
   "metadata": {},
   "outputs": [
    {
     "name": "stdout",
     "output_type": "stream",
     "text": [
      "True\n"
     ]
    }
   ],
   "source": [
    "print(5>4)"
   ]
  },
  {
   "cell_type": "code",
   "execution_count": 9,
   "metadata": {},
   "outputs": [
    {
     "name": "stdout",
     "output_type": "stream",
     "text": [
      "False\n"
     ]
    }
   ],
   "source": [
    "print(5==8)"
   ]
  },
  {
   "cell_type": "code",
   "execution_count": 10,
   "metadata": {},
   "outputs": [
    {
     "name": "stdout",
     "output_type": "stream",
     "text": [
      "False\n"
     ]
    }
   ],
   "source": [
    "print(len('dinazor')==len('sarımsak'))"
   ]
  },
  {
   "cell_type": "code",
   "execution_count": 11,
   "metadata": {},
   "outputs": [
    {
     "name": "stdout",
     "output_type": "stream",
     "text": [
      "1 is 1 True\n"
     ]
    },
    {
     "name": "stderr",
     "output_type": "stream",
     "text": [
      "<>:1: SyntaxWarning: \"is\" with a literal. Did you mean \"==\"?\n",
      "<>:1: SyntaxWarning: \"is\" with a literal. Did you mean \"==\"?\n",
      "C:\\Users\\BRA~1\\AppData\\Local\\Temp/ipykernel_10464/1154352378.py:1: SyntaxWarning: \"is\" with a literal. Did you mean \"==\"?\n",
      "  print ( '1 is 1' , 1  is  1 )\n"
     ]
    }
   ],
   "source": [
    "print ( '1 is1' , 1  is  1 )  "
   ]
  },
  {
   "cell_type": "code",
   "execution_count": 14,
   "metadata": {},
   "outputs": [
    {
     "name": "stdout",
     "output_type": "stream",
     "text": [
      "elma kırmızıdır elma kırmızıdır\n"
     ]
    }
   ],
   "source": [
    "print('elma kırmızıdır','elma kırmızıdır')"
   ]
  },
  {
   "cell_type": "code",
   "execution_count": 17,
   "metadata": {},
   "outputs": [
    {
     "name": "stdout",
     "output_type": "stream",
     "text": [
      "True\n",
      "False\n",
      "False\n"
     ]
    }
   ],
   "source": [
    "print( 3  >  2  and  4  >  3 ) \n",
    "print( 3  >  2  and 4  <  3 ) \n",
    "print( 3  <  2  and  4  <  3 ) \n",
    "\n"
   ]
  },
  {
   "cell_type": "code",
   "execution_count": null,
   "metadata": {},
   "outputs": [],
   "source": []
  }
 ],
 "metadata": {
  "interpreter": {
   "hash": "5bb71e04e3d056b3fd374fe835c740c82b88cf9a64babc7a305394decc4b8aa7"
  },
  "kernelspec": {
   "display_name": "Python 3.9.5 64-bit (system)",
   "language": "python",
   "name": "python3"
  },
  "language_info": {
   "codemirror_mode": {
    "name": "ipython",
    "version": 3
   },
   "file_extension": ".py",
   "mimetype": "text/x-python",
   "name": "python",
   "nbconvert_exporter": "python",
   "pygments_lexer": "ipython3",
   "version": "3.9.5"
  },
  "orig_nbformat": 4
 },
 "nbformat": 4,
 "nbformat_minor": 2
}
