{
 "cells": [
  {
   "cell_type": "code",
   "execution_count": 1,
   "metadata": {},
   "outputs": [
    {
     "name": "stdout",
     "output_type": "stream",
     "text": [
      "0\n",
      "1\n",
      "2\n",
      "3\n",
      "4\n"
     ]
    }
   ],
   "source": [
    "sayma = 0\n",
    "while sayma  < 5:\n",
    "    print(sayma)\n",
    "    sayma = sayma + 1\n",
    "    # 1'er 1'er 5'e kadar 5 dahil değil tekrar eden sayıları yazdırıypruz\n",
    "    #0\n",
    "1\n",
    "2\n",
    "3\n",
    "4\n",
    "\n"
   ]
  },
  {
   "cell_type": "code",
   "execution_count": 3,
   "metadata": {},
   "outputs": [
    {
     "name": "stdout",
     "output_type": "stream",
     "text": [
      "0\n",
      "1\n",
      "2\n",
      "3\n",
      "4\n",
      "5\n"
     ]
    }
   ],
   "source": [
    "say  =  0 \n",
    "while  say <  5 :\n",
    "  print ( say )\n",
    "  say  =  say  +  1 \n",
    "else:\n",
    "  print( say )\n",
    "  # bu komutu kullanarak 5'i de dahil edebiliriz.\n",
    "  # 0\n",
    "1\n",
    "2\n",
    "3\n",
    "4\n",
    "5"
   ]
  },
  {
   "cell_type": "code",
   "execution_count": 4,
   "metadata": {},
   "outputs": [
    {
     "name": "stdout",
     "output_type": "stream",
     "text": [
      "0\n",
      "1\n",
      "2\n"
     ]
    }
   ],
   "source": [
    "count = 0\n",
    "while count < 5:\n",
    "    print(count)\n",
    "    count = count + 1\n",
    "    if count == 3:\n",
    "        break\n",
    "    # sayı 0'dan 5'e kadar gider eğer 3'e eşit olursa break yani dur dediğimiz komut\n",
    "    #0\n",
    "    #1\n",
    "    #2\n",
    "    "
   ]
  },
  {
   "cell_type": "code",
   "execution_count": 8,
   "metadata": {},
   "outputs": [
    {
     "name": "stdout",
     "output_type": "stream",
     "text": [
      "0\n",
      "1\n",
      "2\n"
     ]
    }
   ],
   "source": [
    "say= 0\n",
    "while say < 5:\n",
    "    if say== 3:\n",
    "       break\n",
    "    print(say)\n",
    "    say = say + 1\n",
    "    #0\n",
    "    #1\n",
    "    #2\n",
    "    #4\n"
   ]
  },
  {
   "cell_type": "code",
   "execution_count": 9,
   "metadata": {},
   "outputs": [
    {
     "name": "stdout",
     "output_type": "stream",
     "text": [
      "0\n",
      "1\n",
      "2\n",
      "3\n",
      "4\n",
      "5\n"
     ]
    }
   ],
   "source": [
    "sayılar  = [ 0 , 1 , 2 , 3 , 4 , 5 ]\n",
    "for numara  in sayılar : # numara  sadece bu döngü içine geçerli listenin öğeleri başvurmak için geçici adıdır \n",
    "    print ( numara )  \n",
    "## 0\n",
    "1\n",
    "2\n",
    "3\n",
    "4\n",
    "5"
   ]
  },
  {
   "cell_type": "code",
   "execution_count": 11,
   "metadata": {},
   "outputs": [
    {
     "name": "stdout",
     "output_type": "stream",
     "text": [
      "P\n",
      "y\n",
      "t\n",
      "h\n",
      "o\n",
      "n\n",
      "P\n",
      "y\n",
      "t\n",
      "h\n",
      "o\n",
      "n\n"
     ]
    }
   ],
   "source": [
    "dil = 'Python'\n",
    "for harf in dil:\n",
    "    print(harf)\n",
    "\n",
    "\n",
    "for i in range(len(dil)):\n",
    "    print(dil[i])\n",
    "    #P\n",
    "y\n",
    "t\n",
    "h\n",
    "o\n",
    "n\n",
    "P\n",
    "y\n",
    "t\n",
    "h\n",
    "o\n",
    "n"
   ]
  },
  {
   "cell_type": "code",
   "execution_count": 12,
   "metadata": {},
   "outputs": [
    {
     "name": "stdout",
     "output_type": "stream",
     "text": [
      "0\n",
      "1\n",
      "2\n",
      "3\n",
      "4\n",
      "5\n"
     ]
    }
   ],
   "source": [
    "numbers = (0, 1, 2, 3, 4, 5)\n",
    "for number in numbers:\n",
    "    print(number)\n",
    "    #0\n",
    "1\n",
    "2\n",
    "3\n",
    "4\n",
    "5"
   ]
  },
  {
   "cell_type": "code",
   "execution_count": 15,
   "metadata": {},
   "outputs": [
    {
     "name": "stdout",
     "output_type": "stream",
     "text": [
      "first_name\n",
      "last_name\n",
      "yaş\n",
      "ülke\n",
      "is_marred\n",
      "beceri\n",
      "adres\n",
      "first_name Asabeneh\n",
      "last_name Yetayeh\n",
      "yaş 250\n",
      "ülke Finlandiya\n",
      "is_marred True\n",
      "beceri ['JavaScript', 'R', 'SPSS', 'MATLAB', 'Python']\n",
      "adres {'sokak': 'MANOLYA SOKAK', 'posta kodu': '02210'}\n"
     ]
    }
   ],
   "source": [
    "kişi  = {\n",
    "     'first_name' : 'Asabeneh' ,\n",
    "     'last_name' : 'Yetayeh' ,\n",
    "     'yaş' : 250 ,\n",
    "     'ülke' : 'Finlandiya' ,\n",
    "     'is_marred' : True ,\n",
    "     'beceri' : [ 'JavaScript' , 'R' , 'SPSS' , 'MATLAB' , 'Python' ],\n",
    "     'adres' :{\n",
    "         'sokak' : 'MANOLYA SOKAK' ,\n",
    "        'posta kodu' : '02210'\n",
    "    }\n",
    "}\n",
    "for anahtar  in kişi :\n",
    "     print ( anahtar )\n",
    "\n",
    "for anahtar,değer in  kişi.items ():\n",
    "     print ( anahtar , değer )\n",
    "\n",
    "first_name\n",
    "last_name\n",
    "yaş\n",
    "ülke\n",
    "is_marred\n",
    "beceri\n",
    "adres\n",
    "first_name Asabeneh\n",
    "last_name Yetayeh\n",
    "yaş 250\n",
    "ülke Finlandiya\n",
    "is_marred True\n",
    "beceri ['JavaScript', 'R', 'SPSS', 'MATLAB', 'Python']\n",
    "adres {'sokak': 'MANOLYA SOKAK', 'posta kodu': '02210'}\n"
   ]
  },
  {
   "cell_type": "code",
   "execution_count": 16,
   "metadata": {},
   "outputs": [
    {
     "name": "stdout",
     "output_type": "stream",
     "text": [
      "IBM\n",
      "Oracle\n",
      "Google\n",
      "Facebook\n",
      "Microsoft\n",
      "Amazon\n",
      "Apple\n"
     ]
    }
   ],
   "source": [
    "bazı_şirketler = {'Facebook', 'Google', 'Microsoft', 'Apple', 'IBM', 'Oracle', 'Amazon'}\n",
    "for şirket in bazı_şirketler:\n",
    "    print(şirket)\n",
    "    #IBM\n",
    "Oracle\n",
    "Google\n",
    "Facebook\n",
    "Microsoft\n",
    "Amazon\n",
    "Apple"
   ]
  },
  {
   "cell_type": "code",
   "execution_count": 21,
   "metadata": {},
   "outputs": [
    {
     "name": "stdout",
     "output_type": "stream",
     "text": [
      "0\n",
      "sıradaki numara şu olabilir: 1\n",
      "1\n",
      "sıradaki numara şu olabilir: 2\n",
      "2\n",
      "sıradaki numara şu olabilir: 3\n",
      "3\n",
      "4\n",
      "sıradaki numara şu olabilir: 5\n",
      "5\n",
      "döngü durdu\n",
      "döngünün dışında\n"
     ]
    }
   ],
   "source": [
    "numbers = (0,1,2,3,4,5)\n",
    "for number in numbers:\n",
    "    print(number)\n",
    "    if number == 3:\n",
    "        continue\n",
    "    print('sıradaki numara şu olabilir:', number + 1) if number != 5 else print(\"döngü durdu\")\n",
    "print('döngünün dışında')\n",
    "0\n",
    "sıradaki numara şu olabilir: 1\n",
    "1\n",
    "sıradaki numara şu olabilir: 2\n",
    "2\n",
    "sıradaki numara şu olabilir: 3\n",
    "3\n",
    "4\n",
    "sıradaki numara şu olabilir: 5\n",
    "5\n",
    "döngü durdu\n",
    "döngünün dışında\n"
   ]
  },
  {
   "cell_type": "code",
   "execution_count": 22,
   "metadata": {},
   "outputs": [
    {
     "name": "stdout",
     "output_type": "stream",
     "text": [
      "[0, 1, 2, 3, 4, 5, 6, 7, 8, 9, 10]\n",
      "{1, 2, 3, 4, 5, 6, 7, 8, 9, 10}\n"
     ]
    }
   ],
   "source": [
    "lst = list(range(11)) \n",
    "print(lst) # [0, 1, 2, 3, 4, 5, 6, 7, 8, 9, 10]\n",
    "st = set(range(1, 11))  #{1, 2, 3, 4, 5, 6, 7, 8, 9, 10}  \n",
    "print(st)\n"
   ]
  },
  {
   "cell_type": "code",
   "execution_count": 23,
   "metadata": {},
   "outputs": [
    {
     "name": "stdout",
     "output_type": "stream",
     "text": [
      "[0, 2, 4, 6, 8, 10]\n",
      "{0, 2, 4, 6, 8, 10}\n"
     ]
    }
   ],
   "source": [
    "lst = list(range(0,11,2))\n",
    "print(lst) # [0, 2, 4, 6, 8, 10] 0'da 11'e 2 şer artan sayı dizisi\n",
    "st = set(range(0,11,2))\n",
    "print(st) #  {0, 2, 4, 6, 8, 10} 0'dan 11'e kadar 2 şer artan set \n"
   ]
  },
  {
   "cell_type": "code",
   "execution_count": 24,
   "metadata": {},
   "outputs": [
    {
     "name": "stdout",
     "output_type": "stream",
     "text": [
      "0\n",
      "1\n",
      "2\n",
      "3\n",
      "4\n",
      "5\n",
      "6\n",
      "7\n",
      "8\n",
      "9\n",
      "10\n"
     ]
    }
   ],
   "source": [
    "for number in range(11):\n",
    "    print(number)  "
   ]
  },
  {
   "cell_type": "code",
   "execution_count": 25,
   "metadata": {},
   "outputs": [],
   "source": [
    "kişi  = {\n",
    "     'first_name' : 'Asabeneh' ,\n",
    "     'last_name' : 'Yetayeh' ,\n",
    "     'yaş' : 250 ,\n",
    "     'ülke' : 'Finlandiya' ,\n",
    "     'is_marred' : True,\n",
    "     'beceri' : [ 'JavaScript' , 'Tepki ' , 'Düğüm' , 'MongoDB' , 'Python' ],\n",
    "     'adres' : {\n",
    "         'sokak' : 'Uzay caddesi',\n",
    "         'posta kodu' : '02210'\n",
    "    }\n",
    "}\n",
    "for  anahtarın  in kişi :\n",
    "     if  anahtarın  ==  'beceriler' :\n",
    "         for beceri  in kişi [ 'beceriler' ]:\n",
    "             print ( beceri)"
   ]
  },
  {
   "cell_type": "code",
   "execution_count": 27,
   "metadata": {},
   "outputs": [
    {
     "name": "stdout",
     "output_type": "stream",
     "text": [
      "0\n",
      "1\n",
      "2\n",
      "3\n",
      "4\n",
      "5\n",
      "6\n",
      "7\n",
      "8\n",
      "9\n",
      "10\n",
      "döngü durdu 10\n"
     ]
    }
   ],
   "source": [
    "for numara in range(11):\n",
    "    print(numara)   # 0 dan 10 a rakamları yazar 11 dahil değil\n",
    "else:\n",
    "    print('döngü durdu', numara)\n",
    "    for numara in range(11):\n",
    "    print(numara)   # 0 dan 10 a rakamları yazar 11 dahil değil\n",
    "else:\n",
    "    print('döngü durdu', numara)\n",
    "0\n",
    "1\n",
    "2\n",
    "3\n",
    "4\n",
    "5\n",
    "6\n",
    "7\n",
    "8\n",
    "9\n",
    "10\n",
    "döngü durdu 10"
   ]
  },
  {
   "cell_type": "code",
   "execution_count": 37,
   "metadata": {},
   "outputs": [
    {
     "name": "stdout",
     "output_type": "stream",
     "text": [
      "5\n"
     ]
    }
   ],
   "source": [
    "for number in range(6):\n",
    "    pass\n",
    "print(number)"
   ]
  }
 ],
 "metadata": {
  "interpreter": {
   "hash": "5bb71e04e3d056b3fd374fe835c740c82b88cf9a64babc7a305394decc4b8aa7"
  },
  "kernelspec": {
   "display_name": "Python 3.9.5 64-bit (system)",
   "language": "python",
   "name": "python3"
  },
  "language_info": {
   "codemirror_mode": {
    "name": "ipython",
    "version": 3
   },
   "file_extension": ".py",
   "mimetype": "text/x-python",
   "name": "python",
   "nbconvert_exporter": "python",
   "pygments_lexer": "ipython3",
   "version": "3.9.5"
  },
  "orig_nbformat": 4
 },
 "nbformat": 4,
 "nbformat_minor": 2
}
