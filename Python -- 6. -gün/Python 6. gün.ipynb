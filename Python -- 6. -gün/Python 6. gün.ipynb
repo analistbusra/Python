{
 "cells": [
  {
   "cell_type": "markdown",
   "metadata": {},
   "source": [
    "# TUPLE\n",
    "\n",
    "Tuple, sıralı ve değiştirilemez (değişmez) farklı veri türlerinin bir birikimidir. Tuple'lar yuvarlak parantez () ile yazılır. Bir Tuple oluşturulduktan sonra değerlerini değiştiremeyiz. Değiştirilemez olduğu için bir demet içinde ekleme, çıkarma yöntemlerini kullanamayız. Listeden farklı olarak, Tuple'ın birkaç yöntemi vardır. Tuples ile ilgili yöntemler:\n",
    "\n",
    "tuple(): boş bir tuple oluşturmak için \n",
    "\n",
    "count(): Bir tuple içindeki belirli bir öğenin sayısını saymak için \n",
    "\n",
    "index(): bir tanımlama grubunda belirtilen bir öğenin dizinini bulmak için\n",
    "\n",
    " (+) operatör: iki veya daha fazla tuple birleştirmek ve yeni bir demet oluşturmak için\n",
    "Bir Tuple Oluşturma\n",
    "\n",
    "•\tBoş Tuple olarak oluşturma:\n",
    "\n",
    "Aşağıda iki farklı şekilde boş Tuple oluşturmayı inceleyelim\n"
   ]
  },
  {
   "cell_type": "code",
   "execution_count": 1,
   "metadata": {},
   "outputs": [
    {
     "data": {
      "text/plain": [
       "()"
      ]
     },
     "execution_count": 1,
     "metadata": {},
     "output_type": "execute_result"
    }
   ],
   "source": [
    "boş_tuple=()\n",
    "tuple()"
   ]
  },
  {
   "cell_type": "markdown",
   "metadata": {},
   "source": [
    "•\tBaşlangıç değerli sabit Tuple\n",
    "Geçen ders gösterdiğimiz örnekler aklımıza gelebilir böylelikle farklılıklarda gözümüze çarpacaktır."
   ]
  },
  {
   "cell_type": "code",
   "execution_count": 2,
   "metadata": {},
   "outputs": [
    {
     "name": "stdout",
     "output_type": "stream",
     "text": [
      "True\n",
      "False\n"
     ]
    },
    {
     "ename": "TypeError",
     "evalue": "'tuple' object does not support item assignment",
     "output_type": "error",
     "traceback": [
      "\u001b[1;31m---------------------------------------------------------------------------\u001b[0m",
      "\u001b[1;31mTypeError\u001b[0m                                 Traceback (most recent call last)",
      "\u001b[1;32mC:\\Users\\BRA~1\\AppData\\Local\\Temp/ipykernel_11680/339076466.py\u001b[0m in \u001b[0;36m<module>\u001b[1;34m\u001b[0m\n\u001b[0;32m      2\u001b[0m \u001b[0mprint\u001b[0m\u001b[1;33m(\u001b[0m\u001b[1;34m'muz'\u001b[0m \u001b[1;32min\u001b[0m \u001b[0mmeyveler\u001b[0m\u001b[1;33m)\u001b[0m \u001b[1;31m# True\u001b[0m\u001b[1;33m\u001b[0m\u001b[1;33m\u001b[0m\u001b[0m\n\u001b[0;32m      3\u001b[0m \u001b[0mprint\u001b[0m\u001b[1;33m(\u001b[0m\u001b[1;34m'ananas'\u001b[0m \u001b[1;32min\u001b[0m \u001b[0mmeyveler\u001b[0m\u001b[1;33m)\u001b[0m \u001b[1;31m# False\u001b[0m\u001b[1;33m\u001b[0m\u001b[1;33m\u001b[0m\u001b[0m\n\u001b[1;32m----> 4\u001b[1;33m \u001b[0mmeyveler\u001b[0m\u001b[1;33m[\u001b[0m\u001b[1;36m0\u001b[0m\u001b[1;33m]\u001b[0m \u001b[1;33m=\u001b[0m \u001b[1;34m'apple'\u001b[0m\u001b[1;33m\u001b[0m\u001b[1;33m\u001b[0m\u001b[0m\n\u001b[0m",
      "\u001b[1;31mTypeError\u001b[0m: 'tuple' object does not support item assignment"
     ]
    }
   ],
   "source": [
    "meyveler= ('muz', 'portakal', 'mango', 'limon')\n",
    "print('muz' in meyveler) # True\n",
    "print('ananas' in meyveler) # False\n",
    "meyveler[0] = 'apple'# Tuple ait olmayan [] kullanıldığı için sistem error verir"
   ]
  },
  {
   "cell_type": "markdown",
   "metadata": {},
   "source": [
    "## Tuple Liste Veri Tipi Hazırlama\n",
    "\n",
    "•\tPozitif İndeksleme Liste veri tipine benzer şekilde, grup öğelerine erişmek için pozitif veya negatif indeksleme kullanıyoruz.\n",
    "\n",
    "‘Büşra’=0  ‘Gamze’=1 ‘Ali’=2 ‘Ahmet’=3"
   ]
  },
  {
   "cell_type": "code",
   "execution_count": 3,
   "metadata": {},
   "outputs": [
    {
     "name": "stdout",
     "output_type": "stream",
     "text": [
      "Büşra\n"
     ]
    }
   ],
   "source": [
    "isimler=('Büşra','Gamze','Ali','Ahmet')\n",
    "birinci_isim=isimler[0]\n",
    "print(birinci_isim)"
   ]
  },
  {
   "cell_type": "markdown",
   "metadata": {},
   "source": [
    "•\tNegatif indeksleme, sondan başlamak anlamına gelir, -1 son maddeye atıfta bulunur, -2 sondan ikinciye olarak indekslenir."
   ]
  },
  {
   "cell_type": "code",
   "execution_count": 4,
   "metadata": {},
   "outputs": [
    {
     "name": "stdout",
     "output_type": "stream",
     "text": [
      "son meyve: limon\n"
     ]
    }
   ],
   "source": [
    "meyveler= ('muz', 'portakal', 'mango', 'limon')\n",
    "birinci_e= meyveler[-1]\n",
    "ikinci_e= meyveler[-2]\n",
    "print('son meyve:',birinci_e)"
   ]
  },
  {
   "cell_type": "markdown",
   "metadata": {},
   "source": [
    "## Tuple Dilimleri\n",
    "\n",
    "Tuple'da nerede başlayıp nerede biteceğini bir dizi aralık belirterek bir alt-Tuple'ı dilimleyebiliriz.\n",
    "\n",
    "•\tPozitif Endeksler Aralığı\n",
    "\n",
    "Tuple ile ilk iki değişkeni ayıralım ve bunu aralık bildirelim unutmayalım 4. gün dosyasında da pozitif endeksleme yapmıştık.\n"
   ]
  },
  {
   "cell_type": "code",
   "execution_count": 5,
   "metadata": {},
   "outputs": [
    {
     "name": "stdout",
     "output_type": "stream",
     "text": [
      "('muz', 'portakal')\n"
     ]
    }
   ],
   "source": [
    "meyveler= ('muz', 'portakal', 'mango', 'limon')\n",
    "ilk_2=meyveler[0:2]\n",
    "print(ilk_2)"
   ]
  },
  {
   "cell_type": "markdown",
   "metadata": {},
   "source": [
    "Bütün terimleri kapsayan aralık komuttu aşağıdaki örnekte görebiliriz."
   ]
  },
  {
   "cell_type": "code",
   "execution_count": 6,
   "metadata": {},
   "outputs": [
    {
     "name": "stdout",
     "output_type": "stream",
     "text": [
      "('muz', 'portakal', 'mango', 'limon')\n"
     ]
    }
   ],
   "source": [
    "meyveler= ('muz', 'portakal', 'mango', 'limon')\n",
    "ilk_2=meyveler[0:]\n",
    "print(ilk_2)"
   ]
  },
  {
   "cell_type": "markdown",
   "metadata": {},
   "source": [
    "•\tNegatif İndeks Aralığı\n",
    "\n",
    "Tüm ögeleri kapsayan negatif indeks aralığı Pthon kodlaması aşağıdaki örnek ile görülmektedir.\n"
   ]
  },
  {
   "cell_type": "code",
   "execution_count": 7,
   "metadata": {},
   "outputs": [
    {
     "name": "stdout",
     "output_type": "stream",
     "text": [
      "('muz', 'portakal', 'mango', 'limon')\n"
     ]
    }
   ],
   "source": [
    "meyveler= ('muz', 'portakal', 'mango', 'limon')\n",
    "ilk_2=meyveler[-4:]\n",
    "print(ilk_2)"
   ]
  },
  {
   "cell_type": "markdown",
   "metadata": {},
   "source": [
    "Son 2 ögeyi getiren negatif indeks aralığı Pthon kodlaması aşağıdaki örnek ile görülmektedir."
   ]
  },
  {
   "cell_type": "code",
   "execution_count": 8,
   "metadata": {},
   "outputs": [
    {
     "name": "stdout",
     "output_type": "stream",
     "text": [
      "('mango',)\n"
     ]
    }
   ],
   "source": [
    "meyveler= ('muz', 'portakal', 'mango', 'limon')\n",
    "ilk_2=meyveler[-2:-1]\n",
    "print(ilk_2)"
   ]
  },
  {
   "cell_type": "markdown",
   "metadata": {},
   "source": [
    "## Tuple'larla Listeleri Değiştirme\n",
    "\n",
    "Genel gösterimlerini inceleyelim tpl() değişkeni bir tuple() liste şeklindedir daha sonra list() komutunun içine yazılarak liste olarak tanımlanır.\n"
   ]
  },
  {
   "cell_type": "code",
   "execution_count": 9,
   "metadata": {},
   "outputs": [],
   "source": [
    "tpl=('muz', 'portakal', 'mango', 'limon')\n",
    "lst=list(tpl)"
   ]
  },
  {
   "cell_type": "markdown",
   "metadata": {},
   "source": [
    "Şimdi aşağıdaki örnek ile net bir şekilde Tuple ve Liste farkını görebiliriz."
   ]
  },
  {
   "cell_type": "code",
   "execution_count": 10,
   "metadata": {},
   "outputs": [
    {
     "name": "stdout",
     "output_type": "stream",
     "text": [
      "['elma', 'portakal', 'mango', 'limon']\n",
      "('elma', 'portakal', 'mango', 'limon')\n"
     ]
    }
   ],
   "source": [
    "meyveler  = ( 'muz' , 'portakal' , 'mango' , 'limon' )\n",
    "meyveler  =  list ( meyveler )\n",
    "meyveler [ 0 ] =  'elma' \n",
    "print ( meyveler )      \n",
    "meyveler  =  tuple ( meyveler )\n",
    "print ( meyveler )  "
   ]
  },
  {
   "cell_type": "markdown",
   "metadata": {},
   "source": [
    "Bir Tuple'daki Bir Öğeyi Kontrol Etme"
   ]
  },
  {
   "cell_type": "code",
   "execution_count": 11,
   "metadata": {},
   "outputs": [
    {
     "data": {
      "text/plain": [
       "True"
      ]
     },
     "execution_count": 11,
     "metadata": {},
     "output_type": "execute_result"
    }
   ],
   "source": [
    "tpl=('Bazı','insanların','kalpleri','kırık','olur')\n",
    "'kalpleri'in tpl"
   ]
  },
  {
   "cell_type": "markdown",
   "metadata": {},
   "source": [
    "Tuple Birleştirme \n",
    "\n",
    "+ operatörü ile iki tuple birleştirelim\n"
   ]
  },
  {
   "cell_type": "code",
   "execution_count": 12,
   "metadata": {},
   "outputs": [
    {
     "name": "stdout",
     "output_type": "stream",
     "text": [
      "('muz', 'portakal', 'mango', 'limon', 'patlıcan', 'biber', 'kabak')\n"
     ]
    }
   ],
   "source": [
    "meyveler=('muz', 'portakal', 'mango', 'limon')\n",
    "sebzeler=('patlıcan','biber','kabak')\n",
    "karışık_tabak=meyveler + sebzeler\n",
    "print(karışık_tabak)"
   ]
  },
  {
   "cell_type": "markdown",
   "metadata": {},
   "source": [
    "Grupları Silme\n",
    "\n",
    "Bir demet içindeki tek bir öğeyi kaldırmak mümkün değildir, ancak del() kullanarak demetin kendisini silmek mümkündür .\n"
   ]
  },
  {
   "cell_type": "code",
   "execution_count": 13,
   "metadata": {},
   "outputs": [
    {
     "ename": "NameError",
     "evalue": "name 'sebzeler' is not defined",
     "output_type": "error",
     "traceback": [
      "\u001b[1;31m---------------------------------------------------------------------------\u001b[0m",
      "\u001b[1;31mNameError\u001b[0m                                 Traceback (most recent call last)",
      "\u001b[1;32mC:\\Users\\BRA~1\\AppData\\Local\\Temp/ipykernel_11680/3582719022.py\u001b[0m in \u001b[0;36m<module>\u001b[1;34m\u001b[0m\n\u001b[0;32m      1\u001b[0m \u001b[0msebzeler\u001b[0m\u001b[1;33m=\u001b[0m\u001b[1;33m(\u001b[0m\u001b[1;34m'patlıcan'\u001b[0m\u001b[1;33m,\u001b[0m\u001b[1;34m'biber'\u001b[0m\u001b[1;33m,\u001b[0m\u001b[1;34m'kabak'\u001b[0m\u001b[1;33m)\u001b[0m\u001b[1;33m\u001b[0m\u001b[1;33m\u001b[0m\u001b[0m\n\u001b[0;32m      2\u001b[0m \u001b[1;32mdel\u001b[0m \u001b[0msebzeler\u001b[0m\u001b[1;33m\u001b[0m\u001b[1;33m\u001b[0m\u001b[0m\n\u001b[1;32m----> 3\u001b[1;33m \u001b[0mprint\u001b[0m\u001b[1;33m(\u001b[0m\u001b[0msebzeler\u001b[0m\u001b[1;33m)\u001b[0m\u001b[1;33m\u001b[0m\u001b[1;33m\u001b[0m\u001b[0m\n\u001b[0m",
      "\u001b[1;31mNameError\u001b[0m: name 'sebzeler' is not defined"
     ]
    }
   ],
   "source": [
    "sebzeler=('patlıcan','biber','kabak')\n",
    "del sebzeler\n",
    "print(sebzeler)"
   ]
  },
  {
   "cell_type": "markdown",
   "metadata": {},
   "source": [
    "Arkadaşlar bu yazımda sizlere tuple() listeleme şeklini anlatmaya çalıştım daha önceki yazımızda liste yöntemini ele almıştık . Liste yöntemi değiştirilebilir olduğu için bir çok komut uygulayabiliriz fakat Tuple’ın değiştirilemez olduğunu unutmayalım."
   ]
  }
 ],
 "metadata": {
  "interpreter": {
   "hash": "5bb71e04e3d056b3fd374fe835c740c82b88cf9a64babc7a305394decc4b8aa7"
  },
  "kernelspec": {
   "display_name": "Python 3.9.5 64-bit (system)",
   "language": "python",
   "name": "python3"
  },
  "language_info": {
   "codemirror_mode": {
    "name": "ipython",
    "version": 3
   },
   "file_extension": ".py",
   "mimetype": "text/x-python",
   "name": "python",
   "nbconvert_exporter": "python",
   "pygments_lexer": "ipython3",
   "version": "3.9.5"
  },
  "orig_nbformat": 4
 },
 "nbformat": 4,
 "nbformat_minor": 2
}
