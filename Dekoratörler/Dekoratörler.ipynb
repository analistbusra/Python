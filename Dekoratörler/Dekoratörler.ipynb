{
 "cells": [
  {
   "cell_type": "markdown",
   "metadata": {},
   "source": [
    "# Dekoratörler"
   ]
  },
  {
   "cell_type": "markdown",
   "metadata": {},
   "source": [
    "Dekoratörler fonksiyonel programlamanın konularından biridir.Dekoratörler Python'ın önemli bir parçasıdır. Diğer fonksiyonların işlevselliğini değiştiren fonksiyonlara dekoratör diyoruz. Kodumuzu daha kısa ve anlaşılır hala getirdiğini söyleyebiliriz. "
   ]
  },
  {
   "cell_type": "markdown",
   "metadata": {},
   "source": [
    "Dış fonksiyon ve iç fonksiyon olarak iki fonksiyon tanımlayalım."
   ]
  },
  {
   "cell_type": "code",
   "execution_count": 1,
   "metadata": {},
   "outputs": [
    {
     "name": "stdout",
     "output_type": "stream",
     "text": [
      "Hi World\n",
      "Python Öğreniyorum\n"
     ]
    }
   ],
   "source": [
    "def OutherFunction(parametreFunction):\n",
    "    text1=\"Hi\"\n",
    "\n",
    "    def InnerFunction():\n",
    "        text2=\"World\"\n",
    "        print(text1,text2)\n",
    "        return parametreFunction()\n",
    "\n",
    "\n",
    "    return InnerFunction\n",
    "\n",
    "def Functiıon():\n",
    "    text=\"Python Öğreniyorum\"\n",
    "    print(text)\n",
    "\n",
    "\n",
    "f=OutherFunction(Functiıon)\n",
    "f()"
   ]
  },
  {
   "cell_type": "markdown",
   "metadata": {},
   "source": [
    "İç fonksiyon -InnerFunction()= paramFunction() fonksiyonu çalışır ve Hi World yazar.\n",
    "\n",
    "Dış Fonksiyon -OutherFunction()= Function çalışır ve Python öğreniyorum yazar.\n",
    "\n",
    "Buradaki mantığa bakılırsa iç kabuk önce çalıştı ve bana çıktı verdi daha sonra dış kabuk çalıltı."
   ]
  },
  {
   "cell_type": "code",
   "execution_count": 2,
   "metadata": {},
   "outputs": [
    {
     "name": "stdout",
     "output_type": "stream",
     "text": [
      "Hi World\n",
      "Python Öğreniyorum\n",
      "None\n"
     ]
    }
   ],
   "source": [
    "print(f())"
   ]
  },
  {
   "cell_type": "markdown",
   "metadata": {},
   "source": [
    "None f() fonksiyonunun return değeri yani fonksiyonun döndüğü değer print oluyor hiç bir şey dönmediğinden None çıktısını alıyoruz."
   ]
  },
  {
   "cell_type": "markdown",
   "metadata": {},
   "source": [
    "####  Dekoratörleri kullanarak yukarıdaki fonksiyon örneğimi güncelleyelim."
   ]
  },
  {
   "cell_type": "code",
   "execution_count": 3,
   "metadata": {},
   "outputs": [
    {
     "name": "stdout",
     "output_type": "stream",
     "text": [
      "Dekoratörleri öğrenmeyi unutmayalım. \n",
      "Python Öğreniyorum\n"
     ]
    }
   ],
   "source": [
    "def DekoratorFunction(orjınalFunction):\n",
    "    \n",
    "\n",
    "    def WrapperFunction():\n",
    "        \n",
    "        print(\"Dekoratörleri öğrenmeyi unutmayalım. \")\n",
    "        return orjınalFunction()\n",
    "\n",
    "\n",
    "    return WrapperFunction\n",
    "\n",
    "def MyFunctiıon():\n",
    "    text=\"Python Öğreniyorum\"\n",
    "    print(text)\n",
    "\n",
    "\n",
    "f=DekoratorFunction(MyFunctiıon)\n",
    "f()"
   ]
  },
  {
   "cell_type": "markdown",
   "metadata": {},
   "source": [
    "Bir fonksonu bu şekilde yazarsak başka bir fonksiyonun işlevini değiştirebiliyoruz."
   ]
  },
  {
   "cell_type": "markdown",
   "metadata": {},
   "source": [
    "#### İKİ FARKLI İŞLEMLE DEKORATÖR TANIMLAMA"
   ]
  },
  {
   "cell_type": "markdown",
   "metadata": {},
   "source": [
    "İşlem:1"
   ]
  },
  {
   "cell_type": "code",
   "execution_count": 6,
   "metadata": {},
   "outputs": [
    {
     "name": "stdout",
     "output_type": "stream",
     "text": [
      "Dekoratörleri öğrenmeyi unutmayalım. \n",
      "Orjinal fonksiyon  'MyFunctiıon'  öncesi   \n",
      "Python  Öğreniyorum\n"
     ]
    }
   ],
   "source": [
    "def DekoratorFunction(orjınalFunction):\n",
    "    \n",
    "\n",
    "    def WrapperFunction():\n",
    "        \n",
    "        print(\"Dekoratörleri öğrenmeyi unutmayalım. \")\n",
    "        print(f\"Orjinal fonksiyon  '{orjınalFunction.__name__}'  öncesi   \")    #bu fonksiyonun ismini yazdırmak demek \n",
    "        return orjınalFunction()\n",
    "\n",
    "\n",
    "    return WrapperFunction\n",
    "\n",
    "def MyFunctiıon():\n",
    "    text=\"Python  Öğreniyorum\"\n",
    "    print(text)\n",
    "\n",
    "\n",
    "f=DekoratorFunction(MyFunctiıon)\n",
    "f()"
   ]
  },
  {
   "cell_type": "markdown",
   "metadata": {},
   "source": [
    "Yukarıdaki örnekte Myfunction() olarak yazsak içdeki fonksiyon çalışmaz dolayısıyla dekoratörler devrede olmalı kısa bir şekilde dekoratör ekleyelim."
   ]
  },
  {
   "cell_type": "markdown",
   "metadata": {},
   "source": [
    "İşlem:2"
   ]
  },
  {
   "cell_type": "code",
   "execution_count": 7,
   "metadata": {},
   "outputs": [
    {
     "name": "stdout",
     "output_type": "stream",
     "text": [
      "Dekoratörleri öğrenmeyi unutmayalım. \n",
      "Orjinal fonksiyon  'MyFunctiıon'  öncesi   \n",
      "Python  Öğreniyorum\n"
     ]
    }
   ],
   "source": [
    "def DekoratorFunction(orjınalFunction):\n",
    "    \n",
    "\n",
    "    def WrapperFunction():\n",
    "        \n",
    "        print(\"Dekoratörleri öğrenmeyi unutmayalım. \")\n",
    "        print(f\"Orjinal fonksiyon  '{orjınalFunction.__name__}'  öncesi   \")    #bu fonksiyonun ismini yazdırmak demek \n",
    "        return orjınalFunction()\n",
    "\n",
    "\n",
    "    return WrapperFunction\n",
    "@DekoratorFunction\n",
    "def MyFunctiıon():\n",
    "    text=\"Python  Öğreniyorum\"\n",
    "    print(text)\n",
    "\n",
    "\n",
    "MyFunctiıon()\n"
   ]
  },
  {
   "cell_type": "markdown",
   "metadata": {},
   "source": [
    "Öncesinde  Dekoratörleri öğremeyi unutmayalım devreye girdi sonrasında fonksiyonu çağırdı. @DekoratorFunction ibaresi MyFunctiıon() alıp  'DekoratorFunction(orjınalFunction)' ibaresinin içe koyar. "
   ]
  },
  {
   "cell_type": "markdown",
   "metadata": {},
   "source": [
    "#### 2 Parametreli Fonksiyon"
   ]
  },
  {
   "cell_type": "markdown",
   "metadata": {},
   "source": [
    "* MyFunction() parametresi olmayan bir fonksiyondu bir de yaş ve isim parametresi  ile çalışalım."
   ]
  },
  {
   "cell_type": "code",
   "execution_count": 8,
   "metadata": {},
   "outputs": [
    {
     "name": "stdout",
     "output_type": "stream",
     "text": [
      "Dekoratörleri öğrenmeyi unutmayalım. \n",
      "Orjinal fonksiyon  'MyFunctiıon'  öncesi   \n",
      "Python  Öğreniyorum\n",
      "Benim ismim Büşra ve yaşım 25\n"
     ]
    }
   ],
   "source": [
    "def DekoratorFunction(orjınalFunction):\n",
    "    \n",
    "\n",
    "    def WrapperFunction():\n",
    "        \n",
    "        print(\"Dekoratörleri öğrenmeyi unutmayalım. \")\n",
    "        print(f\"Orjinal fonksiyon  '{orjınalFunction.__name__}'  öncesi   \")    #bu fonksiyonun ismini yazdırmak demek \n",
    "        return orjınalFunction()\n",
    "\n",
    "\n",
    "    return WrapperFunction\n",
    "@DekoratorFunction\n",
    "def MyFunctiıon():\n",
    "    text=\"Python  Öğreniyorum\"\n",
    "    print(text)\n",
    "\n",
    "def DisPlay(name,age):\n",
    "    print(f\"Benim ismim {name} ve yaşım {age}\")\n",
    "\n",
    "MyFunctiıon()\n",
    "\n",
    "DisPlay(\"Büşra\",25)"
   ]
  },
  {
   "cell_type": "markdown",
   "metadata": {},
   "source": [
    "Yukarıdaki kodda DisPlay çalışmadan önce yukarıdakilerin çalışmasını istorum o zaman dekoratörümü devreye sokalım ve çalıştıralım."
   ]
  },
  {
   "cell_type": "code",
   "execution_count": 9,
   "metadata": {},
   "outputs": [
    {
     "name": "stdout",
     "output_type": "stream",
     "text": [
      "Dekoratörleri öğrenmeyi unutmayalım. \n",
      "Orjinal fonksiyon  'MyFunctiıon'  öncesi   \n",
      "Python  Öğreniyorum\n",
      "Dekoratörleri öğrenmeyi unutmayalım. \n",
      "Orjinal fonksiyon  'DisPlay'  öncesi   \n",
      "Benim ismim Büşra ve yaşım 25\n"
     ]
    }
   ],
   "source": [
    "def DekoratorFunction(orjınalFunction):\n",
    "    \n",
    "\n",
    "    def WrapperFunction(*args, **kwargs):\n",
    "        \n",
    "        print(\"Dekoratörleri öğrenmeyi unutmayalım. \")\n",
    "        print(f\"Orjinal fonksiyon  '{orjınalFunction.__name__}'  öncesi   \")    #bu fonksiyonun ismini yazdırmak demek \n",
    "        return orjınalFunction(*args, **kwargs)\n",
    "\n",
    "\n",
    "    return WrapperFunction\n",
    "@DekoratorFunction\n",
    "def MyFunctiıon():\n",
    "    text=\"Python  Öğreniyorum\"\n",
    "    print(text)\n",
    "@DekoratorFunction\n",
    "def DisPlay(name,age):\n",
    "    print(f\"Benim ismim {name} ve yaşım {age}\")\n",
    "\n",
    "MyFunctiıon()\n",
    "\n",
    "DisPlay(\"Büşra\",25)"
   ]
  },
  {
   "cell_type": "markdown",
   "metadata": {},
   "source": [
    "*args, **kwargs eklediğimi görmektesiniz sebebi yaş ve isim parametreleri WrapperFunctiıon()  da problem olmaması adına eklenir."
   ]
  },
  {
   "cell_type": "markdown",
   "metadata": {},
   "source": [
    "#### Bazı Fonksiyonların Çalışmasını Durdurma"
   ]
  },
  {
   "cell_type": "markdown",
   "metadata": {},
   "source": [
    "İstediğimiz zaman çalışığ istediğimiz zaman çalışmasın.MyFunction() False dedim çalışmasını istemiyorum. DisPlay() çalışmasını istiyorum ona True dedim."
   ]
  },
  {
   "cell_type": "code",
   "execution_count": 12,
   "metadata": {},
   "outputs": [
    {
     "name": "stdout",
     "output_type": "stream",
     "text": [
      "Dekoratörleri öğrenmeyi unutmayalım. \n",
      "Orjinal fonksiyon  'MyFunctiıon'  öncesi   \n",
      "Fonksiyon izinli değil MyFunctiıon\n",
      "Dekoratörleri öğrenmeyi unutmayalım. \n",
      "Orjinal fonksiyon  'DisPlay'  öncesi   \n",
      "Benim ismim Büşra ve yaşım 25\n"
     ]
    }
   ],
   "source": [
    "def DekoratorFunction(orjınalFunction):\n",
    "    \n",
    "\n",
    "    def WrapperFunction(*args, **kwargs):\n",
    "        \n",
    "        print(\"Dekoratörleri öğrenmeyi unutmayalım. \")\n",
    "        print(f\"Orjinal fonksiyon  '{orjınalFunction.__name__}'  öncesi   \")  \n",
    "        def CanNotRun():\n",
    "          print(\"Fonksiyon izinli değil\",orjınalFunction.__name__)\n",
    "        if not CanRun:\n",
    "                return CanNotRun()\n",
    "        return orjınalFunction(*args, **kwargs)\n",
    "\n",
    "\n",
    "    return WrapperFunction\n",
    "@DekoratorFunction\n",
    "def MyFunctiıon():\n",
    "    text=\"Python  Öğreniyorum\"\n",
    "    print(text)\n",
    "@DekoratorFunction\n",
    "def DisPlay(name,age):\n",
    "    print(f\"Benim ismim {name} ve yaşım {age}\")\n",
    "\n",
    "CanRun=False\n",
    "MyFunctiıon()\n",
    "CanRun=True\n",
    "DisPlay(\"Büşra\",25)"
   ]
  },
  {
   "cell_type": "markdown",
   "metadata": {},
   "source": [
    "Çıktıda gördüğümüz gibi MyFunction() izinli değil yazısı çıktı ve çalışmadı DisPlay() çalıştı."
   ]
  },
  {
   "cell_type": "markdown",
   "metadata": {},
   "source": [
    "##### Bu kısma kadar fonksiyon çağırılmadan birşeyler eklemeyi gördük burdan sonra fonksiyon çağırıldıktan sonra eklemeye çalışalım."
   ]
  },
  {
   "cell_type": "markdown",
   "metadata": {},
   "source": [
    "ÖRNEK:"
   ]
  },
  {
   "cell_type": "code",
   "execution_count": 13,
   "metadata": {},
   "outputs": [
    {
     "name": "stdout",
     "output_type": "stream",
     "text": [
      "Dekoratörleri öğrenmeyi unutmayalım. \n",
      "Orjinal fonksiyon  'DisPlay'  öncesi   \n",
      "Benim ismim Büşra ve yaşım 25\n",
      "Orjinal fonksiyon  'DisPlay'  sonrası  \n"
     ]
    }
   ],
   "source": [
    "def DekoratorFunction(orjınalFunction):\n",
    "    def WrapperFunction(*args, **kwargs):  \n",
    "      def Error():\n",
    "          print(\"Eroorrr!!\")\n",
    "      try: \n",
    "           print(\"Dekoratörleri öğrenmeyi unutmayalım. \")\n",
    "           print(f\"Orjinal fonksiyon  '{orjınalFunction.__name__}'  öncesi   \")  \n",
    "           funcResult= orjınalFunction(*args, **kwargs)\n",
    "           print(f\"Orjinal fonksiyon  '{orjınalFunction.__name__}'  sonrası  \")  \n",
    "           return funcResult\n",
    "      except Exception as exception:\n",
    "            print(\"Hata Oluştu\", exception)\n",
    "      return Error()\n",
    "    return WrapperFunction\n",
    "\n",
    "@DekoratorFunction\n",
    "def DisPlay(name,age):\n",
    "    print(f\"Benim ismim {name} ve yaşım {age}\")\n",
    "DisPlay(\"Büşra\",25)"
   ]
  },
  {
   "cell_type": "markdown",
   "metadata": {},
   "source": [
    "ÖRNEK:"
   ]
  },
  {
   "cell_type": "code",
   "execution_count": 14,
   "metadata": {},
   "outputs": [
    {
     "name": "stdout",
     "output_type": "stream",
     "text": [
      "Dekoratörleri öğrenmeyi unutmayalım. \n",
      "Orjinal fonksiyon  'DisPlay'  öncesi   \n",
      "Hata Oluştu invalid literal for int() with base 10: '25k'\n",
      "Eroorrr!!\n"
     ]
    }
   ],
   "source": [
    "def DekoratorFunction(orjınalFunction):\n",
    "    def WrapperFunction(*args, **kwargs):  \n",
    "      def Error():\n",
    "          print(\"Eroorrr!!\")\n",
    "      try: \n",
    "           print(\"Dekoratörleri öğrenmeyi unutmayalım. \")\n",
    "           print(f\"Orjinal fonksiyon  '{orjınalFunction.__name__}'  öncesi   \")  \n",
    "           funcResult= orjınalFunction(*args, **kwargs)\n",
    "           print(f\"Orjinal fonksiyon  '{orjınalFunction.__name__}'  sonrası  \")  \n",
    "           return funcResult\n",
    "      except Exception as exception:\n",
    "            print(\"Hata Oluştu\", exception)\n",
    "      return Error()\n",
    "    return WrapperFunction\n",
    "\n",
    "@DekoratorFunction\n",
    "def DisPlay(name,age):\n",
    "    age=int(age)\n",
    "    print(f\"Benim ismim {name} ve yaşım {age}\")\n",
    "DisPlay(\"Büşra\",\"25k\")"
   ]
  },
  {
   "cell_type": "markdown",
   "metadata": {},
   "source": [
    "25k kod bir hata olduğu için eklediğimiz Error() funksiyonu devreye girer ve Hata mesajı verir"
   ]
  }
 ],
 "metadata": {
  "interpreter": {
   "hash": "5bb71e04e3d056b3fd374fe835c740c82b88cf9a64babc7a305394decc4b8aa7"
  },
  "kernelspec": {
   "display_name": "Python 3.9.5 64-bit (system)",
   "language": "python",
   "name": "python3"
  },
  "language_info": {
   "codemirror_mode": {
    "name": "ipython",
    "version": 3
   },
   "file_extension": ".py",
   "mimetype": "text/x-python",
   "name": "python",
   "nbconvert_exporter": "python",
   "pygments_lexer": "ipython3",
   "version": "3.9.5"
  },
  "orig_nbformat": 4
 },
 "nbformat": 4,
 "nbformat_minor": 2
}
