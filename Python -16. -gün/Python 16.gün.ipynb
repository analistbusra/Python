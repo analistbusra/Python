{
 "cells": [
  {
   "cell_type": "markdown",
   "metadata": {},
   "source": [
    "### Python datatime(tarih saat)\n",
    "\n",
    "Python, tarih ve saati işlemek için datetime modülüne sahiptir.\n"
   ]
  },
  {
   "cell_type": "code",
   "execution_count": 2,
   "metadata": {},
   "outputs": [
    {
     "name": "stdout",
     "output_type": "stream",
     "text": [
      "['MAXYEAR', 'MINYEAR', '__all__', '__builtins__', '__cached__', '__doc__', '__file__', '__loader__', '__name__', '__package__', '__spec__', 'date', 'datetime', 'datetime_CAPI', 'sys', 'time', 'timedelta', 'timezone', 'tzinfo']\n"
     ]
    }
   ],
   "source": [
    "import datetime\n",
    "print(dir(datetime))"
   ]
  },
  {
   "cell_type": "markdown",
   "metadata": {},
   "source": [
    "dir veya help yerleşik komutları ile belirli bir modüldeki kullanılabilir işlevleri bilmek mümkündür. Gördüğünüz gibi datetime modülünde birçok fonksiyon var ama biz date , datetime , time ve timedelta'ya odaklanacağız . Aşağıda inceleyelim."
   ]
  },
  {
   "cell_type": "markdown",
   "metadata": {},
   "source": [
    "### Getting datetime Information (datatime bilgi alma)"
   ]
  },
  {
   "cell_type": "code",
   "execution_count": 4,
   "metadata": {},
   "outputs": [
    {
     "name": "stdout",
     "output_type": "stream",
     "text": [
      "2022-01-06 21:12:16.175558\n",
      "6 1 2022 21 11\n",
      "timestamp 1641492736.175558\n",
      "6/1/2022, 21:11\n"
     ]
    }
   ],
   "source": [
    "from datetime import datetime\n",
    "now = datetime.now()\n",
    "print(now)                      \n",
    "day = now.day                   \n",
    "month = now.month               \n",
    "year = now.year               \n",
    "hour = now.hour                \n",
    "second = now.second\n",
    "timestamp = now.timestamp()\n",
    "print(day, month, year, hour, minute)\n",
    "print('timestamp', timestamp)\n",
    "print(f'{day}/{month}/{year}, {hour}:{minute}') \n"
   ]
  },
  {
   "cell_type": "markdown",
   "metadata": {},
   "source": [
    "### Formatting Date Output Using strftime (strftime Kullanarak Tarih Çıktısını Biçimlendirme) "
   ]
  },
  {
   "cell_type": "code",
   "execution_count": 5,
   "metadata": {},
   "outputs": [
    {
     "name": "stdout",
     "output_type": "stream",
     "text": [
      "2020-01-01 00:00:00\n",
      "1 1 2020 0 0\n",
      "1/1/2020, 0:0\n"
     ]
    }
   ],
   "source": [
    "from datetime import datetime\n",
    "new_year = datetime(2020, 1, 1)\n",
    "print(new_year)     \n",
    "day = new_year.day\n",
    "month = new_year.month\n",
    "year = new_year.year\n",
    "hour = new_year.hour\n",
    "minute = new_year.minute\n",
    "second = new_year.second\n",
    "print(day, month, year, hour, minute)\n",
    "print(f'{day}/{month}/{year}, {hour}:{minute}')\n"
   ]
  },
  {
   "cell_type": "markdown",
   "metadata": {},
   "source": [
    "Örnek:"
   ]
  },
  {
   "cell_type": "code",
   "execution_count": 6,
   "metadata": {},
   "outputs": [
    {
     "name": "stdout",
     "output_type": "stream",
     "text": [
      "time: 21:13:48\n",
      "time one: 01/06/2022, 21:13:48\n",
      "time two: 06/01/2022, 21:13:48\n"
     ]
    }
   ],
   "source": [
    "from datetime import datetime\n",
    "now = datetime.now()\n",
    "t = now.strftime(\"%H:%M:%S\")\n",
    "print(\"time:\", t)\n",
    "time_one = now.strftime(\"%m/%d/%Y, %H:%M:%S\")\n",
    "print(\"time one:\", time_one)\n",
    "time_two = now.strftime(\"%d/%m/%Y, %H:%M:%S\")\n",
    "print(\"time two:\", time_two)"
   ]
  },
  {
   "cell_type": "markdown",
   "metadata": {},
   "source": [
    "Yukarıdaki örnek de kısaltmalar ile datatime işlevlerini kullanabildiğimizi görmekteyiz ve bunlar gibi birçok kısaltma bulunmaktadır ek olarak dosyaya tabloyu ekleyeceğim şimdi biz devam edelim."
   ]
  },
  {
   "cell_type": "markdown",
   "metadata": {},
   "source": [
    "### String to Time Using strptime(strptime Kullanarak Zaman Dizesi)"
   ]
  },
  {
   "cell_type": "code",
   "execution_count": 7,
   "metadata": {},
   "outputs": [
    {
     "name": "stdout",
     "output_type": "stream",
     "text": [
      "date_string = 5 December, 2019\n",
      "date_object = 2019-12-05 00:00:00\n"
     ]
    }
   ],
   "source": [
    "from datetime import datetime\n",
    "date_string = \"5 December, 2019\"\n",
    "print(\"date_string =\", date_string)\n",
    "date_object = datetime.strptime(date_string, \"%d %B, %Y\")\n",
    "print(\"date_object =\", date_object)"
   ]
  },
  {
   "cell_type": "markdown",
   "metadata": {},
   "source": [
    "### Using date from datetime(date kullanarak zaman tarih)"
   ]
  },
  {
   "cell_type": "code",
   "execution_count": 8,
   "metadata": {},
   "outputs": [
    {
     "name": "stdout",
     "output_type": "stream",
     "text": [
      "2020-08-04\n",
      "Current date: 2022-01-06\n",
      "Current year: 2022\n",
      "Current month: 1\n",
      "Current day: 6\n"
     ]
    }
   ],
   "source": [
    "from datetime import date\n",
    "d = date(2020, 8, 4)\n",
    "print(d)\n",
    "print('Current date:', d.today())   \n",
    "today = date.today()\n",
    "print(\"Current year:\", today.year)   \n",
    "print(\"Current month:\", today.month)\n",
    "print(\"Current day:\", today.day)    \n",
    "\n"
   ]
  },
  {
   "cell_type": "markdown",
   "metadata": {},
   "source": [
    "### Time Objects to Represent Time\n",
    "\n",
    "time kullanarak tarih saat bilgilerine nasıl eriştiğimize dilerseniz bir inceleyelim.\n"
   ]
  },
  {
   "cell_type": "code",
   "execution_count": 9,
   "metadata": {},
   "outputs": [
    {
     "name": "stdout",
     "output_type": "stream",
     "text": [
      "a = 00:00:00\n",
      "b = 10:30:50\n",
      "c = 10:30:50\n",
      "d = 10:30:50.200555\n"
     ]
    }
   ],
   "source": [
    "from datetime import time\n",
    "a = time()\n",
    "print(\"a =\", a)\n",
    "b = time(10, 30, 50)\n",
    "print(\"b =\", b)\n",
    "c = time(hour=10, minute=30, second=50)\n",
    "print(\"c =\", c)\n",
    "d = time(10, 30, 50, 200555)\n",
    "print(\"d =\", d)\n"
   ]
  },
  {
   "cell_type": "markdown",
   "metadata": {},
   "source": [
    "### Difference Between Two Points in Time Using(Zaman Kullanımında İki Nokta Arasındaki Fark)\n",
    "\n"
   ]
  },
  {
   "cell_type": "code",
   "execution_count": 10,
   "metadata": {},
   "outputs": [
    {
     "name": "stdout",
     "output_type": "stream",
     "text": [
      "Yeni yıla kalan süre:  21 days, 0:00:00\n",
      "Yeni yıla kalan süre: 20 days, 23:01:00\n"
     ]
    }
   ],
   "source": [
    "today = date(year=2021, month=12, day=11)\n",
    "new_year = date(year=2022, month=1, day=1)\n",
    "time_left_for_newyear = new_year - today\n",
    "print('Yeni yıla kalan süre: ', time_left_for_newyear)\n",
    "t1 = datetime(year = 2021, month = 12, day = 11, hour = 0, minute = 59, second = 0)\n",
    "t2 = datetime(year = 2022, month = 1, day = 1, hour = 0, minute = 0, second = 0)\n",
    "diff = t2 - t1\n",
    "print('Yeni yıla kalan süre:', diff)\n"
   ]
  },
  {
   "cell_type": "markdown",
   "metadata": {},
   "source": [
    "### Difference Between Two Points in Time Using timedelate(Timedelata Kullanarak Zamanda İki Nokta Arasındaki Fark)"
   ]
  },
  {
   "cell_type": "code",
   "execution_count": 11,
   "metadata": {},
   "outputs": [
    {
     "name": "stdout",
     "output_type": "stream",
     "text": [
      "data_strings: 11 jULY\n",
      "t3 = 53 days, 1:51:20\n"
     ]
    }
   ],
   "source": [
    "from datetime import timedelta\n",
    "t1 = timedelta(weeks=7, days=11, hours=3, seconds=50)\n",
    "t2 = timedelta(days=7, hours=1, minutes=9, seconds=30)\n",
    "t3 = t1 - t2\n",
    "data_strings='11 jULY'\n",
    "print('data_strings:',data_strings)\n",
    "print(\"t3 =\", t3)\n"
   ]
  }
 ],
 "metadata": {
  "interpreter": {
   "hash": "5bb71e04e3d056b3fd374fe835c740c82b88cf9a64babc7a305394decc4b8aa7"
  },
  "kernelspec": {
   "display_name": "Python 3.9.5 64-bit (system)",
   "language": "python",
   "name": "python3"
  },
  "language_info": {
   "codemirror_mode": {
    "name": "ipython",
    "version": 3
   },
   "file_extension": ".py",
   "mimetype": "text/x-python",
   "name": "python",
   "nbconvert_exporter": "python",
   "pygments_lexer": "ipython3",
   "version": "3.9.5"
  },
  "orig_nbformat": 4
 },
 "nbformat": 4,
 "nbformat_minor": 2
}
