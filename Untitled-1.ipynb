{
 "cells": [
  {
   "cell_type": "code",
   "execution_count": 2,
   "metadata": {},
   "outputs": [],
   "source": [
    "from bs4 import BeautifulSoup\n",
    "import requests\n",
    "import pandas as pd\n",
    "import xlsxwriter"
   ]
  },
  {
   "cell_type": "code",
   "execution_count": 3,
   "metadata": {},
   "outputs": [
    {
     "data": {
      "text/plain": [
       "<title>Erkek Spor Ayakkabı Modelleri, Fiyatları - Trendyol</title>"
      ]
     },
     "execution_count": 3,
     "metadata": {},
     "output_type": "execute_result"
    }
   ],
   "source": [
    "import requests\n",
    "from bs4 import BeautifulSoup\n",
    "r = requests.get('https://www.trendyol.com/erkek-spor-ayakkabi-x-g2-c109')\n",
    "source = BeautifulSoup(r.content,\"lxml\")\n",
    "source.title"
   ]
  },
  {
   "cell_type": "code",
   "execution_count": 4,
   "metadata": {},
   "outputs": [
    {
     "data": {
      "text/plain": [
       "<Response [200]>"
      ]
     },
     "execution_count": 4,
     "metadata": {},
     "output_type": "execute_result"
    }
   ],
   "source": [
    "r"
   ]
  },
  {
   "cell_type": "code",
   "execution_count": null,
   "metadata": {},
   "outputs": [],
   "source": [
    "source"
   ]
  },
  {
   "cell_type": "code",
   "execution_count": null,
   "metadata": {},
   "outputs": [],
   "source": [
    "h1=source.find(\"div\",attrs={\"class\":\"srch-prdcts-cntnr\"})\n",
    "print(h1)"
   ]
  },
  {
   "cell_type": "code",
   "execution_count": 6,
   "metadata": {},
   "outputs": [],
   "source": [
    "st1=source.find(\"div\",attrs={\"class\":\"prdct-cntnr-wrppr\"})\n"
   ]
  },
  {
   "cell_type": "code",
   "execution_count": null,
   "metadata": {},
   "outputs": [],
   "source": []
  },
  {
   "cell_type": "code",
   "execution_count": 7,
   "metadata": {},
   "outputs": [],
   "source": [
    "st2=st1.find(\"div\",attrs={\"class\":\"p-card-wrppr\"})"
   ]
  },
  {
   "cell_type": "code",
   "execution_count": null,
   "metadata": {},
   "outputs": [],
   "source": [
    "st2"
   ]
  },
  {
   "cell_type": "markdown",
   "metadata": {},
   "source": [
    "tek tek ürünleri sırayla alma"
   ]
  },
  {
   "cell_type": "code",
   "execution_count": null,
   "metadata": {},
   "outputs": [],
   "source": [
    "st3 =st2.find_all(\"div\" ,attrs={\"class\":\"p-card-chldrn-cntnr\"})\n",
    "print(st3)"
   ]
  },
  {
   "cell_type": "code",
   "execution_count": 26,
   "metadata": {},
   "outputs": [
    {
     "name": "stdout",
     "output_type": "stream",
     "text": [
      "159,95 TL\n",
      "399,99 TL\n",
      "None\n",
      "Tonny Black Unısex Spor Ayakkabı Tbqnt TBQNT-0 \n",
      "Tonny Black\n",
      "https://cdn.dsmcdn.com/mnresize/1200/1800/ty169/product/media/images/20210905/1/126208060/237404321/0/0_org_zoom.jpg\n",
      "None\n"
     ]
    }
   ],
   "source": [
    "liste=[]\n",
    "for detaylar in st1:\n",
    " link_sonu=detaylar.a.get(\"href\")\n",
    " link_başı=\"https://www.trendyol.com\"\n",
    " link=link_başı+link_sonu\n",
    "r1=requests.get(link)\n",
    "soup1=BeautifulSoup(r1.content,'lxml')\n",
    "new_price=soup1.find(\"span\",attrs={\"class\":\"prc-slg\"}).text\n",
    "print(new_price)\n",
    "orjınal_price=soup1.find(\"span\",attrs={\"class\":\"prc-org\"}).text\n",
    "print(orjınal_price)\n",
    "indirim=soup1.find(\"span\",attrs={\"class\":\"discounted-stamp-text\"})\n",
    "print(indirim)\n",
    "ürün_adı=soup1.find(\"h1\",attrs={\"class\":\"pr-new-br\"}).text\n",
    "print(ürün_adı)\n",
    "marka_satıcı=soup1.find(\"a\",attrs={\"class\",\"merchant-text\"}).text\n",
    "print(marka_satıcı)\n",
    "img='https://cdn.dsmcdn.com/mnresize/1200/1800/ty169/product/media/images/20210905/1/126208060/237404321/0/0_org_zoom.jpg'\n",
    "print(img)\n",
    "U=liste.append([ürün_adı,marka_satıcı,link,img,new_price,indirim,orjınal_price])\n",
    "print(U)"
   ]
  },
  {
   "cell_type": "code",
   "execution_count": 22,
   "metadata": {},
   "outputs": [],
   "source": [
    "df=pd.DataFrame(liste)"
   ]
  },
  {
   "cell_type": "code",
   "execution_count": 20,
   "metadata": {},
   "outputs": [
    {
     "name": "stdout",
     "output_type": "stream",
     "text": [
      "                                          ürün_adı        marka  \\\n",
      "0  Tonny Black Unısex Spor Ayakkabı Tbqnt TBQNT-0   Tonny Black   \n",
      "1  Tonny Black Unısex Spor Ayakkabı Tbqnt TBQNT-0   Tonny Black   \n",
      "2  Tonny Black Unısex Spor Ayakkabı Tbqnt TBQNT-0   Tonny Black   \n",
      "\n",
      "                                                link  \\\n",
      "0  https://www.trendyol.com/tonny-black/unisex-sp...   \n",
      "1  https://www.trendyol.com/tonny-black/unisex-sp...   \n",
      "2  https://www.trendyol.com/tonny-black/unisex-sp...   \n",
      "\n",
      "                                       fotoğraf_link  new_price indirim  \\\n",
      "0  https://cdn.dsmcdn.com/mnresize/1200/1800/ty16...  159,95 TL    None   \n",
      "1  https://cdn.dsmcdn.com/mnresize/1200/1800/ty16...  159,95 TL    None   \n",
      "2  https://cdn.dsmcdn.com/mnresize/1200/1800/ty16...  159,95 TL    None   \n",
      "\n",
      "  orjinal_price  \n",
      "0     399,99 TL  \n",
      "1     399,99 TL  \n",
      "2     399,99 TL  \n"
     ]
    }
   ],
   "source": [
    "df.columns=[\"ürün_adı\",\"marka\",\"link\",\"fotoğraf_link\",\"new_price\",\"indirim\",\"orjinal_price\"]\n",
    "print(df)"
   ]
  },
  {
   "cell_type": "code",
   "execution_count": 28,
   "metadata": {},
   "outputs": [],
   "source": [
    "df.to_excel(\"ayakkabı.xlsx\")"
   ]
  },
  {
   "cell_type": "code",
   "execution_count": null,
   "metadata": {},
   "outputs": [],
   "source": []
  },
  {
   "cell_type": "code",
   "execution_count": 9,
   "metadata": {},
   "outputs": [
    {
     "data": {
      "text/plain": [
       "'https://www.trendyol.com/lufian/tommy-erkek-deri-ayakkabi-siyah-p-139398982'"
      ]
     },
     "execution_count": 9,
     "metadata": {},
     "output_type": "execute_result"
    }
   ],
   "source": [
    "link"
   ]
  },
  {
   "cell_type": "code",
   "execution_count": 19,
   "metadata": {},
   "outputs": [
    {
     "data": {
      "text/plain": [
       "'https://www.trendyol.com/armonika/kadin-renkli-cizgili-salas-gomlek-arm-21k001034-p-62329098'"
      ]
     },
     "execution_count": 19,
     "metadata": {},
     "output_type": "execute_result"
    }
   ],
   "source": [
    "link# Bu adres üzerinden çalışalım istek atalım"
   ]
  },
  {
   "cell_type": "code",
   "execution_count": 14,
   "metadata": {},
   "outputs": [],
   "source": [
    "r1=requests.get(link)\n",
    "soup1=BeautifulSoup(r1.content,'lxml')\n"
   ]
  },
  {
   "cell_type": "code",
   "execution_count": 11,
   "metadata": {},
   "outputs": [
    {
     "data": {
      "text/plain": [
       "<Response [200]>"
      ]
     },
     "execution_count": 11,
     "metadata": {},
     "output_type": "execute_result"
    }
   ],
   "source": [
    "r1"
   ]
  },
  {
   "cell_type": "code",
   "execution_count": null,
   "metadata": {},
   "outputs": [],
   "source": [
    "soup1\n"
   ]
  },
  {
   "cell_type": "code",
   "execution_count": 17,
   "metadata": {},
   "outputs": [
    {
     "name": "stdout",
     "output_type": "stream",
     "text": [
      "419,90 TL\n"
     ]
    }
   ],
   "source": [
    "new_price=soup1.find(\"span\",attrs={\"class\":\"prc-slg\"}).text\n",
    "print(new_price)"
   ]
  },
  {
   "cell_type": "code",
   "execution_count": 19,
   "metadata": {},
   "outputs": [
    {
     "name": "stdout",
     "output_type": "stream",
     "text": [
      "833,33 TL\n"
     ]
    }
   ],
   "source": [
    "orjınal_price=soup1.find(\"span\",attrs={\"class\":\"prc-org\"}).text\n",
    "print(orjınal_price)"
   ]
  },
  {
   "cell_type": "code",
   "execution_count": 25,
   "metadata": {},
   "outputs": [
    {
     "name": "stdout",
     "output_type": "stream",
     "text": [
      "None\n"
     ]
    }
   ],
   "source": [
    "indirim=soup1.find(\"span\",attrs={\"class\":\"discounted-stamp-text\"})\n",
    "print(indirim)"
   ]
  },
  {
   "cell_type": "code",
   "execution_count": 28,
   "metadata": {},
   "outputs": [
    {
     "name": "stdout",
     "output_type": "stream",
     "text": [
      "None\n"
     ]
    }
   ],
   "source": [
    "puan=soup1.find(\"span\",attrs={\"class\":\"avg-rt-txt-tltp\"})# puanlama olmadı\n",
    "print(puan)"
   ]
  },
  {
   "cell_type": "code",
   "execution_count": 30,
   "metadata": {},
   "outputs": [
    {
     "name": "stdout",
     "output_type": "stream",
     "text": [
      "Lufian Tommy Erkek Deri Ayakkabı Siyah 111230177 \n"
     ]
    }
   ],
   "source": [
    "ürün_adı=soup1.find(\"h1\",attrs={\"class\":\"pr-new-br\"}).text\n",
    "print(ürün_adı)"
   ]
  },
  {
   "cell_type": "code",
   "execution_count": 32,
   "metadata": {},
   "outputs": [
    {
     "name": "stdout",
     "output_type": "stream",
     "text": [
      "by VİP OUTLET\n"
     ]
    }
   ],
   "source": [
    "marka_satıcı=soup1.find(\"a\",attrs={\"class\",\"merchant-text\"}).text\n",
    "print(marka_satıcı)"
   ]
  },
  {
   "cell_type": "code",
   "execution_count": 36,
   "metadata": {},
   "outputs": [
    {
     "name": "stdout",
     "output_type": "stream",
     "text": [
      "[<div class=\"size-variant-wrapper\" data-drroot=\"size-variant\"><div class=\"size-variant-title-wrapper\"><span class=\"size-variant-title\">Beden: <span class=\"size-variant-attr-value\">40</span>  <span class=\"size-variant-stock-warning\">(Son 1 ürün!)</span></span></div><div class=\"variants\"><div class=\"selected sp-itm\" title=\"Beden seçmek için tıklayınız\">40</div></div></div>]\n"
     ]
    }
   ],
   "source": [
    "\n",
    "numaralar=soup1.find_all(\"div\", attrs={\"data-drroot\":\"size-variant\"})\n",
    "print(numaralar)"
   ]
  },
  {
   "cell_type": "code",
   "execution_count": null,
   "metadata": {},
   "outputs": [],
   "source": [
    "for numara in numaralar:# ayakkabı numarası için yeterli bilgi yok\n",
    " soup1.find(\"div\",attrs={\"href\":\"rvw-cnt-tx\"})\n",
    " print(soup1)"
   ]
  },
  {
   "cell_type": "code",
   "execution_count": 56,
   "metadata": {},
   "outputs": [
    {
     "name": "stdout",
     "output_type": "stream",
     "text": [
      "https://cdn.dsmcdn.com/mnresize/1200/1800/ty169/product/media/images/20210905/1/126208060/237404321/0/0_org_zoom.jpg\n"
     ]
    }
   ],
   "source": [
    "img='https://cdn.dsmcdn.com/mnresize/1200/1800/ty169/product/media/images/20210905/1/126208060/237404321/0/0_org_zoom.jpg'\n",
    "print(img)"
   ]
  },
  {
   "cell_type": "code",
   "execution_count": null,
   "metadata": {},
   "outputs": [],
   "source": []
  },
  {
   "cell_type": "code",
   "execution_count": null,
   "metadata": {},
   "outputs": [],
   "source": []
  },
  {
   "cell_type": "code",
   "execution_count": null,
   "metadata": {},
   "outputs": [],
   "source": []
  },
  {
   "cell_type": "code",
   "execution_count": null,
   "metadata": {},
   "outputs": [],
   "source": []
  }
 ],
 "metadata": {
  "interpreter": {
   "hash": "5bb71e04e3d056b3fd374fe835c740c82b88cf9a64babc7a305394decc4b8aa7"
  },
  "kernelspec": {
   "display_name": "Python 3.9.5 64-bit (system)",
   "language": "python",
   "name": "python3"
  },
  "language_info": {
   "codemirror_mode": {
    "name": "ipython",
    "version": 3
   },
   "file_extension": ".py",
   "mimetype": "text/x-python",
   "name": "python",
   "nbconvert_exporter": "python",
   "pygments_lexer": "ipython3",
   "version": "3.9.5"
  },
  "orig_nbformat": 4
 },
 "nbformat": 4,
 "nbformat_minor": 2
}
