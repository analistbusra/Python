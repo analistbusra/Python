{
 "cells": [
  {
   "cell_type": "code",
   "execution_count": 1,
   "metadata": {},
   "outputs": [],
   "source": [
    "import re"
   ]
  },
  {
   "cell_type": "code",
   "execution_count": 16,
   "metadata": {},
   "outputs": [
    {
     "name": "stdout",
     "output_type": "stream",
     "text": [
      "<re.Match object; span=(0, 15), match='I love to teach'>\n",
      "(0, 15)\n",
      "I love to teach\n"
     ]
    }
   ],
   "source": [
    "import re\n",
    "txt='I love to teach python and c++.'\n",
    "match= re.match('I love to teach',txt,re.I)\n",
    "print(match)\n",
    "#<re.Match object; span=(0, 15), match='I love to teach'>\n",
    "span=match.span()\n",
    "print(span)#0, 15)\n",
    "start,end=span\n",
    "substring = txt[start:end]\n",
    "print(substring)  \n",
    "# I love to teach"
   ]
  },
  {
   "cell_type": "code",
   "execution_count": 17,
   "metadata": {},
   "outputs": [
    {
     "name": "stdout",
     "output_type": "stream",
     "text": [
      "None\n"
     ]
    }
   ],
   "source": [
    "txt = 'I love to teach python and javaScript'\n",
    "match = re.match('I like to teach', txt, re.I)\n",
    "print(match)  \n",
    "#None"
   ]
  },
  {
   "cell_type": "code",
   "execution_count": 20,
   "metadata": {},
   "outputs": [
    {
     "name": "stdout",
     "output_type": "stream",
     "text": [
      "<re.Match object; span=(55, 59), match='many'>\n",
      "(55, 59)\n",
      "55 59\n",
      "many\n"
     ]
    }
   ],
   "source": [
    "import re\n",
    "\n",
    "txt = '''Python is the most creative programming language. Over many programming languages, I recommend Python.'''\n",
    "match = re.search('many', txt, re.I)\n",
    "print(match)   \n",
    "#<re.Match object; span=(55, 59), match='many'>\n",
    "span = match.span()\n",
    "print(span)  \n",
    "(55, 59)   \n",
    "start, end = span\n",
    "print(start, end) \n",
    " #55 59\n",
    "substring = txt[start:end]\n",
    "print(substring) \n",
    " #many "
   ]
  },
  {
   "cell_type": "code",
   "execution_count": 22,
   "metadata": {},
   "outputs": [
    {
     "name": "stdout",
     "output_type": "stream",
     "text": [
      "['language', 'language']\n"
     ]
    }
   ],
   "source": [
    "txt = '''Python is the most creative programming language. Over many programming languages, I recommend Python.'''\n",
    "matches = re.findall('language', txt, re.I)\n",
    "print(matches)\n",
    "#['language', 'language']"
   ]
  },
  {
   "cell_type": "code",
   "execution_count": 23,
   "metadata": {},
   "outputs": [
    {
     "name": "stdout",
     "output_type": "stream",
     "text": [
      "['Python', 'Python']\n"
     ]
    }
   ],
   "source": [
    "txt = '''Python is the most creative programming language. Over many programming languages, I recommend Python.'''\n",
    "matches = re.findall('python', txt, re.I)\n",
    "print(matches)\n",
    "['Python', 'Python']"
   ]
  },
  {
   "cell_type": "code",
   "execution_count": 27,
   "metadata": {},
   "outputs": [
    {
     "name": "stdout",
     "output_type": "stream",
     "text": [
      "hello, I do data analysis. I usually use python.\n"
     ]
    }
   ],
   "source": [
    "txt = '''h%e%l%l%o, %I %d%o %d%a%t%a %a%n%a%l%y%s%i%s. %I %u%s%u%a%l%l%y %u%s%e %p%y%t%h%o%n%.'''\n",
    "\n",
    "matches = re.sub('%', '', txt)\n",
    "print(matches)"
   ]
  },
  {
   "cell_type": "code",
   "execution_count": 28,
   "metadata": {},
   "outputs": [
    {
     "name": "stdout",
     "output_type": "stream",
     "text": [
      "[' hello, I do data analysis. I usually use python.', 'Python is the most creative programming language. ', 'Over many programming languages, I recommend Python.']\n"
     ]
    }
   ],
   "source": [
    "txt=''' hello, I do data analysis. I usually use python.\n",
    "Python is the most creative programming language. \n",
    "Over many programming languages, I recommend Python.'''\n",
    "print(re.split('\\n', txt))\n",
    "#[' hello, I do data analysis. I usually use python.', \n",
    "# 'Python is the most creative programming language. ',\n",
    "#  'Over many programming languages, I recommend Python.']"
   ]
  },
  {
   "cell_type": "code",
   "execution_count": 40,
   "metadata": {},
   "outputs": [
    {
     "name": "stdout",
     "output_type": "stream",
     "text": [
      "['banana', 'banana']\n"
     ]
    }
   ],
   "source": [
    "import re\n",
    "\n",
    "regex_pattern = r'banana'\n",
    "txt = 'I love melon and banana.There is a lot of vitamin E in apples. There is vitamin K in banana. '\n",
    "matches = re.findall(regex_pattern, txt,re.I)\n",
    "print(matches)\n",
    "## ['banana', 'banana']"
   ]
  },
  {
   "cell_type": "code",
   "execution_count": 41,
   "metadata": {},
   "outputs": [
    {
     "name": "stdout",
     "output_type": "stream",
     "text": [
      "['Banana', 'banana']\n"
     ]
    }
   ],
   "source": [
    "import re\n",
    "\n",
    "regex_pattern = r'[Bb]anana'Banana is a storehouse of vitamins .There is a lot of vitamin E in apples. There is vitamin K in banana.\n",
    "txt = ' '\n",
    "matches = re.findall(regex_pattern, txt)\n",
    "print(matches)\n",
    "#['Banana', 'banana']"
   ]
  },
  {
   "cell_type": "code",
   "execution_count": 44,
   "metadata": {},
   "outputs": [
    {
     "name": "stdout",
     "output_type": "stream",
     "text": [
      "['2', '3', '1', '9', '2', '0']\n"
     ]
    }
   ],
   "source": [
    "regex_pattern = r'\\d'  \n",
    "txt = 'TGNA OPENED ON APRIL 23, 1920'\n",
    "matches = re.findall(regex_pattern, txt)\n",
    "print(matches)\n",
    "# ['2', '3', '1', '9', '2', '0']"
   ]
  },
  {
   "cell_type": "code",
   "execution_count": 49,
   "metadata": {},
   "outputs": [
    {
     "name": "stdout",
     "output_type": "stream",
     "text": [
      "['an', 'an', 'an', 'a ', 'ar']\n",
      "['and banana are fruits']\n"
     ]
    }
   ],
   "source": [
    "regex_pattern = r'[a].'  \n",
    "txt = '''Apple and banana are fruits'''\n",
    "matches = re.findall(regex_pattern, txt)\n",
    "print(matches)  \n",
    "#['an', 'an', 'an', 'a ', 'ar']\n",
    "regex_pattern = r'[a].+'  \n",
    "matches = re.findall(regex_pattern, txt)\n",
    "print(matches)\n",
    "#['and banana are fruits']"
   ]
  },
  {
   "cell_type": "code",
   "execution_count": 50,
   "metadata": {},
   "outputs": [
    {
     "name": "stdout",
     "output_type": "stream",
     "text": [
      "['and banana are fruits']\n"
     ]
    }
   ],
   "source": [
    "regex_pattern = r'[a].*' \n",
    "txt = '''Apple and banana are fruits'''\n",
    "matches = re.findall(regex_pattern, txt)\n",
    "print(matches)  \n",
    "#['and banana are fruits']\n"
   ]
  },
  {
   "cell_type": "code",
   "execution_count": 52,
   "metadata": {},
   "outputs": [
    {
     "name": "stdout",
     "output_type": "stream",
     "text": [
      "['e-mail', 'email', 'Email', 'E-mail']\n"
     ]
    }
   ],
   "source": [
    "txt = '''I am not sure if there is a convention how to write the word e-mail.\n",
    "Some people write it as email others may write it as Email or E-mail.'''\n",
    "regex_pattern = r'[Ee]-?mail' \n",
    "matches = re.findall(regex_pattern, txt)\n",
    "print(matches) \n",
    "#['e-mail', 'email', 'Email', 'E-mail']"
   ]
  },
  {
   "cell_type": "code",
   "execution_count": 3,
   "metadata": {},
   "outputs": [
    {
     "name": "stdout",
     "output_type": "stream",
     "text": [
      "['and banana are fruits']\n"
     ]
    }
   ],
   "source": [
    "import re\n",
    "regex_pattern = r'[a].*'  \n",
    "txt = '''Apple and banana are fruits'''\n",
    "matches = re.findall(regex_pattern, txt)\n",
    "print(matches) \n",
    "#['and banana are fruits']\n"
   ]
  },
  {
   "cell_type": "code",
   "execution_count": 4,
   "metadata": {},
   "outputs": [
    {
     "name": "stdout",
     "output_type": "stream",
     "text": [
      "['python', 'Python', 'Python']\n"
     ]
    }
   ],
   "source": [
    "txt = '''hello, I do data analysis. I usually use python.\n",
    "Python is the most creative programming language. \n",
    "Over many programming languages, I recommend Python.'''\n",
    "regex_pattern = r'[Pp]-?ython'  # ? means here that '-' is optional\n",
    "matches = re.findall(regex_pattern, txt)\n",
    "print(matches)\n",
    "# ['python', 'Python', 'Python']\n"
   ]
  },
  {
   "cell_type": "code",
   "execution_count": 6,
   "metadata": {},
   "outputs": [
    {
     "name": "stdout",
     "output_type": "stream",
     "text": [
      "['1990', '1994']\n"
     ]
    }
   ],
   "source": [
    "txt = 'Python development began in 1990. Python reached version 1.0 in January 1994.'\n",
    "regex_pattern = r'\\d{4}'  \n",
    "matches = re.findall(regex_pattern, txt)\n",
    "print(matches) \n",
    "#['1990', '1994']"
   ]
  },
  {
   "cell_type": "code",
   "execution_count": 10,
   "metadata": {},
   "outputs": [
    {
     "name": "stdout",
     "output_type": "stream",
     "text": [
      "['There']\n"
     ]
    }
   ],
   "source": [
    "txt = 'There is vitamin K in banana.Banana is a storehouse of vitamins .There is a lot of vitamin E in apples.'\n",
    "regex_pattern = r'^There'  # ^ means starts with\n",
    "matches = re.findall(regex_pattern, txt)\n",
    "print(matches)  \n",
    "#['There']"
   ]
  },
  {
   "cell_type": "code",
   "execution_count": 12,
   "metadata": {},
   "outputs": [
    {
     "name": "stdout",
     "output_type": "stream",
     "text": [
      "['1990.', '1.0', '1994.']\n"
     ]
    }
   ],
   "source": [
    "txt = 'Python development began in 1990. Python reached version 1.0 in January 1994.'\n",
    "regex_pattern = r'[^A-Za-z ]+'  \n",
    "matches = re.findall(regex_pattern, txt)\n",
    "print(matches) \n",
    "#['1990.', '1.0', '1994.']\n"
   ]
  }
 ],
 "metadata": {
  "interpreter": {
   "hash": "5bb71e04e3d056b3fd374fe835c740c82b88cf9a64babc7a305394decc4b8aa7"
  },
  "kernelspec": {
   "display_name": "Python 3.9.5 64-bit (system)",
   "language": "python",
   "name": "python3"
  },
  "language_info": {
   "codemirror_mode": {
    "name": "ipython",
    "version": 3
   },
   "file_extension": ".py",
   "mimetype": "text/x-python",
   "name": "python",
   "nbconvert_exporter": "python",
   "pygments_lexer": "ipython3",
   "version": "3.9.5"
  },
  "orig_nbformat": 4
 },
 "nbformat": 4,
 "nbformat_minor": 2
}
