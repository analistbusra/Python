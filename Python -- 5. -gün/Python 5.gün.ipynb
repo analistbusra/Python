{
 "cells": [
  {
   "cell_type": "markdown",
   "metadata": {},
   "source": [
    "# LİSTELER\n",
    "\n",
    "Liste veri toplama aktarma yollarından biridir. Python'da dört çeşit veri toplama şekli vardır bunlardan biri liste yöntemidir. Liste veri türü sıralı ve değiştirilebilir olmaktadır eleman çıkarılabilir yenisi gelebilir veya üzerinde oynama yapılabilir. Tuple veri türünde sıralı ve değiştirilemez veya değişmez bir türdür. Set veri türünde sıralanmamış, indekslenmemiş ve değiştirilemeyen bir koleksiyondur. Yeni üye eklenebilir fakat yinelemelere izin vermez. Sözlük veri türü Sırasız, değiştirilebilir(değiştirilebilir) ve indekslenmiş bir türdür. Arkadaşlar aslında veri türlerinde gördüğümüz terimler bizlere yabancı gelmedi bir de listeleme detaylarını inceleyip detaylarını öğrenmeye başlayalım. Nasıl liste oluşturul ile başlayalım.\n",
    "\n",
    "## Python'da Liste Nasıl Oluşturulur\n",
    "\n",
    "İki şekilde liste oluşturabiliriz ikisi de aynı görevi üstelnmektedir hangisi kolayınıza gelirse onu tercih edebilirsiniz ben ikisinide sizlere göstermek istiyorum.\n",
    "\n",
    "•\tListe yerleşik işlev()\n"
   ]
  },
  {
   "cell_type": "code",
   "execution_count": 3,
   "metadata": {},
   "outputs": [],
   "source": [
    "liste=()"
   ]
  },
  {
   "cell_type": "markdown",
   "metadata": {},
   "source": [
    "\n",
    "•\tKöşeli parantez []\n"
   ]
  },
  {
   "cell_type": "code",
   "execution_count": 4,
   "metadata": {},
   "outputs": [],
   "source": [
    "liste=[]"
   ]
  },
  {
   "cell_type": "markdown",
   "metadata": {},
   "source": [
    "Aşağıdaki liste örneklerini inceleyelim. Farklı veri türleri bir listede bulunabilir örneği incelerken bu bilgi aklımızda bulunsun."
   ]
  },
  {
   "cell_type": "code",
   "execution_count": 5,
   "metadata": {},
   "outputs": [
    {
     "name": "stdout",
     "output_type": "stream",
     "text": [
      "şehirler: ['İstanbul', 'Adana  ', 'Samsun', 'İzmir', 'Ordu']\n",
      "alınacaklar: ['süt', 'yağ', 'un', 'yumurta', 'peynir', 'sucuk']\n",
      "gezilecek yerler: ['Sultanahmet', 'Ayasofya', 'Kız Kulesi', 'Galata Kulesi']\n"
     ]
    }
   ],
   "source": [
    "şehirler  =['İstanbul', 'Adana  ' , 'Samsun','İzmir','Ordu']\n",
    "market_listesi=['süt','yağ','un','yumurta','peynir','sucuk'] \n",
    "gezilecek_yerler=['Sultanahmet','Ayasofya','Kız Kulesi','Galata Kulesi']\n",
    "print('şehirler:',şehirler)\n",
    "print('alınacaklar:',market_listesi)\n",
    "print('gezilecek yerler:',gezilecek_yerler)"
   ]
  },
  {
   "cell_type": "markdown",
   "metadata": {},
   "source": [
    "## Python'da Pozitif İndeksleme Kullanarak Liste Öğelerine Erişme\n",
    "\n",
    "Daha önce de bahsettiğimiz gibi programlama da 0’dan başlarız ve liste indeksleme için 0'dan başlayarak pozitif indeksleme gerçekleştirim.\n",
    "Örnek:\n"
   ]
  },
  {
   "cell_type": "code",
   "execution_count": 8,
   "metadata": {},
   "outputs": [
    {
     "name": "stdout",
     "output_type": "stream",
     "text": [
      "Python\n",
      "c++\n",
      "R\n",
      "Python\n"
     ]
    }
   ],
   "source": [
    "dil  =  ['Python','c++','R','SQL']\n",
    "ılk_program= dil [ 0 ]\n",
    "print (ılk_program) \n",
    "ikinci_program =  dil [ 1 ]\n",
    "print ( ikinci_program) \n",
    "üçüncü_program=dil[2]\n",
    "print(üçüncü_program) \n",
    "son_hal =  len ( dil ) -  4 \n",
    "son_hal =  dil [ son_hal ]\n",
    "print ( son_hal ) "
   ]
  },
  {
   "cell_type": "markdown",
   "metadata": {},
   "source": [
    "## Pythpn'da Negatif İndeksleme Kullanarak Liste Öğelerine Erişme\n",
    "\n",
    "Negatif indeksleme, sondan başlamak anlamına gelir, -1 son öğeyi, -2 sondan ikinci öğeyi ifade eder. Burada listedeki son eleman -1, listedeki ilk eleman -x şeklinde yazılır. Aşağıda örnekte göreceğiniz gibi son eleman -1 ilk elman -4 negatif indeks kullanılarak listeleme yapılmıştır.\n"
   ]
  },
  {
   "cell_type": "code",
   "execution_count": 9,
   "metadata": {},
   "outputs": [
    {
     "name": "stdout",
     "output_type": "stream",
     "text": [
      "Python\n",
      "c++\n",
      "SQL\n"
     ]
    }
   ],
   "source": [
    "dil  =  ['Python','c++','R','SQL']\n",
    "ılk_program= dil [ -4 ]\n",
    "print (ılk_program) \n",
    "ikinci_program =  dil [ -3 ]\n",
    "print ( ikinci_program) \n",
    "üçüncü_program=dil[-1]\n",
    "print(üçüncü_program) \n"
   ]
  },
  {
   "cell_type": "markdown",
   "metadata": {},
   "source": [
    "## Python'da Liste Öğelerini Açma\n",
    "\n",
    "Liste açma örneklerimizi aşağıdaki şekilde inceleyelim.\n"
   ]
  },
  {
   "cell_type": "code",
   "execution_count": 10,
   "metadata": {},
   "outputs": [
    {
     "name": "stdout",
     "output_type": "stream",
     "text": [
      "madde1\n",
      "madde2\n",
      "madde3\n"
     ]
    }
   ],
   "source": [
    "lst  = [ 'madde1' , 'madde2' , 'madde3'  ]\n",
    "ılk_program, ikinci_program,üçüncü_program   =  lst \n",
    "print( ılk_program)    \n",
    "print( ikinci_program )   \n",
    "print ( üçüncü_program)   \n",
    "\n"
   ]
  },
  {
   "cell_type": "code",
   "execution_count": 11,
   "metadata": {},
   "outputs": [
    {
     "name": "stdout",
     "output_type": "stream",
     "text": [
      "Türkiye\n",
      "Fransa\n",
      "Belçika\n",
      "Suriye\n",
      "['Danimarka', 'Finlandiya', 'Norveç', 'Almanya']\n",
      "Estonya\n"
     ]
    }
   ],
   "source": [
    "ülke = ['Türkiye', 'Fransa','Belçika','Suriye','Danimarka','Finlandiya','Norveç','Almanya','Estonya']\n",
    "tr, fr, bç, su, *scandic, es = ülke\n",
    "print(tr)\n",
    "print(fr)\n",
    "print(bç)\n",
    "print(su)\n",
    "print(scandic)\n",
    "print(es)"
   ]
  },
  {
   "cell_type": "markdown",
   "metadata": {},
   "source": [
    "## Python'da Bir Listeden Öğeleri Dilimleme\n",
    "\n",
    "•\tPozitif İndeksleme: Başlangıç, bitiş ve adımı belirterek bir dizi pozitif indeks belirleyebiliriz, dönüş değeri yeni bir liste olacaktır.\n"
   ]
  },
  {
   "cell_type": "code",
   "execution_count": 12,
   "metadata": {},
   "outputs": [
    {
     "name": "stdout",
     "output_type": "stream",
     "text": [
      "['banana', 'orange', 'mango', 'lemon']\n",
      "['banana', 'orange', 'mango', 'lemon']\n",
      "['orange', 'mango']\n",
      "['orange', 'mango', 'lemon']\n",
      "['banana', 'mango']\n"
     ]
    }
   ],
   "source": [
    "fruits = ['banana', 'orange', 'mango', 'lemon']\n",
    "all_fruits = fruits[0:4]\n",
    "print(all_fruits) \n",
    "ll_fruits = fruits[0:]\n",
    "print(ll_fruits) \n",
    "orange_and_mango = fruits[1:3] \n",
    "print(orange_and_mango)\n",
    "orange_mango_lemon = fruits[1:]\n",
    "print(orange_mango_lemon)\n",
    "orange_and_lemon = fruits[::2] \n",
    "print(orange_and_lemon)\n"
   ]
  },
  {
   "cell_type": "markdown",
   "metadata": {},
   "source": [
    "•\tNegatif İndeksleme: Başlangıç, bitiş ve adımı belirterek bir dizi negatif indeks belirleyebiliriz, dönüş değeri yeni bir liste olacaktır."
   ]
  },
  {
   "cell_type": "code",
   "execution_count": 13,
   "metadata": {},
   "outputs": [
    {
     "name": "stdout",
     "output_type": "stream",
     "text": [
      "['banana', 'orange', 'mango', 'lemon']\n",
      "['orange', 'mango']\n",
      "['orange', 'mango', 'lemon']\n"
     ]
    }
   ],
   "source": [
    "fruits = ['banana', 'orange', 'mango', 'lemon']\n",
    "all_fruits = fruits[-4:]\n",
    "print(all_fruits) \n",
    "orange_and_mango = fruits[-3:-1] \n",
    "print(orange_and_mango)\n",
    "orange_mango_lemon = fruits[-3:]\n",
    "print(orange_mango_lemon)\n"
   ]
  },
  {
   "cell_type": "markdown",
   "metadata": {},
   "source": [
    "# Python'da Listeleri Değiştirme\n",
    "\n",
    "Liste, değiştirilebilir veya değiştirilebilir sıralı bir öğe koleksiyonudur. Meyve listesini değiştirelim içerisine farklı meyve isimleri yazalım. Örneğimiz deki değiştirme yöntemini inceleyelim.’0’ “muz” değişkenini “avokado” yerine değiştirdiğimizi ilk satırda görebiliriz. Daha sonra ’1’ “portakal” değişkenini “elma” yerine değiştirdiğimizi ikinci satırda görebiliriz.\n",
    "\n",
    "\n"
   ]
  },
  {
   "cell_type": "code",
   "execution_count": 14,
   "metadata": {},
   "outputs": [
    {
     "name": "stdout",
     "output_type": "stream",
     "text": [
      "['avokado', 'portakal', 'mango', 'limon']\n",
      "['avokado', 'elma', 'mango', 'limon']\n",
      "['avokado', 'elma', 'mango', 'kireç']\n"
     ]
    }
   ],
   "source": [
    "meyveler  = [ 'muz' , 'portakal' , 'mango' , 'limon' ]\n",
    "meyveler [ 0 ] =  'avokado' \n",
    "print ( meyveler )        \n",
    "meyveler [ 1 ] =  'elma' \n",
    "print( meyveler )       \n",
    "son_değer =len( meyveler ) -  1 \n",
    "meyveler [ son_değer] = 'kireç' \n",
    "print( meyveler )         \n"
   ]
  },
  {
   "cell_type": "markdown",
   "metadata": {},
   "source": [
    "## Python'da Listedeki Öğeleri Kontrol Etme\n",
    "\n",
    "Burada yoklama alıyormuş gibi düşünebiliriz. Burada liste içerisinde o değişkenin bulunup bulunmadığını sorgulayacağız ve \"True\" ya da \"False\" sonucunu alacağız. Örneğimizi inceleyelim.\n"
   ]
  },
  {
   "cell_type": "code",
   "execution_count": 15,
   "metadata": {},
   "outputs": [
    {
     "name": "stdout",
     "output_type": "stream",
     "text": [
      "True\n",
      "True\n"
     ]
    }
   ],
   "source": [
    "meyve = ['muz', 'portakal','mango']\n",
    "var_mı = 'muz' in meyve\n",
    "print(var_mı)  \n",
    "var_mı = 'mango' in meyve\n",
    "print(var_mı)  \n"
   ]
  },
  {
   "cell_type": "markdown",
   "metadata": {},
   "source": [
    "## Python'da Listeye Öğe Ekleme\n",
    "\n",
    "•\tVar olan bir listenin sonuna değişken eklemek için append() komutu kullanırız öğrendiğimizi inceleyelim.\n"
   ]
  },
  {
   "cell_type": "code",
   "execution_count": 16,
   "metadata": {},
   "outputs": [
    {
     "name": "stdout",
     "output_type": "stream",
     "text": [
      "['muz', 'portakal', 'mango', 'karpuz']\n"
     ]
    }
   ],
   "source": [
    "meyve = ['muz', 'portakal','mango']\n",
    "meyve.append('karpuz')\n",
    "print(meyve)#['muz', 'portakal', 'mango', 'karpuz']"
   ]
  },
  {
   "cell_type": "markdown",
   "metadata": {},
   "source": [
    "•\tVar olan bir listeye istediğimiz yere yeni değişken eklemek için insert() komutu kullanılır. Nasıl kullanıldığını örneğimizde inceleyelim. meyve.insert(2, ‘karpuz’) komutumuzda 1-muz , 2-portakal dolayısıyla portakaldan sonra karpuz yerleştiririm çünkü komutta 2 yazdım umarım anlaşılır oluyordur aşağıdaki örneği inceleyelim"
   ]
  },
  {
   "cell_type": "code",
   "execution_count": 17,
   "metadata": {},
   "outputs": [
    {
     "name": "stdout",
     "output_type": "stream",
     "text": [
      "['muz', 'portakal', 'karpuz', 'mango']\n",
      "['muz', 'portakal', 'karpuz', 'kavun', 'mango']\n"
     ]
    }
   ],
   "source": [
    "meyve = ['muz', 'portakal','mango']\n",
    "meyve.insert(2, 'karpuz')\n",
    "print(meyve)#['muz', 'portakal', 'karpuz', 'mango']\n",
    "meyve.insert(3,'kavun')\n",
    "print(meyve)#['muz', 'portakal', 'karpuz', 'kavun', 'mango']"
   ]
  },
  {
   "cell_type": "markdown",
   "metadata": {},
   "source": [
    "## Python'da Listeden Öğeleri Kaldırma\n",
    "\n",
    "Listeye ekleme işlemlerimizi gördük şimdi listeden kaldırma ile ilgili komutumuz olan remove() komutunu ele alalım ve basit bir örneği inceleyelim.\n"
   ]
  },
  {
   "cell_type": "code",
   "execution_count": 18,
   "metadata": {},
   "outputs": [
    {
     "name": "stdout",
     "output_type": "stream",
     "text": [
      "['portakal', 'mango']\n"
     ]
    }
   ],
   "source": [
    "meyve = ['muz', 'portakal','mango']\n",
    "meyve.remove('muz')\n",
    "print(meyve)#['portakal', 'mango']"
   ]
  },
  {
   "cell_type": "markdown",
   "metadata": {},
   "source": [
    "## Python'da pop Kullanarak Öğeleri Kaldırma\n",
    "\n",
    "pop() komutu parantez içerisine yazacağımız pozitif eleman sayısı 0 1 2 3 hangisini çıkarmak istersek onu yazarız. Örneğin ‘portakal’ değişkeni çıkarmak istiyorum pop(1) yazarak ‘portakal’ değişkeni listeden çıkar.\n"
   ]
  },
  {
   "cell_type": "code",
   "execution_count": 19,
   "metadata": {},
   "outputs": [
    {
     "name": "stdout",
     "output_type": "stream",
     "text": [
      "['muz', 'karpuz', 'kavun', 'mango']\n"
     ]
    }
   ],
   "source": [
    "meyve=['muz', 'portakal', 'karpuz', 'kavun', 'mango']\n",
    "meyve.pop(1)\n",
    "print(meyve)#['muz', 'karpuz', 'kavun', 'mango']"
   ]
  },
  {
   "cell_type": "markdown",
   "metadata": {},
   "source": [
    "## Python'da Del Kullanarak Öğeleri Kaldırma\n",
    "\n",
    "Del belirtilen değişkeni ortadan kaldırır. Hadi örneğimize bakalım ve pekiştirelim.\n"
   ]
  },
  {
   "cell_type": "code",
   "execution_count": 21,
   "metadata": {},
   "outputs": [
    {
     "name": "stdout",
     "output_type": "stream",
     "text": [
      "['portakal', 'karpuz', 'kavun', 'mango']\n",
      "['portakal', 'karpuz', 'mango']\n"
     ]
    }
   ],
   "source": [
    "meyve=['muz', 'portakal', 'karpuz', 'kavun', 'mango']\n",
    "del meyve[0]\n",
    "print(meyve)\n",
    "del meyve[2]\n",
    "print(meyve) #muz silindikten sonra portakal 0 karpuz 1 kavun 2 olur ve kavun silinir."
   ]
  },
  {
   "cell_type": "markdown",
   "metadata": {},
   "source": [
    "## Python'da Liste Öğelerini Temizleme\n",
    "\n",
    "clear() komutu ile liste temizleme işlemini gerçekleştiririm.\n"
   ]
  },
  {
   "cell_type": "code",
   "execution_count": 22,
   "metadata": {},
   "outputs": [
    {
     "name": "stdout",
     "output_type": "stream",
     "text": [
      "[]\n"
     ]
    }
   ],
   "source": [
    "meyve=['muz', 'portakal', 'karpuz', 'kavun', 'mango']\n",
    "meyve.clear()\n",
    "print(meyve)"
   ]
  },
  {
   "cell_type": "markdown",
   "metadata": {},
   "source": [
    "## Python'da Liste Kopyalama\n",
    "\n",
    "Herhangi bir istediğim listeyi başka bir değişkene tanımlamak için copy() komutu kullanabilirim aşağıda örneğimizi inceleyelim. \n",
    "Sebze değişkeni tanımladım daha sonra sebzenin içine meyve yazılmış ben de sebze dizisini içini silip daha sonra listeyi meyve değişkenine aktardım.\n"
   ]
  },
  {
   "cell_type": "code",
   "execution_count": 23,
   "metadata": {},
   "outputs": [
    {
     "name": "stdout",
     "output_type": "stream",
     "text": [
      "['muz', 'portakal', 'karpuz', 'kavun', 'mango']\n",
      "[]\n"
     ]
    }
   ],
   "source": [
    "sebze=['muz', 'portakal', 'karpuz', 'kavun', 'mango']\n",
    "meyve=sebze.copy()\n",
    "print(meyve)\n",
    "sebze.clear()\n",
    "print(sebze)"
   ]
  },
  {
   "cell_type": "markdown",
   "metadata": {},
   "source": [
    "## Python'da Liste Birleştirme\n",
    "\n",
    "İki veya ikiden fazla listeyi birleştirmenin birkaç yolu vardır.\n",
    "•\tİki_değişken_toplam=birinci_değişken + ikinci_değişken\n"
   ]
  },
  {
   "cell_type": "code",
   "execution_count": 24,
   "metadata": {},
   "outputs": [
    {
     "name": "stdout",
     "output_type": "stream",
     "text": [
      "[0, 1, 2, 3, 4, 5, 6, 7, 8, 9, -1, -2, -3, -4, -5, -6, -7, -8, -9]\n"
     ]
    }
   ],
   "source": [
    "pozitif_sayılar=[0,1,2,3,4,5,6,7,8,9]\n",
    "negatif_sayısalr=[-1,-2,-3,-4,-5,-6,-7,-8,-9]\n",
    "tam_sayılar=pozitif_sayılar+negatif_sayısalr\n",
    "print(tam_sayılar)#[0, 1, 2, 3, 4, 5, 6, 7, 8, 9, -1, -2, -3, -4, -5, -6, -7, -8, -9]\n"
   ]
  },
  {
   "cell_type": "markdown",
   "metadata": {},
   "source": [
    "•\textend() komutu kullanarak birinci değişkene ikinci değişken eklenir."
   ]
  },
  {
   "cell_type": "code",
   "execution_count": 25,
   "metadata": {},
   "outputs": [
    {
     "name": "stdout",
     "output_type": "stream",
     "text": [
      "tamsayılar: [0, 1, 2, 3, 4, 5, 6, 7, 8, 9, -1, -2, -3, -4, -5, -6, -7, -8, -9]\n"
     ]
    }
   ],
   "source": [
    "pozitif_sayılar=[0,1,2,3,4,5,6,7,8,9]\n",
    "negatif_sayısalr=[-1,-2,-3,-4,-5,-6,-7,-8,-9]\n",
    "pozitif_sayılar.extend(negatif_sayısalr)\n",
    "print('tamsayılar:',pozitif_sayılar)"
   ]
  },
  {
   "cell_type": "markdown",
   "metadata": {},
   "source": [
    "## Python'da Liste Sayma\n",
    "\n",
    "count() komutu ile listedeki değişkenleri sayar.\n",
    "Bir dizi sayı olsun ve kaç kişi bu dizide 25 yaşında olduğunu bulalım. Örneğimizi inceleyelim 4 adet 25 yaşında kişi olduğunu program çıktısı gösteriyor.\n"
   ]
  },
  {
   "cell_type": "code",
   "execution_count": 26,
   "metadata": {},
   "outputs": [
    {
     "name": "stdout",
     "output_type": "stream",
     "text": [
      "4\n"
     ]
    }
   ],
   "source": [
    "yaş=[24,25,17,29,28,25,24,27,26,28,24,25,26,23,24,25]\n",
    "print(yaş.count(25))"
   ]
  },
  {
   "cell_type": "markdown",
   "metadata": {},
   "source": [
    "Python'da Listeyi Ters Çevirme\n",
    "\n",
    "Listenin sonundaki eleman başa gelir baştaki eleman ise sona (tanımlanan değişken).reverse() komutu kullanılır.\n"
   ]
  },
  {
   "cell_type": "code",
   "execution_count": 27,
   "metadata": {},
   "outputs": [
    {
     "name": "stdout",
     "output_type": "stream",
     "text": [
      "['limon', 'mango', 'portakal', 'muz']\n"
     ]
    }
   ],
   "source": [
    "meyveler  = [ 'muz' , 'portakal' , 'mango' , 'limon' ]\n",
    "meyveler . reverse()\n",
    "print(meyveler)"
   ]
  },
  {
   "cell_type": "markdown",
   "metadata": {},
   "source": [
    "## Python'da Liste Öğelerini Sıralama\n",
    "\n",
    "•\tsort(): listeyi sıralar artan sıralama: lıst.sort() azalan sıralama:lıst.sort(reverse=True) şeklinde yazılarak sıralama yapılır. Aşağıdaki örneği incelersek değişkenlerin alfabetik sıralamaya göre listelediğini görmekteyiz.\n"
   ]
  },
  {
   "cell_type": "code",
   "execution_count": 28,
   "metadata": {},
   "outputs": [
    {
     "name": "stdout",
     "output_type": "stream",
     "text": [
      "['karpuz', 'kavun', 'mango', 'muz', 'portakal']\n"
     ]
    }
   ],
   "source": [
    "meyve=['muz', 'portakal', 'karpuz', 'kavun', 'mango']\n",
    "meyve.sort()\n",
    "print(meyve)"
   ]
  },
  {
   "cell_type": "markdown",
   "metadata": {},
   "source": [
    "•\tsorted():sıralama yapar fakat print() komutunun içine yazılır."
   ]
  },
  {
   "cell_type": "code",
   "execution_count": 29,
   "metadata": {},
   "outputs": [
    {
     "name": "stdout",
     "output_type": "stream",
     "text": [
      "['karpuz', 'kavun', 'mango', 'muz', 'portakal']\n"
     ]
    }
   ],
   "source": [
    "meyve=['muz', 'portakal', 'karpuz', 'kavun', 'mango']\n",
    "print(sorted(meyve))"
   ]
  },
  {
   "cell_type": "markdown",
   "metadata": {},
   "source": [
    "\n",
    "Bu yazıda sizlere elimden geldiğince liste yapıları ve kullanılan genel komutlar ile ilgili bilgi vermeye çalıştım. Listeleme analiz için çok önemlidir artan azalan yapılar gibi komutlar bana İstatistik’ deki kümülatif dağılım fonksiyonu gibi konularda işe yarayacağını hatırlatıyor. Umarım beğendiğiniz ve anlaşılır bir yazı olmuştur.\n"
   ]
  }
 ],
 "metadata": {
  "interpreter": {
   "hash": "5bb71e04e3d056b3fd374fe835c740c82b88cf9a64babc7a305394decc4b8aa7"
  },
  "kernelspec": {
   "display_name": "Python 3.9.5 64-bit (system)",
   "language": "python",
   "name": "python3"
  },
  "language_info": {
   "codemirror_mode": {
    "name": "ipython",
    "version": 3
   },
   "file_extension": ".py",
   "mimetype": "text/x-python",
   "name": "python",
   "nbconvert_exporter": "python",
   "pygments_lexer": "ipython3",
   "version": "3.9.5"
  },
  "orig_nbformat": 4
 },
 "nbformat": 4,
 "nbformat_minor": 2
}
